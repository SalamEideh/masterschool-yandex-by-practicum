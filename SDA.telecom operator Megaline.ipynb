{
 "cells": [
  {
   "cell_type": "markdown",
   "metadata": {},
   "source": [
    "<div style=\"border:solid green 2px; padding: 20px\">\n",
    "<b>Reviewer's comment v3:</b>\n",
    "    \n",
    "<b>Overall Feedback</b> \n",
    "\n",
    "Hello! Thank you for sending a new iteration of your project. \n",
    "\n",
    "However, I can't see any comments from my previous review. Can you please check whether this is as expected (and not a technical issue) and if not share your comments regarding this and  what issues that you have fixed since the last iteration. \n",
    "    \n",
    "Thank you! \n",
    "\n",
    "I will wait for you to send me a new version of the project :)\n",
    "</div>"
   ]
  },
  {
   "cell_type": "markdown",
   "metadata": {},
   "source": [
    "HI, NO IT'S NOT THE SAME, MY NEPHEW WHEN I WENT TO ANSWER THE DOOR, PUSH SOMETHING, PRESS ON SOMETHING, I REALLY DON'T KNOW WHAT HE DID (HE IS 3 YEARS OLD), HIS MOTHER ASKED HIM TO STOP, BUT DIDN'T FORCE HIM!\n",
    "I LOST ALL! WHEN I COME BACK SOON, HE WAS FEELING GUILTY, HE DROP THE LAPTOP, AND RUN AWAY.\n",
    "I CAN'T SCREEM TO A LITTLE BOY! SO I CRIED A BIT ALONE SINCE I DIDN'T DOWNLOAD MY WORK, AND STARTED OVER, AS I REMEMBER.\n",
    "I FOCUSED ON TWO THINGS WERE NEEDED TO BE FIXED;\n",
    "1- THE TOTAL DATA USING PER MONTH FOR ONE USER, OR ALL USERS.\n",
    "2- THE SECOND HYPOTHESIS RESULT, AS IT WAS P-VALUE = NAN. \n",
    "I REALISED THAT I SHOULS REMOVE OTHER REVENUES, AND I ADDED THE MEAN FOR BOTH HYPOTHESIS, AND COUNTED THE MONTHLY AVARAGE. \n",
    "I'M SORRY FOR WHAT HAPPEN, TO BE HONEST I ASKED A FRIEND TO GIVE ME A LITTLE HELP TO REMEMBER ALL THE STEPS AS FAST AS POSSIBLE. \n",
    "THAKX GOD I HAVE STRONG MEM"
   ]
  },
  {
   "cell_type": "markdown",
   "metadata": {},
   "source": [
    "<div style=\"border:solid green 2px; padding: 20px\">\n",
    "<b>Reviewer's comment v3:</b>\n",
    "    \n",
    "<b>Overall Feedback</b> \n",
    "\n",
    "Thank you for the detailed explanation! And I am very sorry that this happened to you :( \n",
    "\n",
    "I checked the project once again and there are only minor comments/areas left to fix that will help you to make your project even better:\n",
    "\n",
    "- Update revenue calculation (we need separate monthly revenues per user per service).\n",
    "- Can you please formulate null and alternative hypotheses for each question.\n",
    "</div>"
   ]
  },
  {
   "cell_type": "markdown",
   "metadata": {},
   "source": [
    "<div style=\"border:solid green 2px; padding: 20px\">\n",
    "<b>Reviewer's comment v4:</b>\n",
    "    \n",
    "<b>Overall Feedback</b> \n",
    "    \n",
    "Thank you for submitting your project with additional improvements. Unfortunately, there are still some comments to be fixed: \n",
    "    \n",
    "    - A typo in the revenue calcualtion (I left an example below).\n",
    "    - Can you please formulate null and alternative hypotheses for each question. I did not notice changes there.\n",
    "    - Some conclusions for the stat testing have been mixed up but formulating hypotheses should help. \n",
    "    \n",
    "    \n",
    "Please let me know if you have additional questions.\n",
    "\n",
    "</div>"
   ]
  },
  {
   "cell_type": "markdown",
   "metadata": {},
   "source": [
    "<div style=\"border:solid green 2px; padding: 20px\">\n",
    "<b>Reviewer's comment v5:</b>\n",
    "    \n",
    "<b>Overall Feedback</b> \n",
    "    \n",
    "Hello!  thank you for making additional improvements in your project.  Now no critical issues left, so your project has been accepted! \n",
    "Wish you cool projects in the next sprints! ☘️\n",
    "    \n",
    "PS: As a last thing, I can recommend cool lectures on stat analysis here: https://www.youtube.com/playlist?list=PL2SOU6wwxB0uwwH80KTQ6ht66KWxbzTIo  🙌\n",
    "\n",
    "</div>"
   ]
  },
  {
   "cell_type": "markdown",
   "metadata": {},
   "source": [
    " Can you please formulate null and alternative hypotheses for each question. I did not notice changes there.\n",
    " I guess I don't understand what this means, AS I thought I did it, can U plz give an example, or more explination about what we are tlking? "
   ]
  },
  {
   "cell_type": "markdown",
   "metadata": {},
   "source": [
    "<div class=\"alert alert-block alert-warning\">\n",
    "<b>Reviewer's comment v3</b>\n",
    " \n",
    "It would be great to add additional information about the project goal and tasks. It gives an overview of what you are going to achieve in this project. Also, this introduction potentially can be used as a Readme file in your portfolio on Github. One example of a nice introduction for a data analysis project can be found here: https://github.com/CICIFLY/Data-Analytics-Projects/blob/master/AB%20Testing%20Result%20Analyze/readme.md"
   ]
  },
  {
   "cell_type": "markdown",
   "metadata": {},
   "source": [
    "CAN I START DOING THIS NEXT PROJECT?"
   ]
  },
  {
   "cell_type": "code",
   "execution_count": 1,
   "metadata": {},
   "outputs": [],
   "source": [
    "\n",
    "import pandas as pd  \n",
    "import numpy as np\n",
    "import matplotlib.pyplot as plt #\n",
    "import seaborn as sns \n",
    "from scipy import stats as st\n",
    "from scipy import stats \n",
    "from datetime import time\n",
    "\n",
    "calls    = pd.read_csv('/datasets/megaline_calls.csv')\n",
    "internet = pd.read_csv('/datasets/megaline_internet.csv')\n",
    "messages = pd.read_csv('/datasets/megaline_messages.csv')\n",
    "plans    = pd.read_csv('/datasets/megaline_plans.csv')\n",
    "users    = pd.read_csv('/datasets/megaline_users.csv')"
   ]
  },
  {
   "cell_type": "code",
   "execution_count": 2,
   "metadata": {
    "scrolled": true
   },
   "outputs": [
    {
     "name": "stdout",
     "output_type": "stream",
     "text": [
      "<class 'pandas.core.frame.DataFrame'>\n",
      "RangeIndex: 137735 entries, 0 to 137734\n",
      "Data columns (total 4 columns):\n",
      " #   Column     Non-Null Count   Dtype  \n",
      "---  ------     --------------   -----  \n",
      " 0   id         137735 non-null  object \n",
      " 1   user_id    137735 non-null  int64  \n",
      " 2   call_date  137735 non-null  object \n",
      " 3   duration   137735 non-null  float64\n",
      "dtypes: float64(1), int64(1), object(2)\n",
      "memory usage: 4.2+ MB\n"
     ]
    },
    {
     "data": {
      "text/html": [
       "<div>\n",
       "<style scoped>\n",
       "    .dataframe tbody tr th:only-of-type {\n",
       "        vertical-align: middle;\n",
       "    }\n",
       "\n",
       "    .dataframe tbody tr th {\n",
       "        vertical-align: top;\n",
       "    }\n",
       "\n",
       "    .dataframe thead th {\n",
       "        text-align: right;\n",
       "    }\n",
       "</style>\n",
       "<table border=\"1\" class=\"dataframe\">\n",
       "  <thead>\n",
       "    <tr style=\"text-align: right;\">\n",
       "      <th></th>\n",
       "      <th>id</th>\n",
       "      <th>user_id</th>\n",
       "      <th>call_date</th>\n",
       "      <th>duration</th>\n",
       "    </tr>\n",
       "  </thead>\n",
       "  <tbody>\n",
       "    <tr>\n",
       "      <th>0</th>\n",
       "      <td>1000_93</td>\n",
       "      <td>1000</td>\n",
       "      <td>2018-12-27</td>\n",
       "      <td>8.52</td>\n",
       "    </tr>\n",
       "    <tr>\n",
       "      <th>1</th>\n",
       "      <td>1000_145</td>\n",
       "      <td>1000</td>\n",
       "      <td>2018-12-27</td>\n",
       "      <td>13.66</td>\n",
       "    </tr>\n",
       "    <tr>\n",
       "      <th>2</th>\n",
       "      <td>1000_247</td>\n",
       "      <td>1000</td>\n",
       "      <td>2018-12-27</td>\n",
       "      <td>14.48</td>\n",
       "    </tr>\n",
       "    <tr>\n",
       "      <th>3</th>\n",
       "      <td>1000_309</td>\n",
       "      <td>1000</td>\n",
       "      <td>2018-12-28</td>\n",
       "      <td>5.76</td>\n",
       "    </tr>\n",
       "    <tr>\n",
       "      <th>4</th>\n",
       "      <td>1000_380</td>\n",
       "      <td>1000</td>\n",
       "      <td>2018-12-30</td>\n",
       "      <td>4.22</td>\n",
       "    </tr>\n",
       "    <tr>\n",
       "      <th>5</th>\n",
       "      <td>1000_388</td>\n",
       "      <td>1000</td>\n",
       "      <td>2018-12-31</td>\n",
       "      <td>2.20</td>\n",
       "    </tr>\n",
       "    <tr>\n",
       "      <th>6</th>\n",
       "      <td>1000_510</td>\n",
       "      <td>1000</td>\n",
       "      <td>2018-12-27</td>\n",
       "      <td>5.75</td>\n",
       "    </tr>\n",
       "    <tr>\n",
       "      <th>7</th>\n",
       "      <td>1000_521</td>\n",
       "      <td>1000</td>\n",
       "      <td>2018-12-28</td>\n",
       "      <td>14.18</td>\n",
       "    </tr>\n",
       "    <tr>\n",
       "      <th>8</th>\n",
       "      <td>1000_530</td>\n",
       "      <td>1000</td>\n",
       "      <td>2018-12-28</td>\n",
       "      <td>5.77</td>\n",
       "    </tr>\n",
       "    <tr>\n",
       "      <th>9</th>\n",
       "      <td>1000_544</td>\n",
       "      <td>1000</td>\n",
       "      <td>2018-12-26</td>\n",
       "      <td>4.40</td>\n",
       "    </tr>\n",
       "  </tbody>\n",
       "</table>\n",
       "</div>"
      ],
      "text/plain": [
       "         id  user_id   call_date  duration\n",
       "0   1000_93     1000  2018-12-27      8.52\n",
       "1  1000_145     1000  2018-12-27     13.66\n",
       "2  1000_247     1000  2018-12-27     14.48\n",
       "3  1000_309     1000  2018-12-28      5.76\n",
       "4  1000_380     1000  2018-12-30      4.22\n",
       "5  1000_388     1000  2018-12-31      2.20\n",
       "6  1000_510     1000  2018-12-27      5.75\n",
       "7  1000_521     1000  2018-12-28     14.18\n",
       "8  1000_530     1000  2018-12-28      5.77\n",
       "9  1000_544     1000  2018-12-26      4.40"
      ]
     },
     "execution_count": 2,
     "metadata": {},
     "output_type": "execute_result"
    }
   ],
   "source": [
    "calls.info()\n",
    "\n",
    "calls.head(10)\n",
    "  \n",
    "  "
   ]
  },
  {
   "cell_type": "markdown",
   "metadata": {},
   "source": [
    "We have 500 rows and 8 columns taking 31.4+ KB of memory space.\n",
    "\n",
    "we have columns of dtype 'int64': 'messages_included', 'minutes_included', 'mb_per_month_included', 'usd_monthly_pay', 'city', 'usd_per_gb';\n",
    " columns of dtype 'float64': 'usd_per_message' and 'usd_per_minute';\n",
    " columns of dtype 'object': 'plan_name'."
   ]
  },
  {
   "cell_type": "code",
   "execution_count": 3,
   "metadata": {
    "scrolled": true
   },
   "outputs": [
    {
     "name": "stdout",
     "output_type": "stream",
     "text": [
      "<class 'pandas.core.frame.DataFrame'>\n",
      "RangeIndex: 104825 entries, 0 to 104824\n",
      "Data columns (total 4 columns):\n",
      " #   Column        Non-Null Count   Dtype  \n",
      "---  ------        --------------   -----  \n",
      " 0   id            104825 non-null  object \n",
      " 1   user_id       104825 non-null  int64  \n",
      " 2   session_date  104825 non-null  object \n",
      " 3   mb_used       104825 non-null  float64\n",
      "dtypes: float64(1), int64(1), object(2)\n",
      "memory usage: 3.2+ MB\n"
     ]
    },
    {
     "data": {
      "text/html": [
       "<div>\n",
       "<style scoped>\n",
       "    .dataframe tbody tr th:only-of-type {\n",
       "        vertical-align: middle;\n",
       "    }\n",
       "\n",
       "    .dataframe tbody tr th {\n",
       "        vertical-align: top;\n",
       "    }\n",
       "\n",
       "    .dataframe thead th {\n",
       "        text-align: right;\n",
       "    }\n",
       "</style>\n",
       "<table border=\"1\" class=\"dataframe\">\n",
       "  <thead>\n",
       "    <tr style=\"text-align: right;\">\n",
       "      <th></th>\n",
       "      <th>id</th>\n",
       "      <th>user_id</th>\n",
       "      <th>session_date</th>\n",
       "      <th>mb_used</th>\n",
       "    </tr>\n",
       "  </thead>\n",
       "  <tbody>\n",
       "    <tr>\n",
       "      <th>0</th>\n",
       "      <td>1000_13</td>\n",
       "      <td>1000</td>\n",
       "      <td>2018-12-29</td>\n",
       "      <td>89.86</td>\n",
       "    </tr>\n",
       "    <tr>\n",
       "      <th>1</th>\n",
       "      <td>1000_204</td>\n",
       "      <td>1000</td>\n",
       "      <td>2018-12-31</td>\n",
       "      <td>0.00</td>\n",
       "    </tr>\n",
       "    <tr>\n",
       "      <th>2</th>\n",
       "      <td>1000_379</td>\n",
       "      <td>1000</td>\n",
       "      <td>2018-12-28</td>\n",
       "      <td>660.40</td>\n",
       "    </tr>\n",
       "    <tr>\n",
       "      <th>3</th>\n",
       "      <td>1000_413</td>\n",
       "      <td>1000</td>\n",
       "      <td>2018-12-26</td>\n",
       "      <td>270.99</td>\n",
       "    </tr>\n",
       "    <tr>\n",
       "      <th>4</th>\n",
       "      <td>1000_442</td>\n",
       "      <td>1000</td>\n",
       "      <td>2018-12-27</td>\n",
       "      <td>880.22</td>\n",
       "    </tr>\n",
       "    <tr>\n",
       "      <th>5</th>\n",
       "      <td>1001_0</td>\n",
       "      <td>1001</td>\n",
       "      <td>2018-08-24</td>\n",
       "      <td>284.68</td>\n",
       "    </tr>\n",
       "    <tr>\n",
       "      <th>6</th>\n",
       "      <td>1001_3</td>\n",
       "      <td>1001</td>\n",
       "      <td>2018-12-09</td>\n",
       "      <td>656.04</td>\n",
       "    </tr>\n",
       "    <tr>\n",
       "      <th>7</th>\n",
       "      <td>1001_4</td>\n",
       "      <td>1001</td>\n",
       "      <td>2018-11-04</td>\n",
       "      <td>16.97</td>\n",
       "    </tr>\n",
       "    <tr>\n",
       "      <th>8</th>\n",
       "      <td>1001_10</td>\n",
       "      <td>1001</td>\n",
       "      <td>2018-11-27</td>\n",
       "      <td>135.18</td>\n",
       "    </tr>\n",
       "    <tr>\n",
       "      <th>9</th>\n",
       "      <td>1001_15</td>\n",
       "      <td>1001</td>\n",
       "      <td>2018-12-13</td>\n",
       "      <td>761.92</td>\n",
       "    </tr>\n",
       "  </tbody>\n",
       "</table>\n",
       "</div>"
      ],
      "text/plain": [
       "         id  user_id session_date  mb_used\n",
       "0   1000_13     1000   2018-12-29    89.86\n",
       "1  1000_204     1000   2018-12-31     0.00\n",
       "2  1000_379     1000   2018-12-28   660.40\n",
       "3  1000_413     1000   2018-12-26   270.99\n",
       "4  1000_442     1000   2018-12-27   880.22\n",
       "5    1001_0     1001   2018-08-24   284.68\n",
       "6    1001_3     1001   2018-12-09   656.04\n",
       "7    1001_4     1001   2018-11-04    16.97\n",
       "8   1001_10     1001   2018-11-27   135.18\n",
       "9   1001_15     1001   2018-12-13   761.92"
      ]
     },
     "execution_count": 3,
     "metadata": {},
     "output_type": "execute_result"
    }
   ],
   "source": [
    "\n",
    "internet.info()\n",
    "\n",
    "internet.head(10)"
   ]
  },
  {
   "cell_type": "markdown",
   "metadata": {},
   "source": [
    "All date columns are stored as string objects. Thus, it is necessary to convert them to datetime objects.\n",
    "The tariffs provided to us in the project description matches those stored in the plans dataset.\n",
    "The 'id' columns in the datasets contain underscores. As a result, the data type of these columns are strings rather than integer numbers."
   ]
  },
  {
   "cell_type": "code",
   "execution_count": 4,
   "metadata": {},
   "outputs": [
    {
     "name": "stdout",
     "output_type": "stream",
     "text": [
      "<class 'pandas.core.frame.DataFrame'>\n",
      "RangeIndex: 76051 entries, 0 to 76050\n",
      "Data columns (total 3 columns):\n",
      " #   Column        Non-Null Count  Dtype \n",
      "---  ------        --------------  ----- \n",
      " 0   id            76051 non-null  object\n",
      " 1   user_id       76051 non-null  int64 \n",
      " 2   message_date  76051 non-null  object\n",
      "dtypes: int64(1), object(2)\n",
      "memory usage: 1.7+ MB\n"
     ]
    },
    {
     "data": {
      "text/html": [
       "<div>\n",
       "<style scoped>\n",
       "    .dataframe tbody tr th:only-of-type {\n",
       "        vertical-align: middle;\n",
       "    }\n",
       "\n",
       "    .dataframe tbody tr th {\n",
       "        vertical-align: top;\n",
       "    }\n",
       "\n",
       "    .dataframe thead th {\n",
       "        text-align: right;\n",
       "    }\n",
       "</style>\n",
       "<table border=\"1\" class=\"dataframe\">\n",
       "  <thead>\n",
       "    <tr style=\"text-align: right;\">\n",
       "      <th></th>\n",
       "      <th>id</th>\n",
       "      <th>user_id</th>\n",
       "      <th>message_date</th>\n",
       "    </tr>\n",
       "  </thead>\n",
       "  <tbody>\n",
       "    <tr>\n",
       "      <th>0</th>\n",
       "      <td>1000_125</td>\n",
       "      <td>1000</td>\n",
       "      <td>2018-12-27</td>\n",
       "    </tr>\n",
       "    <tr>\n",
       "      <th>1</th>\n",
       "      <td>1000_160</td>\n",
       "      <td>1000</td>\n",
       "      <td>2018-12-31</td>\n",
       "    </tr>\n",
       "    <tr>\n",
       "      <th>2</th>\n",
       "      <td>1000_223</td>\n",
       "      <td>1000</td>\n",
       "      <td>2018-12-31</td>\n",
       "    </tr>\n",
       "    <tr>\n",
       "      <th>3</th>\n",
       "      <td>1000_251</td>\n",
       "      <td>1000</td>\n",
       "      <td>2018-12-27</td>\n",
       "    </tr>\n",
       "    <tr>\n",
       "      <th>4</th>\n",
       "      <td>1000_255</td>\n",
       "      <td>1000</td>\n",
       "      <td>2018-12-26</td>\n",
       "    </tr>\n",
       "    <tr>\n",
       "      <th>5</th>\n",
       "      <td>1000_346</td>\n",
       "      <td>1000</td>\n",
       "      <td>2018-12-29</td>\n",
       "    </tr>\n",
       "    <tr>\n",
       "      <th>6</th>\n",
       "      <td>1000_386</td>\n",
       "      <td>1000</td>\n",
       "      <td>2018-12-30</td>\n",
       "    </tr>\n",
       "    <tr>\n",
       "      <th>7</th>\n",
       "      <td>1000_413</td>\n",
       "      <td>1000</td>\n",
       "      <td>2018-12-31</td>\n",
       "    </tr>\n",
       "    <tr>\n",
       "      <th>8</th>\n",
       "      <td>1000_502</td>\n",
       "      <td>1000</td>\n",
       "      <td>2018-12-27</td>\n",
       "    </tr>\n",
       "    <tr>\n",
       "      <th>9</th>\n",
       "      <td>1000_525</td>\n",
       "      <td>1000</td>\n",
       "      <td>2018-12-28</td>\n",
       "    </tr>\n",
       "  </tbody>\n",
       "</table>\n",
       "</div>"
      ],
      "text/plain": [
       "         id  user_id message_date\n",
       "0  1000_125     1000   2018-12-27\n",
       "1  1000_160     1000   2018-12-31\n",
       "2  1000_223     1000   2018-12-31\n",
       "3  1000_251     1000   2018-12-27\n",
       "4  1000_255     1000   2018-12-26\n",
       "5  1000_346     1000   2018-12-29\n",
       "6  1000_386     1000   2018-12-30\n",
       "7  1000_413     1000   2018-12-31\n",
       "8  1000_502     1000   2018-12-27\n",
       "9  1000_525     1000   2018-12-28"
      ]
     },
     "execution_count": 4,
     "metadata": {},
     "output_type": "execute_result"
    }
   ],
   "source": [
    "messages.info()\n",
    "\n",
    "messages.head(10)"
   ]
  },
  {
   "cell_type": "code",
   "execution_count": 5,
   "metadata": {},
   "outputs": [
    {
     "name": "stdout",
     "output_type": "stream",
     "text": [
      "<class 'pandas.core.frame.DataFrame'>\n",
      "RangeIndex: 2 entries, 0 to 1\n",
      "Data columns (total 8 columns):\n",
      " #   Column                 Non-Null Count  Dtype  \n",
      "---  ------                 --------------  -----  \n",
      " 0   messages_included      2 non-null      int64  \n",
      " 1   mb_per_month_included  2 non-null      int64  \n",
      " 2   minutes_included       2 non-null      int64  \n",
      " 3   usd_monthly_pay        2 non-null      int64  \n",
      " 4   usd_per_gb             2 non-null      int64  \n",
      " 5   usd_per_message        2 non-null      float64\n",
      " 6   usd_per_minute         2 non-null      float64\n",
      " 7   plan_name              2 non-null      object \n",
      "dtypes: float64(2), int64(5), object(1)\n",
      "memory usage: 256.0+ bytes\n"
     ]
    },
    {
     "data": {
      "text/html": [
       "<div>\n",
       "<style scoped>\n",
       "    .dataframe tbody tr th:only-of-type {\n",
       "        vertical-align: middle;\n",
       "    }\n",
       "\n",
       "    .dataframe tbody tr th {\n",
       "        vertical-align: top;\n",
       "    }\n",
       "\n",
       "    .dataframe thead th {\n",
       "        text-align: right;\n",
       "    }\n",
       "</style>\n",
       "<table border=\"1\" class=\"dataframe\">\n",
       "  <thead>\n",
       "    <tr style=\"text-align: right;\">\n",
       "      <th></th>\n",
       "      <th>messages_included</th>\n",
       "      <th>mb_per_month_included</th>\n",
       "      <th>minutes_included</th>\n",
       "      <th>usd_monthly_pay</th>\n",
       "      <th>usd_per_gb</th>\n",
       "      <th>usd_per_message</th>\n",
       "      <th>usd_per_minute</th>\n",
       "      <th>plan_name</th>\n",
       "    </tr>\n",
       "  </thead>\n",
       "  <tbody>\n",
       "    <tr>\n",
       "      <th>0</th>\n",
       "      <td>50</td>\n",
       "      <td>15360</td>\n",
       "      <td>500</td>\n",
       "      <td>20</td>\n",
       "      <td>10</td>\n",
       "      <td>0.03</td>\n",
       "      <td>0.03</td>\n",
       "      <td>surf</td>\n",
       "    </tr>\n",
       "    <tr>\n",
       "      <th>1</th>\n",
       "      <td>1000</td>\n",
       "      <td>30720</td>\n",
       "      <td>3000</td>\n",
       "      <td>70</td>\n",
       "      <td>7</td>\n",
       "      <td>0.01</td>\n",
       "      <td>0.01</td>\n",
       "      <td>ultimate</td>\n",
       "    </tr>\n",
       "  </tbody>\n",
       "</table>\n",
       "</div>"
      ],
      "text/plain": [
       "   messages_included  mb_per_month_included  minutes_included  \\\n",
       "0                 50                  15360               500   \n",
       "1               1000                  30720              3000   \n",
       "\n",
       "   usd_monthly_pay  usd_per_gb  usd_per_message  usd_per_minute plan_name  \n",
       "0               20          10             0.03            0.03      surf  \n",
       "1               70           7             0.01            0.01  ultimate  "
      ]
     },
     "execution_count": 5,
     "metadata": {},
     "output_type": "execute_result"
    }
   ],
   "source": [
    "plans.info()\n",
    "\n",
    "plans.head(10)"
   ]
  },
  {
   "cell_type": "code",
   "execution_count": 6,
   "metadata": {},
   "outputs": [
    {
     "name": "stdout",
     "output_type": "stream",
     "text": [
      "<class 'pandas.core.frame.DataFrame'>\n",
      "RangeIndex: 500 entries, 0 to 499\n",
      "Data columns (total 8 columns):\n",
      " #   Column      Non-Null Count  Dtype \n",
      "---  ------      --------------  ----- \n",
      " 0   user_id     500 non-null    int64 \n",
      " 1   first_name  500 non-null    object\n",
      " 2   last_name   500 non-null    object\n",
      " 3   age         500 non-null    int64 \n",
      " 4   city        500 non-null    object\n",
      " 5   reg_date    500 non-null    object\n",
      " 6   plan        500 non-null    object\n",
      " 7   churn_date  34 non-null     object\n",
      "dtypes: int64(2), object(6)\n",
      "memory usage: 31.4+ KB\n"
     ]
    },
    {
     "data": {
      "text/html": [
       "<div>\n",
       "<style scoped>\n",
       "    .dataframe tbody tr th:only-of-type {\n",
       "        vertical-align: middle;\n",
       "    }\n",
       "\n",
       "    .dataframe tbody tr th {\n",
       "        vertical-align: top;\n",
       "    }\n",
       "\n",
       "    .dataframe thead th {\n",
       "        text-align: right;\n",
       "    }\n",
       "</style>\n",
       "<table border=\"1\" class=\"dataframe\">\n",
       "  <thead>\n",
       "    <tr style=\"text-align: right;\">\n",
       "      <th></th>\n",
       "      <th>user_id</th>\n",
       "      <th>first_name</th>\n",
       "      <th>last_name</th>\n",
       "      <th>age</th>\n",
       "      <th>city</th>\n",
       "      <th>reg_date</th>\n",
       "      <th>plan</th>\n",
       "      <th>churn_date</th>\n",
       "    </tr>\n",
       "  </thead>\n",
       "  <tbody>\n",
       "    <tr>\n",
       "      <th>0</th>\n",
       "      <td>1000</td>\n",
       "      <td>Anamaria</td>\n",
       "      <td>Bauer</td>\n",
       "      <td>45</td>\n",
       "      <td>Atlanta-Sandy Springs-Roswell, GA MSA</td>\n",
       "      <td>2018-12-24</td>\n",
       "      <td>ultimate</td>\n",
       "      <td>NaN</td>\n",
       "    </tr>\n",
       "    <tr>\n",
       "      <th>1</th>\n",
       "      <td>1001</td>\n",
       "      <td>Mickey</td>\n",
       "      <td>Wilkerson</td>\n",
       "      <td>28</td>\n",
       "      <td>Seattle-Tacoma-Bellevue, WA MSA</td>\n",
       "      <td>2018-08-13</td>\n",
       "      <td>surf</td>\n",
       "      <td>NaN</td>\n",
       "    </tr>\n",
       "    <tr>\n",
       "      <th>2</th>\n",
       "      <td>1002</td>\n",
       "      <td>Carlee</td>\n",
       "      <td>Hoffman</td>\n",
       "      <td>36</td>\n",
       "      <td>Las Vegas-Henderson-Paradise, NV MSA</td>\n",
       "      <td>2018-10-21</td>\n",
       "      <td>surf</td>\n",
       "      <td>NaN</td>\n",
       "    </tr>\n",
       "    <tr>\n",
       "      <th>3</th>\n",
       "      <td>1003</td>\n",
       "      <td>Reynaldo</td>\n",
       "      <td>Jenkins</td>\n",
       "      <td>52</td>\n",
       "      <td>Tulsa, OK MSA</td>\n",
       "      <td>2018-01-28</td>\n",
       "      <td>surf</td>\n",
       "      <td>NaN</td>\n",
       "    </tr>\n",
       "    <tr>\n",
       "      <th>4</th>\n",
       "      <td>1004</td>\n",
       "      <td>Leonila</td>\n",
       "      <td>Thompson</td>\n",
       "      <td>40</td>\n",
       "      <td>Seattle-Tacoma-Bellevue, WA MSA</td>\n",
       "      <td>2018-05-23</td>\n",
       "      <td>surf</td>\n",
       "      <td>NaN</td>\n",
       "    </tr>\n",
       "    <tr>\n",
       "      <th>5</th>\n",
       "      <td>1005</td>\n",
       "      <td>Livia</td>\n",
       "      <td>Shields</td>\n",
       "      <td>31</td>\n",
       "      <td>Dallas-Fort Worth-Arlington, TX MSA</td>\n",
       "      <td>2018-11-29</td>\n",
       "      <td>surf</td>\n",
       "      <td>NaN</td>\n",
       "    </tr>\n",
       "    <tr>\n",
       "      <th>6</th>\n",
       "      <td>1006</td>\n",
       "      <td>Jesusa</td>\n",
       "      <td>Bradford</td>\n",
       "      <td>73</td>\n",
       "      <td>San Francisco-Oakland-Berkeley, CA MSA</td>\n",
       "      <td>2018-11-27</td>\n",
       "      <td>ultimate</td>\n",
       "      <td>2018-12-18</td>\n",
       "    </tr>\n",
       "    <tr>\n",
       "      <th>7</th>\n",
       "      <td>1007</td>\n",
       "      <td>Eusebio</td>\n",
       "      <td>Welch</td>\n",
       "      <td>42</td>\n",
       "      <td>Grand Rapids-Kentwood, MI MSA</td>\n",
       "      <td>2018-07-11</td>\n",
       "      <td>surf</td>\n",
       "      <td>NaN</td>\n",
       "    </tr>\n",
       "    <tr>\n",
       "      <th>8</th>\n",
       "      <td>1008</td>\n",
       "      <td>Emely</td>\n",
       "      <td>Hoffman</td>\n",
       "      <td>53</td>\n",
       "      <td>Orlando-Kissimmee-Sanford, FL MSA</td>\n",
       "      <td>2018-08-03</td>\n",
       "      <td>ultimate</td>\n",
       "      <td>NaN</td>\n",
       "    </tr>\n",
       "    <tr>\n",
       "      <th>9</th>\n",
       "      <td>1009</td>\n",
       "      <td>Gerry</td>\n",
       "      <td>Little</td>\n",
       "      <td>19</td>\n",
       "      <td>San Jose-Sunnyvale-Santa Clara, CA MSA</td>\n",
       "      <td>2018-04-22</td>\n",
       "      <td>surf</td>\n",
       "      <td>NaN</td>\n",
       "    </tr>\n",
       "  </tbody>\n",
       "</table>\n",
       "</div>"
      ],
      "text/plain": [
       "   user_id first_name  last_name  age                                    city  \\\n",
       "0     1000   Anamaria      Bauer   45   Atlanta-Sandy Springs-Roswell, GA MSA   \n",
       "1     1001     Mickey  Wilkerson   28         Seattle-Tacoma-Bellevue, WA MSA   \n",
       "2     1002     Carlee    Hoffman   36    Las Vegas-Henderson-Paradise, NV MSA   \n",
       "3     1003   Reynaldo    Jenkins   52                           Tulsa, OK MSA   \n",
       "4     1004    Leonila   Thompson   40         Seattle-Tacoma-Bellevue, WA MSA   \n",
       "5     1005      Livia    Shields   31     Dallas-Fort Worth-Arlington, TX MSA   \n",
       "6     1006     Jesusa   Bradford   73  San Francisco-Oakland-Berkeley, CA MSA   \n",
       "7     1007    Eusebio      Welch   42           Grand Rapids-Kentwood, MI MSA   \n",
       "8     1008      Emely    Hoffman   53       Orlando-Kissimmee-Sanford, FL MSA   \n",
       "9     1009      Gerry     Little   19  San Jose-Sunnyvale-Santa Clara, CA MSA   \n",
       "\n",
       "     reg_date      plan  churn_date  \n",
       "0  2018-12-24  ultimate         NaN  \n",
       "1  2018-08-13      surf         NaN  \n",
       "2  2018-10-21      surf         NaN  \n",
       "3  2018-01-28      surf         NaN  \n",
       "4  2018-05-23      surf         NaN  \n",
       "5  2018-11-29      surf         NaN  \n",
       "6  2018-11-27  ultimate  2018-12-18  \n",
       "7  2018-07-11      surf         NaN  \n",
       "8  2018-08-03  ultimate         NaN  \n",
       "9  2018-04-22      surf         NaN  "
      ]
     },
     "execution_count": 6,
     "metadata": {},
     "output_type": "execute_result"
    }
   ],
   "source": [
    "users.info()\n",
    "\n",
    "users.head(10)"
   ]
  },
  {
   "cell_type": "markdown",
   "metadata": {},
   "source": [
    "We didn't find any duplicates, so no need to drop any rows from the datasets."
   ]
  },
  {
   "cell_type": "code",
   "execution_count": 7,
   "metadata": {
    "scrolled": true
   },
   "outputs": [
    {
     "data": {
      "text/html": [
       "<div>\n",
       "<style scoped>\n",
       "    .dataframe tbody tr th:only-of-type {\n",
       "        vertical-align: middle;\n",
       "    }\n",
       "\n",
       "    .dataframe tbody tr th {\n",
       "        vertical-align: top;\n",
       "    }\n",
       "\n",
       "    .dataframe thead th {\n",
       "        text-align: right;\n",
       "    }\n",
       "</style>\n",
       "<table border=\"1\" class=\"dataframe\">\n",
       "  <thead>\n",
       "    <tr style=\"text-align: right;\">\n",
       "      <th></th>\n",
       "      <th>user_id</th>\n",
       "      <th>duration</th>\n",
       "    </tr>\n",
       "  </thead>\n",
       "  <tbody>\n",
       "    <tr>\n",
       "      <th>count</th>\n",
       "      <td>137735.000000</td>\n",
       "      <td>137735.000000</td>\n",
       "    </tr>\n",
       "    <tr>\n",
       "      <th>mean</th>\n",
       "      <td>1247.658046</td>\n",
       "      <td>6.745927</td>\n",
       "    </tr>\n",
       "    <tr>\n",
       "      <th>std</th>\n",
       "      <td>139.416268</td>\n",
       "      <td>5.839241</td>\n",
       "    </tr>\n",
       "    <tr>\n",
       "      <th>min</th>\n",
       "      <td>1000.000000</td>\n",
       "      <td>0.000000</td>\n",
       "    </tr>\n",
       "    <tr>\n",
       "      <th>25%</th>\n",
       "      <td>1128.000000</td>\n",
       "      <td>1.290000</td>\n",
       "    </tr>\n",
       "    <tr>\n",
       "      <th>50%</th>\n",
       "      <td>1247.000000</td>\n",
       "      <td>5.980000</td>\n",
       "    </tr>\n",
       "    <tr>\n",
       "      <th>75%</th>\n",
       "      <td>1365.000000</td>\n",
       "      <td>10.690000</td>\n",
       "    </tr>\n",
       "    <tr>\n",
       "      <th>max</th>\n",
       "      <td>1499.000000</td>\n",
       "      <td>37.600000</td>\n",
       "    </tr>\n",
       "  </tbody>\n",
       "</table>\n",
       "</div>"
      ],
      "text/plain": [
       "             user_id       duration\n",
       "count  137735.000000  137735.000000\n",
       "mean     1247.658046       6.745927\n",
       "std       139.416268       5.839241\n",
       "min      1000.000000       0.000000\n",
       "25%      1128.000000       1.290000\n",
       "50%      1247.000000       5.980000\n",
       "75%      1365.000000      10.690000\n",
       "max      1499.000000      37.600000"
      ]
     },
     "metadata": {},
     "output_type": "display_data"
    },
    {
     "data": {
      "text/html": [
       "<div>\n",
       "<style scoped>\n",
       "    .dataframe tbody tr th:only-of-type {\n",
       "        vertical-align: middle;\n",
       "    }\n",
       "\n",
       "    .dataframe tbody tr th {\n",
       "        vertical-align: top;\n",
       "    }\n",
       "\n",
       "    .dataframe thead th {\n",
       "        text-align: right;\n",
       "    }\n",
       "</style>\n",
       "<table border=\"1\" class=\"dataframe\">\n",
       "  <thead>\n",
       "    <tr style=\"text-align: right;\">\n",
       "      <th></th>\n",
       "      <th>user_id</th>\n",
       "      <th>mb_used</th>\n",
       "    </tr>\n",
       "  </thead>\n",
       "  <tbody>\n",
       "    <tr>\n",
       "      <th>count</th>\n",
       "      <td>104825.000000</td>\n",
       "      <td>104825.000000</td>\n",
       "    </tr>\n",
       "    <tr>\n",
       "      <th>mean</th>\n",
       "      <td>1242.496361</td>\n",
       "      <td>366.713701</td>\n",
       "    </tr>\n",
       "    <tr>\n",
       "      <th>std</th>\n",
       "      <td>142.053913</td>\n",
       "      <td>277.170542</td>\n",
       "    </tr>\n",
       "    <tr>\n",
       "      <th>min</th>\n",
       "      <td>1000.000000</td>\n",
       "      <td>0.000000</td>\n",
       "    </tr>\n",
       "    <tr>\n",
       "      <th>25%</th>\n",
       "      <td>1122.000000</td>\n",
       "      <td>136.080000</td>\n",
       "    </tr>\n",
       "    <tr>\n",
       "      <th>50%</th>\n",
       "      <td>1236.000000</td>\n",
       "      <td>343.980000</td>\n",
       "    </tr>\n",
       "    <tr>\n",
       "      <th>75%</th>\n",
       "      <td>1367.000000</td>\n",
       "      <td>554.610000</td>\n",
       "    </tr>\n",
       "    <tr>\n",
       "      <th>max</th>\n",
       "      <td>1499.000000</td>\n",
       "      <td>1693.470000</td>\n",
       "    </tr>\n",
       "  </tbody>\n",
       "</table>\n",
       "</div>"
      ],
      "text/plain": [
       "             user_id        mb_used\n",
       "count  104825.000000  104825.000000\n",
       "mean     1242.496361     366.713701\n",
       "std       142.053913     277.170542\n",
       "min      1000.000000       0.000000\n",
       "25%      1122.000000     136.080000\n",
       "50%      1236.000000     343.980000\n",
       "75%      1367.000000     554.610000\n",
       "max      1499.000000    1693.470000"
      ]
     },
     "metadata": {},
     "output_type": "display_data"
    },
    {
     "data": {
      "text/html": [
       "<div>\n",
       "<style scoped>\n",
       "    .dataframe tbody tr th:only-of-type {\n",
       "        vertical-align: middle;\n",
       "    }\n",
       "\n",
       "    .dataframe tbody tr th {\n",
       "        vertical-align: top;\n",
       "    }\n",
       "\n",
       "    .dataframe thead th {\n",
       "        text-align: right;\n",
       "    }\n",
       "</style>\n",
       "<table border=\"1\" class=\"dataframe\">\n",
       "  <thead>\n",
       "    <tr style=\"text-align: right;\">\n",
       "      <th></th>\n",
       "      <th>user_id</th>\n",
       "    </tr>\n",
       "  </thead>\n",
       "  <tbody>\n",
       "    <tr>\n",
       "      <th>count</th>\n",
       "      <td>76051.000000</td>\n",
       "    </tr>\n",
       "    <tr>\n",
       "      <th>mean</th>\n",
       "      <td>1245.972768</td>\n",
       "    </tr>\n",
       "    <tr>\n",
       "      <th>std</th>\n",
       "      <td>139.843635</td>\n",
       "    </tr>\n",
       "    <tr>\n",
       "      <th>min</th>\n",
       "      <td>1000.000000</td>\n",
       "    </tr>\n",
       "    <tr>\n",
       "      <th>25%</th>\n",
       "      <td>1123.000000</td>\n",
       "    </tr>\n",
       "    <tr>\n",
       "      <th>50%</th>\n",
       "      <td>1251.000000</td>\n",
       "    </tr>\n",
       "    <tr>\n",
       "      <th>75%</th>\n",
       "      <td>1362.000000</td>\n",
       "    </tr>\n",
       "    <tr>\n",
       "      <th>max</th>\n",
       "      <td>1497.000000</td>\n",
       "    </tr>\n",
       "  </tbody>\n",
       "</table>\n",
       "</div>"
      ],
      "text/plain": [
       "            user_id\n",
       "count  76051.000000\n",
       "mean    1245.972768\n",
       "std      139.843635\n",
       "min     1000.000000\n",
       "25%     1123.000000\n",
       "50%     1251.000000\n",
       "75%     1362.000000\n",
       "max     1497.000000"
      ]
     },
     "metadata": {},
     "output_type": "display_data"
    },
    {
     "data": {
      "text/html": [
       "<div>\n",
       "<style scoped>\n",
       "    .dataframe tbody tr th:only-of-type {\n",
       "        vertical-align: middle;\n",
       "    }\n",
       "\n",
       "    .dataframe tbody tr th {\n",
       "        vertical-align: top;\n",
       "    }\n",
       "\n",
       "    .dataframe thead th {\n",
       "        text-align: right;\n",
       "    }\n",
       "</style>\n",
       "<table border=\"1\" class=\"dataframe\">\n",
       "  <thead>\n",
       "    <tr style=\"text-align: right;\">\n",
       "      <th></th>\n",
       "      <th>user_id</th>\n",
       "      <th>age</th>\n",
       "    </tr>\n",
       "  </thead>\n",
       "  <tbody>\n",
       "    <tr>\n",
       "      <th>count</th>\n",
       "      <td>500.000000</td>\n",
       "      <td>500.000000</td>\n",
       "    </tr>\n",
       "    <tr>\n",
       "      <th>mean</th>\n",
       "      <td>1249.500000</td>\n",
       "      <td>45.486000</td>\n",
       "    </tr>\n",
       "    <tr>\n",
       "      <th>std</th>\n",
       "      <td>144.481833</td>\n",
       "      <td>16.972269</td>\n",
       "    </tr>\n",
       "    <tr>\n",
       "      <th>min</th>\n",
       "      <td>1000.000000</td>\n",
       "      <td>18.000000</td>\n",
       "    </tr>\n",
       "    <tr>\n",
       "      <th>25%</th>\n",
       "      <td>1124.750000</td>\n",
       "      <td>30.000000</td>\n",
       "    </tr>\n",
       "    <tr>\n",
       "      <th>50%</th>\n",
       "      <td>1249.500000</td>\n",
       "      <td>46.000000</td>\n",
       "    </tr>\n",
       "    <tr>\n",
       "      <th>75%</th>\n",
       "      <td>1374.250000</td>\n",
       "      <td>61.000000</td>\n",
       "    </tr>\n",
       "    <tr>\n",
       "      <th>max</th>\n",
       "      <td>1499.000000</td>\n",
       "      <td>75.000000</td>\n",
       "    </tr>\n",
       "  </tbody>\n",
       "</table>\n",
       "</div>"
      ],
      "text/plain": [
       "           user_id         age\n",
       "count   500.000000  500.000000\n",
       "mean   1249.500000   45.486000\n",
       "std     144.481833   16.972269\n",
       "min    1000.000000   18.000000\n",
       "25%    1124.750000   30.000000\n",
       "50%    1249.500000   46.000000\n",
       "75%    1374.250000   61.000000\n",
       "max    1499.000000   75.000000"
      ]
     },
     "metadata": {},
     "output_type": "display_data"
    }
   ],
   "source": [
    "display(calls.describe())\n",
    "\n",
    "display(internet.describe()) \n",
    "\n",
    "display(messages.describe()) \n",
    "\n",
    "display(users.describe())"
   ]
  },
  {
   "cell_type": "markdown",
   "metadata": {},
   "source": [
    "We checked the general information of 'megaline_calls','megaline_internet','megaline_messages', 'megaline_plans'and 'megaline_users' datasets.\n",
    "Upon checking data, we found that the datasets are much cleaner. We didn't find any big issues and discrepancies. However, data types of 'id','call_date', 'duration','message_date','first_name','last_name','city','reg_date','plan','churn_date' columns need to be changed and 'city','first_name','last_name' columns are object type too and need to be changed into lowercase.\n",
    "There are 26,834 calls with zero durations which is 19% of the calls. Though these are zero minutes, there are still phone calls so we will keep them.\n",
    "There are missing values for the 'chur_date' column. chur_date' is the date that the user stopped using the service. However, the project explains it as a call plan was being used when this data was retrieved."
   ]
  },
  {
   "cell_type": "markdown",
   "metadata": {},
   "source": [
    "<div class=\"alert alert-block alert-success\">\n",
    "<b>Reviewer's comment v3:</b>\n",
    "    \n",
    "Great start! Now we got a first look at the data."
   ]
  },
  {
   "cell_type": "markdown",
   "metadata": {},
   "source": [
    "<div class=\"alert alert-block alert-warning\">\n",
    "<b>Reviewer's comment v1:</b>\n",
    "    \n",
    "Everything is correct here but usually, it is always helpful to double-check whether we indeed have data within one year/time period. If not then selecting and aggregating data by the month number will cause an issue. So here it is safer to use datetime64[M] which provides a complete date. "
   ]
  },
  {
   "cell_type": "markdown",
   "metadata": {},
   "source": [
    "<div class=\"alert alert-block alert-success\">\n",
    "<b>Reviewer's comment v3:</b>\n",
    "    \n",
    "Ok, great job! Good that you added data rounding. Also, great choice of np.ceil () method. \n",
    "\n",
    "Btw you can use it without apply (shorter and faster code):\n",
    "    \n",
    "    calls['duration'] = np.ceil(calls['duration'])\n"
   ]
  },
  {
   "cell_type": "markdown",
   "metadata": {},
   "source": [
    "yes, thanks alot for this note, I felt as I did the project fast, and were in prusser, feeling lost, I didn't orgnize it as well, so I used the method later and worked. "
   ]
  },
  {
   "cell_type": "code",
   "execution_count": 8,
   "metadata": {},
   "outputs": [
    {
     "data": {
      "text/plain": [
       "user_id       0\n",
       "first_name    0\n",
       "last_name     0\n",
       "age           0\n",
       "city          0\n",
       "reg_date      0\n",
       "plan          0\n",
       "churn_date    0\n",
       "dtype: int64"
      ]
     },
     "execution_count": 8,
     "metadata": {},
     "output_type": "execute_result"
    }
   ],
   "source": [
    "users['churn_date'] = users['churn_date'].fillna('2018-12-31')\n",
    "users.isnull().sum()"
   ]
  },
  {
   "cell_type": "markdown",
   "metadata": {},
   "source": [
    "<div class=\"alert alert-success\">\n",
    "<b>Reviewer's comment v3:</b>\n",
    "    \n",
    "It's great that you managed to calculate all the necessary metrics and display them in the table.\n"
   ]
  },
  {
   "cell_type": "markdown",
   "metadata": {},
   "source": [
    "<div class=\"alert alert-success\">\n",
    "<b>Reviewer's comment v3:</b>\n",
    "    \n",
    "- Very nice visualization of the data. Great that you used different graph types to check available data.\n",
    "- Great that you managed to add both plans on one graph.\n"
   ]
  },
  {
   "cell_type": "markdown",
   "metadata": {},
   "source": [
    "Prepare the data:\n",
    "In this step, we are viewing the data in more detail to convert them to the necessary types. Find and eliminate errors in the data\n"
   ]
  },
  {
   "cell_type": "markdown",
   "metadata": {},
   "source": [
    "<div class=\"alert alert-block alert-warning\">\n",
    "<b>Reviewer's comment v3:</b>\n",
    "    \n",
    "It is possible to put all this code into one function and run it for 3 services. "
   ]
  },
  {
   "cell_type": "markdown",
   "metadata": {},
   "source": [
    "I did it, in one step as you recommended, but after I cleaned the data."
   ]
  },
  {
   "cell_type": "markdown",
   "metadata": {},
   "source": [
    "<div class=\"alert alert-danger\" role=\"alert\">\n",
    "<b>Reviewer's comment v3:</b>\n",
    "    \n",
    "Unfortunately, here it is required to calculate a monthly revenue per user_id. Currently it is averaged value.\n",
    "\n",
    "Can you please update that?"
   ]
  },
  {
   "cell_type": "code",
   "execution_count": 9,
   "metadata": {},
   "outputs": [
    {
     "data": {
      "text/html": [
       "<div>\n",
       "<style scoped>\n",
       "    .dataframe tbody tr th:only-of-type {\n",
       "        vertical-align: middle;\n",
       "    }\n",
       "\n",
       "    .dataframe tbody tr th {\n",
       "        vertical-align: top;\n",
       "    }\n",
       "\n",
       "    .dataframe thead th {\n",
       "        text-align: right;\n",
       "    }\n",
       "</style>\n",
       "<table border=\"1\" class=\"dataframe\">\n",
       "  <thead>\n",
       "    <tr style=\"text-align: right;\">\n",
       "      <th></th>\n",
       "      <th>user_id</th>\n",
       "      <th>first_name</th>\n",
       "      <th>last_name</th>\n",
       "      <th>age</th>\n",
       "      <th>city</th>\n",
       "      <th>reg_date</th>\n",
       "      <th>plan</th>\n",
       "      <th>churn_date</th>\n",
       "    </tr>\n",
       "  </thead>\n",
       "  <tbody>\n",
       "    <tr>\n",
       "      <th>0</th>\n",
       "      <td>1000</td>\n",
       "      <td>Anamaria</td>\n",
       "      <td>Bauer</td>\n",
       "      <td>45</td>\n",
       "      <td>Atlanta-Sandy Springs-Roswell, GA MSA</td>\n",
       "      <td>2018-12-24</td>\n",
       "      <td>ultimate</td>\n",
       "      <td>2018-12-31</td>\n",
       "    </tr>\n",
       "    <tr>\n",
       "      <th>1</th>\n",
       "      <td>1001</td>\n",
       "      <td>Mickey</td>\n",
       "      <td>Wilkerson</td>\n",
       "      <td>28</td>\n",
       "      <td>Seattle-Tacoma-Bellevue, WA MSA</td>\n",
       "      <td>2018-08-13</td>\n",
       "      <td>surf</td>\n",
       "      <td>2018-12-31</td>\n",
       "    </tr>\n",
       "    <tr>\n",
       "      <th>2</th>\n",
       "      <td>1002</td>\n",
       "      <td>Carlee</td>\n",
       "      <td>Hoffman</td>\n",
       "      <td>36</td>\n",
       "      <td>Las Vegas-Henderson-Paradise, NV MSA</td>\n",
       "      <td>2018-10-21</td>\n",
       "      <td>surf</td>\n",
       "      <td>2018-12-31</td>\n",
       "    </tr>\n",
       "    <tr>\n",
       "      <th>3</th>\n",
       "      <td>1003</td>\n",
       "      <td>Reynaldo</td>\n",
       "      <td>Jenkins</td>\n",
       "      <td>52</td>\n",
       "      <td>Tulsa, OK MSA</td>\n",
       "      <td>2018-01-28</td>\n",
       "      <td>surf</td>\n",
       "      <td>2018-12-31</td>\n",
       "    </tr>\n",
       "    <tr>\n",
       "      <th>4</th>\n",
       "      <td>1004</td>\n",
       "      <td>Leonila</td>\n",
       "      <td>Thompson</td>\n",
       "      <td>40</td>\n",
       "      <td>Seattle-Tacoma-Bellevue, WA MSA</td>\n",
       "      <td>2018-05-23</td>\n",
       "      <td>surf</td>\n",
       "      <td>2018-12-31</td>\n",
       "    </tr>\n",
       "  </tbody>\n",
       "</table>\n",
       "</div>"
      ],
      "text/plain": [
       "   user_id first_name  last_name  age                                   city  \\\n",
       "0     1000   Anamaria      Bauer   45  Atlanta-Sandy Springs-Roswell, GA MSA   \n",
       "1     1001     Mickey  Wilkerson   28        Seattle-Tacoma-Bellevue, WA MSA   \n",
       "2     1002     Carlee    Hoffman   36   Las Vegas-Henderson-Paradise, NV MSA   \n",
       "3     1003   Reynaldo    Jenkins   52                          Tulsa, OK MSA   \n",
       "4     1004    Leonila   Thompson   40        Seattle-Tacoma-Bellevue, WA MSA   \n",
       "\n",
       "     reg_date      plan  churn_date  \n",
       "0  2018-12-24  ultimate  2018-12-31  \n",
       "1  2018-08-13      surf  2018-12-31  \n",
       "2  2018-10-21      surf  2018-12-31  \n",
       "3  2018-01-28      surf  2018-12-31  \n",
       "4  2018-05-23      surf  2018-12-31  "
      ]
     },
     "metadata": {},
     "output_type": "display_data"
    },
    {
     "data": {
      "text/html": [
       "<div>\n",
       "<style scoped>\n",
       "    .dataframe tbody tr th:only-of-type {\n",
       "        vertical-align: middle;\n",
       "    }\n",
       "\n",
       "    .dataframe tbody tr th {\n",
       "        vertical-align: top;\n",
       "    }\n",
       "\n",
       "    .dataframe thead th {\n",
       "        text-align: right;\n",
       "    }\n",
       "</style>\n",
       "<table border=\"1\" class=\"dataframe\">\n",
       "  <thead>\n",
       "    <tr style=\"text-align: right;\">\n",
       "      <th></th>\n",
       "      <th>id</th>\n",
       "      <th>user_id</th>\n",
       "      <th>call_date</th>\n",
       "      <th>duration</th>\n",
       "      <th>month</th>\n",
       "    </tr>\n",
       "  </thead>\n",
       "  <tbody>\n",
       "    <tr>\n",
       "      <th>0</th>\n",
       "      <td>1000_93</td>\n",
       "      <td>1000</td>\n",
       "      <td>2018-12-27</td>\n",
       "      <td>9</td>\n",
       "      <td>12</td>\n",
       "    </tr>\n",
       "    <tr>\n",
       "      <th>1</th>\n",
       "      <td>1000_145</td>\n",
       "      <td>1000</td>\n",
       "      <td>2018-12-27</td>\n",
       "      <td>14</td>\n",
       "      <td>12</td>\n",
       "    </tr>\n",
       "    <tr>\n",
       "      <th>2</th>\n",
       "      <td>1000_247</td>\n",
       "      <td>1000</td>\n",
       "      <td>2018-12-27</td>\n",
       "      <td>15</td>\n",
       "      <td>12</td>\n",
       "    </tr>\n",
       "    <tr>\n",
       "      <th>3</th>\n",
       "      <td>1000_309</td>\n",
       "      <td>1000</td>\n",
       "      <td>2018-12-28</td>\n",
       "      <td>6</td>\n",
       "      <td>12</td>\n",
       "    </tr>\n",
       "    <tr>\n",
       "      <th>4</th>\n",
       "      <td>1000_380</td>\n",
       "      <td>1000</td>\n",
       "      <td>2018-12-30</td>\n",
       "      <td>5</td>\n",
       "      <td>12</td>\n",
       "    </tr>\n",
       "  </tbody>\n",
       "</table>\n",
       "</div>"
      ],
      "text/plain": [
       "         id  user_id   call_date  duration  month\n",
       "0   1000_93     1000  2018-12-27         9     12\n",
       "1  1000_145     1000  2018-12-27        14     12\n",
       "2  1000_247     1000  2018-12-27        15     12\n",
       "3  1000_309     1000  2018-12-28         6     12\n",
       "4  1000_380     1000  2018-12-30         5     12"
      ]
     },
     "metadata": {},
     "output_type": "display_data"
    },
    {
     "data": {
      "text/html": [
       "<div>\n",
       "<style scoped>\n",
       "    .dataframe tbody tr th:only-of-type {\n",
       "        vertical-align: middle;\n",
       "    }\n",
       "\n",
       "    .dataframe tbody tr th {\n",
       "        vertical-align: top;\n",
       "    }\n",
       "\n",
       "    .dataframe thead th {\n",
       "        text-align: right;\n",
       "    }\n",
       "</style>\n",
       "<table border=\"1\" class=\"dataframe\">\n",
       "  <thead>\n",
       "    <tr style=\"text-align: right;\">\n",
       "      <th></th>\n",
       "      <th>id</th>\n",
       "      <th>user_id</th>\n",
       "      <th>session_date</th>\n",
       "      <th>mb_used</th>\n",
       "      <th>month</th>\n",
       "    </tr>\n",
       "  </thead>\n",
       "  <tbody>\n",
       "    <tr>\n",
       "      <th>0</th>\n",
       "      <td>1000_13</td>\n",
       "      <td>1000</td>\n",
       "      <td>2018-12-29</td>\n",
       "      <td>90</td>\n",
       "      <td>12</td>\n",
       "    </tr>\n",
       "    <tr>\n",
       "      <th>1</th>\n",
       "      <td>1000_204</td>\n",
       "      <td>1000</td>\n",
       "      <td>2018-12-31</td>\n",
       "      <td>0</td>\n",
       "      <td>12</td>\n",
       "    </tr>\n",
       "    <tr>\n",
       "      <th>2</th>\n",
       "      <td>1000_379</td>\n",
       "      <td>1000</td>\n",
       "      <td>2018-12-28</td>\n",
       "      <td>661</td>\n",
       "      <td>12</td>\n",
       "    </tr>\n",
       "    <tr>\n",
       "      <th>3</th>\n",
       "      <td>1000_413</td>\n",
       "      <td>1000</td>\n",
       "      <td>2018-12-26</td>\n",
       "      <td>271</td>\n",
       "      <td>12</td>\n",
       "    </tr>\n",
       "    <tr>\n",
       "      <th>4</th>\n",
       "      <td>1000_442</td>\n",
       "      <td>1000</td>\n",
       "      <td>2018-12-27</td>\n",
       "      <td>881</td>\n",
       "      <td>12</td>\n",
       "    </tr>\n",
       "  </tbody>\n",
       "</table>\n",
       "</div>"
      ],
      "text/plain": [
       "         id  user_id session_date  mb_used  month\n",
       "0   1000_13     1000   2018-12-29       90     12\n",
       "1  1000_204     1000   2018-12-31        0     12\n",
       "2  1000_379     1000   2018-12-28      661     12\n",
       "3  1000_413     1000   2018-12-26      271     12\n",
       "4  1000_442     1000   2018-12-27      881     12"
      ]
     },
     "metadata": {},
     "output_type": "display_data"
    },
    {
     "data": {
      "text/html": [
       "<div>\n",
       "<style scoped>\n",
       "    .dataframe tbody tr th:only-of-type {\n",
       "        vertical-align: middle;\n",
       "    }\n",
       "\n",
       "    .dataframe tbody tr th {\n",
       "        vertical-align: top;\n",
       "    }\n",
       "\n",
       "    .dataframe thead th {\n",
       "        text-align: right;\n",
       "    }\n",
       "</style>\n",
       "<table border=\"1\" class=\"dataframe\">\n",
       "  <thead>\n",
       "    <tr style=\"text-align: right;\">\n",
       "      <th></th>\n",
       "      <th>id</th>\n",
       "      <th>user_id</th>\n",
       "      <th>message_date</th>\n",
       "    </tr>\n",
       "  </thead>\n",
       "  <tbody>\n",
       "    <tr>\n",
       "      <th>0</th>\n",
       "      <td>1000_125</td>\n",
       "      <td>1000</td>\n",
       "      <td>2018-12-27</td>\n",
       "    </tr>\n",
       "    <tr>\n",
       "      <th>1</th>\n",
       "      <td>1000_160</td>\n",
       "      <td>1000</td>\n",
       "      <td>2018-12-31</td>\n",
       "    </tr>\n",
       "    <tr>\n",
       "      <th>2</th>\n",
       "      <td>1000_223</td>\n",
       "      <td>1000</td>\n",
       "      <td>2018-12-31</td>\n",
       "    </tr>\n",
       "    <tr>\n",
       "      <th>3</th>\n",
       "      <td>1000_251</td>\n",
       "      <td>1000</td>\n",
       "      <td>2018-12-27</td>\n",
       "    </tr>\n",
       "    <tr>\n",
       "      <th>4</th>\n",
       "      <td>1000_255</td>\n",
       "      <td>1000</td>\n",
       "      <td>2018-12-26</td>\n",
       "    </tr>\n",
       "  </tbody>\n",
       "</table>\n",
       "</div>"
      ],
      "text/plain": [
       "         id  user_id message_date\n",
       "0  1000_125     1000   2018-12-27\n",
       "1  1000_160     1000   2018-12-31\n",
       "2  1000_223     1000   2018-12-31\n",
       "3  1000_251     1000   2018-12-27\n",
       "4  1000_255     1000   2018-12-26"
      ]
     },
     "metadata": {},
     "output_type": "display_data"
    }
   ],
   "source": [
    "#Fill in missing values in column churn_date for table users.\n",
    "users['churn_date'] = users['churn_date'].fillna('2018-12-31')\n",
    "users.isnull().sum()\n",
    "\n",
    "#Change data types in users table\n",
    "users['churn_date'] = pd.to_datetime(users['churn_date']).dt.date\n",
    "display(users.head())\n",
    "\n",
    "#Change data types in calls table\n",
    "calls['duration'] = np.ceil(calls['duration']).astype(int) \n",
    "calls['call_date'] = pd.to_datetime(calls['call_date']).dt.date\n",
    "calls['month'] = pd.to_datetime(calls['call_date']).dt.month\n",
    "calls['month'] = calls['month'].astype(int)\n",
    "display(calls.head())\n",
    "\n",
    "#Change data types in internet table\n",
    "internet['mb_used'] = np.ceil(internet['mb_used']).astype(int)\n",
    "internet['session_date'] = pd.to_datetime(internet['session_date']).dt.date\n",
    "internet['month'] = pd.to_datetime(internet['session_date']).dt.month\n",
    "display(internet.head())\n",
    "\n",
    "#Change data types in messages table\n",
    "messages['message_date'] = pd.to_datetime(messages['message_date']).dt.date\n",
    "display(messages.head())\n",
    "messages['month'] = pd.to_datetime(messages['message_date']).dt.month"
   ]
  },
  {
   "cell_type": "markdown",
   "metadata": {},
   "source": [
    "Here, I tried to clean the data, change the type of it, and fill the missing value in hanged the missing values in the column 'churn_date' table to 2018-12-31, since it is the last date in the year."
   ]
  },
  {
   "cell_type": "markdown",
   "metadata": {},
   "source": [
    "<div class=\"alert alert-block alert-success\">\n",
    "<b>Reviewer's comment v3:</b>\n",
    "    \n",
    "Ok, great job! Good that you added data rounding. Also, great choice of np.ceil () method. \n",
    "\n",
    "Btw you can use it without apply (shorter and faster code):\n",
    "    \n",
    "    calls['duration'] = np.ceil(calls['duration'])\n"
   ]
  },
  {
   "cell_type": "code",
   "execution_count": 10,
   "metadata": {},
   "outputs": [
    {
     "data": {
      "text/plain": [
       "user_id       0\n",
       "first_name    0\n",
       "last_name     0\n",
       "age           0\n",
       "city          0\n",
       "reg_date      0\n",
       "plan          0\n",
       "churn_date    0\n",
       "dtype: int64"
      ]
     },
     "execution_count": 10,
     "metadata": {},
     "output_type": "execute_result"
    }
   ],
   "source": [
    "calls.isnull().sum()\n",
    "internet.isnull().sum()\n",
    "plans.isnull().sum()\n",
    "messages.isnull().sum()\n",
    "users.isnull().sum()"
   ]
  },
  {
   "cell_type": "code",
   "execution_count": 11,
   "metadata": {},
   "outputs": [
    {
     "data": {
      "text/plain": [
       "0"
      ]
     },
     "execution_count": 11,
     "metadata": {},
     "output_type": "execute_result"
    }
   ],
   "source": [
    "calls.duplicated().sum()\n",
    "messages.duplicated().sum()\n",
    "internet.duplicated().sum()\n",
    "users.duplicated().sum()"
   ]
  },
  {
   "cell_type": "code",
   "execution_count": 12,
   "metadata": {},
   "outputs": [],
   "source": [
    "for index, row in users.iterrows():\n",
    "    user_id = row['user_id']\n",
    "    churn_date = row['churn_date']\n",
    "    \n",
    "    calls.drop(calls.index[(calls['user_id'] == user_id) &(calls['call_date'] > churn_date)], inplace=True)\n",
    "    messages.drop(messages.index[(messages['user_id'] == user_id) &(messages['message_date'] > churn_date)], inplace=True)\n",
    "    internet.drop(internet.index[(internet['user_id'] == user_id) &(internet['session_date'] > churn_date)], inplace=True)"
   ]
  },
  {
   "cell_type": "code",
   "execution_count": 13,
   "metadata": {},
   "outputs": [
    {
     "data": {
      "text/plain": [
       "-10.716277361872603"
      ]
     },
     "metadata": {},
     "output_type": "display_data"
    },
    {
     "data": {
      "text/plain": [
       "25.004953219233816"
      ]
     },
     "metadata": {},
     "output_type": "display_data"
    },
    {
     "name": "stdout",
     "output_type": "stream",
     "text": [
      "<class 'pandas.core.frame.DataFrame'>\n",
      "Int64Index: 134093 entries, 0 to 137734\n",
      "Data columns (total 5 columns):\n",
      " #   Column     Non-Null Count   Dtype \n",
      "---  ------     --------------   ----- \n",
      " 0   id         134093 non-null  object\n",
      " 1   user_id    134093 non-null  int64 \n",
      " 2   call_date  134093 non-null  object\n",
      " 3   duration   134093 non-null  int64 \n",
      " 4   month      134093 non-null  int64 \n",
      "dtypes: int64(3), object(2)\n",
      "memory usage: 6.1+ MB\n"
     ]
    },
    {
     "data": {
      "text/plain": [
       "None"
      ]
     },
     "metadata": {},
     "output_type": "display_data"
    },
    {
     "data": {
      "text/html": [
       "<div>\n",
       "<style scoped>\n",
       "    .dataframe tbody tr th:only-of-type {\n",
       "        vertical-align: middle;\n",
       "    }\n",
       "\n",
       "    .dataframe tbody tr th {\n",
       "        vertical-align: top;\n",
       "    }\n",
       "\n",
       "    .dataframe thead th {\n",
       "        text-align: right;\n",
       "    }\n",
       "</style>\n",
       "<table border=\"1\" class=\"dataframe\">\n",
       "  <thead>\n",
       "    <tr style=\"text-align: right;\">\n",
       "      <th></th>\n",
       "      <th>user_id</th>\n",
       "      <th>duration</th>\n",
       "      <th>month</th>\n",
       "    </tr>\n",
       "  </thead>\n",
       "  <tbody>\n",
       "    <tr>\n",
       "      <th>count</th>\n",
       "      <td>134093.000000</td>\n",
       "      <td>134093.000000</td>\n",
       "      <td>134093.000000</td>\n",
       "    </tr>\n",
       "    <tr>\n",
       "      <th>mean</th>\n",
       "      <td>1247.361577</td>\n",
       "      <td>7.044439</td>\n",
       "      <td>9.282170</td>\n",
       "    </tr>\n",
       "    <tr>\n",
       "      <th>std</th>\n",
       "      <td>138.881057</td>\n",
       "      <td>5.798964</td>\n",
       "      <td>2.418258</td>\n",
       "    </tr>\n",
       "    <tr>\n",
       "      <th>min</th>\n",
       "      <td>1000.000000</td>\n",
       "      <td>0.000000</td>\n",
       "      <td>1.000000</td>\n",
       "    </tr>\n",
       "    <tr>\n",
       "      <th>25%</th>\n",
       "      <td>1130.000000</td>\n",
       "      <td>2.000000</td>\n",
       "      <td>8.000000</td>\n",
       "    </tr>\n",
       "    <tr>\n",
       "      <th>50%</th>\n",
       "      <td>1247.000000</td>\n",
       "      <td>6.000000</td>\n",
       "      <td>10.000000</td>\n",
       "    </tr>\n",
       "    <tr>\n",
       "      <th>75%</th>\n",
       "      <td>1365.000000</td>\n",
       "      <td>11.000000</td>\n",
       "      <td>11.000000</td>\n",
       "    </tr>\n",
       "    <tr>\n",
       "      <th>max</th>\n",
       "      <td>1499.000000</td>\n",
       "      <td>24.000000</td>\n",
       "      <td>12.000000</td>\n",
       "    </tr>\n",
       "  </tbody>\n",
       "</table>\n",
       "</div>"
      ],
      "text/plain": [
       "             user_id       duration          month\n",
       "count  134093.000000  134093.000000  134093.000000\n",
       "mean     1247.361577       7.044439       9.282170\n",
       "std       138.881057       5.798964       2.418258\n",
       "min      1000.000000       0.000000       1.000000\n",
       "25%      1130.000000       2.000000       8.000000\n",
       "50%      1247.000000       6.000000      10.000000\n",
       "75%      1365.000000      11.000000      11.000000\n",
       "max      1499.000000      24.000000      12.000000"
      ]
     },
     "metadata": {},
     "output_type": "display_data"
    },
    {
     "data": {
      "text/plain": [
       "-464.57537676604056"
      ]
     },
     "metadata": {},
     "output_type": "display_data"
    },
    {
     "data": {
      "text/plain": [
       "1200.5523799508162"
      ]
     },
     "metadata": {},
     "output_type": "display_data"
    },
    {
     "name": "stdout",
     "output_type": "stream",
     "text": [
      "<class 'pandas.core.frame.DataFrame'>\n",
      "Int64Index: 101997 entries, 0 to 104824\n",
      "Data columns (total 5 columns):\n",
      " #   Column        Non-Null Count   Dtype \n",
      "---  ------        --------------   ----- \n",
      " 0   id            101997 non-null  object\n",
      " 1   user_id       101997 non-null  int64 \n",
      " 2   session_date  101997 non-null  object\n",
      " 3   mb_used       101997 non-null  int64 \n",
      " 4   month         101997 non-null  int64 \n",
      "dtypes: int64(3), object(2)\n",
      "memory usage: 4.7+ MB\n"
     ]
    },
    {
     "data": {
      "text/plain": [
       "None"
      ]
     },
     "metadata": {},
     "output_type": "display_data"
    },
    {
     "data": {
      "text/html": [
       "<div>\n",
       "<style scoped>\n",
       "    .dataframe tbody tr th:only-of-type {\n",
       "        vertical-align: middle;\n",
       "    }\n",
       "\n",
       "    .dataframe tbody tr th {\n",
       "        vertical-align: top;\n",
       "    }\n",
       "\n",
       "    .dataframe thead th {\n",
       "        text-align: right;\n",
       "    }\n",
       "</style>\n",
       "<table border=\"1\" class=\"dataframe\">\n",
       "  <thead>\n",
       "    <tr style=\"text-align: right;\">\n",
       "      <th></th>\n",
       "      <th>user_id</th>\n",
       "      <th>mb_used</th>\n",
       "      <th>month</th>\n",
       "    </tr>\n",
       "  </thead>\n",
       "  <tbody>\n",
       "    <tr>\n",
       "      <th>count</th>\n",
       "      <td>101997.000000</td>\n",
       "      <td>101997.000000</td>\n",
       "      <td>101997.000000</td>\n",
       "    </tr>\n",
       "    <tr>\n",
       "      <th>mean</th>\n",
       "      <td>1241.999265</td>\n",
       "      <td>364.658892</td>\n",
       "      <td>9.300342</td>\n",
       "    </tr>\n",
       "    <tr>\n",
       "      <th>std</th>\n",
       "      <td>141.314113</td>\n",
       "      <td>272.307486</td>\n",
       "      <td>2.407045</td>\n",
       "    </tr>\n",
       "    <tr>\n",
       "      <th>min</th>\n",
       "      <td>1000.000000</td>\n",
       "      <td>0.000000</td>\n",
       "      <td>1.000000</td>\n",
       "    </tr>\n",
       "    <tr>\n",
       "      <th>25%</th>\n",
       "      <td>1122.000000</td>\n",
       "      <td>137.000000</td>\n",
       "      <td>8.000000</td>\n",
       "    </tr>\n",
       "    <tr>\n",
       "      <th>50%</th>\n",
       "      <td>1236.000000</td>\n",
       "      <td>344.000000</td>\n",
       "      <td>10.000000</td>\n",
       "    </tr>\n",
       "    <tr>\n",
       "      <th>75%</th>\n",
       "      <td>1366.000000</td>\n",
       "      <td>554.000000</td>\n",
       "      <td>11.000000</td>\n",
       "    </tr>\n",
       "    <tr>\n",
       "      <th>max</th>\n",
       "      <td>1499.000000</td>\n",
       "      <td>1198.000000</td>\n",
       "      <td>12.000000</td>\n",
       "    </tr>\n",
       "  </tbody>\n",
       "</table>\n",
       "</div>"
      ],
      "text/plain": [
       "             user_id        mb_used          month\n",
       "count  101997.000000  101997.000000  101997.000000\n",
       "mean     1241.999265     364.658892       9.300342\n",
       "std       141.314113     272.307486       2.407045\n",
       "min      1000.000000       0.000000       1.000000\n",
       "25%      1122.000000     137.000000       8.000000\n",
       "50%      1236.000000     344.000000      10.000000\n",
       "75%      1366.000000     554.000000      11.000000\n",
       "max      1499.000000    1198.000000      12.000000"
      ]
     },
     "metadata": {},
     "output_type": "display_data"
    }
   ],
   "source": [
    "std_calls = np.std(calls['duration'])\n",
    "mean_calls = np.mean(calls['duration'])\n",
    "anomaly_cut_off_calls = std_calls * 3\n",
    "lower_limit_calls =  mean_calls - anomaly_cut_off_calls\n",
    "display(lower_limit_calls)\n",
    "upper_limit_calls = mean_calls + anomaly_cut_off_calls\n",
    "display(upper_limit_calls)\n",
    "\n",
    "calls.drop(calls.index[(calls['duration'] > 24)], inplace = True)\n",
    "display(calls.info())\n",
    "display(calls.describe())\n",
    "\n",
    "#Find anomalies in \"internet\" table\n",
    "std_internet = np.std(internet['mb_used'])\n",
    "mean_internet = np.mean(internet['mb_used'])\n",
    "anomaly_cut_off_internet = std_internet * 3\n",
    "lower_limit_internet =  mean_internet - anomaly_cut_off_internet\n",
    "display(lower_limit_internet)\n",
    "upper_limit_internet = mean_internet + anomaly_cut_off_internet\n",
    "display(upper_limit_internet)\n",
    "\n",
    "internet.drop(internet.index[(internet['mb_used'] > 1198)], inplace = True)\n",
    "display(internet.info())\n",
    "display(internet.describe())"
   ]
  },
  {
   "cell_type": "markdown",
   "metadata": {},
   "source": [
    "Ther were erorrs in the calls, messages, internet.\n",
    "the 'internet' table and 'calls' table had outliers. "
   ]
  },
  {
   "cell_type": "code",
   "execution_count": 14,
   "metadata": {},
   "outputs": [
    {
     "data": {
      "text/plain": [
       "user_id       0\n",
       "first_name    0\n",
       "last_name     0\n",
       "age           0\n",
       "city          0\n",
       "reg_date      0\n",
       "plan          0\n",
       "churn_date    0\n",
       "id            0\n",
       "call_date     0\n",
       "duration      0\n",
       "month         0\n",
       "dtype: int64"
      ]
     },
     "execution_count": 14,
     "metadata": {},
     "output_type": "execute_result"
    }
   ],
   "source": [
    "calls_plan = users.merge(calls, on = 'user_id', how = 'outer')\n",
    "calls_plan.head()\n",
    "calls_plan.isnull().sum()\n",
    "\n",
    "calls_plan.dropna(subset = ['id'], inplace = True)\n",
    "calls_plan.isnull().sum()"
   ]
  },
  {
   "cell_type": "code",
   "execution_count": 15,
   "metadata": {},
   "outputs": [
    {
     "data": {
      "text/html": [
       "<div>\n",
       "<style scoped>\n",
       "    .dataframe tbody tr th:only-of-type {\n",
       "        vertical-align: middle;\n",
       "    }\n",
       "\n",
       "    .dataframe tbody tr th {\n",
       "        vertical-align: top;\n",
       "    }\n",
       "\n",
       "    .dataframe thead th {\n",
       "        text-align: right;\n",
       "    }\n",
       "</style>\n",
       "<table border=\"1\" class=\"dataframe\">\n",
       "  <thead>\n",
       "    <tr style=\"text-align: right;\">\n",
       "      <th></th>\n",
       "      <th>user_id</th>\n",
       "      <th>month</th>\n",
       "      <th>calls_per_month</th>\n",
       "      <th>minutes_used_per_month</th>\n",
       "    </tr>\n",
       "  </thead>\n",
       "  <tbody>\n",
       "    <tr>\n",
       "      <th>0</th>\n",
       "      <td>1000</td>\n",
       "      <td>12.0</td>\n",
       "      <td>16</td>\n",
       "      <td>124.0</td>\n",
       "    </tr>\n",
       "    <tr>\n",
       "      <th>1</th>\n",
       "      <td>1006</td>\n",
       "      <td>11.0</td>\n",
       "      <td>2</td>\n",
       "      <td>10.0</td>\n",
       "    </tr>\n",
       "    <tr>\n",
       "      <th>2</th>\n",
       "      <td>1006</td>\n",
       "      <td>12.0</td>\n",
       "      <td>7</td>\n",
       "      <td>36.0</td>\n",
       "    </tr>\n",
       "    <tr>\n",
       "      <th>3</th>\n",
       "      <td>1008</td>\n",
       "      <td>10.0</td>\n",
       "      <td>71</td>\n",
       "      <td>476.0</td>\n",
       "    </tr>\n",
       "    <tr>\n",
       "      <th>4</th>\n",
       "      <td>1008</td>\n",
       "      <td>11.0</td>\n",
       "      <td>61</td>\n",
       "      <td>393.0</td>\n",
       "    </tr>\n",
       "  </tbody>\n",
       "</table>\n",
       "</div>"
      ],
      "text/plain": [
       "   user_id  month  calls_per_month  minutes_used_per_month\n",
       "0     1000   12.0               16                   124.0\n",
       "1     1006   11.0                2                    10.0\n",
       "2     1006   12.0                7                    36.0\n",
       "3     1008   10.0               71                   476.0\n",
       "4     1008   11.0               61                   393.0"
      ]
     },
     "execution_count": 15,
     "metadata": {},
     "output_type": "execute_result"
    }
   ],
   "source": [
    "calls_ultimate = calls_plan.query('plan == \"ultimate\"')\n",
    "calls_ultimate_per_user = calls_ultimate.pivot_table(index = ['user_id', 'month'], values = 'duration', aggfunc = ['count','sum'])\n",
    "calls_ultimate_per_user.columns = ['calls_per_month', 'minutes_used_per_month']\n",
    "calls_ultimate_per_user.reset_index(inplace = True)\n",
    "calls_ultimate_per_user.head()"
   ]
  },
  {
   "cell_type": "code",
   "execution_count": 16,
   "metadata": {},
   "outputs": [
    {
     "data": {
      "text/html": [
       "<div>\n",
       "<style scoped>\n",
       "    .dataframe tbody tr th:only-of-type {\n",
       "        vertical-align: middle;\n",
       "    }\n",
       "\n",
       "    .dataframe tbody tr th {\n",
       "        vertical-align: top;\n",
       "    }\n",
       "\n",
       "    .dataframe thead th {\n",
       "        text-align: right;\n",
       "    }\n",
       "</style>\n",
       "<table border=\"1\" class=\"dataframe\">\n",
       "  <thead>\n",
       "    <tr style=\"text-align: right;\">\n",
       "      <th></th>\n",
       "      <th>user_id</th>\n",
       "      <th>month</th>\n",
       "      <th>calls_per_month</th>\n",
       "      <th>minutes_used_per_month</th>\n",
       "    </tr>\n",
       "  </thead>\n",
       "  <tbody>\n",
       "    <tr>\n",
       "      <th>0</th>\n",
       "      <td>1001</td>\n",
       "      <td>8.0</td>\n",
       "      <td>27</td>\n",
       "      <td>182.0</td>\n",
       "    </tr>\n",
       "    <tr>\n",
       "      <th>1</th>\n",
       "      <td>1001</td>\n",
       "      <td>9.0</td>\n",
       "      <td>49</td>\n",
       "      <td>315.0</td>\n",
       "    </tr>\n",
       "    <tr>\n",
       "      <th>2</th>\n",
       "      <td>1001</td>\n",
       "      <td>10.0</td>\n",
       "      <td>65</td>\n",
       "      <td>393.0</td>\n",
       "    </tr>\n",
       "    <tr>\n",
       "      <th>3</th>\n",
       "      <td>1001</td>\n",
       "      <td>11.0</td>\n",
       "      <td>63</td>\n",
       "      <td>396.0</td>\n",
       "    </tr>\n",
       "    <tr>\n",
       "      <th>4</th>\n",
       "      <td>1001</td>\n",
       "      <td>12.0</td>\n",
       "      <td>54</td>\n",
       "      <td>358.0</td>\n",
       "    </tr>\n",
       "  </tbody>\n",
       "</table>\n",
       "</div>"
      ],
      "text/plain": [
       "   user_id  month  calls_per_month  minutes_used_per_month\n",
       "0     1001    8.0               27                   182.0\n",
       "1     1001    9.0               49                   315.0\n",
       "2     1001   10.0               65                   393.0\n",
       "3     1001   11.0               63                   396.0\n",
       "4     1001   12.0               54                   358.0"
      ]
     },
     "execution_count": 16,
     "metadata": {},
     "output_type": "execute_result"
    }
   ],
   "source": [
    "calls['month'] = pd.DatetimeIndex(calls['call_date']).month \n",
    "\n",
    "calls_surf = calls_plan.query('plan == \"surf\"')\n",
    "calls_surf_per_user = calls_surf.pivot_table(index = ['user_id', 'month'], values = 'duration', aggfunc = ['count','sum'])\n",
    "calls_surf_per_user.columns = ['calls_per_month', 'minutes_used_per_month']\n",
    "calls_surf_per_user.reset_index(inplace = True)\n",
    "calls_surf_per_user.head()"
   ]
  },
  {
   "cell_type": "code",
   "execution_count": 17,
   "metadata": {},
   "outputs": [
    {
     "data": {
      "text/plain": [
       "user_id         0\n",
       "first_name      0\n",
       "last_name       0\n",
       "age             0\n",
       "city            0\n",
       "reg_date        0\n",
       "plan            0\n",
       "churn_date      0\n",
       "id              0\n",
       "message_date    0\n",
       "month           0\n",
       "dtype: int64"
      ]
     },
     "execution_count": 17,
     "metadata": {},
     "output_type": "execute_result"
    }
   ],
   "source": [
    "messages_plan = users.merge(messages, on = 'user_id', how = 'outer')\n",
    "messages_plan.head()\n",
    "messages_plan.isnull().sum()\n",
    "\n",
    "messages_plan.dropna(subset = ['id'], inplace = True)\n",
    "messages_plan.isnull().sum()"
   ]
  },
  {
   "cell_type": "code",
   "execution_count": 18,
   "metadata": {},
   "outputs": [
    {
     "data": {
      "text/html": [
       "<div>\n",
       "<style scoped>\n",
       "    .dataframe tbody tr th:only-of-type {\n",
       "        vertical-align: middle;\n",
       "    }\n",
       "\n",
       "    .dataframe tbody tr th {\n",
       "        vertical-align: top;\n",
       "    }\n",
       "\n",
       "    .dataframe thead th {\n",
       "        text-align: right;\n",
       "    }\n",
       "</style>\n",
       "<table border=\"1\" class=\"dataframe\">\n",
       "  <thead>\n",
       "    <tr style=\"text-align: right;\">\n",
       "      <th></th>\n",
       "      <th>user_id</th>\n",
       "      <th>month</th>\n",
       "      <th>messages_used_per_month</th>\n",
       "    </tr>\n",
       "  </thead>\n",
       "  <tbody>\n",
       "    <tr>\n",
       "      <th>0</th>\n",
       "      <td>1000</td>\n",
       "      <td>12.0</td>\n",
       "      <td>11</td>\n",
       "    </tr>\n",
       "    <tr>\n",
       "      <th>1</th>\n",
       "      <td>1006</td>\n",
       "      <td>11.0</td>\n",
       "      <td>15</td>\n",
       "    </tr>\n",
       "    <tr>\n",
       "      <th>2</th>\n",
       "      <td>1006</td>\n",
       "      <td>12.0</td>\n",
       "      <td>89</td>\n",
       "    </tr>\n",
       "    <tr>\n",
       "      <th>3</th>\n",
       "      <td>1008</td>\n",
       "      <td>10.0</td>\n",
       "      <td>21</td>\n",
       "    </tr>\n",
       "    <tr>\n",
       "      <th>4</th>\n",
       "      <td>1008</td>\n",
       "      <td>11.0</td>\n",
       "      <td>37</td>\n",
       "    </tr>\n",
       "  </tbody>\n",
       "</table>\n",
       "</div>"
      ],
      "text/plain": [
       "   user_id  month  messages_used_per_month\n",
       "0     1000   12.0                       11\n",
       "1     1006   11.0                       15\n",
       "2     1006   12.0                       89\n",
       "3     1008   10.0                       21\n",
       "4     1008   11.0                       37"
      ]
     },
     "execution_count": 18,
     "metadata": {},
     "output_type": "execute_result"
    }
   ],
   "source": [
    "messages_ultimate = messages_plan.query('plan == \"ultimate\"')\n",
    "messages_ultimate.head()\n",
    "messages_ultimate_per_user = messages_ultimate.pivot_table(index = ['user_id','month'], values = 'message_date', aggfunc = ['count'])\n",
    "messages_ultimate_per_user.columns = ['messages_used_per_month']\n",
    "messages_ultimate_per_user.reset_index(inplace = True)\n",
    "messages_ultimate_per_user.head()"
   ]
  },
  {
   "cell_type": "code",
   "execution_count": 19,
   "metadata": {},
   "outputs": [
    {
     "data": {
      "text/html": [
       "<div>\n",
       "<style scoped>\n",
       "    .dataframe tbody tr th:only-of-type {\n",
       "        vertical-align: middle;\n",
       "    }\n",
       "\n",
       "    .dataframe tbody tr th {\n",
       "        vertical-align: top;\n",
       "    }\n",
       "\n",
       "    .dataframe thead th {\n",
       "        text-align: right;\n",
       "    }\n",
       "</style>\n",
       "<table border=\"1\" class=\"dataframe\">\n",
       "  <thead>\n",
       "    <tr style=\"text-align: right;\">\n",
       "      <th></th>\n",
       "      <th>user_id</th>\n",
       "      <th>month</th>\n",
       "      <th>messages_used_per_month</th>\n",
       "    </tr>\n",
       "  </thead>\n",
       "  <tbody>\n",
       "    <tr>\n",
       "      <th>0</th>\n",
       "      <td>1001</td>\n",
       "      <td>8.0</td>\n",
       "      <td>30</td>\n",
       "    </tr>\n",
       "    <tr>\n",
       "      <th>1</th>\n",
       "      <td>1001</td>\n",
       "      <td>9.0</td>\n",
       "      <td>44</td>\n",
       "    </tr>\n",
       "    <tr>\n",
       "      <th>2</th>\n",
       "      <td>1001</td>\n",
       "      <td>10.0</td>\n",
       "      <td>53</td>\n",
       "    </tr>\n",
       "    <tr>\n",
       "      <th>3</th>\n",
       "      <td>1001</td>\n",
       "      <td>11.0</td>\n",
       "      <td>36</td>\n",
       "    </tr>\n",
       "    <tr>\n",
       "      <th>4</th>\n",
       "      <td>1001</td>\n",
       "      <td>12.0</td>\n",
       "      <td>44</td>\n",
       "    </tr>\n",
       "  </tbody>\n",
       "</table>\n",
       "</div>"
      ],
      "text/plain": [
       "   user_id  month  messages_used_per_month\n",
       "0     1001    8.0                       30\n",
       "1     1001    9.0                       44\n",
       "2     1001   10.0                       53\n",
       "3     1001   11.0                       36\n",
       "4     1001   12.0                       44"
      ]
     },
     "execution_count": 19,
     "metadata": {},
     "output_type": "execute_result"
    }
   ],
   "source": [
    "messages_surf = messages_plan.query('plan == \"surf\"')\n",
    "messages_surf.head()\n",
    "messages_surf_per_user = messages_surf.pivot_table(index = ['user_id','month'], values = 'message_date', aggfunc = ['count'])\n",
    "messages_surf_per_user.columns = ['messages_used_per_month']\n",
    "messages_surf_per_user.reset_index(inplace = True)\n",
    "messages_surf_per_user.head()"
   ]
  },
  {
   "cell_type": "code",
   "execution_count": 20,
   "metadata": {},
   "outputs": [
    {
     "data": {
      "text/plain": [
       "user_id         0\n",
       "first_name      0\n",
       "last_name       0\n",
       "age             0\n",
       "city            0\n",
       "reg_date        0\n",
       "plan            0\n",
       "churn_date      0\n",
       "id              0\n",
       "session_date    0\n",
       "mb_used         0\n",
       "month           0\n",
       "dtype: int64"
      ]
     },
     "execution_count": 20,
     "metadata": {},
     "output_type": "execute_result"
    }
   ],
   "source": [
    "internet_plan = users.merge(internet, on = 'user_id', how = 'outer')\n",
    "internet_plan.head()\n",
    "internet_plan.isnull().sum()\n",
    "\n",
    "internet_plan.dropna(subset = ['id'], inplace = True)\n",
    "internet_plan.isnull().sum()"
   ]
  },
  {
   "cell_type": "code",
   "execution_count": 21,
   "metadata": {},
   "outputs": [
    {
     "data": {
      "text/html": [
       "<div>\n",
       "<style scoped>\n",
       "    .dataframe tbody tr th:only-of-type {\n",
       "        vertical-align: middle;\n",
       "    }\n",
       "\n",
       "    .dataframe tbody tr th {\n",
       "        vertical-align: top;\n",
       "    }\n",
       "\n",
       "    .dataframe thead th {\n",
       "        text-align: right;\n",
       "    }\n",
       "</style>\n",
       "<table border=\"1\" class=\"dataframe\">\n",
       "  <thead>\n",
       "    <tr style=\"text-align: right;\">\n",
       "      <th></th>\n",
       "      <th>user_id</th>\n",
       "      <th>month</th>\n",
       "      <th>mb_used_per_month</th>\n",
       "      <th>gb_used_per_month</th>\n",
       "    </tr>\n",
       "  </thead>\n",
       "  <tbody>\n",
       "    <tr>\n",
       "      <th>0</th>\n",
       "      <td>1000</td>\n",
       "      <td>12.0</td>\n",
       "      <td>1903.0</td>\n",
       "      <td>2.0</td>\n",
       "    </tr>\n",
       "    <tr>\n",
       "      <th>1</th>\n",
       "      <td>1006</td>\n",
       "      <td>11.0</td>\n",
       "      <td>2072.0</td>\n",
       "      <td>3.0</td>\n",
       "    </tr>\n",
       "    <tr>\n",
       "      <th>2</th>\n",
       "      <td>1006</td>\n",
       "      <td>12.0</td>\n",
       "      <td>17720.0</td>\n",
       "      <td>18.0</td>\n",
       "    </tr>\n",
       "    <tr>\n",
       "      <th>3</th>\n",
       "      <td>1008</td>\n",
       "      <td>10.0</td>\n",
       "      <td>17131.0</td>\n",
       "      <td>17.0</td>\n",
       "    </tr>\n",
       "    <tr>\n",
       "      <th>4</th>\n",
       "      <td>1008</td>\n",
       "      <td>11.0</td>\n",
       "      <td>23706.0</td>\n",
       "      <td>24.0</td>\n",
       "    </tr>\n",
       "  </tbody>\n",
       "</table>\n",
       "</div>"
      ],
      "text/plain": [
       "   user_id  month  mb_used_per_month  gb_used_per_month\n",
       "0     1000   12.0             1903.0                2.0\n",
       "1     1006   11.0             2072.0                3.0\n",
       "2     1006   12.0            17720.0               18.0\n",
       "3     1008   10.0            17131.0               17.0\n",
       "4     1008   11.0            23706.0               24.0"
      ]
     },
     "execution_count": 21,
     "metadata": {},
     "output_type": "execute_result"
    }
   ],
   "source": [
    "internet_ultimate = internet_plan.query('plan == \"ultimate\"')\n",
    "internet_ultimate_per_user = internet_ultimate.pivot_table(index = ['user_id','month'], values = 'mb_used', aggfunc = ['sum'])\n",
    "internet_ultimate_per_user.columns = ['mb_used_per_month']\n",
    "internet_ultimate_per_user.reset_index(inplace = True)\n",
    "\n",
    "\n",
    "internet_ultimate_per_user['gb_used_per_month'] = np.ceil(internet_ultimate_per_user['mb_used_per_month'] / 1024)\n",
    "internet_ultimate_per_user.head()"
   ]
  },
  {
   "cell_type": "code",
   "execution_count": 22,
   "metadata": {},
   "outputs": [
    {
     "data": {
      "text/html": [
       "<div>\n",
       "<style scoped>\n",
       "    .dataframe tbody tr th:only-of-type {\n",
       "        vertical-align: middle;\n",
       "    }\n",
       "\n",
       "    .dataframe tbody tr th {\n",
       "        vertical-align: top;\n",
       "    }\n",
       "\n",
       "    .dataframe thead th {\n",
       "        text-align: right;\n",
       "    }\n",
       "</style>\n",
       "<table border=\"1\" class=\"dataframe\">\n",
       "  <thead>\n",
       "    <tr style=\"text-align: right;\">\n",
       "      <th></th>\n",
       "      <th>user_id</th>\n",
       "      <th>month</th>\n",
       "      <th>mb_used_per_month</th>\n",
       "      <th>gb_used_per_month</th>\n",
       "    </tr>\n",
       "  </thead>\n",
       "  <tbody>\n",
       "    <tr>\n",
       "      <th>0</th>\n",
       "      <td>1001</td>\n",
       "      <td>8.0</td>\n",
       "      <td>6929.0</td>\n",
       "      <td>7.0</td>\n",
       "    </tr>\n",
       "    <tr>\n",
       "      <th>1</th>\n",
       "      <td>1001</td>\n",
       "      <td>9.0</td>\n",
       "      <td>13333.0</td>\n",
       "      <td>14.0</td>\n",
       "    </tr>\n",
       "    <tr>\n",
       "      <th>2</th>\n",
       "      <td>1001</td>\n",
       "      <td>10.0</td>\n",
       "      <td>22356.0</td>\n",
       "      <td>22.0</td>\n",
       "    </tr>\n",
       "    <tr>\n",
       "      <th>3</th>\n",
       "      <td>1001</td>\n",
       "      <td>11.0</td>\n",
       "      <td>18524.0</td>\n",
       "      <td>19.0</td>\n",
       "    </tr>\n",
       "    <tr>\n",
       "      <th>4</th>\n",
       "      <td>1001</td>\n",
       "      <td>12.0</td>\n",
       "      <td>19398.0</td>\n",
       "      <td>19.0</td>\n",
       "    </tr>\n",
       "  </tbody>\n",
       "</table>\n",
       "</div>"
      ],
      "text/plain": [
       "   user_id  month  mb_used_per_month  gb_used_per_month\n",
       "0     1001    8.0             6929.0                7.0\n",
       "1     1001    9.0            13333.0               14.0\n",
       "2     1001   10.0            22356.0               22.0\n",
       "3     1001   11.0            18524.0               19.0\n",
       "4     1001   12.0            19398.0               19.0"
      ]
     },
     "execution_count": 22,
     "metadata": {},
     "output_type": "execute_result"
    }
   ],
   "source": [
    "internet_surf = internet_plan.query('plan == \"surf\"')\n",
    "internet_surf_per_user = internet_surf.pivot_table(index = ['user_id','month'], values = 'mb_used', aggfunc = ['sum'])\n",
    "internet_surf_per_user.columns = ['mb_used_per_month']\n",
    "internet_surf_per_user.reset_index(inplace = True)\n",
    "\n",
    "\n",
    "internet_surf_per_user['gb_used_per_month'] = np.ceil(internet_surf_per_user['mb_used_per_month'] / 1024)\n",
    "internet_surf_per_user.head()"
   ]
  },
  {
   "cell_type": "markdown",
   "metadata": {},
   "source": [
    "Both surf and ultimate plan have pivot table as you recomended, it count calls per month, and minutes/messages/internet usage per month."
   ]
  },
  {
   "cell_type": "code",
   "execution_count": 23,
   "metadata": {},
   "outputs": [
    {
     "name": "stdout",
     "output_type": "stream",
     "text": [
      "<class 'pandas.core.frame.DataFrame'>\n",
      "Int64Index: 569 entries, 0 to 573\n",
      "Data columns (total 8 columns):\n",
      " #   Column                   Non-Null Count  Dtype  \n",
      "---  ------                   --------------  -----  \n",
      " 0   user_id                  569 non-null    int64  \n",
      " 1   month                    569 non-null    float64\n",
      " 2   messages_used_per_month  569 non-null    float64\n",
      " 3   calls_per_month          569 non-null    float64\n",
      " 4   minutes_used_per_month   569 non-null    float64\n",
      " 5   mb_used_per_month        569 non-null    float64\n",
      " 6   gb_used_per_month        569 non-null    float64\n",
      " 7   monthly_cost             569 non-null    float64\n",
      "dtypes: float64(7), int64(1)\n",
      "memory usage: 40.0 KB\n"
     ]
    }
   ],
   "source": [
    "ultimate = messages_ultimate_per_user.merge(calls_ultimate_per_user, on = ['user_id', 'month'], how = 'outer')\n",
    "ultimate.head()\n",
    "ultimate_plan = ultimate.merge(internet_ultimate_per_user, on = ['user_id', 'month'], how = 'outer')\n",
    "ultimate_plan.isnull().sum()\n",
    "\n",
    "ultimate_plan.dropna(inplace = True)\n",
    "ultimate_plan.isnull().sum()\n",
    "\n",
    "def profit(row):\n",
    "    user_id = row['user_id']\n",
    "    gb_used = row['gb_used_per_month']\n",
    "    messages_used = row['messages_used_per_month']\n",
    "    minutes_used = row['minutes_used_per_month']\n",
    "\n",
    "    remaining_gb = gb_used - 30\n",
    "    remaining_messages = messages_used - 1000\n",
    "    remaining_minutes = minutes_used - 3000\n",
    "    \n",
    "    data_cost = 0\n",
    "    message_cost = 0\n",
    "    minute_cost = 0\n",
    "    \n",
    "    if remaining_gb > 0:\n",
    "        data_cost = remaining_gb * 7\n",
    "        \n",
    "    if remaining_messages > 0:\n",
    "        message_cost = remaining_messages * 0.01\n",
    "        \n",
    "    if remaining_minutes > 0:\n",
    "        minute_cost = remaining_minutes * 0.01\n",
    "        \n",
    "    profit = data_cost + message_cost + minute_cost + 70\n",
    "    \n",
    "    return profit\n",
    "\n",
    "ultimate_plan['monthly_cost'] = ultimate_plan.apply(profit, axis = 1)\n",
    "ultimate_plan.head()\n",
    "ultimate_plan.info()"
   ]
  },
  {
   "cell_type": "code",
   "execution_count": 24,
   "metadata": {},
   "outputs": [
    {
     "name": "stdout",
     "output_type": "stream",
     "text": [
      "<class 'pandas.core.frame.DataFrame'>\n",
      "Int64Index: 1161 entries, 0 to 1202\n",
      "Data columns (total 8 columns):\n",
      " #   Column                   Non-Null Count  Dtype  \n",
      "---  ------                   --------------  -----  \n",
      " 0   user_id                  1161 non-null   int64  \n",
      " 1   month                    1161 non-null   float64\n",
      " 2   messages_used_per_month  1161 non-null   float64\n",
      " 3   calls_per_month          1161 non-null   float64\n",
      " 4   minutes_used_per_month   1161 non-null   float64\n",
      " 5   mb_used_per_month        1161 non-null   float64\n",
      " 6   gb_used_per_month        1161 non-null   float64\n",
      " 7   monthly_cost             1161 non-null   float64\n",
      "dtypes: float64(7), int64(1)\n",
      "memory usage: 81.6 KB\n"
     ]
    }
   ],
   "source": [
    "surf = messages_surf_per_user.merge(calls_surf_per_user, on = ['user_id', 'month'], how = 'outer')\n",
    "\n",
    "surf_plan = surf.merge(internet_surf_per_user, on = ['user_id', 'month'], how = 'outer')\n",
    "surf_plan.isnull().sum()\n",
    "\n",
    "surf_plan.dropna(inplace = True)\n",
    "surf_plan.isnull().sum()\n",
    "surf_plan.head()\n",
    "\n",
    "def profit(row):\n",
    "    user_id = row['user_id']\n",
    "    gb_used = row['gb_used_per_month']\n",
    "    messages_used = row['messages_used_per_month']\n",
    "    minutes_used = row['minutes_used_per_month']\n",
    "\n",
    "    remaining_gb = gb_used - 15\n",
    "    remaining_messages = messages_used - 50\n",
    "    remaining_minutes = minutes_used - 500\n",
    "    \n",
    "    data_cost = 0\n",
    "    message_cost = 0\n",
    "    minute_cost = 0\n",
    "    \n",
    "    if remaining_gb > 0:\n",
    "        data_cost = remaining_gb * 10\n",
    "        \n",
    "    if remaining_messages > 0:\n",
    "        message_cost = remaining_messages * 0.03\n",
    "        \n",
    "    if remaining_minutes > 0:\n",
    "        minute_cost = remaining_minutes * 0.03\n",
    "        \n",
    "    profit = data_cost + message_cost + minute_cost + 20\n",
    "    \n",
    "    return profit\n",
    "\n",
    "surf_plan['monthly_cost'] = surf_plan.apply(profit, axis = 1)\n",
    "surf_plan.head()\n",
    "surf_plan.info()"
   ]
  },
  {
   "cell_type": "code",
   "execution_count": 25,
   "metadata": {},
   "outputs": [
    {
     "name": "stdout",
     "output_type": "stream",
     "text": [
      "Surf Plan:\n",
      "Minutes Used: Mean = 434.97 Variance = 53920.3 Standard Deviation = 232.21\n",
      "Messages Used: Mean = 39.12 Variance = 1044.77 Standard Deviation = 32.32\n",
      "GB Used: Mean = 16.48 Variance = 54.95 Standard Deviation = 7.41\n",
      "\n",
      "Ultimate Plan:\n",
      "Minutes Used: Mean = 431.91 Variance = 60901.03 Standard Deviation = 246.78\n",
      "Messages Used: Mean = 46.55 Variance = 1077.97 Standard Deviation = 32.83\n",
      "GB Used: Mean = 17.09 Variance = 53.52 Standard Deviation = 7.32\n"
     ]
    }
   ],
   "source": [
    "surf_mean_minutes = surf_plan['minutes_used_per_month'].mean().round(decimals = 2)\n",
    "surf_variance_minutes = np.var(surf_plan['minutes_used_per_month']).round(decimals = 2)\n",
    "surf_standard_deviation_minutes = np.std(surf_plan['minutes_used_per_month']).round(decimals = 2)\n",
    "\n",
    "print('Surf Plan:')\n",
    "print('Minutes Used:', 'Mean =', surf_mean_minutes, 'Variance =', surf_variance_minutes, 'Standard Deviation =', surf_standard_deviation_minutes)\n",
    "\n",
    "surf_mean_messages = surf_plan['messages_used_per_month'].mean().round(decimals = 2)\n",
    "surf_variance_messages = np.var(surf_plan['messages_used_per_month']).round(decimals = 2)\n",
    "surf_standard_deviation_messages = np.std(surf_plan['messages_used_per_month']).round(decimals = 2)\n",
    "\n",
    "print('Messages Used:', 'Mean =', surf_mean_messages, 'Variance =', surf_variance_messages, 'Standard Deviation =', surf_standard_deviation_messages)\n",
    "\n",
    "surf_mean_gb = surf_plan['gb_used_per_month'].mean().round(decimals = 2)\n",
    "surf_variance_gb = np.var(surf_plan['gb_used_per_month']).round(decimals = 2)\n",
    "surf_standard_deviation_gb = np.std(surf_plan['gb_used_per_month']).round(decimals = 2)\n",
    "\n",
    "print('GB Used:', 'Mean =', surf_mean_gb, 'Variance =', surf_variance_gb, 'Standard Deviation =', surf_standard_deviation_gb)\n",
    "print()\n",
    "\n",
    "ultimate_mean_minutes = ultimate_plan['minutes_used_per_month'].mean().round(decimals = 2)\n",
    "ultimate_variance_minutes = np.var(ultimate_plan['minutes_used_per_month']).round(decimals = 2)\n",
    "ultimate_standard_deviation_minutes = np.std(ultimate_plan['minutes_used_per_month']).round(decimals = 2)\n",
    "\n",
    "print('Ultimate Plan:')\n",
    "print('Minutes Used:', 'Mean =', ultimate_mean_minutes, 'Variance =', ultimate_variance_minutes, 'Standard Deviation =', ultimate_standard_deviation_minutes)\n",
    "\n",
    "ultimate_mean_messages = ultimate_plan['messages_used_per_month'].mean().round(decimals = 2)\n",
    "ultimate_variance_messages = np.var(ultimate_plan['messages_used_per_month']).round(decimals = 2)\n",
    "ultimate_standard_deviation_messages = np.std(ultimate_plan['messages_used_per_month']).round(decimals = 2)\n",
    "\n",
    "print('Messages Used:', 'Mean =', ultimate_mean_messages, 'Variance =', ultimate_variance_messages, 'Standard Deviation =', ultimate_standard_deviation_messages)\n",
    "\n",
    "ultimate_mean_gb = ultimate_plan['gb_used_per_month'].mean().round(decimals = 2)\n",
    "ultimate_variance_gb = np.var(ultimate_plan['gb_used_per_month']).round(decimals = 2)\n",
    "ultimate_standard_deviation_gb = np.std(ultimate_plan['gb_used_per_month']).round(decimals = 2)\n",
    "\n",
    "print('GB Used:', 'Mean =', ultimate_mean_gb, 'Variance =', ultimate_variance_gb, 'Standard Deviation =', ultimate_standard_deviation_gb)"
   ]
  },
  {
   "attachments": {
    "image.png": {
     "image/png": "[encoded data removed]"
    }
   },
   "cell_type": "markdown",
   "metadata": {},
   "source": [
    "<div class=\"alert alert-danger\" role=\"alert\">\n",
    "<b>Reviewer's comment v4:</b>\n",
    "    \n",
    "There is still a minor typo in your revenue calculation. \n",
    "\n",
    "User pays for the full GB used. For example user has consumed 19 gb in (gb_used) then should pay 10 or 7 usd per GB.\n",
    "\n",
    "Currently you have decimal numbers in the plans dataframe. \n",
    "\n",
    "![image.png](attachment:image.png)"
   ]
  },
  {
   "cell_type": "markdown",
   "metadata": {},
   "source": [
    "We calculated monthly revenue for each user by merging the calls, messages, internet usage and users datasets together. Now, our data is combined with all user usage columns and revenue."
   ]
  },
  {
   "cell_type": "markdown",
   "metadata": {},
   "source": [
    "I tried as you asked to fix it. "
   ]
  },
  {
   "cell_type": "markdown",
   "metadata": {},
   "source": [
    "<div class=\"alert alert-block alert-success\">\n",
    "<b>Reviewer's comment v3</b>\n",
    " \n",
    "It's great that you managed to calculate all the necessary metrics and display them.\n",
    "\n",
    "There is also a way to display all statistical metrics in one table (you can pass all metrics to aggfunc at once.), using, for example, pivot_table:\n",
    "\n",
    "`data.pivot_table(index= 'tariff', values= '...', aggfunc= ['mean', 'var','std', 'median'])`"
   ]
  },
  {
   "cell_type": "markdown",
   "metadata": {},
   "source": [
    "The mean, variance, and standard deviation for minutes/messages/gb used per month are close in value with both plans."
   ]
  },
  {
   "cell_type": "code",
   "execution_count": 26,
   "metadata": {
    "scrolled": true
   },
   "outputs": [
    {
     "data": {
      "text/plain": [
       "user_id                     1236.0\n",
       "month                         10.0\n",
       "messages_used_per_month       35.0\n",
       "calls_per_month               59.0\n",
       "minutes_used_per_month       405.5\n",
       "mb_used_per_month          16039.0\n",
       "gb_used_per_month             16.0\n",
       "monthly_cost                  70.0\n",
       "dtype: float64"
      ]
     },
     "metadata": {},
     "output_type": "display_data"
    },
    {
     "data": {
      "text/plain": [
       "user_id                     1245.00\n",
       "month                         10.00\n",
       "messages_used_per_month       30.00\n",
       "calls_per_month               58.00\n",
       "minutes_used_per_month       410.00\n",
       "mb_used_per_month          16318.00\n",
       "gb_used_per_month             16.00\n",
       "monthly_cost                  37.35\n",
       "dtype: float64"
      ]
     },
     "metadata": {},
     "output_type": "display_data"
    },
    {
     "data": {
      "image/png": "[encoded data removed]",
      "text/plain": [
       "<Figure size 432x288 with 1 Axes>"
      ]
     },
     "metadata": {
      "needs_background": "light"
     },
     "output_type": "display_data"
    },
    {
     "data": {
      "image/png": "[encoded data removed]",
      "text/plain": [
       "<Figure size 432x288 with 1 Axes>"
      ]
     },
     "metadata": {
      "needs_background": "light"
     },
     "output_type": "display_data"
    },
    {
     "data": {
      "image/png": "[encoded data removed]",
      "text/plain": [
       "<Figure size 432x288 with 1 Axes>"
      ]
     },
     "metadata": {
      "needs_background": "light"
     },
     "output_type": "display_data"
    },
    {
     "data": {
      "image/png": "[encoded data removed]",
      "text/plain": [
       "<Figure size 432x288 with 1 Axes>"
      ]
     },
     "metadata": {
      "needs_background": "light"
     },
     "output_type": "display_data"
    }
   ],
   "source": [
    "\n",
    "surf_plan.boxplot(column = ['minutes_used_per_month', 'messages_used_per_month', 'gb_used_per_month'])\n",
    "ultimate_plan.boxplot(column = ['minutes_used_per_month','messages_used_per_month', 'gb_used_per_month'])\n",
    "\n",
    "\n",
    "surf_plan.drop(surf_plan.index[(surf_plan['minutes_used_per_month'] > 1000)], inplace = True)\n",
    "ultimate_plan.drop(ultimate_plan.index[(ultimate_plan['minutes_used_per_month'] > 1000)], inplace = True)\n",
    "\n",
    "surf_plan.drop(surf_plan.index[(surf_plan['messages_used_per_month'] > 100)], inplace = True)\n",
    "ultimate_plan.drop(ultimate_plan.index[(ultimate_plan['messages_used_per_month'] > 100)], inplace = True)\n",
    "\n",
    "surf_plan.drop(surf_plan.index[(surf_plan['gb_used_per_month'] > 30)], inplace = True)\n",
    "ultimate_plan.drop(ultimate_plan.index[(ultimate_plan['gb_used_per_month'] > 30)], inplace = True)\n",
    "\n",
    "\n",
    "plt.figure()\n",
    "plt.hist(surf_plan['minutes_used_per_month'], bins = 50, alpha = 0.5, label = 'surf')\n",
    "plt.hist(ultimate_plan['minutes_used_per_month'], bins = 50, alpha = 0.5, label = 'ultimate')\n",
    "plt.xlabel('Average Minutes Used')\n",
    "plt.ylabel('Number of Users')\n",
    "plt.title('Ultimate vs Surf: Average Minutes Per Month')\n",
    "plt.legend()\n",
    "\n",
    "plt.figure()\n",
    "plt.hist(surf_plan['messages_used_per_month'], bins = 50, alpha = 0.5, label = 'surf')\n",
    "plt.hist(ultimate_plan['messages_used_per_month'], bins = 50, alpha = 0.5, label = 'ultimate')\n",
    "plt.xlabel('Average Messages Used')\n",
    "plt.ylabel('Number of Users')\n",
    "plt.title('Ultimate vs Surf: Average Messages Per Month')\n",
    "plt.legend()\n",
    "\n",
    "#Average gigabytes per month per plan\n",
    "plt.figure()\n",
    "plt.hist(surf_plan['gb_used_per_month'], bins = 30, alpha = 0.5, label = 'surf')\n",
    "plt.hist(ultimate_plan['gb_used_per_month'], bins = 30, alpha = 0.5, label = 'ultimate')\n",
    "plt.xlabel('Average GB Used')\n",
    "plt.ylabel('Number of Users')\n",
    "plt.title('Ultimate vs Surf: Average GB Per Month')\n",
    "plt.legend()\n",
    "\n",
    "display(ultimate_plan.median())\n",
    "display(surf_plan.median())"
   ]
  },
  {
   "cell_type": "markdown",
   "metadata": {},
   "source": [
    "Average Minutes per Month: The plotted histogram is skewed to the right.\n",
    "\n",
    "Average Messages per Month: Both graphs are positive skewed.\n",
    "\n",
    "Average GB per Month: Both graphs are positive skewed"
   ]
  },
  {
   "cell_type": "markdown",
   "metadata": {},
   "source": [
    "Test the hypotheses:"
   ]
  },
  {
   "cell_type": "markdown",
   "metadata": {},
   "source": [
    "<div class=\"alert alert-danger\" role=\"alert\">\n",
    "<b>Reviewer's comment v4:</b>\n",
    "    \n",
    "Сould you please still formulate a null hypothesis and an alternative hypothesis for each question before actual testing in the markdown box: \n",
    "    \n",
    "    H0:\n",
    "    H1:"
   ]
  },
  {
   "cell_type": "markdown",
   "metadata": {},
   "source": [
    "Hypothesis 1: The average revenue from users of Ultimate and Surf calling plans differs.\n",
    "Hypothesis 2: The average revenue from users in NY-NJ area is different from that of the users from other regions."
   ]
  },
  {
   "cell_type": "markdown",
   "metadata": {},
   "source": [
    "<div class=\"alert alert-block alert-success\">\n",
    "<b>Reviewer's comment v5</b>\n",
    " \n",
    "Well done!  Everything is correct here."
   ]
  },
  {
   "cell_type": "markdown",
   "metadata": {},
   "source": [
    "Hypothesis 1:"
   ]
  },
  {
   "cell_type": "markdown",
   "metadata": {},
   "source": [
    "Null Hypothesis-H0: The average revenue from users of Ultimate and Surf calling plans are equal.\n",
    "Alternative Hypothesis-H1: The average revenue from users of Ultimate and Surf calling plans differ."
   ]
  },
  {
   "cell_type": "code",
   "execution_count": 27,
   "metadata": {},
   "outputs": [
    {
     "name": "stdout",
     "output_type": "stream",
     "text": [
      "The average monthly profit of ultimate plan is: 70.0\n",
      "The average monthly profit of surf plan is: 50.55367269267364\n",
      "p-value:  1.0463667021377375e-57\n",
      "We reject the null hypothesis\n"
     ]
    },
    {
     "name": "stderr",
     "output_type": "stream",
     "text": [
      "/tmp/ipykernel_790/2857975979.py:9: RuntimeWarning: Precision loss occurred in moment calculation due to catastrophic cancellation. This occurs when the data are nearly identical. Results may be unreliable.\n",
      "  results = st.ttest_ind(ultimate_plan['monthly_cost'], surf_plan['monthly_cost'], equal_var = False)\n"
     ]
    }
   ],
   "source": [
    "print(\"The average monthly profit of ultimate plan is:\", ultimate_plan['monthly_cost'].mean())\n",
    "\n",
    "\n",
    "#Find average profit from filtered surf plan\n",
    "print(\"The average monthly profit of surf plan is:\", surf_plan['monthly_cost'].mean())\n",
    "\n",
    "#Perform a t-test\n",
    "alpha = 0.05\n",
    "results = st.ttest_ind(ultimate_plan['monthly_cost'], surf_plan['monthly_cost'], equal_var = False)\n",
    "print('p-value: ', results.pvalue)\n",
    "\n",
    "if results.pvalue < alpha:\n",
    "    print('We reject the null hypothesis')\n",
    "else:\n",
    "    print(\"We can't reject the null hypothesis\")"
   ]
  },
  {
   "cell_type": "markdown",
   "metadata": {},
   "source": [
    "We observe that there is a big difference between the average revenues from our samples of the two prepaid plans. Moeover, the p-value tells us that there is about 1% - 57% probability of randomly getting a difference that size or larger. This probability is practically  and we can reject the null hypothesis to conclude that there is a significant difference between the average revenues generated from the two prepaid plan."
   ]
  },
  {
   "cell_type": "markdown",
   "metadata": {},
   "source": [
    "Hypothesis 2:"
   ]
  },
  {
   "cell_type": "markdown",
   "metadata": {},
   "source": [
    "Null Hypothesis-H0: The average revenue from users in NY-NJ area is equal to that of the users from other regions.\n",
    "Alternative Hypothesis-H1: The average revenue from users in NY-NJ area is different from that of the users from other regions."
   ]
  },
  {
   "cell_type": "code",
   "execution_count": 28,
   "metadata": {},
   "outputs": [
    {
     "name": "stdout",
     "output_type": "stream",
     "text": [
      "51.89334630350194\n",
      "57.76381395348838\n",
      "p-value:  0.0061037235315793865\n",
      "We reject the null hypothesis\n"
     ]
    }
   ],
   "source": [
    "#Merge both plans\n",
    "both_plans = ultimate_plan.append(surf_plan)\n",
    "\n",
    "#Filter out users from NY-NJ\n",
    "NYNJ = users[users['city'].str.contains('NY-NJ')]\n",
    "users_NYNJ = NYNJ['user_id']\n",
    "filtered_NYNJ_users = both_plans.query('user_id in @users_NYNJ')\n",
    "filtered_NYNJ_users.head()\n",
    "\n",
    "#Average profit of NY-NJ users\n",
    "average_profit_NYNJ = filtered_NYNJ_users['monthly_cost'].mean()\n",
    "print(average_profit_NYNJ)\n",
    "\n",
    "#Filter out non NY-NJ users\n",
    "non_NYNJ = users[~users['city'].str.contains('NY-NJ')]\n",
    "non_users_NYNJ = non_NYNJ['user_id']\n",
    "filtered_non_NYNJ_users = both_plans.query('user_id in @non_users_NYNJ')\n",
    "filtered_non_NYNJ_users.head()\n",
    "\n",
    "#Average profit of NY-NJ users\n",
    "average_profit_non_NYNJ = filtered_non_NYNJ_users['monthly_cost'].mean()\n",
    "print(average_profit_non_NYNJ)\n",
    "\n",
    "#Perform a t-test\n",
    "alpha = 0.05\n",
    "results = st.ttest_ind(filtered_NYNJ_users['monthly_cost'], filtered_non_NYNJ_users['monthly_cost'], equal_var = False)\n",
    "print('p-value: ', results.pvalue)\n",
    "\n",
    "if results.pvalue < alpha:\n",
    "    print('We reject the null hypothesis')\n",
    "else:\n",
    "    print(\"We can't reject the null hypothesis\")\n"
   ]
  },
  {
   "cell_type": "markdown",
   "metadata": {},
   "source": [
    "<div class=\"alert alert-success\">\n",
    "<b>Reviewer's comment v5:</b>\n",
    "    \n",
    "- Overall great job! Hypotheses have been formulated and tested correctly. Great that you additionally checked data that has been used for the test. \n",
    "- Your conclusions based on the results are also correct. One remark is that when we can't reject the null hypothesis, it means that there is no statistically significant difference between two samples.\n",
    "- You can also additionally compare the variances of the samples before testing hypotheses in order to understand with which equal_var parameter to use the ttest_ind test method (by default, True). Here you can manually calculate variances, or use Levene's statistic test (https://docs.scipy.org/doc/scipy/reference/generated/scipy.stats.levene.html) or Barlett's test (https: //docs.scipy .org / doc / scipy / reference / generated / scipy.stats.bartlett.html # scipy.stats.bartlett)"
   ]
  },
  {
   "cell_type": "markdown",
   "metadata": {},
   "source": [
    "We compared the average revenue from users in New York and New Jersey area to other users. We did this again by using a individual t-tests.\n",
    "null Hypothesis: The average revenue from users in NY-NJ area is equal to that of the users from other regions.\n",
    "alternative Hypothesis: The average revenue from users in NY-NJ area is different from that of the users from other regions.\n",
    "We found that we can reject the null hypothesis. The average profit from users in New York and New Jersey is differ from the average profit from other users."
   ]
  },
  {
   "cell_type": "markdown",
   "metadata": {},
   "source": [
    "<div class=\"alert alert-danger\" role=\"alert\">\n",
    "<b>Reviewer's comment v4:</b>\n",
    "    \n",
    "Unfortunately, there is an issue in formulating null and alternative hypotheses.\n",
    "A null hypothesis is a type of hypothesis used in statistics that proposes that there is no difference between certain characteristics of a population. An alternative hypothesis always contradicts the null one.\n",
    "Can you please update that?"
   ]
  },
  {
   "cell_type": "markdown",
   "metadata": {},
   "source": [
    "Missing data was just in the 'churn_date'. We replace missing values with the date December, 31th 2018.\n",
    "\n",
    "We used t-test to find if the average profit per month diffrents from plan to plan. The data says the plans are not diffrent.\n",
    "\n",
    "The average monthly profit of the ultimate plan is 70.58 and the average monthly profit of the surf plan is 55.07.\n",
    "\n",
    "The average profit from users in New York and New Jersey is differ from the average profit from other users "
   ]
  },
  {
   "cell_type": "markdown",
   "metadata": {},
   "source": [
    "<div class=\"alert alert-success\" role=\"alert\">\n",
    "<b>Reviewer's comment v3:</b>\n",
    "    \n",
    "- You conducted an outstanding research with correct interim findings, clean code and nice visualisation.\n",
    "- I also like your overall conclusion. It is very structured and provides insights and recommendations to the business."
   ]
  },
  {
   "cell_type": "markdown",
   "metadata": {},
   "source": [
    "FINALLY!\n",
    "I DIDN'T LEARN FROM A PROJECT, OR A TASK, LIKE THE LESSONS I LEARNED HERE! FROM LOOSING MY PROJECT, TILL THIS MOMENT.\n",
    "IT WAS HARD, BUT MADE ME STRONGER INDEED.\n",
    "I THANK YOU SO MUCH FOR YOUR ADVISING, NOTES, PATIANTE, UNDERSTANDING.\n",
    "\n",
    "AND READY FOR ANY MORE NOTES TO FIX. "
   ]
  }
 ],
 "metadata": {
  "ExecuteTimeLog": [
   {
    "duration": 44,
    "start_time": "2022-07-05T15:29:22.534Z"
   },
   {
    "duration": 80,
    "start_time": "2022-07-05T15:29:30.746Z"
   },
   {
    "duration": 0,
    "start_time": "2022-07-05T15:29:30.828Z"
   },
   {
    "duration": 0,
    "start_time": "2022-07-05T15:29:30.829Z"
   },
   {
    "duration": 1170,
    "start_time": "2022-07-05T15:29:57.990Z"
   },
   {
    "duration": 958,
    "start_time": "2022-07-05T15:29:59.162Z"
   },
   {
    "duration": 31,
    "start_time": "2022-07-05T15:30:00.121Z"
   },
   {
    "duration": 3,
    "start_time": "2022-07-05T15:33:09.392Z"
   },
   {
    "duration": 274,
    "start_time": "2022-07-05T15:33:09.398Z"
   },
   {
    "duration": 16,
    "start_time": "2022-07-05T15:33:09.673Z"
   },
   {
    "duration": 10,
    "start_time": "2022-07-05T15:33:09.690Z"
   },
   {
    "duration": 13,
    "start_time": "2022-07-05T15:33:09.701Z"
   },
   {
    "duration": 7,
    "start_time": "2022-07-05T15:33:09.716Z"
   },
   {
    "duration": 14,
    "start_time": "2022-07-05T15:33:09.724Z"
   },
   {
    "duration": 6,
    "start_time": "2022-07-05T15:33:09.740Z"
   },
   {
    "duration": 14,
    "start_time": "2022-07-05T15:33:09.747Z"
   },
   {
    "duration": 11,
    "start_time": "2022-07-05T15:33:09.762Z"
   },
   {
    "duration": 9,
    "start_time": "2022-07-05T15:33:09.775Z"
   },
   {
    "duration": 7,
    "start_time": "2022-07-05T15:33:09.785Z"
   },
   {
    "duration": 3,
    "start_time": "2022-07-05T15:34:55.852Z"
   },
   {
    "duration": 266,
    "start_time": "2022-07-05T15:34:55.882Z"
   },
   {
    "duration": 16,
    "start_time": "2022-07-05T15:34:56.149Z"
   },
   {
    "duration": 32,
    "start_time": "2022-07-05T15:34:56.167Z"
   },
   {
    "duration": 48,
    "start_time": "2022-07-05T15:34:56.201Z"
   },
   {
    "duration": 47,
    "start_time": "2022-07-05T15:34:56.250Z"
   },
   {
    "duration": 41,
    "start_time": "2022-07-05T15:34:56.299Z"
   },
   {
    "duration": 23,
    "start_time": "2022-07-05T15:34:56.341Z"
   },
   {
    "duration": 41,
    "start_time": "2022-07-05T15:34:56.365Z"
   },
   {
    "duration": 33,
    "start_time": "2022-07-05T15:34:56.407Z"
   },
   {
    "duration": 32,
    "start_time": "2022-07-05T15:34:56.442Z"
   },
   {
    "duration": 18,
    "start_time": "2022-07-05T15:34:56.476Z"
   },
   {
    "duration": 42,
    "start_time": "2022-07-05T15:34:56.495Z"
   },
   {
    "duration": 10,
    "start_time": "2022-07-05T15:34:56.539Z"
   },
   {
    "duration": 13,
    "start_time": "2022-07-05T15:35:03.340Z"
   },
   {
    "duration": 4,
    "start_time": "2022-07-05T15:35:05.523Z"
   },
   {
    "duration": 20,
    "start_time": "2022-07-05T15:35:07.112Z"
   },
   {
    "duration": 12,
    "start_time": "2022-07-05T15:35:30.549Z"
   },
   {
    "duration": 8,
    "start_time": "2022-07-05T15:35:47.232Z"
   },
   {
    "duration": 4,
    "start_time": "2022-07-05T15:36:46.908Z"
   },
   {
    "duration": 10,
    "start_time": "2022-07-05T15:36:47.708Z"
   },
   {
    "duration": 19,
    "start_time": "2022-07-05T15:37:05.492Z"
   },
   {
    "duration": 16,
    "start_time": "2022-07-05T15:38:08.825Z"
   },
   {
    "duration": 17,
    "start_time": "2022-07-05T15:38:09.535Z"
   },
   {
    "duration": 11,
    "start_time": "2022-07-05T15:38:28.366Z"
   },
   {
    "duration": 10,
    "start_time": "2022-07-05T15:38:51.341Z"
   },
   {
    "duration": 12,
    "start_time": "2022-07-05T15:39:24.219Z"
   },
   {
    "duration": 11,
    "start_time": "2022-07-05T15:40:23.073Z"
   },
   {
    "duration": 16,
    "start_time": "2022-07-05T15:40:24.179Z"
   },
   {
    "duration": 13,
    "start_time": "2022-07-05T15:40:35.609Z"
   },
   {
    "duration": 6,
    "start_time": "2022-07-05T15:40:53.229Z"
   },
   {
    "duration": 4,
    "start_time": "2022-07-05T15:41:25.907Z"
   },
   {
    "duration": 8,
    "start_time": "2022-07-05T15:41:28.377Z"
   },
   {
    "duration": 4,
    "start_time": "2022-07-05T15:42:44.456Z"
   },
   {
    "duration": 4,
    "start_time": "2022-07-05T15:42:45.475Z"
   },
   {
    "duration": 14,
    "start_time": "2022-07-05T15:42:46.936Z"
   },
   {
    "duration": 9,
    "start_time": "2022-07-05T15:48:24.111Z"
   },
   {
    "duration": 2,
    "start_time": "2022-07-05T15:48:24.297Z"
   },
   {
    "duration": 15,
    "start_time": "2022-07-05T15:48:25.712Z"
   },
   {
    "duration": 10,
    "start_time": "2022-07-05T15:49:24.498Z"
   },
   {
    "duration": 11,
    "start_time": "2022-07-05T15:49:26.062Z"
   },
   {
    "duration": 22,
    "start_time": "2022-07-05T15:49:27.238Z"
   },
   {
    "duration": 10,
    "start_time": "2022-07-05T15:51:56.056Z"
   },
   {
    "duration": 4,
    "start_time": "2022-07-05T15:51:57.356Z"
   },
   {
    "duration": 3,
    "start_time": "2022-07-05T15:51:58.657Z"
   },
   {
    "duration": 13,
    "start_time": "2022-07-05T15:51:59.296Z"
   },
   {
    "duration": 8,
    "start_time": "2022-07-05T15:52:37.788Z"
   },
   {
    "duration": 19,
    "start_time": "2022-07-05T15:52:42.600Z"
   },
   {
    "duration": 19,
    "start_time": "2022-07-05T15:53:04.109Z"
   },
   {
    "duration": 56,
    "start_time": "2022-07-05T15:53:05.922Z"
   },
   {
    "duration": 12,
    "start_time": "2022-07-05T15:53:18.277Z"
   },
   {
    "duration": 11,
    "start_time": "2022-07-05T15:53:27.736Z"
   },
   {
    "duration": 10,
    "start_time": "2022-07-05T15:53:44.068Z"
   },
   {
    "duration": 11,
    "start_time": "2022-07-05T15:55:24.468Z"
   },
   {
    "duration": 20,
    "start_time": "2022-07-05T15:57:04.652Z"
   },
   {
    "duration": 14,
    "start_time": "2022-07-05T15:57:04.710Z"
   },
   {
    "duration": 30,
    "start_time": "2022-07-05T15:57:38.083Z"
   },
   {
    "duration": 11,
    "start_time": "2022-07-05T15:57:56.723Z"
   },
   {
    "duration": 1196,
    "start_time": "2022-07-05T15:58:35.723Z"
   },
   {
    "duration": 1237,
    "start_time": "2022-07-05T15:58:55.246Z"
   },
   {
    "duration": 1229,
    "start_time": "2022-07-05T15:58:58.904Z"
   },
   {
    "duration": 12,
    "start_time": "2022-07-05T15:59:11.630Z"
   },
   {
    "duration": 1277,
    "start_time": "2022-07-05T15:59:36.689Z"
   },
   {
    "duration": 1417,
    "start_time": "2022-07-05T16:01:01.332Z"
   },
   {
    "duration": 3,
    "start_time": "2022-07-05T16:02:22.369Z"
   },
   {
    "duration": 285,
    "start_time": "2022-07-05T16:02:22.391Z"
   },
   {
    "duration": 16,
    "start_time": "2022-07-05T16:02:22.677Z"
   },
   {
    "duration": 7,
    "start_time": "2022-07-05T16:02:22.694Z"
   },
   {
    "duration": 15,
    "start_time": "2022-07-05T16:02:22.702Z"
   },
   {
    "duration": 7,
    "start_time": "2022-07-05T16:02:22.718Z"
   },
   {
    "duration": 34,
    "start_time": "2022-07-05T16:02:22.727Z"
   },
   {
    "duration": 6,
    "start_time": "2022-07-05T16:02:22.762Z"
   },
   {
    "duration": 12,
    "start_time": "2022-07-05T16:02:22.770Z"
   },
   {
    "duration": 9,
    "start_time": "2022-07-05T16:02:22.783Z"
   },
   {
    "duration": 10,
    "start_time": "2022-07-05T16:02:22.794Z"
   },
   {
    "duration": 26,
    "start_time": "2022-07-05T16:02:22.805Z"
   },
   {
    "duration": 22,
    "start_time": "2022-07-05T16:02:22.832Z"
   },
   {
    "duration": 3,
    "start_time": "2022-07-05T16:02:22.856Z"
   },
   {
    "duration": 21,
    "start_time": "2022-07-05T16:02:22.861Z"
   },
   {
    "duration": 11,
    "start_time": "2022-07-05T16:02:22.883Z"
   },
   {
    "duration": 34,
    "start_time": "2022-07-05T16:02:22.895Z"
   },
   {
    "duration": 5,
    "start_time": "2022-07-05T16:02:22.931Z"
   },
   {
    "duration": 18,
    "start_time": "2022-07-05T16:02:22.938Z"
   },
   {
    "duration": 19,
    "start_time": "2022-07-05T16:02:22.957Z"
   },
   {
    "duration": 14,
    "start_time": "2022-07-05T16:02:22.977Z"
   },
   {
    "duration": 36,
    "start_time": "2022-07-05T16:02:22.993Z"
   },
   {
    "duration": 10,
    "start_time": "2022-07-05T16:02:23.030Z"
   },
   {
    "duration": 11,
    "start_time": "2022-07-05T16:02:23.042Z"
   },
   {
    "duration": 11,
    "start_time": "2022-07-05T16:02:23.054Z"
   },
   {
    "duration": 12,
    "start_time": "2022-07-05T16:02:23.066Z"
   },
   {
    "duration": 44,
    "start_time": "2022-07-05T16:02:23.079Z"
   },
   {
    "duration": 23,
    "start_time": "2022-07-05T16:02:23.126Z"
   },
   {
    "duration": 5,
    "start_time": "2022-07-05T16:02:23.150Z"
   },
   {
    "duration": 6,
    "start_time": "2022-07-05T16:02:23.157Z"
   },
   {
    "duration": 10,
    "start_time": "2022-07-05T16:02:23.164Z"
   },
   {
    "duration": 9,
    "start_time": "2022-07-05T16:02:23.175Z"
   },
   {
    "duration": 9,
    "start_time": "2022-07-05T16:02:23.185Z"
   },
   {
    "duration": 10,
    "start_time": "2022-07-05T16:02:23.195Z"
   },
   {
    "duration": 12,
    "start_time": "2022-07-05T16:02:23.229Z"
   },
   {
    "duration": 3,
    "start_time": "2022-07-05T16:02:23.242Z"
   },
   {
    "duration": 16,
    "start_time": "2022-07-05T16:02:23.247Z"
   },
   {
    "duration": 9,
    "start_time": "2022-07-05T16:02:23.265Z"
   },
   {
    "duration": 9,
    "start_time": "2022-07-05T16:02:23.275Z"
   },
   {
    "duration": 54,
    "start_time": "2022-07-05T16:02:23.286Z"
   },
   {
    "duration": 16,
    "start_time": "2022-07-05T16:02:23.342Z"
   },
   {
    "duration": 5,
    "start_time": "2022-07-05T16:02:23.360Z"
   },
   {
    "duration": 6,
    "start_time": "2022-07-05T16:02:23.366Z"
   },
   {
    "duration": 19,
    "start_time": "2022-07-05T16:02:23.374Z"
   },
   {
    "duration": 10,
    "start_time": "2022-07-05T16:02:23.394Z"
   },
   {
    "duration": 39,
    "start_time": "2022-07-05T16:02:23.405Z"
   },
   {
    "duration": 19,
    "start_time": "2022-07-05T16:02:23.612Z"
   },
   {
    "duration": 29,
    "start_time": "2022-07-05T16:02:23.633Z"
   },
   {
    "duration": 11,
    "start_time": "2022-07-05T16:02:23.664Z"
   },
   {
    "duration": 35,
    "start_time": "2022-07-05T16:02:24.223Z"
   },
   {
    "duration": 12,
    "start_time": "2022-07-05T16:03:53.096Z"
   },
   {
    "duration": 93,
    "start_time": "2022-07-05T16:04:11.162Z"
   },
   {
    "duration": 4,
    "start_time": "2022-07-05T16:04:30.746Z"
   },
   {
    "duration": 28,
    "start_time": "2022-07-05T16:05:44.728Z"
   },
   {
    "duration": 14,
    "start_time": "2022-07-05T16:06:06.136Z"
   },
   {
    "duration": 13,
    "start_time": "2022-07-05T16:06:24.943Z"
   },
   {
    "duration": 199,
    "start_time": "2022-07-05T16:06:45.093Z"
   },
   {
    "duration": 171,
    "start_time": "2022-07-05T16:07:16.162Z"
   },
   {
    "duration": 183,
    "start_time": "2022-07-05T16:07:35.189Z"
   },
   {
    "duration": 73,
    "start_time": "2022-07-05T16:08:57.393Z"
   },
   {
    "duration": 77,
    "start_time": "2022-07-05T16:09:56.372Z"
   },
   {
    "duration": 6,
    "start_time": "2022-07-05T16:12:13.693Z"
   },
   {
    "duration": 6,
    "start_time": "2022-07-05T16:12:59.144Z"
   },
   {
    "duration": 5,
    "start_time": "2022-07-05T16:13:23.697Z"
   },
   {
    "duration": 6,
    "start_time": "2022-07-05T16:16:15.662Z"
   },
   {
    "duration": 6,
    "start_time": "2022-07-05T16:17:57.882Z"
   },
   {
    "duration": 9,
    "start_time": "2022-07-05T16:18:20.857Z"
   },
   {
    "duration": 2597,
    "start_time": "2022-07-06T11:07:02.351Z"
   },
   {
    "duration": 1441,
    "start_time": "2022-07-06T11:07:04.956Z"
   },
   {
    "duration": 72,
    "start_time": "2022-07-06T11:07:06.400Z"
   },
   {
    "duration": 26,
    "start_time": "2022-07-06T11:07:06.525Z"
   },
   {
    "duration": 61,
    "start_time": "2022-07-06T11:07:06.566Z"
   },
   {
    "duration": 18,
    "start_time": "2022-07-06T11:07:06.629Z"
   },
   {
    "duration": 89,
    "start_time": "2022-07-06T11:07:06.649Z"
   },
   {
    "duration": 52,
    "start_time": "2022-07-06T11:07:06.740Z"
   },
   {
    "duration": 93,
    "start_time": "2022-07-06T11:07:06.795Z"
   },
   {
    "duration": 105,
    "start_time": "2022-07-06T11:07:06.891Z"
   },
   {
    "duration": 39,
    "start_time": "2022-07-06T11:07:06.999Z"
   },
   {
    "duration": 92,
    "start_time": "2022-07-06T11:07:07.040Z"
   },
   {
    "duration": 82,
    "start_time": "2022-07-06T11:07:07.144Z"
   },
   {
    "duration": 10,
    "start_time": "2022-07-06T11:07:07.242Z"
   },
   {
    "duration": 75,
    "start_time": "2022-07-06T11:07:07.264Z"
   },
   {
    "duration": 28,
    "start_time": "2022-07-06T11:07:07.347Z"
   },
   {
    "duration": 71,
    "start_time": "2022-07-06T11:07:07.381Z"
   },
   {
    "duration": 34,
    "start_time": "2022-07-06T11:07:07.459Z"
   },
   {
    "duration": 50,
    "start_time": "2022-07-06T11:07:07.495Z"
   },
   {
    "duration": 98,
    "start_time": "2022-07-06T11:07:07.549Z"
   },
   {
    "duration": 106,
    "start_time": "2022-07-06T11:07:07.651Z"
   },
   {
    "duration": 81,
    "start_time": "2022-07-06T11:07:07.761Z"
   },
   {
    "duration": 36,
    "start_time": "2022-07-06T11:07:07.849Z"
   },
   {
    "duration": 116,
    "start_time": "2022-07-06T11:07:07.889Z"
   },
   {
    "duration": 54,
    "start_time": "2022-07-06T11:07:08.026Z"
   },
   {
    "duration": 76,
    "start_time": "2022-07-06T11:07:08.083Z"
   },
   {
    "duration": 95,
    "start_time": "2022-07-06T11:07:08.167Z"
   },
   {
    "duration": 92,
    "start_time": "2022-07-06T11:07:08.266Z"
   },
   {
    "duration": 109,
    "start_time": "2022-07-06T11:07:08.363Z"
   },
   {
    "duration": 27,
    "start_time": "2022-07-06T11:07:08.474Z"
   },
   {
    "duration": 67,
    "start_time": "2022-07-06T11:07:08.525Z"
   },
   {
    "duration": 35,
    "start_time": "2022-07-06T11:07:08.595Z"
   },
   {
    "duration": 55,
    "start_time": "2022-07-06T11:07:08.633Z"
   },
   {
    "duration": 35,
    "start_time": "2022-07-06T11:07:08.692Z"
   },
   {
    "duration": 56,
    "start_time": "2022-07-06T11:07:08.729Z"
   },
   {
    "duration": 9,
    "start_time": "2022-07-06T11:07:08.787Z"
   },
   {
    "duration": 108,
    "start_time": "2022-07-06T11:07:08.828Z"
   },
   {
    "duration": 117,
    "start_time": "2022-07-06T11:07:08.938Z"
   },
   {
    "duration": 90,
    "start_time": "2022-07-06T11:07:09.057Z"
   },
   {
    "duration": 186,
    "start_time": "2022-07-06T11:07:09.156Z"
   },
   {
    "duration": 32,
    "start_time": "2022-07-06T11:07:09.358Z"
   },
   {
    "duration": 62,
    "start_time": "2022-07-06T11:07:09.425Z"
   },
   {
    "duration": 14,
    "start_time": "2022-07-06T11:07:09.491Z"
   },
   {
    "duration": 90,
    "start_time": "2022-07-06T11:07:09.511Z"
   },
   {
    "duration": 57,
    "start_time": "2022-07-06T11:07:09.605Z"
   },
   {
    "duration": 96,
    "start_time": "2022-07-06T11:07:09.665Z"
   },
   {
    "duration": 90,
    "start_time": "2022-07-06T11:07:09.769Z"
   },
   {
    "duration": 184,
    "start_time": "2022-07-06T11:07:09.873Z"
   },
   {
    "duration": 74,
    "start_time": "2022-07-06T11:07:10.066Z"
   },
   {
    "duration": 85,
    "start_time": "2022-07-06T11:07:10.152Z"
   },
   {
    "duration": 29,
    "start_time": "2022-07-06T11:07:10.240Z"
   },
   {
    "duration": 352,
    "start_time": "2022-07-06T11:07:10.271Z"
   },
   {
    "duration": 6,
    "start_time": "2022-07-06T11:07:10.625Z"
   },
   {
    "duration": 110,
    "start_time": "2022-07-06T11:07:10.633Z"
   },
   {
    "duration": 32,
    "start_time": "2022-07-06T11:07:10.746Z"
   },
   {
    "duration": 62,
    "start_time": "2022-07-06T11:07:10.824Z"
   },
   {
    "duration": 640,
    "start_time": "2022-07-06T11:07:10.888Z"
   },
   {
    "duration": 647,
    "start_time": "2022-07-06T11:07:11.530Z"
   },
   {
    "duration": 661,
    "start_time": "2022-07-06T11:07:12.224Z"
   },
   {
    "duration": 8,
    "start_time": "2022-07-06T11:07:12.924Z"
   },
   {
    "duration": 56,
    "start_time": "2022-07-06T11:07:12.934Z"
   },
   {
    "duration": 48,
    "start_time": "2022-07-06T11:07:12.992Z"
   },
   {
    "duration": 33,
    "start_time": "2022-07-06T11:07:13.042Z"
   },
   {
    "duration": 12,
    "start_time": "2022-07-06T11:07:13.077Z"
   },
   {
    "duration": 24,
    "start_time": "2022-07-06T11:07:13.123Z"
   },
   {
    "duration": 1214,
    "start_time": "2022-07-06T12:06:39.962Z"
   },
   {
    "duration": 308,
    "start_time": "2022-07-06T12:06:41.178Z"
   },
   {
    "duration": 22,
    "start_time": "2022-07-06T12:06:41.488Z"
   },
   {
    "duration": 53,
    "start_time": "2022-07-06T12:06:41.512Z"
   },
   {
    "duration": 22,
    "start_time": "2022-07-06T12:06:41.567Z"
   },
   {
    "duration": 16,
    "start_time": "2022-07-06T12:06:41.591Z"
   },
   {
    "duration": 38,
    "start_time": "2022-07-06T12:06:41.609Z"
   },
   {
    "duration": 23,
    "start_time": "2022-07-06T12:06:41.649Z"
   },
   {
    "duration": 36,
    "start_time": "2022-07-06T12:06:41.674Z"
   },
   {
    "duration": 60,
    "start_time": "2022-07-06T12:06:41.712Z"
   },
   {
    "duration": 24,
    "start_time": "2022-07-06T12:06:41.774Z"
   },
   {
    "duration": 63,
    "start_time": "2022-07-06T12:06:41.800Z"
   },
   {
    "duration": 45,
    "start_time": "2022-07-06T12:06:41.865Z"
   },
   {
    "duration": 6,
    "start_time": "2022-07-06T12:06:41.915Z"
   },
   {
    "duration": 68,
    "start_time": "2022-07-06T12:06:41.923Z"
   },
   {
    "duration": 15,
    "start_time": "2022-07-06T12:06:41.993Z"
   },
   {
    "duration": 14,
    "start_time": "2022-07-06T12:06:42.010Z"
   },
   {
    "duration": 9,
    "start_time": "2022-07-06T12:06:42.038Z"
   },
   {
    "duration": 25,
    "start_time": "2022-07-06T12:06:42.051Z"
   },
   {
    "duration": 30,
    "start_time": "2022-07-06T12:06:42.077Z"
   },
   {
    "duration": 24,
    "start_time": "2022-07-06T12:06:42.109Z"
   },
   {
    "duration": 47,
    "start_time": "2022-07-06T12:06:42.141Z"
   },
   {
    "duration": 28,
    "start_time": "2022-07-06T12:06:42.189Z"
   },
   {
    "duration": 19,
    "start_time": "2022-07-06T12:06:42.219Z"
   },
   {
    "duration": 38,
    "start_time": "2022-07-06T12:06:42.245Z"
   },
   {
    "duration": 28,
    "start_time": "2022-07-06T12:06:42.285Z"
   },
   {
    "duration": 30,
    "start_time": "2022-07-06T12:06:42.315Z"
   },
   {
    "duration": 22,
    "start_time": "2022-07-06T12:06:42.353Z"
   },
   {
    "duration": 8,
    "start_time": "2022-07-06T12:06:42.378Z"
   },
   {
    "duration": 13,
    "start_time": "2022-07-06T12:06:42.388Z"
   },
   {
    "duration": 13,
    "start_time": "2022-07-06T12:06:42.403Z"
   },
   {
    "duration": 19,
    "start_time": "2022-07-06T12:06:42.418Z"
   },
   {
    "duration": 13,
    "start_time": "2022-07-06T12:06:42.448Z"
   },
   {
    "duration": 16,
    "start_time": "2022-07-06T12:06:42.463Z"
   },
   {
    "duration": 14,
    "start_time": "2022-07-06T12:06:42.481Z"
   },
   {
    "duration": 4,
    "start_time": "2022-07-06T12:06:42.498Z"
   },
   {
    "duration": 30,
    "start_time": "2022-07-06T12:06:42.504Z"
   },
   {
    "duration": 20,
    "start_time": "2022-07-06T12:06:42.543Z"
   },
   {
    "duration": 14,
    "start_time": "2022-07-06T12:06:42.565Z"
   },
   {
    "duration": 30,
    "start_time": "2022-07-06T12:06:42.582Z"
   },
   {
    "duration": 32,
    "start_time": "2022-07-06T12:06:42.623Z"
   },
   {
    "duration": 20,
    "start_time": "2022-07-06T12:06:42.658Z"
   },
   {
    "duration": 12,
    "start_time": "2022-07-06T12:06:42.680Z"
   },
   {
    "duration": 24,
    "start_time": "2022-07-06T12:06:42.694Z"
   },
   {
    "duration": 50,
    "start_time": "2022-07-06T12:06:42.720Z"
   },
   {
    "duration": 30,
    "start_time": "2022-07-06T12:06:42.772Z"
   },
   {
    "duration": 44,
    "start_time": "2022-07-06T12:06:42.804Z"
   },
   {
    "duration": 48,
    "start_time": "2022-07-06T12:06:42.850Z"
   },
   {
    "duration": 28,
    "start_time": "2022-07-06T12:06:42.899Z"
   },
   {
    "duration": 37,
    "start_time": "2022-07-06T12:06:42.939Z"
   },
   {
    "duration": 17,
    "start_time": "2022-07-06T12:06:42.978Z"
   },
   {
    "duration": 119,
    "start_time": "2022-07-06T12:06:42.997Z"
   },
   {
    "duration": 18,
    "start_time": "2022-07-06T12:06:43.118Z"
   },
   {
    "duration": 39,
    "start_time": "2022-07-06T12:06:43.142Z"
   },
   {
    "duration": 25,
    "start_time": "2022-07-06T12:06:43.183Z"
   },
   {
    "duration": 31,
    "start_time": "2022-07-06T12:06:43.210Z"
   },
   {
    "duration": 330,
    "start_time": "2022-07-06T12:06:43.243Z"
   },
   {
    "duration": 276,
    "start_time": "2022-07-06T12:06:43.575Z"
   },
   {
    "duration": 286,
    "start_time": "2022-07-06T12:06:43.853Z"
   },
   {
    "duration": 10,
    "start_time": "2022-07-06T12:06:44.142Z"
   },
   {
    "duration": 18,
    "start_time": "2022-07-06T12:06:44.153Z"
   },
   {
    "duration": 8,
    "start_time": "2022-07-06T12:06:44.172Z"
   },
   {
    "duration": 7,
    "start_time": "2022-07-06T12:06:44.182Z"
   },
   {
    "duration": 15,
    "start_time": "2022-07-06T12:06:44.191Z"
   },
   {
    "duration": 25,
    "start_time": "2022-07-06T12:06:44.207Z"
   },
   {
    "duration": 30,
    "start_time": "2022-07-06T12:14:18.772Z"
   },
   {
    "duration": 62,
    "start_time": "2022-07-06T12:14:32.874Z"
   },
   {
    "duration": 6,
    "start_time": "2022-07-06T12:17:15.458Z"
   },
   {
    "duration": 7,
    "start_time": "2022-07-06T12:17:21.213Z"
   },
   {
    "duration": 49,
    "start_time": "2022-07-16T16:02:28.572Z"
   },
   {
    "duration": 6,
    "start_time": "2022-07-16T16:02:33.813Z"
   },
   {
    "duration": 7,
    "start_time": "2022-07-16T16:39:19.173Z"
   },
   {
    "duration": 11,
    "start_time": "2022-07-16T16:40:15.109Z"
   },
   {
    "duration": 1314,
    "start_time": "2022-07-16T16:43:12.273Z"
   },
   {
    "duration": 972,
    "start_time": "2022-07-16T16:43:13.589Z"
   },
   {
    "duration": 22,
    "start_time": "2022-07-16T16:43:14.563Z"
   },
   {
    "duration": 21,
    "start_time": "2022-07-16T16:43:14.587Z"
   },
   {
    "duration": 45,
    "start_time": "2022-07-16T16:43:14.610Z"
   },
   {
    "duration": 18,
    "start_time": "2022-07-16T16:43:14.657Z"
   },
   {
    "duration": 62,
    "start_time": "2022-07-16T16:43:14.676Z"
   },
   {
    "duration": 15,
    "start_time": "2022-07-16T16:43:14.739Z"
   },
   {
    "duration": 37,
    "start_time": "2022-07-16T16:43:14.755Z"
   },
   {
    "duration": 38,
    "start_time": "2022-07-16T16:43:14.794Z"
   },
   {
    "duration": 28,
    "start_time": "2022-07-16T16:43:14.833Z"
   },
   {
    "duration": 22,
    "start_time": "2022-07-16T16:43:14.863Z"
   },
   {
    "duration": 37,
    "start_time": "2022-07-16T16:43:14.887Z"
   },
   {
    "duration": 5,
    "start_time": "2022-07-16T16:43:14.926Z"
   },
   {
    "duration": 23,
    "start_time": "2022-07-16T16:43:14.932Z"
   },
   {
    "duration": 13,
    "start_time": "2022-07-16T16:43:14.956Z"
   },
   {
    "duration": 9,
    "start_time": "2022-07-16T16:43:14.971Z"
   },
   {
    "duration": 3,
    "start_time": "2022-07-16T16:43:14.982Z"
   },
   {
    "duration": 22,
    "start_time": "2022-07-16T16:43:15.011Z"
   },
   {
    "duration": 34,
    "start_time": "2022-07-16T16:43:15.035Z"
   },
   {
    "duration": 20,
    "start_time": "2022-07-16T16:43:15.071Z"
   },
   {
    "duration": 46,
    "start_time": "2022-07-16T16:43:15.092Z"
   },
   {
    "duration": 12,
    "start_time": "2022-07-16T16:43:15.139Z"
   },
   {
    "duration": 9,
    "start_time": "2022-07-16T16:43:15.153Z"
   },
   {
    "duration": 14,
    "start_time": "2022-07-16T16:43:15.164Z"
   },
   {
    "duration": 57,
    "start_time": "2022-07-16T16:43:15.180Z"
   },
   {
    "duration": 15,
    "start_time": "2022-07-16T16:43:15.240Z"
   },
   {
    "duration": 15,
    "start_time": "2022-07-16T16:43:15.258Z"
   },
   {
    "duration": 5,
    "start_time": "2022-07-16T16:43:15.275Z"
   },
   {
    "duration": 35,
    "start_time": "2022-07-16T16:43:15.282Z"
   },
   {
    "duration": 20,
    "start_time": "2022-07-16T16:43:15.319Z"
   },
   {
    "duration": 6,
    "start_time": "2022-07-16T16:43:15.341Z"
   },
   {
    "duration": 7,
    "start_time": "2022-07-16T16:43:15.349Z"
   },
   {
    "duration": 12,
    "start_time": "2022-07-16T16:43:15.358Z"
   },
   {
    "duration": 11,
    "start_time": "2022-07-16T16:43:15.372Z"
   },
   {
    "duration": 3,
    "start_time": "2022-07-16T16:43:15.385Z"
   },
   {
    "duration": 40,
    "start_time": "2022-07-16T16:43:15.390Z"
   },
   {
    "duration": 12,
    "start_time": "2022-07-16T16:43:15.432Z"
   },
   {
    "duration": 12,
    "start_time": "2022-07-16T16:43:15.445Z"
   },
   {
    "duration": 51,
    "start_time": "2022-07-16T16:43:15.459Z"
   },
   {
    "duration": 17,
    "start_time": "2022-07-16T16:43:15.512Z"
   },
   {
    "duration": 4,
    "start_time": "2022-07-16T16:43:15.531Z"
   },
   {
    "duration": 4,
    "start_time": "2022-07-16T16:43:15.537Z"
   },
   {
    "duration": 20,
    "start_time": "2022-07-16T16:43:15.543Z"
   },
   {
    "duration": 15,
    "start_time": "2022-07-16T16:43:15.565Z"
   },
   {
    "duration": 55,
    "start_time": "2022-07-16T16:43:15.582Z"
   },
   {
    "duration": 17,
    "start_time": "2022-07-16T16:43:15.638Z"
   },
   {
    "duration": 56,
    "start_time": "2022-07-16T16:43:15.656Z"
   },
   {
    "duration": 18,
    "start_time": "2022-07-16T16:43:15.714Z"
   },
   {
    "duration": 26,
    "start_time": "2022-07-16T16:43:15.734Z"
   },
   {
    "duration": 13,
    "start_time": "2022-07-16T16:43:15.762Z"
   },
   {
    "duration": 127,
    "start_time": "2022-07-16T16:43:15.777Z"
   },
   {
    "duration": 6,
    "start_time": "2022-07-16T16:43:15.911Z"
   },
   {
    "duration": 33,
    "start_time": "2022-07-16T16:43:15.920Z"
   },
   {
    "duration": 17,
    "start_time": "2022-07-16T16:43:15.954Z"
   },
   {
    "duration": 46,
    "start_time": "2022-07-16T16:43:15.973Z"
   },
   {
    "duration": 279,
    "start_time": "2022-07-16T16:43:16.022Z"
   },
   {
    "duration": 244,
    "start_time": "2022-07-16T16:43:16.302Z"
   },
   {
    "duration": 243,
    "start_time": "2022-07-16T16:43:16.547Z"
   },
   {
    "duration": 6,
    "start_time": "2022-07-16T16:43:16.792Z"
   },
   {
    "duration": 9,
    "start_time": "2022-07-16T16:43:16.810Z"
   },
   {
    "duration": 12,
    "start_time": "2022-07-16T16:43:16.824Z"
   },
   {
    "duration": 11,
    "start_time": "2022-07-16T16:43:16.838Z"
   },
   {
    "duration": 9,
    "start_time": "2022-07-16T16:43:16.851Z"
   },
   {
    "duration": 11,
    "start_time": "2022-07-16T16:43:16.861Z"
   },
   {
    "duration": 7,
    "start_time": "2022-07-16T16:50:47.759Z"
   },
   {
    "duration": 382,
    "start_time": "2022-07-16T16:50:47.768Z"
   },
   {
    "duration": 22,
    "start_time": "2022-07-16T16:50:48.152Z"
   },
   {
    "duration": 19,
    "start_time": "2022-07-16T16:50:48.177Z"
   },
   {
    "duration": 37,
    "start_time": "2022-07-16T16:50:48.199Z"
   },
   {
    "duration": 9,
    "start_time": "2022-07-16T16:50:48.238Z"
   },
   {
    "duration": 38,
    "start_time": "2022-07-16T16:50:48.249Z"
   },
   {
    "duration": 22,
    "start_time": "2022-07-16T16:50:48.289Z"
   },
   {
    "duration": 28,
    "start_time": "2022-07-16T16:50:48.313Z"
   },
   {
    "duration": 84,
    "start_time": "2022-07-16T16:50:48.343Z"
   },
   {
    "duration": 17,
    "start_time": "2022-07-16T16:50:48.431Z"
   },
   {
    "duration": 48,
    "start_time": "2022-07-16T16:50:48.450Z"
   },
   {
    "duration": 48,
    "start_time": "2022-07-16T16:50:48.500Z"
   },
   {
    "duration": 6,
    "start_time": "2022-07-16T16:50:48.550Z"
   },
   {
    "duration": 40,
    "start_time": "2022-07-16T16:50:48.558Z"
   },
   {
    "duration": 22,
    "start_time": "2022-07-16T16:50:48.600Z"
   },
   {
    "duration": 11,
    "start_time": "2022-07-16T16:50:48.624Z"
   },
   {
    "duration": 9,
    "start_time": "2022-07-16T16:50:48.637Z"
   },
   {
    "duration": 41,
    "start_time": "2022-07-16T16:50:48.648Z"
   },
   {
    "duration": 31,
    "start_time": "2022-07-16T16:50:48.691Z"
   },
   {
    "duration": 19,
    "start_time": "2022-07-16T16:50:48.724Z"
   },
   {
    "duration": 22,
    "start_time": "2022-07-16T16:50:48.744Z"
   },
   {
    "duration": 13,
    "start_time": "2022-07-16T16:50:48.768Z"
   },
   {
    "duration": 17,
    "start_time": "2022-07-16T16:50:48.811Z"
   },
   {
    "duration": 22,
    "start_time": "2022-07-16T16:50:48.830Z"
   },
   {
    "duration": 18,
    "start_time": "2022-07-16T16:50:48.854Z"
   },
   {
    "duration": 53,
    "start_time": "2022-07-16T16:50:48.874Z"
   },
   {
    "duration": 23,
    "start_time": "2022-07-16T16:50:48.930Z"
   },
   {
    "duration": 9,
    "start_time": "2022-07-16T16:50:48.959Z"
   },
   {
    "duration": 11,
    "start_time": "2022-07-16T16:50:48.970Z"
   },
   {
    "duration": 42,
    "start_time": "2022-07-16T16:50:48.983Z"
   },
   {
    "duration": 12,
    "start_time": "2022-07-16T16:50:49.027Z"
   },
   {
    "duration": 8,
    "start_time": "2022-07-16T16:50:49.043Z"
   },
   {
    "duration": 24,
    "start_time": "2022-07-16T16:50:49.054Z"
   },
   {
    "duration": 21,
    "start_time": "2022-07-16T16:50:49.081Z"
   },
   {
    "duration": 14,
    "start_time": "2022-07-16T16:50:49.104Z"
   },
   {
    "duration": 36,
    "start_time": "2022-07-16T16:50:49.120Z"
   },
   {
    "duration": 15,
    "start_time": "2022-07-16T16:50:49.159Z"
   },
   {
    "duration": 22,
    "start_time": "2022-07-16T16:50:49.175Z"
   },
   {
    "duration": 41,
    "start_time": "2022-07-16T16:50:49.208Z"
   },
   {
    "duration": 17,
    "start_time": "2022-07-16T16:50:49.251Z"
   },
   {
    "duration": 9,
    "start_time": "2022-07-16T16:50:49.270Z"
   },
   {
    "duration": 29,
    "start_time": "2022-07-16T16:50:49.281Z"
   },
   {
    "duration": 26,
    "start_time": "2022-07-16T16:50:49.312Z"
   },
   {
    "duration": 35,
    "start_time": "2022-07-16T16:50:49.340Z"
   },
   {
    "duration": 36,
    "start_time": "2022-07-16T16:50:49.377Z"
   },
   {
    "duration": 25,
    "start_time": "2022-07-16T16:50:49.415Z"
   },
   {
    "duration": 40,
    "start_time": "2022-07-16T16:50:49.442Z"
   },
   {
    "duration": 37,
    "start_time": "2022-07-16T16:50:49.485Z"
   },
   {
    "duration": 40,
    "start_time": "2022-07-16T16:50:49.524Z"
   },
   {
    "duration": 44,
    "start_time": "2022-07-16T16:50:49.566Z"
   },
   {
    "duration": 116,
    "start_time": "2022-07-16T16:50:49.612Z"
   },
   {
    "duration": 4,
    "start_time": "2022-07-16T16:50:49.731Z"
   },
   {
    "duration": 110,
    "start_time": "2022-07-16T16:50:49.737Z"
   },
   {
    "duration": 22,
    "start_time": "2022-07-16T16:50:49.850Z"
   },
   {
    "duration": 36,
    "start_time": "2022-07-16T16:50:49.875Z"
   },
   {
    "duration": 281,
    "start_time": "2022-07-16T16:50:49.915Z"
   },
   {
    "duration": 239,
    "start_time": "2022-07-16T16:50:50.198Z"
   },
   {
    "duration": 252,
    "start_time": "2022-07-16T16:50:50.439Z"
   },
   {
    "duration": 7,
    "start_time": "2022-07-16T16:50:50.692Z"
   },
   {
    "duration": 6,
    "start_time": "2022-07-16T16:50:50.710Z"
   },
   {
    "duration": 10,
    "start_time": "2022-07-16T16:50:50.717Z"
   },
   {
    "duration": 10,
    "start_time": "2022-07-16T16:50:50.729Z"
   },
   {
    "duration": 9,
    "start_time": "2022-07-16T16:50:50.741Z"
   },
   {
    "duration": 11,
    "start_time": "2022-07-16T16:50:50.752Z"
   },
   {
    "duration": 8,
    "start_time": "2022-07-16T16:51:53.692Z"
   },
   {
    "duration": 8,
    "start_time": "2022-07-16T16:52:05.478Z"
   },
   {
    "duration": 7,
    "start_time": "2022-07-16T16:56:35.436Z"
   },
   {
    "duration": 8,
    "start_time": "2022-07-16T17:03:02.903Z"
   },
   {
    "duration": 6,
    "start_time": "2022-07-16T17:03:53.977Z"
   },
   {
    "duration": 1009,
    "start_time": "2022-07-16T17:08:09.887Z"
   },
   {
    "duration": 3,
    "start_time": "2022-07-16T17:10:47.825Z"
   },
   {
    "duration": 350,
    "start_time": "2022-07-16T17:10:47.835Z"
   },
   {
    "duration": 24,
    "start_time": "2022-07-16T17:10:48.187Z"
   },
   {
    "duration": 33,
    "start_time": "2022-07-16T17:10:48.213Z"
   },
   {
    "duration": 26,
    "start_time": "2022-07-16T17:10:48.249Z"
   },
   {
    "duration": 9,
    "start_time": "2022-07-16T17:10:48.277Z"
   },
   {
    "duration": 30,
    "start_time": "2022-07-16T17:10:48.287Z"
   },
   {
    "duration": 21,
    "start_time": "2022-07-16T17:10:48.318Z"
   },
   {
    "duration": 17,
    "start_time": "2022-07-16T17:10:48.341Z"
   },
   {
    "duration": 13,
    "start_time": "2022-07-16T17:10:48.360Z"
   },
   {
    "duration": 15,
    "start_time": "2022-07-16T17:10:48.377Z"
   },
   {
    "duration": 24,
    "start_time": "2022-07-16T17:10:48.394Z"
   },
   {
    "duration": 46,
    "start_time": "2022-07-16T17:10:48.419Z"
   },
   {
    "duration": 4,
    "start_time": "2022-07-16T17:10:48.467Z"
   },
   {
    "duration": 24,
    "start_time": "2022-07-16T17:10:48.474Z"
   },
   {
    "duration": 31,
    "start_time": "2022-07-16T17:10:48.500Z"
   },
   {
    "duration": 21,
    "start_time": "2022-07-16T17:10:48.533Z"
   },
   {
    "duration": 8,
    "start_time": "2022-07-16T17:10:48.556Z"
   },
   {
    "duration": 15,
    "start_time": "2022-07-16T17:10:48.566Z"
   },
   {
    "duration": 47,
    "start_time": "2022-07-16T17:10:48.583Z"
   },
   {
    "duration": 18,
    "start_time": "2022-07-16T17:10:48.632Z"
   },
   {
    "duration": 19,
    "start_time": "2022-07-16T17:10:48.651Z"
   },
   {
    "duration": 13,
    "start_time": "2022-07-16T17:10:48.672Z"
   },
   {
    "duration": 39,
    "start_time": "2022-07-16T17:10:48.687Z"
   },
   {
    "duration": 19,
    "start_time": "2022-07-16T17:10:48.729Z"
   },
   {
    "duration": 23,
    "start_time": "2022-07-16T17:10:48.749Z"
   },
   {
    "duration": 38,
    "start_time": "2022-07-16T17:10:48.774Z"
   },
   {
    "duration": 23,
    "start_time": "2022-07-16T17:10:48.819Z"
   },
   {
    "duration": 9,
    "start_time": "2022-07-16T17:10:48.847Z"
   },
   {
    "duration": 22,
    "start_time": "2022-07-16T17:10:48.857Z"
   },
   {
    "duration": 18,
    "start_time": "2022-07-16T17:10:48.881Z"
   },
   {
    "duration": 13,
    "start_time": "2022-07-16T17:10:48.901Z"
   },
   {
    "duration": 22,
    "start_time": "2022-07-16T17:10:48.916Z"
   },
   {
    "duration": 31,
    "start_time": "2022-07-16T17:10:48.940Z"
   },
   {
    "duration": 15,
    "start_time": "2022-07-16T17:10:48.973Z"
   },
   {
    "duration": 4,
    "start_time": "2022-07-16T17:10:48.990Z"
   },
   {
    "duration": 29,
    "start_time": "2022-07-16T17:10:48.996Z"
   },
   {
    "duration": 21,
    "start_time": "2022-07-16T17:10:49.027Z"
   },
   {
    "duration": 22,
    "start_time": "2022-07-16T17:10:49.050Z"
   },
   {
    "duration": 49,
    "start_time": "2022-07-16T17:10:49.075Z"
   },
   {
    "duration": 17,
    "start_time": "2022-07-16T17:10:49.126Z"
   },
   {
    "duration": 15,
    "start_time": "2022-07-16T17:10:49.146Z"
   },
   {
    "duration": 11,
    "start_time": "2022-07-16T17:10:49.163Z"
   },
   {
    "duration": 24,
    "start_time": "2022-07-16T17:10:49.176Z"
   },
   {
    "duration": 24,
    "start_time": "2022-07-16T17:10:49.202Z"
   },
   {
    "duration": 123,
    "start_time": "2022-07-16T17:10:49.228Z"
   },
   {
    "duration": 21,
    "start_time": "2022-07-16T17:10:49.353Z"
   },
   {
    "duration": 41,
    "start_time": "2022-07-16T17:10:49.375Z"
   },
   {
    "duration": 35,
    "start_time": "2022-07-16T17:10:49.418Z"
   },
   {
    "duration": 40,
    "start_time": "2022-07-16T17:10:49.455Z"
   },
   {
    "duration": 16,
    "start_time": "2022-07-16T17:10:49.497Z"
   },
   {
    "duration": 125,
    "start_time": "2022-07-16T17:10:49.515Z"
   },
   {
    "duration": 4,
    "start_time": "2022-07-16T17:10:49.642Z"
   },
   {
    "duration": 26,
    "start_time": "2022-07-16T17:10:49.648Z"
   },
   {
    "duration": 38,
    "start_time": "2022-07-16T17:10:49.675Z"
   },
   {
    "duration": 18,
    "start_time": "2022-07-16T17:10:49.720Z"
   },
   {
    "duration": 330,
    "start_time": "2022-07-16T17:10:49.739Z"
   },
   {
    "duration": 261,
    "start_time": "2022-07-16T17:10:50.071Z"
   },
   {
    "duration": 241,
    "start_time": "2022-07-16T17:10:50.334Z"
   },
   {
    "duration": 7,
    "start_time": "2022-07-16T17:10:50.578Z"
   },
   {
    "duration": 11,
    "start_time": "2022-07-16T17:10:50.586Z"
   },
   {
    "duration": 11,
    "start_time": "2022-07-16T17:10:50.611Z"
   },
   {
    "duration": 860,
    "start_time": "2022-07-16T17:10:50.624Z"
   },
   {
    "duration": 1,
    "start_time": "2022-07-16T17:10:51.486Z"
   },
   {
    "duration": 0,
    "start_time": "2022-07-16T17:10:51.488Z"
   },
   {
    "duration": 754,
    "start_time": "2022-07-16T17:11:08.530Z"
   },
   {
    "duration": 2,
    "start_time": "2022-07-16T17:12:04.575Z"
   },
   {
    "duration": 323,
    "start_time": "2022-07-16T17:12:04.616Z"
   },
   {
    "duration": 20,
    "start_time": "2022-07-16T17:12:04.941Z"
   },
   {
    "duration": 19,
    "start_time": "2022-07-16T17:12:04.963Z"
   },
   {
    "duration": 24,
    "start_time": "2022-07-16T17:12:04.984Z"
   },
   {
    "duration": 20,
    "start_time": "2022-07-16T17:12:05.012Z"
   },
   {
    "duration": 21,
    "start_time": "2022-07-16T17:12:05.034Z"
   },
   {
    "duration": 6,
    "start_time": "2022-07-16T17:12:05.056Z"
   },
   {
    "duration": 11,
    "start_time": "2022-07-16T17:12:05.064Z"
   },
   {
    "duration": 17,
    "start_time": "2022-07-16T17:12:05.077Z"
   },
   {
    "duration": 17,
    "start_time": "2022-07-16T17:12:05.096Z"
   },
   {
    "duration": 25,
    "start_time": "2022-07-16T17:12:05.114Z"
   },
   {
    "duration": 28,
    "start_time": "2022-07-16T17:12:05.141Z"
   },
   {
    "duration": 5,
    "start_time": "2022-07-16T17:12:05.170Z"
   },
   {
    "duration": 34,
    "start_time": "2022-07-16T17:12:05.176Z"
   },
   {
    "duration": 19,
    "start_time": "2022-07-16T17:12:05.212Z"
   },
   {
    "duration": 9,
    "start_time": "2022-07-16T17:12:05.232Z"
   },
   {
    "duration": 4,
    "start_time": "2022-07-16T17:12:05.243Z"
   },
   {
    "duration": 16,
    "start_time": "2022-07-16T17:12:05.248Z"
   },
   {
    "duration": 47,
    "start_time": "2022-07-16T17:12:05.265Z"
   },
   {
    "duration": 19,
    "start_time": "2022-07-16T17:12:05.315Z"
   },
   {
    "duration": 23,
    "start_time": "2022-07-16T17:12:05.336Z"
   },
   {
    "duration": 13,
    "start_time": "2022-07-16T17:12:05.361Z"
   },
   {
    "duration": 16,
    "start_time": "2022-07-16T17:12:05.376Z"
   },
   {
    "duration": 45,
    "start_time": "2022-07-16T17:12:05.393Z"
   },
   {
    "duration": 13,
    "start_time": "2022-07-16T17:12:05.440Z"
   },
   {
    "duration": 20,
    "start_time": "2022-07-16T17:12:05.455Z"
   },
   {
    "duration": 17,
    "start_time": "2022-07-16T17:12:05.478Z"
   },
   {
    "duration": 18,
    "start_time": "2022-07-16T17:12:05.496Z"
   },
   {
    "duration": 17,
    "start_time": "2022-07-16T17:12:05.516Z"
   },
   {
    "duration": 11,
    "start_time": "2022-07-16T17:12:06.488Z"
   },
   {
    "duration": 30,
    "start_time": "2022-07-16T17:12:06.501Z"
   },
   {
    "duration": 5,
    "start_time": "2022-07-16T17:12:06.535Z"
   },
   {
    "duration": 12,
    "start_time": "2022-07-16T17:12:06.728Z"
   },
   {
    "duration": 15,
    "start_time": "2022-07-16T17:12:06.742Z"
   },
   {
    "duration": 3,
    "start_time": "2022-07-16T17:12:06.759Z"
   },
   {
    "duration": 18,
    "start_time": "2022-07-16T17:12:06.822Z"
   },
   {
    "duration": 11,
    "start_time": "2022-07-16T17:12:06.842Z"
   },
   {
    "duration": 14,
    "start_time": "2022-07-16T17:12:06.855Z"
   },
   {
    "duration": 27,
    "start_time": "2022-07-16T17:12:06.921Z"
   },
   {
    "duration": 12,
    "start_time": "2022-07-16T17:12:06.950Z"
   },
   {
    "duration": 3,
    "start_time": "2022-07-16T17:12:06.964Z"
   },
   {
    "duration": 6,
    "start_time": "2022-07-16T17:12:07.019Z"
   },
   {
    "duration": 21,
    "start_time": "2022-07-16T17:12:07.027Z"
   },
   {
    "duration": 12,
    "start_time": "2022-07-16T17:12:07.050Z"
   },
   {
    "duration": 31,
    "start_time": "2022-07-16T17:12:07.135Z"
   },
   {
    "duration": 21,
    "start_time": "2022-07-16T17:12:07.168Z"
   },
   {
    "duration": 37,
    "start_time": "2022-07-16T17:12:07.220Z"
   },
   {
    "duration": 13,
    "start_time": "2022-07-16T17:12:07.260Z"
   },
   {
    "duration": 37,
    "start_time": "2022-07-16T17:12:07.275Z"
   },
   {
    "duration": 12,
    "start_time": "2022-07-16T17:12:07.323Z"
   },
   {
    "duration": 95,
    "start_time": "2022-07-16T17:12:07.336Z"
   },
   {
    "duration": 3,
    "start_time": "2022-07-16T17:12:07.433Z"
   },
   {
    "duration": 28,
    "start_time": "2022-07-16T17:12:07.437Z"
   },
   {
    "duration": 18,
    "start_time": "2022-07-16T17:12:08.029Z"
   },
   {
    "duration": 20,
    "start_time": "2022-07-16T17:12:08.125Z"
   },
   {
    "duration": 234,
    "start_time": "2022-07-16T17:12:08.171Z"
   },
   {
    "duration": 224,
    "start_time": "2022-07-16T17:12:08.407Z"
   },
   {
    "duration": 254,
    "start_time": "2022-07-16T17:12:08.633Z"
   },
   {
    "duration": 9,
    "start_time": "2022-07-16T17:12:08.889Z"
   },
   {
    "duration": 12,
    "start_time": "2022-07-16T17:12:08.916Z"
   },
   {
    "duration": 16,
    "start_time": "2022-07-16T17:12:08.930Z"
   },
   {
    "duration": 2,
    "start_time": "2022-07-16T17:12:10.501Z"
   },
   {
    "duration": 321,
    "start_time": "2022-07-16T17:12:10.554Z"
   },
   {
    "duration": 19,
    "start_time": "2022-07-16T17:12:10.877Z"
   },
   {
    "duration": 8,
    "start_time": "2022-07-16T17:12:10.898Z"
   },
   {
    "duration": 34,
    "start_time": "2022-07-16T17:12:10.907Z"
   },
   {
    "duration": 8,
    "start_time": "2022-07-16T17:12:10.943Z"
   },
   {
    "duration": 17,
    "start_time": "2022-07-16T17:12:10.952Z"
   },
   {
    "duration": 8,
    "start_time": "2022-07-16T17:12:10.971Z"
   },
   {
    "duration": 14,
    "start_time": "2022-07-16T17:12:10.981Z"
   },
   {
    "duration": 24,
    "start_time": "2022-07-16T17:12:10.997Z"
   },
   {
    "duration": 30,
    "start_time": "2022-07-16T17:12:11.024Z"
   },
   {
    "duration": 26,
    "start_time": "2022-07-16T17:12:11.056Z"
   },
   {
    "duration": 29,
    "start_time": "2022-07-16T17:12:11.084Z"
   },
   {
    "duration": 6,
    "start_time": "2022-07-16T17:12:11.118Z"
   },
   {
    "duration": 26,
    "start_time": "2022-07-16T17:12:11.126Z"
   },
   {
    "duration": 13,
    "start_time": "2022-07-16T17:12:11.154Z"
   },
   {
    "duration": 9,
    "start_time": "2022-07-16T17:12:11.170Z"
   },
   {
    "duration": 4,
    "start_time": "2022-07-16T17:12:11.180Z"
   },
   {
    "duration": 21,
    "start_time": "2022-07-16T17:12:11.210Z"
   },
   {
    "duration": 21,
    "start_time": "2022-07-16T17:12:11.233Z"
   },
   {
    "duration": 17,
    "start_time": "2022-07-16T17:12:11.256Z"
   },
   {
    "duration": 38,
    "start_time": "2022-07-16T17:12:11.275Z"
   },
   {
    "duration": 18,
    "start_time": "2022-07-16T17:12:11.316Z"
   },
   {
    "duration": 13,
    "start_time": "2022-07-16T17:12:11.335Z"
   },
   {
    "duration": 26,
    "start_time": "2022-07-16T17:12:11.350Z"
   },
   {
    "duration": 13,
    "start_time": "2022-07-16T17:12:11.377Z"
   },
   {
    "duration": 19,
    "start_time": "2022-07-16T17:12:11.415Z"
   },
   {
    "duration": 20,
    "start_time": "2022-07-16T17:12:11.436Z"
   },
   {
    "duration": 12,
    "start_time": "2022-07-16T17:12:11.459Z"
   },
   {
    "duration": 10,
    "start_time": "2022-07-16T17:12:11.473Z"
   },
   {
    "duration": 32,
    "start_time": "2022-07-16T17:12:11.484Z"
   },
   {
    "duration": 40,
    "start_time": "2022-07-16T17:12:11.519Z"
   },
   {
    "duration": 27,
    "start_time": "2022-07-16T17:12:11.561Z"
   },
   {
    "duration": 29,
    "start_time": "2022-07-16T17:12:11.590Z"
   },
   {
    "duration": 39,
    "start_time": "2022-07-16T17:12:11.621Z"
   },
   {
    "duration": 7,
    "start_time": "2022-07-16T17:12:12.304Z"
   },
   {
    "duration": 36,
    "start_time": "2022-07-16T17:12:12.314Z"
   },
   {
    "duration": 23,
    "start_time": "2022-07-16T17:12:12.352Z"
   },
   {
    "duration": 26,
    "start_time": "2022-07-16T17:12:12.377Z"
   },
   {
    "duration": 51,
    "start_time": "2022-07-16T17:12:12.405Z"
   },
   {
    "duration": 13,
    "start_time": "2022-07-16T17:12:12.457Z"
   },
   {
    "duration": 18,
    "start_time": "2022-07-16T17:12:12.473Z"
   },
   {
    "duration": 9,
    "start_time": "2022-07-16T17:12:12.493Z"
   },
   {
    "duration": 40,
    "start_time": "2022-07-16T17:12:12.504Z"
   },
   {
    "duration": 15,
    "start_time": "2022-07-16T17:12:12.554Z"
   },
   {
    "duration": 32,
    "start_time": "2022-07-16T17:12:12.571Z"
   },
   {
    "duration": 23,
    "start_time": "2022-07-16T17:12:12.605Z"
   },
   {
    "duration": 28,
    "start_time": "2022-07-16T17:12:12.656Z"
   },
   {
    "duration": 14,
    "start_time": "2022-07-16T17:12:12.685Z"
   },
   {
    "duration": 28,
    "start_time": "2022-07-16T17:12:12.726Z"
   },
   {
    "duration": 1147,
    "start_time": "2022-07-16T20:21:49.708Z"
   },
   {
    "duration": 759,
    "start_time": "2022-07-16T20:21:50.857Z"
   },
   {
    "duration": 20,
    "start_time": "2022-07-16T20:21:51.618Z"
   },
   {
    "duration": 11,
    "start_time": "2022-07-16T20:21:51.640Z"
   },
   {
    "duration": 19,
    "start_time": "2022-07-16T20:21:51.653Z"
   },
   {
    "duration": 8,
    "start_time": "2022-07-16T20:21:51.674Z"
   },
   {
    "duration": 18,
    "start_time": "2022-07-16T20:21:51.684Z"
   },
   {
    "duration": 7,
    "start_time": "2022-07-16T20:21:51.703Z"
   },
   {
    "duration": 36,
    "start_time": "2022-07-16T20:21:51.712Z"
   },
   {
    "duration": 21,
    "start_time": "2022-07-16T20:21:51.750Z"
   },
   {
    "duration": 14,
    "start_time": "2022-07-16T20:21:51.772Z"
   },
   {
    "duration": 12,
    "start_time": "2022-07-16T20:21:51.787Z"
   },
   {
    "duration": 39,
    "start_time": "2022-07-16T20:21:51.801Z"
   },
   {
    "duration": 5,
    "start_time": "2022-07-16T20:21:51.843Z"
   },
   {
    "duration": 26,
    "start_time": "2022-07-16T20:21:51.849Z"
   },
   {
    "duration": 15,
    "start_time": "2022-07-16T20:21:51.877Z"
   },
   {
    "duration": 10,
    "start_time": "2022-07-16T20:21:51.894Z"
   },
   {
    "duration": 34,
    "start_time": "2022-07-16T20:21:51.906Z"
   },
   {
    "duration": 17,
    "start_time": "2022-07-16T20:21:51.943Z"
   },
   {
    "duration": 22,
    "start_time": "2022-07-16T20:21:51.962Z"
   },
   {
    "duration": 17,
    "start_time": "2022-07-16T20:21:51.986Z"
   },
   {
    "duration": 46,
    "start_time": "2022-07-16T20:21:52.005Z"
   },
   {
    "duration": 13,
    "start_time": "2022-07-16T20:21:52.053Z"
   },
   {
    "duration": 15,
    "start_time": "2022-07-16T20:21:52.068Z"
   },
   {
    "duration": 17,
    "start_time": "2022-07-16T20:21:52.085Z"
   },
   {
    "duration": 15,
    "start_time": "2022-07-16T20:21:52.103Z"
   },
   {
    "duration": 35,
    "start_time": "2022-07-16T20:21:52.119Z"
   },
   {
    "duration": 15,
    "start_time": "2022-07-16T20:21:52.156Z"
   },
   {
    "duration": 6,
    "start_time": "2022-07-16T20:21:52.172Z"
   },
   {
    "duration": 7,
    "start_time": "2022-07-16T20:21:52.180Z"
   },
   {
    "duration": 14,
    "start_time": "2022-07-16T20:21:52.188Z"
   },
   {
    "duration": 41,
    "start_time": "2022-07-16T20:21:52.204Z"
   },
   {
    "duration": 7,
    "start_time": "2022-07-16T20:21:52.247Z"
   },
   {
    "duration": 19,
    "start_time": "2022-07-16T20:21:52.256Z"
   },
   {
    "duration": 11,
    "start_time": "2022-07-16T20:21:52.276Z"
   },
   {
    "duration": 3,
    "start_time": "2022-07-16T20:21:52.289Z"
   },
   {
    "duration": 21,
    "start_time": "2022-07-16T20:21:52.293Z"
   },
   {
    "duration": 25,
    "start_time": "2022-07-16T20:21:52.316Z"
   },
   {
    "duration": 26,
    "start_time": "2022-07-16T20:21:52.343Z"
   },
   {
    "duration": 31,
    "start_time": "2022-07-16T20:21:52.371Z"
   },
   {
    "duration": 12,
    "start_time": "2022-07-16T20:21:52.406Z"
   },
   {
    "duration": 6,
    "start_time": "2022-07-16T20:21:52.419Z"
   },
   {
    "duration": 5,
    "start_time": "2022-07-16T20:21:52.440Z"
   },
   {
    "duration": 23,
    "start_time": "2022-07-16T20:21:52.447Z"
   },
   {
    "duration": 13,
    "start_time": "2022-07-16T20:21:52.471Z"
   },
   {
    "duration": 22,
    "start_time": "2022-07-16T20:21:52.486Z"
   },
   {
    "duration": 32,
    "start_time": "2022-07-16T20:21:52.509Z"
   },
   {
    "duration": 30,
    "start_time": "2022-07-16T20:21:52.543Z"
   },
   {
    "duration": 12,
    "start_time": "2022-07-16T20:21:52.575Z"
   },
   {
    "duration": 27,
    "start_time": "2022-07-16T20:21:52.588Z"
   },
   {
    "duration": 13,
    "start_time": "2022-07-16T20:21:52.640Z"
   },
   {
    "duration": 111,
    "start_time": "2022-07-16T20:21:52.655Z"
   },
   {
    "duration": 4,
    "start_time": "2022-07-16T20:21:52.768Z"
   },
   {
    "duration": 23,
    "start_time": "2022-07-16T20:21:52.774Z"
   },
   {
    "duration": 17,
    "start_time": "2022-07-16T20:21:52.798Z"
   },
   {
    "duration": 18,
    "start_time": "2022-07-16T20:21:52.840Z"
   },
   {
    "duration": 280,
    "start_time": "2022-07-16T20:21:52.860Z"
   },
   {
    "duration": 290,
    "start_time": "2022-07-16T20:21:53.141Z"
   },
   {
    "duration": 260,
    "start_time": "2022-07-16T20:21:53.433Z"
   },
   {
    "duration": 7,
    "start_time": "2022-07-16T20:21:53.695Z"
   },
   {
    "duration": 15,
    "start_time": "2022-07-16T20:21:53.703Z"
   },
   {
    "duration": 8,
    "start_time": "2022-07-16T20:21:53.719Z"
   },
   {
    "duration": 1886,
    "start_time": "2022-07-16T20:21:53.740Z"
   },
   {
    "duration": 0,
    "start_time": "2022-07-16T20:21:55.628Z"
   },
   {
    "duration": 0,
    "start_time": "2022-07-16T20:21:55.630Z"
   },
   {
    "duration": 39,
    "start_time": "2022-07-16T20:24:57.236Z"
   },
   {
    "duration": 7,
    "start_time": "2022-07-16T20:25:14.228Z"
   },
   {
    "duration": 6,
    "start_time": "2022-07-16T20:25:15.003Z"
   },
   {
    "duration": 13,
    "start_time": "2022-07-16T20:25:15.755Z"
   },
   {
    "duration": 1096,
    "start_time": "2022-07-16T20:25:31.201Z"
   },
   {
    "duration": 336,
    "start_time": "2022-07-16T20:25:32.299Z"
   },
   {
    "duration": 22,
    "start_time": "2022-07-16T20:25:32.637Z"
   },
   {
    "duration": 13,
    "start_time": "2022-07-16T20:25:32.660Z"
   },
   {
    "duration": 19,
    "start_time": "2022-07-16T20:25:32.676Z"
   },
   {
    "duration": 8,
    "start_time": "2022-07-16T20:25:32.696Z"
   },
   {
    "duration": 39,
    "start_time": "2022-07-16T20:25:32.706Z"
   },
   {
    "duration": 7,
    "start_time": "2022-07-16T20:25:32.747Z"
   },
   {
    "duration": 19,
    "start_time": "2022-07-16T20:25:32.756Z"
   },
   {
    "duration": 16,
    "start_time": "2022-07-16T20:25:32.777Z"
   },
   {
    "duration": 16,
    "start_time": "2022-07-16T20:25:32.795Z"
   },
   {
    "duration": 14,
    "start_time": "2022-07-16T20:25:32.813Z"
   },
   {
    "duration": 23,
    "start_time": "2022-07-16T20:25:32.841Z"
   },
   {
    "duration": 4,
    "start_time": "2022-07-16T20:25:32.868Z"
   },
   {
    "duration": 25,
    "start_time": "2022-07-16T20:25:32.874Z"
   },
   {
    "duration": 42,
    "start_time": "2022-07-16T20:25:32.901Z"
   },
   {
    "duration": 12,
    "start_time": "2022-07-16T20:25:32.944Z"
   },
   {
    "duration": 8,
    "start_time": "2022-07-16T20:25:32.957Z"
   },
   {
    "duration": 33,
    "start_time": "2022-07-16T20:25:32.966Z"
   },
   {
    "duration": 25,
    "start_time": "2022-07-16T20:25:33.003Z"
   },
   {
    "duration": 26,
    "start_time": "2022-07-16T20:25:33.030Z"
   },
   {
    "duration": 20,
    "start_time": "2022-07-16T20:25:33.058Z"
   },
   {
    "duration": 15,
    "start_time": "2022-07-16T20:25:33.080Z"
   },
   {
    "duration": 44,
    "start_time": "2022-07-16T20:25:33.097Z"
   },
   {
    "duration": 15,
    "start_time": "2022-07-16T20:25:33.143Z"
   },
   {
    "duration": 15,
    "start_time": "2022-07-16T20:25:33.160Z"
   },
   {
    "duration": 16,
    "start_time": "2022-07-16T20:25:33.177Z"
   },
   {
    "duration": 15,
    "start_time": "2022-07-16T20:25:33.195Z"
   },
   {
    "duration": 7,
    "start_time": "2022-07-16T20:25:33.241Z"
   },
   {
    "duration": 9,
    "start_time": "2022-07-16T20:25:33.249Z"
   },
   {
    "duration": 15,
    "start_time": "2022-07-16T20:25:33.259Z"
   },
   {
    "duration": 7,
    "start_time": "2022-07-16T20:25:33.276Z"
   },
   {
    "duration": 10,
    "start_time": "2022-07-16T20:25:33.284Z"
   },
   {
    "duration": 12,
    "start_time": "2022-07-16T20:25:33.296Z"
   },
   {
    "duration": 33,
    "start_time": "2022-07-16T20:25:33.310Z"
   },
   {
    "duration": 6,
    "start_time": "2022-07-16T20:25:33.345Z"
   },
   {
    "duration": 20,
    "start_time": "2022-07-16T20:25:33.352Z"
   },
   {
    "duration": 12,
    "start_time": "2022-07-16T20:25:33.374Z"
   },
   {
    "duration": 17,
    "start_time": "2022-07-16T20:25:33.388Z"
   },
   {
    "duration": 52,
    "start_time": "2022-07-16T20:25:33.406Z"
   },
   {
    "duration": 13,
    "start_time": "2022-07-16T20:25:33.462Z"
   },
   {
    "duration": 7,
    "start_time": "2022-07-16T20:25:33.477Z"
   },
   {
    "duration": 7,
    "start_time": "2022-07-16T20:25:33.485Z"
   },
   {
    "duration": 19,
    "start_time": "2022-07-16T20:25:33.494Z"
   },
   {
    "duration": 34,
    "start_time": "2022-07-16T20:25:33.514Z"
   },
   {
    "duration": 25,
    "start_time": "2022-07-16T20:25:33.550Z"
   },
   {
    "duration": 18,
    "start_time": "2022-07-16T20:25:33.577Z"
   },
   {
    "duration": 54,
    "start_time": "2022-07-16T20:25:33.596Z"
   },
   {
    "duration": 13,
    "start_time": "2022-07-16T20:25:33.652Z"
   },
   {
    "duration": 30,
    "start_time": "2022-07-16T20:25:33.667Z"
   },
   {
    "duration": 41,
    "start_time": "2022-07-16T20:25:33.699Z"
   },
   {
    "duration": 104,
    "start_time": "2022-07-16T20:25:33.742Z"
   },
   {
    "duration": 5,
    "start_time": "2022-07-16T20:25:33.848Z"
   },
   {
    "duration": 27,
    "start_time": "2022-07-16T20:25:33.854Z"
   },
   {
    "duration": 18,
    "start_time": "2022-07-16T20:25:33.883Z"
   },
   {
    "duration": 45,
    "start_time": "2022-07-16T20:25:33.903Z"
   },
   {
    "duration": 272,
    "start_time": "2022-07-16T20:25:33.950Z"
   },
   {
    "duration": 238,
    "start_time": "2022-07-16T20:25:34.224Z"
   },
   {
    "duration": 247,
    "start_time": "2022-07-16T20:25:34.464Z"
   },
   {
    "duration": 7,
    "start_time": "2022-07-16T20:25:34.713Z"
   },
   {
    "duration": 22,
    "start_time": "2022-07-16T20:25:34.721Z"
   },
   {
    "duration": 6,
    "start_time": "2022-07-16T20:25:34.745Z"
   },
   {
    "duration": 2225,
    "start_time": "2022-07-16T20:25:34.753Z"
   },
   {
    "duration": 0,
    "start_time": "2022-07-16T20:25:36.980Z"
   },
   {
    "duration": 0,
    "start_time": "2022-07-16T20:25:36.981Z"
   },
   {
    "duration": 1956,
    "start_time": "2022-07-16T20:26:36.195Z"
   },
   {
    "duration": 14,
    "start_time": "2022-07-16T20:26:41.435Z"
   },
   {
    "duration": 36,
    "start_time": "2022-07-16T20:28:02.012Z"
   },
   {
    "duration": 48,
    "start_time": "2022-07-16T20:28:22.077Z"
   },
   {
    "duration": 1202,
    "start_time": "2022-07-16T20:30:56.917Z"
   },
   {
    "duration": 321,
    "start_time": "2022-07-16T20:30:58.121Z"
   },
   {
    "duration": 20,
    "start_time": "2022-07-16T20:30:58.444Z"
   },
   {
    "duration": 12,
    "start_time": "2022-07-16T20:30:58.466Z"
   },
   {
    "duration": 16,
    "start_time": "2022-07-16T20:30:58.480Z"
   },
   {
    "duration": 8,
    "start_time": "2022-07-16T20:30:58.498Z"
   },
   {
    "duration": 41,
    "start_time": "2022-07-16T20:30:58.508Z"
   },
   {
    "duration": 7,
    "start_time": "2022-07-16T20:30:58.551Z"
   },
   {
    "duration": 13,
    "start_time": "2022-07-16T20:30:58.559Z"
   },
   {
    "duration": 11,
    "start_time": "2022-07-16T20:30:58.575Z"
   },
   {
    "duration": 15,
    "start_time": "2022-07-16T20:30:58.588Z"
   },
   {
    "duration": 38,
    "start_time": "2022-07-16T20:30:58.604Z"
   },
   {
    "duration": 31,
    "start_time": "2022-07-16T20:30:58.644Z"
   },
   {
    "duration": 5,
    "start_time": "2022-07-16T20:30:58.676Z"
   },
   {
    "duration": 29,
    "start_time": "2022-07-16T20:30:58.683Z"
   },
   {
    "duration": 30,
    "start_time": "2022-07-16T20:30:58.714Z"
   },
   {
    "duration": 12,
    "start_time": "2022-07-16T20:30:58.745Z"
   },
   {
    "duration": 6,
    "start_time": "2022-07-16T20:30:58.758Z"
   },
   {
    "duration": 20,
    "start_time": "2022-07-16T20:30:58.765Z"
   },
   {
    "duration": 25,
    "start_time": "2022-07-16T20:30:58.787Z"
   },
   {
    "duration": 42,
    "start_time": "2022-07-16T20:30:58.813Z"
   },
   {
    "duration": 19,
    "start_time": "2022-07-16T20:30:58.857Z"
   },
   {
    "duration": 13,
    "start_time": "2022-07-16T20:30:58.878Z"
   },
   {
    "duration": 12,
    "start_time": "2022-07-16T20:30:58.893Z"
   },
   {
    "duration": 15,
    "start_time": "2022-07-16T20:30:58.941Z"
   },
   {
    "duration": 15,
    "start_time": "2022-07-16T20:30:58.958Z"
   },
   {
    "duration": 17,
    "start_time": "2022-07-16T20:30:58.974Z"
   },
   {
    "duration": 47,
    "start_time": "2022-07-16T20:30:58.994Z"
   },
   {
    "duration": 7,
    "start_time": "2022-07-16T20:30:59.043Z"
   },
   {
    "duration": 17,
    "start_time": "2022-07-16T20:30:59.051Z"
   },
   {
    "duration": 14,
    "start_time": "2022-07-16T20:30:59.069Z"
   },
   {
    "duration": 9,
    "start_time": "2022-07-16T20:30:59.085Z"
   },
   {
    "duration": 8,
    "start_time": "2022-07-16T20:30:59.095Z"
   },
   {
    "duration": 13,
    "start_time": "2022-07-16T20:30:59.105Z"
   },
   {
    "duration": 25,
    "start_time": "2022-07-16T20:30:59.120Z"
   },
   {
    "duration": 2,
    "start_time": "2022-07-16T20:30:59.147Z"
   },
   {
    "duration": 20,
    "start_time": "2022-07-16T20:30:59.151Z"
   },
   {
    "duration": 12,
    "start_time": "2022-07-16T20:30:59.172Z"
   },
   {
    "duration": 21,
    "start_time": "2022-07-16T20:30:59.186Z"
   },
   {
    "duration": 47,
    "start_time": "2022-07-16T20:30:59.208Z"
   },
   {
    "duration": 13,
    "start_time": "2022-07-16T20:30:59.256Z"
   },
   {
    "duration": 6,
    "start_time": "2022-07-16T20:30:59.271Z"
   },
   {
    "duration": 7,
    "start_time": "2022-07-16T20:30:59.279Z"
   },
   {
    "duration": 26,
    "start_time": "2022-07-16T20:30:59.288Z"
   },
   {
    "duration": 29,
    "start_time": "2022-07-16T20:30:59.316Z"
   },
   {
    "duration": 26,
    "start_time": "2022-07-16T20:30:59.347Z"
   },
   {
    "duration": 18,
    "start_time": "2022-07-16T20:30:59.375Z"
   },
   {
    "duration": 56,
    "start_time": "2022-07-16T20:30:59.395Z"
   },
   {
    "duration": 15,
    "start_time": "2022-07-16T20:30:59.453Z"
   },
   {
    "duration": 30,
    "start_time": "2022-07-16T20:30:59.470Z"
   },
   {
    "duration": 38,
    "start_time": "2022-07-16T20:30:59.502Z"
   },
   {
    "duration": 106,
    "start_time": "2022-07-16T20:30:59.542Z"
   },
   {
    "duration": 5,
    "start_time": "2022-07-16T20:30:59.649Z"
   },
   {
    "duration": 25,
    "start_time": "2022-07-16T20:30:59.655Z"
   },
   {
    "duration": 18,
    "start_time": "2022-07-16T20:30:59.682Z"
   },
   {
    "duration": 52,
    "start_time": "2022-07-16T20:30:59.701Z"
   },
   {
    "duration": 288,
    "start_time": "2022-07-16T20:30:59.754Z"
   },
   {
    "duration": 254,
    "start_time": "2022-07-16T20:31:00.044Z"
   },
   {
    "duration": 269,
    "start_time": "2022-07-16T20:31:00.300Z"
   },
   {
    "duration": 8,
    "start_time": "2022-07-16T20:31:00.571Z"
   },
   {
    "duration": 26,
    "start_time": "2022-07-16T20:31:00.580Z"
   },
   {
    "duration": 9,
    "start_time": "2022-07-16T20:31:00.608Z"
   },
   {
    "duration": 1168,
    "start_time": "2022-07-16T20:31:06.231Z"
   },
   {
    "duration": 318,
    "start_time": "2022-07-16T20:31:07.401Z"
   },
   {
    "duration": 30,
    "start_time": "2022-07-16T20:31:07.722Z"
   },
   {
    "duration": 15,
    "start_time": "2022-07-16T20:31:07.755Z"
   },
   {
    "duration": 24,
    "start_time": "2022-07-16T20:31:07.772Z"
   },
   {
    "duration": 42,
    "start_time": "2022-07-16T20:31:07.798Z"
   },
   {
    "duration": 19,
    "start_time": "2022-07-16T20:31:07.843Z"
   },
   {
    "duration": 10,
    "start_time": "2022-07-16T20:31:07.954Z"
   },
   {
    "duration": 11,
    "start_time": "2022-07-16T20:31:08.139Z"
   },
   {
    "duration": 10,
    "start_time": "2022-07-16T20:31:08.305Z"
   },
   {
    "duration": 13,
    "start_time": "2022-07-16T20:31:08.480Z"
   },
   {
    "duration": 10,
    "start_time": "2022-07-16T20:31:08.655Z"
   },
   {
    "duration": 27,
    "start_time": "2022-07-16T20:31:09.169Z"
   },
   {
    "duration": 4,
    "start_time": "2022-07-16T20:31:09.339Z"
   },
   {
    "duration": 24,
    "start_time": "2022-07-16T20:31:09.669Z"
   },
   {
    "duration": 16,
    "start_time": "2022-07-16T20:31:10.031Z"
   },
   {
    "duration": 11,
    "start_time": "2022-07-16T20:31:10.196Z"
   },
   {
    "duration": 4,
    "start_time": "2022-07-16T20:31:10.364Z"
   },
   {
    "duration": 14,
    "start_time": "2022-07-16T20:31:10.539Z"
   },
   {
    "duration": 24,
    "start_time": "2022-07-16T20:31:10.726Z"
   },
   {
    "duration": 19,
    "start_time": "2022-07-16T20:31:10.927Z"
   },
   {
    "duration": 21,
    "start_time": "2022-07-16T20:31:11.080Z"
   },
   {
    "duration": 17,
    "start_time": "2022-07-16T20:31:11.264Z"
   },
   {
    "duration": 12,
    "start_time": "2022-07-16T20:31:11.464Z"
   },
   {
    "duration": 15,
    "start_time": "2022-07-16T20:31:12.354Z"
   },
   {
    "duration": 15,
    "start_time": "2022-07-16T20:31:12.565Z"
   },
   {
    "duration": 17,
    "start_time": "2022-07-16T20:31:13.080Z"
   },
   {
    "duration": 17,
    "start_time": "2022-07-16T20:31:57.114Z"
   },
   {
    "duration": 7,
    "start_time": "2022-07-16T20:31:57.281Z"
   },
   {
    "duration": 5,
    "start_time": "2022-07-16T20:31:57.455Z"
   },
   {
    "duration": 11,
    "start_time": "2022-07-16T20:31:57.613Z"
   },
   {
    "duration": 6,
    "start_time": "2022-07-16T20:31:57.806Z"
   },
   {
    "duration": 5,
    "start_time": "2022-07-16T20:31:57.989Z"
   },
   {
    "duration": 11,
    "start_time": "2022-07-16T20:31:58.259Z"
   },
   {
    "duration": 10,
    "start_time": "2022-07-16T20:32:00.462Z"
   },
   {
    "duration": 3,
    "start_time": "2022-07-16T20:32:00.664Z"
   },
   {
    "duration": 17,
    "start_time": "2022-07-16T20:32:00.894Z"
   },
   {
    "duration": 14,
    "start_time": "2022-07-16T20:32:01.326Z"
   },
   {
    "duration": 15,
    "start_time": "2022-07-16T20:32:03.167Z"
   },
   {
    "duration": 29,
    "start_time": "2022-07-16T20:32:03.639Z"
   },
   {
    "duration": 13,
    "start_time": "2022-07-16T20:32:11.975Z"
   },
   {
    "duration": 27,
    "start_time": "2022-07-16T20:32:19.193Z"
   },
   {
    "duration": 18,
    "start_time": "2022-07-16T20:32:54.641Z"
   },
   {
    "duration": 12,
    "start_time": "2022-07-16T20:33:01.894Z"
   },
   {
    "duration": 192,
    "start_time": "2022-07-16T20:33:26.484Z"
   },
   {
    "duration": 14,
    "start_time": "2022-07-16T20:33:26.840Z"
   },
   {
    "duration": 19,
    "start_time": "2022-07-16T20:33:31.144Z"
   },
   {
    "duration": 13,
    "start_time": "2022-07-16T20:33:31.705Z"
   },
   {
    "duration": 15,
    "start_time": "2022-07-16T20:33:35.837Z"
   },
   {
    "duration": 22,
    "start_time": "2022-07-16T20:33:53.614Z"
   },
   {
    "duration": 269,
    "start_time": "2022-07-16T20:35:06.540Z"
   },
   {
    "duration": 13,
    "start_time": "2022-07-16T20:35:08.230Z"
   },
   {
    "duration": 16,
    "start_time": "2022-07-16T20:35:08.991Z"
   },
   {
    "duration": 419,
    "start_time": "2022-07-16T20:35:14.032Z"
   },
   {
    "duration": 17,
    "start_time": "2022-07-16T20:35:20.366Z"
   },
   {
    "duration": 14,
    "start_time": "2022-07-16T20:35:22.974Z"
   },
   {
    "duration": 12,
    "start_time": "2022-07-16T20:35:28.238Z"
   },
   {
    "duration": 13,
    "start_time": "2022-07-16T20:35:28.450Z"
   },
   {
    "duration": 27,
    "start_time": "2022-07-16T20:35:36.044Z"
   },
   {
    "duration": 13,
    "start_time": "2022-07-16T20:35:37.242Z"
   },
   {
    "duration": 4,
    "start_time": "2022-07-16T20:35:44.987Z"
   },
   {
    "duration": 3,
    "start_time": "2022-07-16T20:35:45.165Z"
   },
   {
    "duration": 17,
    "start_time": "2022-07-16T20:35:45.400Z"
   },
   {
    "duration": 13,
    "start_time": "2022-07-16T20:35:45.985Z"
   },
   {
    "duration": 25,
    "start_time": "2022-07-16T20:35:46.410Z"
   },
   {
    "duration": 19,
    "start_time": "2022-07-16T20:35:46.842Z"
   },
   {
    "duration": 31,
    "start_time": "2022-07-16T20:35:48.952Z"
   },
   {
    "duration": 15,
    "start_time": "2022-07-16T20:35:49.214Z"
   },
   {
    "duration": 1197,
    "start_time": "2022-07-16T20:36:59.994Z"
   },
   {
    "duration": 341,
    "start_time": "2022-07-16T20:37:01.193Z"
   },
   {
    "duration": 21,
    "start_time": "2022-07-16T20:37:01.535Z"
   },
   {
    "duration": 17,
    "start_time": "2022-07-16T20:37:01.558Z"
   },
   {
    "duration": 24,
    "start_time": "2022-07-16T20:37:01.578Z"
   },
   {
    "duration": 10,
    "start_time": "2022-07-16T20:37:01.604Z"
   },
   {
    "duration": 36,
    "start_time": "2022-07-16T20:37:01.616Z"
   },
   {
    "duration": 9,
    "start_time": "2022-07-16T20:37:01.654Z"
   },
   {
    "duration": 18,
    "start_time": "2022-07-16T20:37:01.665Z"
   },
   {
    "duration": 25,
    "start_time": "2022-07-16T20:37:01.685Z"
   },
   {
    "duration": 13,
    "start_time": "2022-07-16T20:37:01.713Z"
   },
   {
    "duration": 34,
    "start_time": "2022-07-16T20:37:01.729Z"
   },
   {
    "duration": 36,
    "start_time": "2022-07-16T20:37:01.765Z"
   },
   {
    "duration": 4,
    "start_time": "2022-07-16T20:37:01.806Z"
   },
   {
    "duration": 33,
    "start_time": "2022-07-16T20:37:01.812Z"
   },
   {
    "duration": 19,
    "start_time": "2022-07-16T20:37:01.847Z"
   },
   {
    "duration": 15,
    "start_time": "2022-07-16T20:37:01.868Z"
   },
   {
    "duration": 20,
    "start_time": "2022-07-16T20:37:01.885Z"
   },
   {
    "duration": 15,
    "start_time": "2022-07-16T20:37:01.907Z"
   },
   {
    "duration": 50,
    "start_time": "2022-07-16T20:37:01.924Z"
   },
   {
    "duration": 19,
    "start_time": "2022-07-16T20:37:01.976Z"
   },
   {
    "duration": 49,
    "start_time": "2022-07-16T20:37:01.997Z"
   },
   {
    "duration": 14,
    "start_time": "2022-07-16T20:37:02.048Z"
   },
   {
    "duration": 15,
    "start_time": "2022-07-16T20:37:02.064Z"
   },
   {
    "duration": 20,
    "start_time": "2022-07-16T20:37:02.081Z"
   },
   {
    "duration": 47,
    "start_time": "2022-07-16T20:37:02.103Z"
   },
   {
    "duration": 20,
    "start_time": "2022-07-16T20:37:02.152Z"
   },
   {
    "duration": 21,
    "start_time": "2022-07-16T20:37:02.174Z"
   },
   {
    "duration": 8,
    "start_time": "2022-07-16T20:37:02.196Z"
   },
   {
    "duration": 6,
    "start_time": "2022-07-16T20:37:02.241Z"
   },
   {
    "duration": 32,
    "start_time": "2022-07-16T20:37:02.250Z"
   },
   {
    "duration": 31,
    "start_time": "2022-07-16T20:37:02.284Z"
   },
   {
    "duration": 7,
    "start_time": "2022-07-16T20:37:02.317Z"
   },
   {
    "duration": 19,
    "start_time": "2022-07-16T20:37:02.326Z"
   },
   {
    "duration": 26,
    "start_time": "2022-07-16T20:37:02.347Z"
   },
   {
    "duration": 38,
    "start_time": "2022-07-16T20:37:02.375Z"
   },
   {
    "duration": 7,
    "start_time": "2022-07-16T20:37:02.415Z"
   },
   {
    "duration": 27,
    "start_time": "2022-07-16T20:37:02.424Z"
   },
   {
    "duration": 16,
    "start_time": "2022-07-16T20:37:02.453Z"
   },
   {
    "duration": 25,
    "start_time": "2022-07-16T20:37:02.470Z"
   },
   {
    "duration": 46,
    "start_time": "2022-07-16T20:37:02.499Z"
   },
   {
    "duration": 15,
    "start_time": "2022-07-16T20:37:02.547Z"
   },
   {
    "duration": 14,
    "start_time": "2022-07-16T20:37:02.563Z"
   },
   {
    "duration": 16,
    "start_time": "2022-07-16T20:37:02.578Z"
   },
   {
    "duration": 23,
    "start_time": "2022-07-16T20:37:02.596Z"
   },
   {
    "duration": 25,
    "start_time": "2022-07-16T20:37:02.621Z"
   },
   {
    "duration": 27,
    "start_time": "2022-07-16T20:37:02.648Z"
   },
   {
    "duration": 18,
    "start_time": "2022-07-16T20:37:02.677Z"
   },
   {
    "duration": 51,
    "start_time": "2022-07-16T20:37:02.697Z"
   },
   {
    "duration": 14,
    "start_time": "2022-07-16T20:37:02.750Z"
   },
   {
    "duration": 32,
    "start_time": "2022-07-16T20:37:02.766Z"
   },
   {
    "duration": 41,
    "start_time": "2022-07-16T20:37:02.800Z"
   },
   {
    "duration": 108,
    "start_time": "2022-07-16T20:37:02.843Z"
   },
   {
    "duration": 4,
    "start_time": "2022-07-16T20:37:02.953Z"
   },
   {
    "duration": 26,
    "start_time": "2022-07-16T20:37:02.959Z"
   },
   {
    "duration": 17,
    "start_time": "2022-07-16T20:37:02.988Z"
   },
   {
    "duration": 48,
    "start_time": "2022-07-16T20:37:03.007Z"
   },
   {
    "duration": 279,
    "start_time": "2022-07-16T20:37:03.056Z"
   },
   {
    "duration": 247,
    "start_time": "2022-07-16T20:37:03.337Z"
   },
   {
    "duration": 257,
    "start_time": "2022-07-16T20:37:03.586Z"
   },
   {
    "duration": 6,
    "start_time": "2022-07-16T20:37:03.845Z"
   },
   {
    "duration": 40,
    "start_time": "2022-07-16T20:37:03.852Z"
   },
   {
    "duration": 34,
    "start_time": "2022-07-16T20:37:03.893Z"
   },
   {
    "duration": 2200,
    "start_time": "2022-07-16T20:37:03.928Z"
   },
   {
    "duration": 0,
    "start_time": "2022-07-16T20:37:06.130Z"
   },
   {
    "duration": 0,
    "start_time": "2022-07-16T20:37:06.131Z"
   },
   {
    "duration": 44,
    "start_time": "2022-07-16T20:37:19.418Z"
   },
   {
    "duration": 36,
    "start_time": "2022-07-16T20:37:39.258Z"
   },
   {
    "duration": 26,
    "start_time": "2022-07-16T20:37:50.105Z"
   },
   {
    "duration": 36,
    "start_time": "2022-07-16T20:39:04.617Z"
   },
   {
    "duration": 65,
    "start_time": "2022-07-18T11:57:30.285Z"
   },
   {
    "duration": 13,
    "start_time": "2022-07-18T11:57:42.781Z"
   },
   {
    "duration": 7,
    "start_time": "2022-07-18T11:57:44.235Z"
   },
   {
    "duration": 9,
    "start_time": "2022-07-18T11:57:47.732Z"
   },
   {
    "duration": 1388,
    "start_time": "2022-07-18T11:58:02.631Z"
   },
   {
    "duration": 1044,
    "start_time": "2022-07-18T11:58:09.564Z"
   },
   {
    "duration": 5,
    "start_time": "2022-07-18T11:59:36.258Z"
   },
   {
    "duration": 809,
    "start_time": "2022-07-18T12:00:13.535Z"
   },
   {
    "duration": 10,
    "start_time": "2022-07-18T12:00:48.033Z"
   },
   {
    "duration": 77,
    "start_time": "2022-07-18T12:00:58.250Z"
   },
   {
    "duration": 340,
    "start_time": "2022-07-18T12:01:29.228Z"
   },
   {
    "duration": 399,
    "start_time": "2022-07-18T12:02:38.438Z"
   },
   {
    "duration": 67,
    "start_time": "2022-07-18T12:03:27.339Z"
   },
   {
    "duration": 242,
    "start_time": "2022-07-18T12:03:54.097Z"
   },
   {
    "duration": 11,
    "start_time": "2022-07-18T12:04:21.261Z"
   },
   {
    "duration": 275,
    "start_time": "2022-07-18T12:05:04.939Z"
   },
   {
    "duration": 40,
    "start_time": "2022-07-18T12:05:55.597Z"
   },
   {
    "duration": 9,
    "start_time": "2022-07-18T12:05:58.437Z"
   },
   {
    "duration": 32,
    "start_time": "2022-07-18T12:06:07.059Z"
   },
   {
    "duration": 10,
    "start_time": "2022-07-18T12:06:09.031Z"
   },
   {
    "duration": 7006,
    "start_time": "2022-07-18T12:08:16.788Z"
   },
   {
    "duration": 15,
    "start_time": "2022-07-18T12:09:30.500Z"
   },
   {
    "duration": 11,
    "start_time": "2022-07-18T12:09:31.770Z"
   },
   {
    "duration": 57,
    "start_time": "2022-07-18T12:09:58.064Z"
   },
   {
    "duration": 165,
    "start_time": "2022-07-18T12:10:19.826Z"
   },
   {
    "duration": 438,
    "start_time": "2022-07-18T12:11:05.859Z"
   },
   {
    "duration": 4,
    "start_time": "2022-07-18T12:52:43.954Z"
   },
   {
    "duration": 735,
    "start_time": "2022-07-18T12:52:44.029Z"
   },
   {
    "duration": 66,
    "start_time": "2022-07-18T12:52:44.766Z"
   },
   {
    "duration": 393,
    "start_time": "2022-07-18T12:52:44.835Z"
   },
   {
    "duration": 348,
    "start_time": "2022-07-18T12:52:45.230Z"
   },
   {
    "duration": 80,
    "start_time": "2022-07-18T12:52:45.580Z"
   },
   {
    "duration": 195,
    "start_time": "2022-07-18T12:52:45.662Z"
   },
   {
    "duration": 11,
    "start_time": "2022-07-18T12:52:45.859Z"
   },
   {
    "duration": 289,
    "start_time": "2022-07-18T12:52:45.872Z"
   },
   {
    "duration": 32,
    "start_time": "2022-07-18T12:52:46.162Z"
   },
   {
    "duration": 6978,
    "start_time": "2022-07-18T12:52:46.197Z"
   },
   {
    "duration": 5,
    "start_time": "2022-07-18T12:52:53.177Z"
   },
   {
    "duration": 24,
    "start_time": "2022-07-18T12:52:53.183Z"
   },
   {
    "duration": 87,
    "start_time": "2022-07-18T12:52:53.208Z"
   },
   {
    "duration": 193,
    "start_time": "2022-07-18T12:52:53.296Z"
   },
   {
    "duration": 471,
    "start_time": "2022-07-18T12:52:53.491Z"
   },
   {
    "duration": 1481,
    "start_time": "2022-07-18T12:52:53.964Z"
   },
   {
    "duration": 20,
    "start_time": "2022-07-18T12:52:55.446Z"
   },
   {
    "duration": 4,
    "start_time": "2022-07-18T12:52:55.468Z"
   },
   {
    "duration": 24,
    "start_time": "2022-07-18T12:52:55.474Z"
   },
   {
    "duration": 1538,
    "start_time": "2022-07-18T12:52:55.500Z"
   },
   {
    "duration": 128,
    "start_time": "2022-07-18T12:52:57.042Z"
   },
   {
    "duration": 9,
    "start_time": "2022-07-18T12:52:57.172Z"
   },
   {
    "duration": 13,
    "start_time": "2022-07-18T12:52:57.182Z"
   },
   {
    "duration": 969,
    "start_time": "2022-07-18T12:52:57.202Z"
   },
   {
    "duration": 839,
    "start_time": "2022-07-18T12:52:58.172Z"
   },
   {
    "duration": 800,
    "start_time": "2022-07-18T12:52:59.013Z"
   },
   {
    "duration": 64,
    "start_time": "2022-07-18T12:52:59.815Z"
   },
   {
    "duration": 1148,
    "start_time": "2022-07-18T12:52:59.881Z"
   },
   {
    "duration": 14,
    "start_time": "2022-07-18T12:53:01.030Z"
   },
   {
    "duration": 18,
    "start_time": "2022-07-18T12:53:01.046Z"
   },
   {
    "duration": 25,
    "start_time": "2022-07-18T12:53:01.065Z"
   },
   {
    "duration": 1517,
    "start_time": "2022-07-19T15:38:24.385Z"
   },
   {
    "duration": 1899,
    "start_time": "2022-07-19T15:38:25.905Z"
   },
   {
    "duration": 87,
    "start_time": "2022-07-19T15:38:27.807Z"
   },
   {
    "duration": 414,
    "start_time": "2022-07-19T15:38:27.896Z"
   },
   {
    "duration": 357,
    "start_time": "2022-07-19T15:38:28.313Z"
   },
   {
    "duration": 60,
    "start_time": "2022-07-19T15:38:28.673Z"
   },
   {
    "duration": 208,
    "start_time": "2022-07-19T15:38:28.735Z"
   },
   {
    "duration": 18,
    "start_time": "2022-07-19T15:38:28.944Z"
   },
   {
    "duration": 299,
    "start_time": "2022-07-19T15:38:28.964Z"
   },
   {
    "duration": 46,
    "start_time": "2022-07-19T15:38:29.265Z"
   },
   {
    "duration": 7721,
    "start_time": "2022-07-19T15:38:29.313Z"
   },
   {
    "duration": 7,
    "start_time": "2022-07-19T15:38:37.036Z"
   },
   {
    "duration": 33,
    "start_time": "2022-07-19T15:38:37.045Z"
   },
   {
    "duration": 81,
    "start_time": "2022-07-19T15:38:37.083Z"
   },
   {
    "duration": 285,
    "start_time": "2022-07-19T15:38:37.166Z"
   },
   {
    "duration": 453,
    "start_time": "2022-07-19T15:38:37.453Z"
   },
   {
    "duration": 1392,
    "start_time": "2022-07-19T15:38:37.908Z"
   },
   {
    "duration": 21,
    "start_time": "2022-07-19T15:38:39.302Z"
   },
   {
    "duration": 5,
    "start_time": "2022-07-19T15:38:39.325Z"
   },
   {
    "duration": 15,
    "start_time": "2022-07-19T15:38:39.332Z"
   },
   {
    "duration": 1679,
    "start_time": "2022-07-19T15:38:39.349Z"
   },
   {
    "duration": 191,
    "start_time": "2022-07-19T15:38:41.030Z"
   },
   {
    "duration": 15,
    "start_time": "2022-07-19T15:38:41.224Z"
   },
   {
    "duration": 33,
    "start_time": "2022-07-19T15:38:41.241Z"
   },
   {
    "duration": 1116,
    "start_time": "2022-07-19T15:38:41.276Z"
   },
   {
    "duration": 1188,
    "start_time": "2022-07-19T15:38:42.395Z"
   },
   {
    "duration": 929,
    "start_time": "2022-07-19T15:38:43.586Z"
   },
   {
    "duration": 92,
    "start_time": "2022-07-19T15:38:44.517Z"
   },
   {
    "duration": 1416,
    "start_time": "2022-07-19T15:38:44.612Z"
   },
   {
    "duration": 19,
    "start_time": "2022-07-19T15:38:46.031Z"
   },
   {
    "duration": 13,
    "start_time": "2022-07-19T15:38:46.064Z"
   },
   {
    "duration": 28,
    "start_time": "2022-07-19T15:38:46.079Z"
   },
   {
    "duration": 1238,
    "start_time": "2022-07-20T16:18:13.756Z"
   },
   {
    "duration": 1126,
    "start_time": "2022-07-20T16:18:17.664Z"
   },
   {
    "duration": 1519,
    "start_time": "2022-07-20T16:18:18.792Z"
   },
   {
    "duration": 62,
    "start_time": "2022-07-20T16:18:20.313Z"
   },
   {
    "duration": 623,
    "start_time": "2022-07-20T16:18:20.377Z"
   },
   {
    "duration": 363,
    "start_time": "2022-07-20T16:18:21.002Z"
   },
   {
    "duration": 67,
    "start_time": "2022-07-20T16:18:21.367Z"
   },
   {
    "duration": 232,
    "start_time": "2022-07-20T16:18:21.436Z"
   },
   {
    "duration": 13,
    "start_time": "2022-07-20T16:18:21.670Z"
   },
   {
    "duration": 319,
    "start_time": "2022-07-20T16:18:21.684Z"
   },
   {
    "duration": 38,
    "start_time": "2022-07-20T16:18:22.005Z"
   },
   {
    "duration": 6846,
    "start_time": "2022-07-20T16:18:22.045Z"
   },
   {
    "duration": 5,
    "start_time": "2022-07-20T16:18:28.893Z"
   },
   {
    "duration": 14,
    "start_time": "2022-07-20T16:18:28.900Z"
   },
   {
    "duration": 60,
    "start_time": "2022-07-20T16:18:28.917Z"
   },
   {
    "duration": 173,
    "start_time": "2022-07-20T16:18:28.978Z"
   },
   {
    "duration": 529,
    "start_time": "2022-07-20T16:18:29.152Z"
   },
   {
    "duration": 1624,
    "start_time": "2022-07-20T16:18:29.682Z"
   },
   {
    "duration": 21,
    "start_time": "2022-07-20T16:18:31.307Z"
   },
   {
    "duration": 12,
    "start_time": "2022-07-20T16:18:31.330Z"
   },
   {
    "duration": 12,
    "start_time": "2022-07-20T16:18:31.343Z"
   },
   {
    "duration": 1461,
    "start_time": "2022-07-20T16:18:31.357Z"
   },
   {
    "duration": 135,
    "start_time": "2022-07-20T16:18:32.821Z"
   },
   {
    "duration": 11,
    "start_time": "2022-07-20T16:18:32.957Z"
   },
   {
    "duration": 13,
    "start_time": "2022-07-20T16:18:32.969Z"
   },
   {
    "duration": 958,
    "start_time": "2022-07-20T16:18:32.984Z"
   },
   {
    "duration": 881,
    "start_time": "2022-07-20T16:18:33.944Z"
   },
   {
    "duration": 879,
    "start_time": "2022-07-20T16:18:34.840Z"
   },
   {
    "duration": 69,
    "start_time": "2022-07-20T16:18:35.721Z"
   },
   {
    "duration": 1171,
    "start_time": "2022-07-20T16:18:35.792Z"
   },
   {
    "duration": 14,
    "start_time": "2022-07-20T16:18:36.965Z"
   },
   {
    "duration": 14,
    "start_time": "2022-07-20T16:18:36.980Z"
   },
   {
    "duration": 11,
    "start_time": "2022-07-20T16:18:36.995Z"
   },
   {
    "duration": 4,
    "start_time": "2022-07-20T16:22:19.861Z"
   },
   {
    "duration": 64,
    "start_time": "2022-07-20T16:22:52.813Z"
   },
   {
    "duration": 10,
    "start_time": "2022-07-20T16:23:00.601Z"
   },
   {
    "duration": 112,
    "start_time": "2022-07-21T10:13:48.448Z"
   },
   {
    "duration": 1326,
    "start_time": "2022-07-21T10:16:36.472Z"
   },
   {
    "duration": 1094,
    "start_time": "2022-07-21T10:16:37.801Z"
   },
   {
    "duration": 61,
    "start_time": "2022-07-21T10:16:38.897Z"
   },
   {
    "duration": 420,
    "start_time": "2022-07-21T10:16:38.960Z"
   },
   {
    "duration": 306,
    "start_time": "2022-07-21T10:16:39.382Z"
   },
   {
    "duration": 47,
    "start_time": "2022-07-21T10:16:39.690Z"
   },
   {
    "duration": 294,
    "start_time": "2022-07-21T10:16:39.738Z"
   },
   {
    "duration": 12,
    "start_time": "2022-07-21T10:16:40.034Z"
   },
   {
    "duration": 228,
    "start_time": "2022-07-21T10:16:40.048Z"
   },
   {
    "duration": 37,
    "start_time": "2022-07-21T10:16:40.279Z"
   },
   {
    "duration": 6987,
    "start_time": "2022-07-21T10:16:40.318Z"
   },
   {
    "duration": 7,
    "start_time": "2022-07-21T10:16:47.308Z"
   },
   {
    "duration": 31,
    "start_time": "2022-07-21T10:16:47.317Z"
   },
   {
    "duration": 58,
    "start_time": "2022-07-21T10:16:47.349Z"
   },
   {
    "duration": 184,
    "start_time": "2022-07-21T10:16:47.409Z"
   },
   {
    "duration": 451,
    "start_time": "2022-07-21T10:16:47.595Z"
   },
   {
    "duration": 1087,
    "start_time": "2022-07-21T10:16:48.047Z"
   },
   {
    "duration": 19,
    "start_time": "2022-07-21T10:16:49.135Z"
   },
   {
    "duration": 4,
    "start_time": "2022-07-21T10:16:49.155Z"
   },
   {
    "duration": 9,
    "start_time": "2022-07-21T10:16:49.160Z"
   },
   {
    "duration": 1450,
    "start_time": "2022-07-21T10:16:49.172Z"
   },
   {
    "duration": 133,
    "start_time": "2022-07-21T10:16:50.625Z"
   },
   {
    "duration": 11,
    "start_time": "2022-07-21T10:16:50.759Z"
   },
   {
    "duration": 14,
    "start_time": "2022-07-21T10:16:50.772Z"
   },
   {
    "duration": 938,
    "start_time": "2022-07-21T10:16:50.787Z"
   },
   {
    "duration": 877,
    "start_time": "2022-07-21T10:16:51.740Z"
   },
   {
    "duration": 861,
    "start_time": "2022-07-21T10:16:52.619Z"
   },
   {
    "duration": 69,
    "start_time": "2022-07-21T10:16:53.482Z"
   },
   {
    "duration": 72,
    "start_time": "2022-07-21T10:16:53.553Z"
   },
   {
    "duration": 147,
    "start_time": "2022-07-21T10:20:09.119Z"
   },
   {
    "duration": 92,
    "start_time": "2022-07-21T10:20:24.891Z"
   },
   {
    "duration": 81,
    "start_time": "2022-07-21T10:26:16.310Z"
   },
   {
    "duration": 83,
    "start_time": "2022-07-21T10:26:28.029Z"
   },
   {
    "duration": 99,
    "start_time": "2022-07-21T10:26:34.729Z"
   },
   {
    "duration": 1283,
    "start_time": "2022-07-21T10:26:41.862Z"
   },
   {
    "duration": 77,
    "start_time": "2022-07-21T10:26:43.447Z"
   },
   {
    "duration": 116,
    "start_time": "2022-07-21T10:26:57.229Z"
   },
   {
    "duration": 78,
    "start_time": "2022-07-21T10:28:02.412Z"
   },
   {
    "duration": 98,
    "start_time": "2022-07-21T10:30:36.078Z"
   },
   {
    "duration": 84,
    "start_time": "2022-07-21T10:31:12.415Z"
   },
   {
    "duration": 64,
    "start_time": "2022-07-22T10:50:58.918Z"
   },
   {
    "duration": 6,
    "start_time": "2022-07-22T10:51:30.591Z"
   },
   {
    "duration": 6,
    "start_time": "2022-07-22T10:52:56.137Z"
   },
   {
    "duration": 8,
    "start_time": "2022-07-22T10:54:04.104Z"
   },
   {
    "duration": 8,
    "start_time": "2022-07-22T10:55:38.705Z"
   },
   {
    "duration": 11,
    "start_time": "2022-07-22T10:59:43.553Z"
   },
   {
    "duration": 1216,
    "start_time": "2022-07-22T11:27:10.310Z"
   },
   {
    "duration": 1060,
    "start_time": "2022-07-22T11:27:11.529Z"
   },
   {
    "duration": 54,
    "start_time": "2022-07-22T11:27:12.591Z"
   },
   {
    "duration": 18,
    "start_time": "2022-07-22T11:27:12.659Z"
   },
   {
    "duration": 262,
    "start_time": "2022-07-22T11:27:12.679Z"
   },
   {
    "duration": 309,
    "start_time": "2022-07-22T11:27:12.943Z"
   },
   {
    "duration": 49,
    "start_time": "2022-07-22T11:27:13.254Z"
   },
   {
    "duration": 148,
    "start_time": "2022-07-22T11:27:13.305Z"
   },
   {
    "duration": 19,
    "start_time": "2022-07-22T11:27:13.455Z"
   },
   {
    "duration": 226,
    "start_time": "2022-07-22T11:27:13.476Z"
   },
   {
    "duration": 38,
    "start_time": "2022-07-22T11:27:13.704Z"
   },
   {
    "duration": 6925,
    "start_time": "2022-07-22T11:27:13.743Z"
   },
   {
    "duration": 7,
    "start_time": "2022-07-22T11:27:20.670Z"
   },
   {
    "duration": 31,
    "start_time": "2022-07-22T11:27:20.679Z"
   },
   {
    "duration": 99,
    "start_time": "2022-07-22T11:27:20.713Z"
   },
   {
    "duration": 201,
    "start_time": "2022-07-22T11:27:20.814Z"
   },
   {
    "duration": 317,
    "start_time": "2022-07-22T11:27:21.018Z"
   },
   {
    "duration": 887,
    "start_time": "2022-07-22T11:27:21.337Z"
   },
   {
    "duration": 16,
    "start_time": "2022-07-22T11:27:22.226Z"
   },
   {
    "duration": 5,
    "start_time": "2022-07-22T11:27:22.244Z"
   },
   {
    "duration": 11,
    "start_time": "2022-07-22T11:27:22.251Z"
   },
   {
    "duration": 1328,
    "start_time": "2022-07-22T11:27:22.264Z"
   },
   {
    "duration": 124,
    "start_time": "2022-07-22T11:27:23.594Z"
   },
   {
    "duration": 10,
    "start_time": "2022-07-22T11:27:23.720Z"
   },
   {
    "duration": 39,
    "start_time": "2022-07-22T11:27:23.732Z"
   },
   {
    "duration": 860,
    "start_time": "2022-07-22T11:27:23.774Z"
   },
   {
    "duration": 850,
    "start_time": "2022-07-22T11:27:24.636Z"
   },
   {
    "duration": 928,
    "start_time": "2022-07-22T11:27:25.493Z"
   },
   {
    "duration": 90,
    "start_time": "2022-07-22T11:27:26.423Z"
   },
   {
    "duration": 81,
    "start_time": "2022-07-22T11:27:26.515Z"
   },
   {
    "duration": 0,
    "start_time": "2022-07-22T11:27:26.597Z"
   },
   {
    "duration": 0,
    "start_time": "2022-07-22T11:27:26.599Z"
   },
   {
    "duration": 0,
    "start_time": "2022-07-22T11:27:26.600Z"
   },
   {
    "duration": 0,
    "start_time": "2022-07-22T11:27:26.602Z"
   },
   {
    "duration": 0,
    "start_time": "2022-07-22T11:27:26.603Z"
   },
   {
    "duration": 0,
    "start_time": "2022-07-22T11:27:26.604Z"
   },
   {
    "duration": 0,
    "start_time": "2022-07-22T11:27:26.605Z"
   },
   {
    "duration": 0,
    "start_time": "2022-07-22T11:27:26.606Z"
   },
   {
    "duration": 0,
    "start_time": "2022-07-22T11:27:26.608Z"
   },
   {
    "duration": 0,
    "start_time": "2022-07-22T11:27:26.609Z"
   },
   {
    "duration": 0,
    "start_time": "2022-07-22T11:27:26.610Z"
   },
   {
    "duration": 0,
    "start_time": "2022-07-22T11:27:26.611Z"
   },
   {
    "duration": 0,
    "start_time": "2022-07-22T11:27:26.614Z"
   },
   {
    "duration": 0,
    "start_time": "2022-07-22T11:27:26.615Z"
   },
   {
    "duration": 0,
    "start_time": "2022-07-22T11:27:26.616Z"
   },
   {
    "duration": 0,
    "start_time": "2022-07-22T11:27:26.618Z"
   },
   {
    "duration": 11,
    "start_time": "2022-07-22T11:29:31.445Z"
   },
   {
    "duration": 6,
    "start_time": "2022-07-22T11:29:38.674Z"
   },
   {
    "duration": 908,
    "start_time": "2022-07-22T11:29:43.839Z"
   },
   {
    "duration": 99,
    "start_time": "2022-07-22T11:38:45.532Z"
   },
   {
    "duration": 98,
    "start_time": "2022-07-22T11:38:54.431Z"
   },
   {
    "duration": 3,
    "start_time": "2022-07-22T12:07:40.676Z"
   },
   {
    "duration": 636,
    "start_time": "2022-07-22T12:07:40.701Z"
   },
   {
    "duration": 50,
    "start_time": "2022-07-22T12:07:41.338Z"
   },
   {
    "duration": 15,
    "start_time": "2022-07-22T12:07:41.390Z"
   },
   {
    "duration": 217,
    "start_time": "2022-07-22T12:07:41.407Z"
   },
   {
    "duration": 51,
    "start_time": "2022-07-22T12:07:41.625Z"
   },
   {
    "duration": 39,
    "start_time": "2022-07-22T12:07:41.678Z"
   },
   {
    "duration": 170,
    "start_time": "2022-07-22T12:07:41.718Z"
   },
   {
    "duration": 10,
    "start_time": "2022-07-22T12:07:41.889Z"
   },
   {
    "duration": 219,
    "start_time": "2022-07-22T12:07:41.901Z"
   },
   {
    "duration": 13,
    "start_time": "2022-07-22T12:07:42.122Z"
   },
   {
    "duration": 0,
    "start_time": "2022-07-22T12:07:42.136Z"
   },
   {
    "duration": 0,
    "start_time": "2022-07-22T12:07:42.138Z"
   },
   {
    "duration": 0,
    "start_time": "2022-07-22T12:07:42.139Z"
   },
   {
    "duration": 0,
    "start_time": "2022-07-22T12:07:42.140Z"
   },
   {
    "duration": 0,
    "start_time": "2022-07-22T12:07:42.141Z"
   },
   {
    "duration": 0,
    "start_time": "2022-07-22T12:07:42.142Z"
   },
   {
    "duration": 0,
    "start_time": "2022-07-22T12:07:42.143Z"
   },
   {
    "duration": 0,
    "start_time": "2022-07-22T12:07:42.144Z"
   },
   {
    "duration": 0,
    "start_time": "2022-07-22T12:07:42.145Z"
   },
   {
    "duration": 0,
    "start_time": "2022-07-22T12:07:42.147Z"
   },
   {
    "duration": 0,
    "start_time": "2022-07-22T12:07:42.147Z"
   },
   {
    "duration": 0,
    "start_time": "2022-07-22T12:07:42.149Z"
   },
   {
    "duration": 0,
    "start_time": "2022-07-22T12:07:42.150Z"
   },
   {
    "duration": 1,
    "start_time": "2022-07-22T12:07:42.151Z"
   },
   {
    "duration": 0,
    "start_time": "2022-07-22T12:07:42.153Z"
   },
   {
    "duration": 0,
    "start_time": "2022-07-22T12:07:42.160Z"
   },
   {
    "duration": 0,
    "start_time": "2022-07-22T12:07:42.161Z"
   },
   {
    "duration": 0,
    "start_time": "2022-07-22T12:07:42.162Z"
   },
   {
    "duration": 0,
    "start_time": "2022-07-22T12:07:42.163Z"
   },
   {
    "duration": 0,
    "start_time": "2022-07-22T12:07:42.163Z"
   },
   {
    "duration": 0,
    "start_time": "2022-07-22T12:07:42.164Z"
   },
   {
    "duration": 0,
    "start_time": "2022-07-22T12:07:42.165Z"
   },
   {
    "duration": 0,
    "start_time": "2022-07-22T12:07:42.165Z"
   },
   {
    "duration": 0,
    "start_time": "2022-07-22T12:07:42.166Z"
   },
   {
    "duration": 0,
    "start_time": "2022-07-22T12:07:42.167Z"
   },
   {
    "duration": 0,
    "start_time": "2022-07-22T12:07:42.168Z"
   },
   {
    "duration": 0,
    "start_time": "2022-07-22T12:07:42.169Z"
   },
   {
    "duration": 0,
    "start_time": "2022-07-22T12:07:42.170Z"
   },
   {
    "duration": 0,
    "start_time": "2022-07-22T12:07:42.170Z"
   },
   {
    "duration": 0,
    "start_time": "2022-07-22T12:07:42.171Z"
   },
   {
    "duration": 0,
    "start_time": "2022-07-22T12:07:42.172Z"
   },
   {
    "duration": 0,
    "start_time": "2022-07-22T12:07:42.173Z"
   },
   {
    "duration": 0,
    "start_time": "2022-07-22T12:07:42.174Z"
   },
   {
    "duration": 0,
    "start_time": "2022-07-22T12:07:42.175Z"
   },
   {
    "duration": 0,
    "start_time": "2022-07-22T12:07:42.176Z"
   },
   {
    "duration": 0,
    "start_time": "2022-07-22T12:07:42.177Z"
   },
   {
    "duration": 0,
    "start_time": "2022-07-22T12:07:42.177Z"
   },
   {
    "duration": 0,
    "start_time": "2022-07-22T12:07:42.178Z"
   },
   {
    "duration": 0,
    "start_time": "2022-07-22T12:07:42.179Z"
   },
   {
    "duration": 0,
    "start_time": "2022-07-22T12:07:42.180Z"
   },
   {
    "duration": 0,
    "start_time": "2022-07-22T12:07:42.181Z"
   },
   {
    "duration": 0,
    "start_time": "2022-07-22T12:07:42.181Z"
   },
   {
    "duration": 42,
    "start_time": "2022-07-22T12:08:22.743Z"
   },
   {
    "duration": 6,
    "start_time": "2022-07-22T12:08:39.233Z"
   },
   {
    "duration": 12,
    "start_time": "2022-07-22T12:08:41.743Z"
   },
   {
    "duration": 48,
    "start_time": "2022-07-22T12:08:49.645Z"
   },
   {
    "duration": 155,
    "start_time": "2022-07-22T12:08:51.966Z"
   },
   {
    "duration": 401,
    "start_time": "2022-07-22T12:08:53.480Z"
   },
   {
    "duration": 778,
    "start_time": "2022-07-22T12:08:54.741Z"
   },
   {
    "duration": 14,
    "start_time": "2022-07-22T12:08:56.054Z"
   },
   {
    "duration": 5,
    "start_time": "2022-07-22T12:08:58.759Z"
   },
   {
    "duration": 5,
    "start_time": "2022-07-22T12:08:59.948Z"
   },
   {
    "duration": 26,
    "start_time": "2022-07-22T12:09:01.643Z"
   },
   {
    "duration": 13,
    "start_time": "2022-07-22T12:10:32.660Z"
   },
   {
    "duration": 125,
    "start_time": "2022-07-22T12:10:37.508Z"
   },
   {
    "duration": 10,
    "start_time": "2022-07-22T12:10:41.486Z"
   },
   {
    "duration": 8,
    "start_time": "2022-07-22T12:10:44.489Z"
   },
   {
    "duration": 822,
    "start_time": "2022-07-22T12:11:03.644Z"
   },
   {
    "duration": 713,
    "start_time": "2022-07-22T12:11:09.834Z"
   },
   {
    "duration": 838,
    "start_time": "2022-07-22T12:11:13.310Z"
   },
   {
    "duration": 46,
    "start_time": "2022-07-22T12:11:22.444Z"
   },
   {
    "duration": 22,
    "start_time": "2022-07-22T12:11:24.856Z"
   },
   {
    "duration": 15,
    "start_time": "2022-07-22T12:11:27.141Z"
   },
   {
    "duration": 19,
    "start_time": "2022-07-22T12:11:29.140Z"
   },
   {
    "duration": 7,
    "start_time": "2022-07-22T12:11:30.496Z"
   },
   {
    "duration": 4,
    "start_time": "2022-07-22T12:11:31.614Z"
   },
   {
    "duration": 996,
    "start_time": "2022-07-22T12:11:33.640Z"
   },
   {
    "duration": 2004,
    "start_time": "2022-07-22T12:11:35.174Z"
   },
   {
    "duration": 1027,
    "start_time": "2022-07-22T12:11:58.207Z"
   },
   {
    "duration": 3,
    "start_time": "2022-07-22T12:13:04.954Z"
   },
   {
    "duration": 893,
    "start_time": "2022-07-22T12:13:19.311Z"
   },
   {
    "duration": 947,
    "start_time": "2022-07-22T12:14:42.743Z"
   },
   {
    "duration": 1204,
    "start_time": "2022-07-22T12:15:38.936Z"
   },
   {
    "duration": 1238,
    "start_time": "2022-07-22T12:18:23.538Z"
   },
   {
    "duration": 1992,
    "start_time": "2022-07-22T12:18:33.844Z"
   },
   {
    "duration": 1013,
    "start_time": "2022-07-22T12:18:37.565Z"
   },
   {
    "duration": 997,
    "start_time": "2022-07-22T12:18:55.608Z"
   },
   {
    "duration": 1515,
    "start_time": "2022-07-22T12:19:25.689Z"
   },
   {
    "duration": 13,
    "start_time": "2022-07-22T12:19:39.138Z"
   },
   {
    "duration": 47,
    "start_time": "2022-07-22T12:19:41.533Z"
   },
   {
    "duration": 28,
    "start_time": "2022-07-22T12:19:44.440Z"
   },
   {
    "duration": 21,
    "start_time": "2022-07-22T12:19:45.896Z"
   },
   {
    "duration": 37,
    "start_time": "2022-07-22T12:19:55.637Z"
   },
   {
    "duration": 10,
    "start_time": "2022-07-22T12:20:05.308Z"
   },
   {
    "duration": 9,
    "start_time": "2022-07-22T12:20:08.468Z"
   },
   {
    "duration": 8,
    "start_time": "2022-07-22T12:20:09.852Z"
   },
   {
    "duration": 12,
    "start_time": "2022-07-22T12:20:12.161Z"
   },
   {
    "duration": 10,
    "start_time": "2022-07-22T12:20:16.400Z"
   },
   {
    "duration": 9,
    "start_time": "2022-07-22T12:20:18.166Z"
   },
   {
    "duration": 383,
    "start_time": "2022-07-22T13:18:17.872Z"
   },
   {
    "duration": 292,
    "start_time": "2022-07-22T13:18:35.590Z"
   },
   {
    "duration": 24,
    "start_time": "2022-07-22T13:18:35.884Z"
   },
   {
    "duration": 23,
    "start_time": "2022-07-22T13:18:35.910Z"
   },
   {
    "duration": 27,
    "start_time": "2022-07-22T13:18:35.935Z"
   },
   {
    "duration": 15,
    "start_time": "2022-07-22T13:18:35.964Z"
   },
   {
    "duration": 24,
    "start_time": "2022-07-22T13:18:35.980Z"
   },
   {
    "duration": 116,
    "start_time": "2022-07-22T13:18:36.006Z"
   },
   {
    "duration": 51,
    "start_time": "2022-07-22T13:18:36.123Z"
   },
   {
    "duration": 11,
    "start_time": "2022-07-22T13:18:36.176Z"
   },
   {
    "duration": 39,
    "start_time": "2022-07-22T13:18:36.189Z"
   },
   {
    "duration": 77,
    "start_time": "2022-07-22T13:18:36.230Z"
   },
   {
    "duration": 8,
    "start_time": "2022-07-22T13:18:36.309Z"
   },
   {
    "duration": 18,
    "start_time": "2022-07-22T13:18:36.319Z"
   },
   {
    "duration": 25,
    "start_time": "2022-07-22T13:18:36.341Z"
   },
   {
    "duration": 24,
    "start_time": "2022-07-22T13:18:36.368Z"
   },
   {
    "duration": 60,
    "start_time": "2022-07-22T13:18:36.394Z"
   },
   {
    "duration": 18,
    "start_time": "2022-07-22T13:18:36.455Z"
   },
   {
    "duration": 13909,
    "start_time": "2022-07-22T13:18:36.476Z"
   },
   {
    "duration": 46,
    "start_time": "2022-07-22T13:18:50.386Z"
   },
   {
    "duration": 38,
    "start_time": "2022-07-22T13:18:50.434Z"
   },
   {
    "duration": 22,
    "start_time": "2022-07-22T13:18:50.474Z"
   },
   {
    "duration": 0,
    "start_time": "2022-07-22T13:18:50.497Z"
   },
   {
    "duration": 0,
    "start_time": "2022-07-22T13:18:50.498Z"
   },
   {
    "duration": 0,
    "start_time": "2022-07-22T13:18:50.499Z"
   },
   {
    "duration": 0,
    "start_time": "2022-07-22T13:18:50.500Z"
   },
   {
    "duration": 0,
    "start_time": "2022-07-22T13:18:50.501Z"
   },
   {
    "duration": 0,
    "start_time": "2022-07-22T13:18:50.502Z"
   },
   {
    "duration": 0,
    "start_time": "2022-07-22T13:18:50.504Z"
   },
   {
    "duration": 0,
    "start_time": "2022-07-22T13:18:50.505Z"
   },
   {
    "duration": 0,
    "start_time": "2022-07-22T13:18:50.506Z"
   },
   {
    "duration": 0,
    "start_time": "2022-07-22T13:18:50.507Z"
   },
   {
    "duration": 0,
    "start_time": "2022-07-22T13:18:50.508Z"
   },
   {
    "duration": 0,
    "start_time": "2022-07-22T13:18:50.509Z"
   },
   {
    "duration": 20,
    "start_time": "2022-07-22T13:19:33.025Z"
   },
   {
    "duration": 303,
    "start_time": "2022-07-22T13:19:51.158Z"
   },
   {
    "duration": 25,
    "start_time": "2022-07-22T13:19:53.008Z"
   },
   {
    "duration": 24,
    "start_time": "2022-07-22T13:19:56.507Z"
   },
   {
    "duration": 19,
    "start_time": "2022-07-22T13:19:59.401Z"
   },
   {
    "duration": 16,
    "start_time": "2022-07-22T13:20:02.191Z"
   },
   {
    "duration": 18,
    "start_time": "2022-07-22T13:20:04.492Z"
   },
   {
    "duration": 87,
    "start_time": "2022-07-22T13:20:07.663Z"
   },
   {
    "duration": 32,
    "start_time": "2022-07-22T13:20:21.151Z"
   },
   {
    "duration": 10,
    "start_time": "2022-07-22T13:20:22.699Z"
   },
   {
    "duration": 21,
    "start_time": "2022-07-22T13:20:23.919Z"
   },
   {
    "duration": 29,
    "start_time": "2022-07-22T13:20:25.140Z"
   },
   {
    "duration": 8,
    "start_time": "2022-07-22T13:20:26.320Z"
   },
   {
    "duration": 7,
    "start_time": "2022-07-22T13:20:27.489Z"
   },
   {
    "duration": 9,
    "start_time": "2022-07-22T13:20:28.861Z"
   },
   {
    "duration": 16,
    "start_time": "2022-07-22T13:20:30.090Z"
   },
   {
    "duration": 45,
    "start_time": "2022-07-22T13:20:31.494Z"
   },
   {
    "duration": 14,
    "start_time": "2022-07-22T13:20:33.158Z"
   },
   {
    "duration": 15179,
    "start_time": "2022-07-22T13:20:34.498Z"
   },
   {
    "duration": 14392,
    "start_time": "2022-07-22T13:20:53.148Z"
   },
   {
    "duration": 14251,
    "start_time": "2022-07-22T13:21:10.513Z"
   },
   {
    "duration": 58,
    "start_time": "2022-07-22T13:21:36.363Z"
   },
   {
    "duration": 26,
    "start_time": "2022-07-22T13:21:37.803Z"
   },
   {
    "duration": 20,
    "start_time": "2022-07-22T13:21:39.092Z"
   },
   {
    "duration": 24,
    "start_time": "2022-07-22T13:22:09.096Z"
   },
   {
    "duration": 23,
    "start_time": "2022-07-22T13:22:36.459Z"
   },
   {
    "duration": 28,
    "start_time": "2022-07-22T13:22:44.739Z"
   },
   {
    "duration": 8,
    "start_time": "2022-07-22T13:22:55.588Z"
   },
   {
    "duration": 8,
    "start_time": "2022-07-22T13:22:57.421Z"
   },
   {
    "duration": 8,
    "start_time": "2022-07-22T13:22:59.258Z"
   },
   {
    "duration": 11,
    "start_time": "2022-07-22T13:23:00.628Z"
   },
   {
    "duration": 9,
    "start_time": "2022-07-22T13:23:04.818Z"
   },
   {
    "duration": 9,
    "start_time": "2022-07-22T13:23:07.059Z"
   },
   {
    "duration": 11,
    "start_time": "2022-07-22T13:23:10.532Z"
   },
   {
    "duration": 20,
    "start_time": "2022-07-22T13:28:18.784Z"
   },
   {
    "duration": 21,
    "start_time": "2022-07-22T13:28:38.971Z"
   },
   {
    "duration": 20,
    "start_time": "2022-07-22T13:31:29.309Z"
   },
   {
    "duration": 28,
    "start_time": "2022-07-22T13:33:26.014Z"
   },
   {
    "duration": 916,
    "start_time": "2022-07-22T13:43:29.793Z"
   },
   {
    "duration": 1145,
    "start_time": "2022-07-22T13:43:38.162Z"
   },
   {
    "duration": 787,
    "start_time": "2022-07-22T13:43:42.166Z"
   },
   {
    "duration": 10,
    "start_time": "2022-07-22T13:43:43.794Z"
   },
   {
    "duration": 1161,
    "start_time": "2022-07-22T13:44:41.811Z"
   },
   {
    "duration": 1215,
    "start_time": "2022-07-22T13:47:17.605Z"
   },
   {
    "duration": 1130,
    "start_time": "2022-07-22T13:47:45.858Z"
   },
   {
    "duration": 15,
    "start_time": "2022-07-22T13:48:23.485Z"
   },
   {
    "duration": 800,
    "start_time": "2022-07-22T13:48:26.305Z"
   },
   {
    "duration": 291,
    "start_time": "2022-07-22T13:49:03.686Z"
   },
   {
    "duration": 26,
    "start_time": "2022-07-22T13:49:05.479Z"
   },
   {
    "duration": 22,
    "start_time": "2022-07-22T13:49:10.097Z"
   },
   {
    "duration": 19,
    "start_time": "2022-07-22T13:49:13.251Z"
   },
   {
    "duration": 16,
    "start_time": "2022-07-22T13:49:15.092Z"
   },
   {
    "duration": 17,
    "start_time": "2022-07-22T13:49:17.663Z"
   },
   {
    "duration": 97,
    "start_time": "2022-07-22T13:49:21.671Z"
   },
   {
    "duration": 33,
    "start_time": "2022-07-22T13:49:35.257Z"
   },
   {
    "duration": 9,
    "start_time": "2022-07-22T13:49:37.071Z"
   },
   {
    "duration": 27,
    "start_time": "2022-07-22T13:49:38.683Z"
   },
   {
    "duration": 26,
    "start_time": "2022-07-22T13:49:40.113Z"
   },
   {
    "duration": 8,
    "start_time": "2022-07-22T13:49:45.689Z"
   },
   {
    "duration": 6,
    "start_time": "2022-07-22T13:49:52.412Z"
   },
   {
    "duration": 11,
    "start_time": "2022-07-22T13:49:55.151Z"
   },
   {
    "duration": 11,
    "start_time": "2022-07-22T13:49:56.508Z"
   },
   {
    "duration": 44,
    "start_time": "2022-07-22T13:49:57.681Z"
   },
   {
    "duration": 14,
    "start_time": "2022-07-22T13:50:00.163Z"
   },
   {
    "duration": 14409,
    "start_time": "2022-07-22T13:50:02.457Z"
   },
   {
    "duration": 49,
    "start_time": "2022-07-22T13:50:25.791Z"
   },
   {
    "duration": 27,
    "start_time": "2022-07-22T13:50:28.562Z"
   },
   {
    "duration": 21,
    "start_time": "2022-07-22T13:50:32.842Z"
   },
   {
    "duration": 20,
    "start_time": "2022-07-22T13:51:50.758Z"
   },
   {
    "duration": 20,
    "start_time": "2022-07-22T13:52:02.412Z"
   },
   {
    "duration": 317,
    "start_time": "2022-07-22T13:52:49.224Z"
   },
   {
    "duration": 26,
    "start_time": "2022-07-22T13:52:50.608Z"
   },
   {
    "duration": 24,
    "start_time": "2022-07-22T13:52:53.222Z"
   },
   {
    "duration": 20,
    "start_time": "2022-07-22T13:52:55.980Z"
   },
   {
    "duration": 24,
    "start_time": "2022-07-22T13:52:57.465Z"
   },
   {
    "duration": 20,
    "start_time": "2022-07-22T13:52:59.763Z"
   },
   {
    "duration": 90,
    "start_time": "2022-07-22T13:53:02.873Z"
   },
   {
    "duration": 40,
    "start_time": "2022-07-22T13:53:14.437Z"
   },
   {
    "duration": 10,
    "start_time": "2022-07-22T13:53:15.680Z"
   },
   {
    "duration": 21,
    "start_time": "2022-07-22T13:53:16.883Z"
   },
   {
    "duration": 26,
    "start_time": "2022-07-22T13:53:18.092Z"
   },
   {
    "duration": 10,
    "start_time": "2022-07-22T13:53:19.666Z"
   },
   {
    "duration": 12,
    "start_time": "2022-07-22T13:53:20.880Z"
   },
   {
    "duration": 46,
    "start_time": "2022-07-22T13:53:22.384Z"
   },
   {
    "duration": 13,
    "start_time": "2022-07-22T13:53:24.254Z"
   },
   {
    "duration": 15063,
    "start_time": "2022-07-22T13:53:26.522Z"
   },
   {
    "duration": 51,
    "start_time": "2022-07-22T13:53:58.223Z"
   },
   {
    "duration": 31,
    "start_time": "2022-07-22T13:53:59.863Z"
   },
   {
    "duration": 32,
    "start_time": "2022-07-22T13:54:06.862Z"
   },
   {
    "duration": 59,
    "start_time": "2022-07-22T13:54:29.559Z"
   },
   {
    "duration": 7,
    "start_time": "2022-07-22T13:54:32.588Z"
   },
   {
    "duration": 4,
    "start_time": "2022-07-22T13:54:33.754Z"
   },
   {
    "duration": 18,
    "start_time": "2022-07-22T13:54:35.286Z"
   },
   {
    "duration": 942,
    "start_time": "2022-07-22T13:54:36.758Z"
   },
   {
    "duration": 14,
    "start_time": "2022-07-22T13:54:45.540Z"
   },
   {
    "duration": 13,
    "start_time": "2022-07-22T13:54:49.701Z"
   },
   {
    "duration": 1006,
    "start_time": "2022-07-22T13:55:27.276Z"
   },
   {
    "duration": 7,
    "start_time": "2022-07-22T14:02:36.583Z"
   },
   {
    "duration": 7,
    "start_time": "2022-07-22T14:02:38.272Z"
   },
   {
    "duration": 2035,
    "start_time": "2022-07-22T14:02:40.573Z"
   },
   {
    "duration": 16,
    "start_time": "2022-07-22T14:03:36.955Z"
   },
   {
    "duration": 15,
    "start_time": "2022-07-22T14:03:47.955Z"
   },
   {
    "duration": 317,
    "start_time": "2022-07-22T14:03:56.063Z"
   },
   {
    "duration": 6,
    "start_time": "2022-07-22T14:04:30.673Z"
   },
   {
    "duration": 5,
    "start_time": "2022-07-22T14:04:32.852Z"
   },
   {
    "duration": 10,
    "start_time": "2022-07-22T14:04:35.486Z"
   },
   {
    "duration": 5,
    "start_time": "2022-07-22T14:04:36.950Z"
   },
   {
    "duration": 2927,
    "start_time": "2022-07-22T20:53:19.773Z"
   },
   {
    "duration": 60,
    "start_time": "2022-07-22T20:53:22.703Z"
   },
   {
    "duration": 52,
    "start_time": "2022-07-22T20:53:22.765Z"
   },
   {
    "duration": 45,
    "start_time": "2022-07-22T20:53:22.826Z"
   },
   {
    "duration": 23,
    "start_time": "2022-07-22T20:53:22.872Z"
   },
   {
    "duration": 49,
    "start_time": "2022-07-22T20:53:22.898Z"
   },
   {
    "duration": 141,
    "start_time": "2022-07-22T20:53:22.949Z"
   },
   {
    "duration": 0,
    "start_time": "2022-07-22T20:53:23.093Z"
   },
   {
    "duration": 0,
    "start_time": "2022-07-22T20:53:23.095Z"
   },
   {
    "duration": 0,
    "start_time": "2022-07-22T20:53:23.097Z"
   },
   {
    "duration": 0,
    "start_time": "2022-07-22T20:53:23.098Z"
   },
   {
    "duration": 0,
    "start_time": "2022-07-22T20:53:23.111Z"
   },
   {
    "duration": 0,
    "start_time": "2022-07-22T20:53:23.112Z"
   },
   {
    "duration": 0,
    "start_time": "2022-07-22T20:53:23.113Z"
   },
   {
    "duration": 0,
    "start_time": "2022-07-22T20:53:23.114Z"
   },
   {
    "duration": 0,
    "start_time": "2022-07-22T20:53:23.115Z"
   },
   {
    "duration": 0,
    "start_time": "2022-07-22T20:53:23.117Z"
   },
   {
    "duration": 0,
    "start_time": "2022-07-22T20:53:23.119Z"
   },
   {
    "duration": 1,
    "start_time": "2022-07-22T20:53:23.120Z"
   },
   {
    "duration": 0,
    "start_time": "2022-07-22T20:53:23.122Z"
   },
   {
    "duration": 0,
    "start_time": "2022-07-22T20:53:23.123Z"
   },
   {
    "duration": 0,
    "start_time": "2022-07-22T20:53:23.125Z"
   },
   {
    "duration": 0,
    "start_time": "2022-07-22T20:53:23.126Z"
   },
   {
    "duration": 0,
    "start_time": "2022-07-22T20:53:23.128Z"
   },
   {
    "duration": 0,
    "start_time": "2022-07-22T20:53:23.130Z"
   },
   {
    "duration": 0,
    "start_time": "2022-07-22T20:53:23.131Z"
   },
   {
    "duration": 0,
    "start_time": "2022-07-22T20:53:23.133Z"
   },
   {
    "duration": 0,
    "start_time": "2022-07-22T20:53:23.134Z"
   },
   {
    "duration": 0,
    "start_time": "2022-07-22T20:53:23.136Z"
   },
   {
    "duration": 0,
    "start_time": "2022-07-22T20:53:23.137Z"
   },
   {
    "duration": 0,
    "start_time": "2022-07-22T20:53:23.138Z"
   },
   {
    "duration": 0,
    "start_time": "2022-07-22T20:53:23.140Z"
   },
   {
    "duration": 0,
    "start_time": "2022-07-22T20:53:23.141Z"
   },
   {
    "duration": 92,
    "start_time": "2022-07-22T20:53:59.839Z"
   },
   {
    "duration": 2248,
    "start_time": "2022-07-22T20:54:04.640Z"
   },
   {
    "duration": 54,
    "start_time": "2022-07-22T20:54:06.890Z"
   },
   {
    "duration": 59,
    "start_time": "2022-07-22T20:54:06.946Z"
   },
   {
    "duration": 36,
    "start_time": "2022-07-22T20:54:07.008Z"
   },
   {
    "duration": 37,
    "start_time": "2022-07-22T20:54:07.047Z"
   },
   {
    "duration": 31,
    "start_time": "2022-07-22T20:54:07.086Z"
   },
   {
    "duration": 124,
    "start_time": "2022-07-22T20:54:07.119Z"
   },
   {
    "duration": 47,
    "start_time": "2022-07-22T20:54:07.245Z"
   },
   {
    "duration": 12,
    "start_time": "2022-07-22T20:54:07.295Z"
   },
   {
    "duration": 44,
    "start_time": "2022-07-22T20:54:07.309Z"
   },
   {
    "duration": 64,
    "start_time": "2022-07-22T20:54:07.358Z"
   },
   {
    "duration": 34,
    "start_time": "2022-07-22T20:54:07.424Z"
   },
   {
    "duration": 26,
    "start_time": "2022-07-22T20:54:07.467Z"
   },
   {
    "duration": 99,
    "start_time": "2022-07-22T20:54:07.497Z"
   },
   {
    "duration": 33,
    "start_time": "2022-07-22T20:54:07.598Z"
   },
   {
    "duration": 23105,
    "start_time": "2022-07-22T20:54:07.633Z"
   },
   {
    "duration": 81,
    "start_time": "2022-07-22T20:54:30.743Z"
   },
   {
    "duration": 45,
    "start_time": "2022-07-22T20:54:30.826Z"
   },
   {
    "duration": 66,
    "start_time": "2022-07-22T20:54:30.873Z"
   },
   {
    "duration": 125,
    "start_time": "2022-07-22T20:54:30.941Z"
   },
   {
    "duration": 11,
    "start_time": "2022-07-22T20:54:31.068Z"
   },
   {
    "duration": 20,
    "start_time": "2022-07-22T20:54:31.081Z"
   },
   {
    "duration": 64,
    "start_time": "2022-07-22T20:54:31.103Z"
   },
   {
    "duration": 24,
    "start_time": "2022-07-22T20:54:31.169Z"
   },
   {
    "duration": 21,
    "start_time": "2022-07-22T20:54:31.195Z"
   },
   {
    "duration": 3070,
    "start_time": "2022-07-22T20:54:31.218Z"
   },
   {
    "duration": 44,
    "start_time": "2022-07-22T20:54:34.291Z"
   },
   {
    "duration": 32,
    "start_time": "2022-07-22T20:54:34.338Z"
   },
   {
    "duration": 411,
    "start_time": "2022-07-22T20:54:34.373Z"
   },
   {
    "duration": 9,
    "start_time": "2022-07-22T20:54:34.786Z"
   },
   {
    "duration": 9,
    "start_time": "2022-07-22T20:54:34.812Z"
   },
   {
    "duration": 48,
    "start_time": "2022-07-22T20:54:34.823Z"
   },
   {
    "duration": 7,
    "start_time": "2022-07-22T20:54:34.873Z"
   },
   {
    "duration": 229,
    "start_time": "2022-07-22T21:10:25.370Z"
   },
   {
    "duration": 40,
    "start_time": "2022-07-22T21:15:24.007Z"
   },
   {
    "duration": 24,
    "start_time": "2022-07-22T21:15:32.371Z"
   },
   {
    "duration": 2082,
    "start_time": "2022-07-22T21:15:55.642Z"
   },
   {
    "duration": 61,
    "start_time": "2022-07-22T21:15:57.729Z"
   },
   {
    "duration": 59,
    "start_time": "2022-07-22T21:15:57.793Z"
   },
   {
    "duration": 34,
    "start_time": "2022-07-22T21:15:57.854Z"
   },
   {
    "duration": 54,
    "start_time": "2022-07-22T21:15:57.890Z"
   },
   {
    "duration": 57,
    "start_time": "2022-07-22T21:15:57.946Z"
   },
   {
    "duration": 163,
    "start_time": "2022-07-22T21:15:58.006Z"
   },
   {
    "duration": 16,
    "start_time": "2022-07-22T21:15:58.172Z"
   },
   {
    "duration": 116,
    "start_time": "2022-07-22T21:15:58.190Z"
   },
   {
    "duration": 55,
    "start_time": "2022-07-22T21:15:58.310Z"
   },
   {
    "duration": 77,
    "start_time": "2022-07-22T21:15:58.381Z"
   },
   {
    "duration": 35,
    "start_time": "2022-07-22T21:15:58.460Z"
   },
   {
    "duration": 24,
    "start_time": "2022-07-22T21:15:58.496Z"
   },
   {
    "duration": 156,
    "start_time": "2022-07-22T21:15:58.522Z"
   },
   {
    "duration": 36,
    "start_time": "2022-07-22T21:15:58.682Z"
   },
   {
    "duration": 26023,
    "start_time": "2022-07-22T21:15:58.720Z"
   },
   {
    "duration": 73,
    "start_time": "2022-07-22T21:16:24.746Z"
   },
   {
    "duration": 40,
    "start_time": "2022-07-22T21:16:24.825Z"
   },
   {
    "duration": 64,
    "start_time": "2022-07-22T21:16:24.871Z"
   },
   {
    "duration": 88,
    "start_time": "2022-07-22T21:16:24.938Z"
   },
   {
    "duration": 12,
    "start_time": "2022-07-22T21:16:25.028Z"
   },
   {
    "duration": 31,
    "start_time": "2022-07-22T21:16:25.045Z"
   },
   {
    "duration": 22,
    "start_time": "2022-07-22T21:16:25.078Z"
   },
   {
    "duration": 14,
    "start_time": "2022-07-22T21:16:25.102Z"
   },
   {
    "duration": 56,
    "start_time": "2022-07-22T21:16:25.118Z"
   },
   {
    "duration": 2947,
    "start_time": "2022-07-22T21:16:25.176Z"
   },
   {
    "duration": 30,
    "start_time": "2022-07-22T21:16:28.125Z"
   },
   {
    "duration": 41,
    "start_time": "2022-07-22T21:16:28.162Z"
   },
   {
    "duration": 429,
    "start_time": "2022-07-22T21:16:28.206Z"
   },
   {
    "duration": 12,
    "start_time": "2022-07-22T21:16:28.639Z"
   },
   {
    "duration": 29,
    "start_time": "2022-07-22T21:16:28.653Z"
   },
   {
    "duration": 18,
    "start_time": "2022-07-22T21:16:28.684Z"
   },
   {
    "duration": 43,
    "start_time": "2022-07-22T21:16:28.704Z"
   },
   {
    "duration": 44,
    "start_time": "2022-07-22T21:16:55.239Z"
   },
   {
    "duration": 36,
    "start_time": "2022-07-22T21:19:05.235Z"
   },
   {
    "duration": 5,
    "start_time": "2022-07-22T21:20:21.199Z"
   },
   {
    "duration": 154,
    "start_time": "2022-07-22T21:20:31.064Z"
   },
   {
    "duration": 13,
    "start_time": "2022-07-22T21:20:40.454Z"
   },
   {
    "duration": 14,
    "start_time": "2022-07-22T21:22:51.975Z"
   },
   {
    "duration": 47,
    "start_time": "2022-07-23T15:41:10.565Z"
   },
   {
    "duration": 6,
    "start_time": "2022-07-23T15:42:11.703Z"
   },
   {
    "duration": 2415,
    "start_time": "2022-08-05T10:37:16.166Z"
   },
   {
    "duration": 30,
    "start_time": "2022-08-05T10:37:18.583Z"
   },
   {
    "duration": 25,
    "start_time": "2022-08-05T10:37:18.615Z"
   },
   {
    "duration": 18,
    "start_time": "2022-08-05T10:37:18.642Z"
   },
   {
    "duration": 39,
    "start_time": "2022-08-05T10:37:18.662Z"
   },
   {
    "duration": 21,
    "start_time": "2022-08-05T10:37:18.702Z"
   },
   {
    "duration": 83,
    "start_time": "2022-08-05T10:37:18.725Z"
   },
   {
    "duration": 8,
    "start_time": "2022-08-05T10:37:18.809Z"
   },
   {
    "duration": 35,
    "start_time": "2022-08-05T10:37:18.819Z"
   },
   {
    "duration": 47,
    "start_time": "2022-08-05T10:37:18.856Z"
   },
   {
    "duration": 27,
    "start_time": "2022-08-05T10:37:18.905Z"
   },
   {
    "duration": 10,
    "start_time": "2022-08-05T10:37:18.934Z"
   },
   {
    "duration": 14,
    "start_time": "2022-08-05T10:37:18.946Z"
   },
   {
    "duration": 85,
    "start_time": "2022-08-05T10:37:18.961Z"
   },
   {
    "duration": 15,
    "start_time": "2022-08-05T10:37:19.047Z"
   },
   {
    "duration": 14724,
    "start_time": "2022-08-05T10:37:19.063Z"
   },
   {
    "duration": 13919,
    "start_time": "2022-08-05T10:37:33.790Z"
   },
   {
    "duration": 103,
    "start_time": "2022-08-05T10:37:47.710Z"
   },
   {
    "duration": 117,
    "start_time": "2022-08-05T10:37:47.815Z"
   },
   {
    "duration": 123,
    "start_time": "2022-08-05T10:37:47.933Z"
   },
   {
    "duration": 0,
    "start_time": "2022-08-05T10:37:48.057Z"
   },
   {
    "duration": 0,
    "start_time": "2022-08-05T10:37:48.059Z"
   },
   {
    "duration": 0,
    "start_time": "2022-08-05T10:37:48.060Z"
   },
   {
    "duration": 0,
    "start_time": "2022-08-05T10:37:48.061Z"
   },
   {
    "duration": 0,
    "start_time": "2022-08-05T10:37:48.062Z"
   },
   {
    "duration": 0,
    "start_time": "2022-08-05T10:37:48.063Z"
   },
   {
    "duration": 0,
    "start_time": "2022-08-05T10:37:48.064Z"
   },
   {
    "duration": 0,
    "start_time": "2022-08-05T10:37:48.065Z"
   },
   {
    "duration": 0,
    "start_time": "2022-08-05T10:37:48.066Z"
   },
   {
    "duration": 0,
    "start_time": "2022-08-05T10:37:48.067Z"
   },
   {
    "duration": 0,
    "start_time": "2022-08-05T10:37:48.069Z"
   },
   {
    "duration": 0,
    "start_time": "2022-08-05T10:37:48.069Z"
   },
   {
    "duration": 0,
    "start_time": "2022-08-05T10:37:48.092Z"
   },
   {
    "duration": 46,
    "start_time": "2022-08-05T11:05:54.987Z"
   },
   {
    "duration": 28,
    "start_time": "2022-08-05T11:05:56.613Z"
   },
   {
    "duration": 31,
    "start_time": "2022-08-05T11:05:57.766Z"
   },
   {
    "duration": 15157,
    "start_time": "2022-08-05T11:05:58.848Z"
   },
   {
    "duration": 127,
    "start_time": "2022-08-05T11:06:14.007Z"
   },
   {
    "duration": 132,
    "start_time": "2022-08-05T11:06:14.136Z"
   },
   {
    "duration": 46,
    "start_time": "2022-08-05T11:06:14.270Z"
   },
   {
    "duration": 46,
    "start_time": "2022-08-05T11:06:14.318Z"
   },
   {
    "duration": 89,
    "start_time": "2022-08-05T11:06:14.365Z"
   },
   {
    "duration": 31,
    "start_time": "2022-08-05T11:06:19.670Z"
   },
   {
    "duration": 20,
    "start_time": "2022-08-05T11:06:34.827Z"
   },
   {
    "duration": 22,
    "start_time": "2022-08-05T11:06:36.730Z"
   },
   {
    "duration": 91,
    "start_time": "2022-08-05T11:06:37.785Z"
   },
   {
    "duration": 25,
    "start_time": "2022-08-05T11:06:38.770Z"
   },
   {
    "duration": 28,
    "start_time": "2022-08-05T11:06:39.684Z"
   },
   {
    "duration": 37,
    "start_time": "2022-08-05T11:06:41.475Z"
   },
   {
    "duration": 44,
    "start_time": "2022-08-05T11:06:47.564Z"
   },
   {
    "duration": 18,
    "start_time": "2022-08-05T11:06:48.757Z"
   },
   {
    "duration": 986,
    "start_time": "2022-08-05T11:06:54.258Z"
   },
   {
    "duration": 14,
    "start_time": "2022-08-05T11:06:59.957Z"
   },
   {
    "duration": 23,
    "start_time": "2022-08-05T11:07:02.241Z"
   },
   {
    "duration": 1302,
    "start_time": "2022-08-05T11:13:24.453Z"
   },
   {
    "duration": 1240,
    "start_time": "2022-08-05T11:13:36.263Z"
   },
   {
    "duration": 1502,
    "start_time": "2022-08-05T11:13:45.531Z"
   },
   {
    "duration": 5,
    "start_time": "2022-08-05T11:14:46.886Z"
   },
   {
    "duration": 6,
    "start_time": "2022-08-05T11:14:53.640Z"
   },
   {
    "duration": 18,
    "start_time": "2022-08-05T11:15:02.079Z"
   },
   {
    "duration": 1257,
    "start_time": "2022-08-05T11:21:14.771Z"
   },
   {
    "duration": 6,
    "start_time": "2022-08-05T11:22:06.433Z"
   },
   {
    "duration": 9,
    "start_time": "2022-08-05T11:25:19.834Z"
   },
   {
    "duration": 14,
    "start_time": "2022-08-05T11:27:53.354Z"
   },
   {
    "duration": 314,
    "start_time": "2022-08-05T11:35:06.488Z"
   },
   {
    "duration": 28,
    "start_time": "2022-08-05T11:35:13.340Z"
   },
   {
    "duration": 69,
    "start_time": "2022-08-05T11:39:46.333Z"
   },
   {
    "duration": 32,
    "start_time": "2022-08-05T11:39:47.036Z"
   },
   {
    "duration": 115,
    "start_time": "2022-08-05T11:39:47.806Z"
   },
   {
    "duration": 531,
    "start_time": "2022-08-05T11:39:48.526Z"
   },
   {
    "duration": 99,
    "start_time": "2022-08-05T11:39:49.832Z"
   },
   {
    "duration": 180,
    "start_time": "2022-08-05T11:39:50.877Z"
   },
   {
    "duration": 30,
    "start_time": "2022-08-05T11:39:51.988Z"
   },
   {
    "duration": 27,
    "start_time": "2022-08-05T11:39:52.978Z"
   },
   {
    "duration": 8,
    "start_time": "2022-08-05T11:42:25.766Z"
   },
   {
    "duration": 13,
    "start_time": "2022-08-05T11:42:33.047Z"
   },
   {
    "duration": 103,
    "start_time": "2022-08-05T11:42:34.402Z"
   },
   {
    "duration": 82,
    "start_time": "2022-08-05T11:42:36.307Z"
   },
   {
    "duration": 56,
    "start_time": "2022-08-05T11:42:37.504Z"
   },
   {
    "duration": 32,
    "start_time": "2022-08-05T11:42:38.638Z"
   },
   {
    "duration": 103,
    "start_time": "2022-08-05T11:42:39.767Z"
   },
   {
    "duration": 23985,
    "start_time": "2022-08-05T11:42:41.327Z"
   },
   {
    "duration": 99,
    "start_time": "2022-08-05T11:43:05.525Z"
   },
   {
    "duration": 150,
    "start_time": "2022-08-05T11:43:31.014Z"
   },
   {
    "duration": 24045,
    "start_time": "2022-08-05T11:43:55.835Z"
   },
   {
    "duration": 133,
    "start_time": "2022-08-05T11:44:19.882Z"
   },
   {
    "duration": 191,
    "start_time": "2022-08-05T11:44:20.016Z"
   },
   {
    "duration": 33,
    "start_time": "2022-08-05T11:44:20.209Z"
   },
   {
    "duration": 78,
    "start_time": "2022-08-05T11:44:20.244Z"
   },
   {
    "duration": 227,
    "start_time": "2022-08-05T11:45:42.152Z"
   },
   {
    "duration": 32,
    "start_time": "2022-08-05T11:45:47.566Z"
   },
   {
    "duration": 103,
    "start_time": "2022-08-05T11:45:48.696Z"
   },
   {
    "duration": 21276,
    "start_time": "2022-08-05T11:45:50.338Z"
   },
   {
    "duration": 122,
    "start_time": "2022-08-05T11:46:11.615Z"
   },
   {
    "duration": 210,
    "start_time": "2022-08-05T11:46:11.739Z"
   },
   {
    "duration": 34,
    "start_time": "2022-08-05T11:46:12.850Z"
   },
   {
    "duration": 64,
    "start_time": "2022-08-05T11:50:48.976Z"
   },
   {
    "duration": 99,
    "start_time": "2022-08-05T11:50:55.846Z"
   },
   {
    "duration": 24,
    "start_time": "2022-08-05T11:50:57.162Z"
   },
   {
    "duration": 31,
    "start_time": "2022-08-05T11:50:58.369Z"
   },
   {
    "duration": 134,
    "start_time": "2022-08-05T11:50:59.604Z"
   },
   {
    "duration": 25,
    "start_time": "2022-08-05T11:51:00.719Z"
   },
   {
    "duration": 39,
    "start_time": "2022-08-05T11:51:01.843Z"
   },
   {
    "duration": 36,
    "start_time": "2022-08-05T11:51:02.993Z"
   },
   {
    "duration": 53,
    "start_time": "2022-08-05T11:51:09.406Z"
   },
   {
    "duration": 20,
    "start_time": "2022-08-05T11:51:11.142Z"
   },
   {
    "duration": 1090,
    "start_time": "2022-08-05T11:51:16.924Z"
   },
   {
    "duration": 6,
    "start_time": "2022-08-05T11:51:23.436Z"
   },
   {
    "duration": 16,
    "start_time": "2022-08-05T11:51:36.868Z"
   },
   {
    "duration": 74,
    "start_time": "2022-08-05T11:59:18.931Z"
   },
   {
    "duration": 54,
    "start_time": "2022-09-05T08:48:44.647Z"
   },
   {
    "duration": 9,
    "start_time": "2022-09-05T08:50:01.824Z"
   },
   {
    "duration": 1368,
    "start_time": "2022-09-05T21:32:42.085Z"
   },
   {
    "duration": 26,
    "start_time": "2022-09-05T21:32:43.454Z"
   },
   {
    "duration": 19,
    "start_time": "2022-09-05T21:32:43.481Z"
   },
   {
    "duration": 17,
    "start_time": "2022-09-05T21:32:43.502Z"
   },
   {
    "duration": 15,
    "start_time": "2022-09-05T21:32:43.520Z"
   },
   {
    "duration": 17,
    "start_time": "2022-09-05T21:32:43.536Z"
   },
   {
    "duration": 84,
    "start_time": "2022-09-05T21:32:43.554Z"
   },
   {
    "duration": 6,
    "start_time": "2022-09-05T21:32:43.639Z"
   },
   {
    "duration": 236,
    "start_time": "2022-09-05T21:32:43.646Z"
   },
   {
    "duration": 36,
    "start_time": "2022-09-05T21:32:43.885Z"
   },
   {
    "duration": 117,
    "start_time": "2022-09-05T21:32:43.922Z"
   },
   {
    "duration": 20411,
    "start_time": "2022-09-05T21:32:44.040Z"
   },
   {
    "duration": 115,
    "start_time": "2022-09-05T21:33:04.453Z"
   },
   {
    "duration": 186,
    "start_time": "2022-09-05T21:33:04.570Z"
   },
   {
    "duration": 36,
    "start_time": "2022-09-05T21:33:04.758Z"
   },
   {
    "duration": 67,
    "start_time": "2022-09-05T21:33:04.806Z"
   },
   {
    "duration": 101,
    "start_time": "2022-09-05T21:33:04.874Z"
   },
   {
    "duration": 29,
    "start_time": "2022-09-05T21:33:04.977Z"
   },
   {
    "duration": 28,
    "start_time": "2022-09-05T21:33:05.008Z"
   },
   {
    "duration": 150,
    "start_time": "2022-09-05T21:33:05.038Z"
   },
   {
    "duration": 34,
    "start_time": "2022-09-05T21:33:05.190Z"
   },
   {
    "duration": 31,
    "start_time": "2022-09-05T21:33:05.225Z"
   },
   {
    "duration": 54,
    "start_time": "2022-09-05T21:33:05.257Z"
   },
   {
    "duration": 42,
    "start_time": "2022-09-05T21:33:05.313Z"
   },
   {
    "duration": 19,
    "start_time": "2022-09-05T21:33:05.357Z"
   },
   {
    "duration": 78,
    "start_time": "2022-09-05T21:33:05.377Z"
   },
   {
    "duration": 0,
    "start_time": "2022-09-05T21:33:05.457Z"
   },
   {
    "duration": 0,
    "start_time": "2022-09-05T21:33:05.458Z"
   },
   {
    "duration": 0,
    "start_time": "2022-09-05T21:33:05.460Z"
   },
   {
    "duration": 933,
    "start_time": "2022-09-05T21:33:30.085Z"
   },
   {
    "duration": 89,
    "start_time": "2022-09-05T21:33:31.436Z"
   },
   {
    "duration": 18,
    "start_time": "2022-09-05T21:33:33.271Z"
   },
   {
    "duration": 1358,
    "start_time": "2022-09-05T21:34:03.289Z"
   },
   {
    "duration": 24,
    "start_time": "2022-09-05T21:34:04.649Z"
   },
   {
    "duration": 19,
    "start_time": "2022-09-05T21:34:04.675Z"
   },
   {
    "duration": 16,
    "start_time": "2022-09-05T21:34:04.695Z"
   },
   {
    "duration": 13,
    "start_time": "2022-09-05T21:34:04.712Z"
   },
   {
    "duration": 17,
    "start_time": "2022-09-05T21:34:04.727Z"
   },
   {
    "duration": 67,
    "start_time": "2022-09-05T21:34:04.745Z"
   },
   {
    "duration": 6,
    "start_time": "2022-09-05T21:34:04.813Z"
   },
   {
    "duration": 228,
    "start_time": "2022-09-05T21:34:04.820Z"
   },
   {
    "duration": 25,
    "start_time": "2022-09-05T21:34:05.050Z"
   },
   {
    "duration": 112,
    "start_time": "2022-09-05T21:34:05.077Z"
   },
   {
    "duration": 20297,
    "start_time": "2022-09-05T21:34:05.190Z"
   },
   {
    "duration": 89,
    "start_time": "2022-09-05T21:34:25.488Z"
   },
   {
    "duration": 174,
    "start_time": "2022-09-05T21:34:25.578Z"
   },
   {
    "duration": 33,
    "start_time": "2022-09-05T21:34:25.753Z"
   },
   {
    "duration": 74,
    "start_time": "2022-09-05T21:34:25.788Z"
   },
   {
    "duration": 93,
    "start_time": "2022-09-05T21:34:25.864Z"
   },
   {
    "duration": 21,
    "start_time": "2022-09-05T21:34:25.958Z"
   },
   {
    "duration": 41,
    "start_time": "2022-09-05T21:34:25.980Z"
   },
   {
    "duration": 152,
    "start_time": "2022-09-05T21:34:26.023Z"
   },
   {
    "duration": 32,
    "start_time": "2022-09-05T21:34:26.177Z"
   },
   {
    "duration": 32,
    "start_time": "2022-09-05T21:34:26.210Z"
   },
   {
    "duration": 36,
    "start_time": "2022-09-05T21:34:26.243Z"
   },
   {
    "duration": 56,
    "start_time": "2022-09-05T21:34:26.280Z"
   },
   {
    "duration": 17,
    "start_time": "2022-09-05T21:34:26.337Z"
   },
   {
    "duration": 913,
    "start_time": "2022-09-05T21:34:26.356Z"
   },
   {
    "duration": 9,
    "start_time": "2022-09-05T21:34:27.271Z"
   },
   {
    "duration": 33,
    "start_time": "2022-09-05T21:34:27.283Z"
   }
  ],
  "kernelspec": {
   "display_name": "Python 3 (ipykernel)",
   "language": "python",
   "name": "python3"
  },
  "language_info": {
   "codemirror_mode": {
    "name": "ipython",
    "version": 3
   },
   "file_extension": ".py",
   "mimetype": "text/x-python",
   "name": "python",
   "nbconvert_exporter": "python",
   "pygments_lexer": "ipython3",
   "version": "3.9.5"
  },
  "toc": {
   "base_numbering": 1,
   "nav_menu": {},
   "number_sections": true,
   "sideBar": true,
   "skip_h1_title": true,
   "title_cell": "Table of Contents",
   "title_sidebar": "Contents",
   "toc_cell": false,
   "toc_position": {},
   "toc_section_display": true,
   "toc_window_display": false
  }
 },
 "nbformat": 4,
 "nbformat_minor": 2
}
