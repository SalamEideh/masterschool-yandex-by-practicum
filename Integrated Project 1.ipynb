{
 "cells": [
  {
   "cell_type": "markdown",
   "metadata": {},
   "source": [
    "# Hello Salam!\n",
    "\n",
    "My name is Karina. Today I'm reviewing your project.\n",
    "\n",
    "Firstly, I'll only mark mistakes, if you have them. I'll give you oppotunity to fix it yourself. Of course, I'll add details if where are any difficulties.\n",
    "\n",
    "Good luck!\n",
    "\n",
    "Please respond to my comments and mark changes using color codes. \n",
    "Below you will find my comments - please do not change them.\n",
    "You can find my comments in green, yellow or red boxes like this:\n",
    "\n",
    "<div class=\"alert alert-block alert-success\">\n",
    "<b>Reviewer's comment</b> <a class=\"tocSkip\"></a>\n",
    "\n",
    "Success. Everything is done succesfully.\n",
    "</div>\n",
    "\n",
    "<div class=\"alert alert-block alert-warning\">\n",
    "<b>Reviewer's comment</b> <a class=\"tocSkip\"></a>\n",
    "\n",
    "Remarks. Some recommendations.\n",
    "</div>\n",
    "\n",
    "<div class=\"alert alert-block alert-danger\">\n",
    "\n",
    "<b>Reviewer's comment</b> <a class=\"tocSkip\"></a>\n",
    "\n",
    "Needs fixing. The block requires some corrections. Work can't be accepted with the red comments.\n",
    "</div>\n",
    "\n",
    "You can answer me by using this:\n",
    "\n",
    "<div class=\"alert alert-block alert-info\">\n",
    "<b>Student answer.</b> <a class=\"tocSkip\"></a>\n",
    "\n",
    "Text here)\n",
    "\n",
    "</div>\n",
    "\n",
    "Hi, alot changed in the final result (I got for example (can't reject) after all Hy were (can reject)\n",
    "also, a change happen with the platforms. After all I choose PS3 NOT PS4."
   ]
  },
  {
   "cell_type": "markdown",
   "metadata": {},
   "source": [
    "# Hi Karina,\n",
    "I NEED TO SEARCH GOOGLE TO KNOW HOW TO USE COLOR CODE (maybe I just misunderstanted what you asking for), BUT FOR NOW I'LL TRY MY BEST TO BE CLEAR.\n",
    "\n",
    "I'LL BE HAPPY IF YOU HELPD ME HOW TO DO SO. "
   ]
  },
  {
   "cell_type": "markdown",
   "metadata": {},
   "source": [
    "<div class=\"alert alert-block alert-success\">\n",
    "<b>Reviewer's comment v.1.</b> <a class=\"tocSkip\"></a>\n",
    "\n",
    "\n",
    "Hello!\n",
    "\n",
    "Just add these lines at the beginning of the cell with your answer:\n",
    "    \n",
    "    <div class=\"alert alert-block alert-info\">\n",
    "    <b>Student answer.</b> <a class=\"tocSkip\"></a>\n",
    "    \n",
    "and turn on the Markdown mode) This will make blue box for your answer) Hope I undestand your question)\n",
    "        \n",
    "Like that:\n",
    "        "
   ]
  },
  {
   "cell_type": "markdown",
   "metadata": {},
   "source": [
    "<div class=\"alert alert-block alert-info\">\n",
    "<b>Student answer.</b> <a class=\"tocSkip\"></a>\n",
    "\n",
    "Hi, just yestarday I got the note that I didn't finish my work with this project, I don't know how I have (completed!) in this course and maybe coz I wanted to move on (I were late) I thought all is OK! (REALLY SORRY FOR THIS, and happy to come back to it, and don't know what happened), but it's ok, and thanx for your time checking it) "
   ]
  },
  {
   "cell_type": "markdown",
   "metadata": {},
   "source": [
    "<div class=\"alert alert-block alert-success\">\n",
    "<b>Reviewer's comment v.2.</b> <a class=\"tocSkip\"></a>\n",
    "\n",
    "Hi! \n",
    "    \n",
    "it's ok)"
   ]
  },
  {
   "cell_type": "markdown",
   "metadata": {},
   "source": [
    "<div class=\"alert alert-block alert-info\">\n",
    "<b>Student answer.</b> <a class=\"tocSkip\"></a> V1. when I deal with missing values, many diffrences appeared:\n",
    "    1- I changed the changed the choosen platform from PS3 to X360.\n",
    "    2- I noticed that reviews by users and critics don't reflect the success of a game.\n",
    "    3- I changed the year from <== 2014 TO < 2011"
   ]
  },
  {
   "cell_type": "markdown",
   "metadata": {},
   "source": [
    "<b>Overall reviewer's comment v.2.</b> <a class=\"tocSkip\"></a>\n",
    "\n",
    "Thanks for coming back to this project)\n",
    "\n",
    "I completely agree with your new notes about scores and games success. That's true, they don't reflect at all)\n",
    "\n",
    "So, I'm glad to say that this project is perfect now and you've passed code review!\n",
    "\n",
    "Good luck!\n",
    "\n",
    "&#127881;\n",
    "&#127881;\n",
    "&#127881;\n"
   ]
  },
  {
   "cell_type": "markdown",
   "metadata": {},
   "source": [
    "# VIDEO GAMES"
   ]
  },
  {
   "cell_type": "markdown",
   "metadata": {},
   "source": [
    "# Introduction\n",
    "I work for the online store Ice, which sells video games all over the world. User and expert reviews, genres, platforms (e.g. Xbox or PlayStation), and historical data on game sales are available from open sources. I need to identify patterns that determine whether a game succeeds or not. This will allow me to spot potential big winners and plan advertising campaigns; imagining that it’s December 2016 and I'm planning a campaign for 2017."
   ]
  },
  {
   "cell_type": "markdown",
   "metadata": {},
   "source": [
    "# Table of Contents\n",
    "Step 1. Open the data file and study the general information \n",
    "Interim conclusion\n",
    "\n",
    "Step 2. Preparing the data\n",
    "Dealing with missing values and converting data to required types\n",
    "Interim conclusion\n",
    "\n",
    "Step 3. Analyze the data\n",
    "\n",
    "Step 4. Create a user profile for each region\n",
    "\n",
    "Step 5. Testing hypotheses\n",
    "\n",
    "Hypothesis test 1\n",
    "Hypothesis test 2\n",
    "\n",
    "Step 6. General conclusion"
   ]
  },
  {
   "cell_type": "markdown",
   "metadata": {},
   "source": [
    "<div class=\"alert alert-block alert-danger\">\n",
    "\n",
    "<b>Reviewer's comment</b> <a class=\"tocSkip\"></a>\n",
    "\n",
    "Please, add a small introduction here. A couple of sentences about this project, your plans and goals."
   ]
  },
  {
   "cell_type": "markdown",
   "metadata": {},
   "source": [
    "<div class=\"alert alert-block alert-success\">\n",
    "<b>Reviewer's comment v.1.</b> <a class=\"tocSkip\"></a>\n",
    "\n",
    "Great intro)"
   ]
  },
  {
   "cell_type": "markdown",
   "metadata": {},
   "source": [
    "Step 1. Open the data file and study the general information"
   ]
  },
  {
   "cell_type": "code",
   "execution_count": 80,
   "metadata": {},
   "outputs": [],
   "source": [
    "import pandas as pd\n",
    "import numpy as np\n",
    "from scipy import stats as st\n",
    "from functools import reduce\n",
    "import matplotlib.pyplot as plt\n",
    "import seaborn as sns"
   ]
  },
  {
   "cell_type": "code",
   "execution_count": 81,
   "metadata": {
    "scrolled": true
   },
   "outputs": [],
   "source": [
    "try:\n",
    "    games = pd.read_csv('games.csv')\n",
    "except:\n",
    "    games = pd.read_csv('/datasets/games.csv')"
   ]
  },
  {
   "cell_type": "code",
   "execution_count": 82,
   "metadata": {},
   "outputs": [
    {
     "name": "stdout",
     "output_type": "stream",
     "text": [
      "<class 'pandas.core.frame.DataFrame'>\n",
      "RangeIndex: 16715 entries, 0 to 16714\n",
      "Data columns (total 11 columns):\n",
      " #   Column           Non-Null Count  Dtype  \n",
      "---  ------           --------------  -----  \n",
      " 0   Name             16713 non-null  object \n",
      " 1   Platform         16715 non-null  object \n",
      " 2   Year_of_Release  16446 non-null  float64\n",
      " 3   Genre            16713 non-null  object \n",
      " 4   NA_sales         16715 non-null  float64\n",
      " 5   EU_sales         16715 non-null  float64\n",
      " 6   JP_sales         16715 non-null  float64\n",
      " 7   Other_sales      16715 non-null  float64\n",
      " 8   Critic_Score     8137 non-null   float64\n",
      " 9   User_Score       10014 non-null  object \n",
      " 10  Rating           9949 non-null   object \n",
      "dtypes: float64(6), object(5)\n",
      "memory usage: 1.4+ MB\n"
     ]
    },
    {
     "data": {
      "text/html": [
       "<div>\n",
       "<style scoped>\n",
       "    .dataframe tbody tr th:only-of-type {\n",
       "        vertical-align: middle;\n",
       "    }\n",
       "\n",
       "    .dataframe tbody tr th {\n",
       "        vertical-align: top;\n",
       "    }\n",
       "\n",
       "    .dataframe thead th {\n",
       "        text-align: right;\n",
       "    }\n",
       "</style>\n",
       "<table border=\"1\" class=\"dataframe\">\n",
       "  <thead>\n",
       "    <tr style=\"text-align: right;\">\n",
       "      <th></th>\n",
       "      <th>Name</th>\n",
       "      <th>Platform</th>\n",
       "      <th>Year_of_Release</th>\n",
       "      <th>Genre</th>\n",
       "      <th>NA_sales</th>\n",
       "      <th>EU_sales</th>\n",
       "      <th>JP_sales</th>\n",
       "      <th>Other_sales</th>\n",
       "      <th>Critic_Score</th>\n",
       "      <th>User_Score</th>\n",
       "      <th>Rating</th>\n",
       "    </tr>\n",
       "  </thead>\n",
       "  <tbody>\n",
       "    <tr>\n",
       "      <th>0</th>\n",
       "      <td>Wii Sports</td>\n",
       "      <td>Wii</td>\n",
       "      <td>2006.0</td>\n",
       "      <td>Sports</td>\n",
       "      <td>41.36</td>\n",
       "      <td>28.96</td>\n",
       "      <td>3.77</td>\n",
       "      <td>8.45</td>\n",
       "      <td>76.0</td>\n",
       "      <td>8</td>\n",
       "      <td>E</td>\n",
       "    </tr>\n",
       "    <tr>\n",
       "      <th>1</th>\n",
       "      <td>Super Mario Bros.</td>\n",
       "      <td>NES</td>\n",
       "      <td>1985.0</td>\n",
       "      <td>Platform</td>\n",
       "      <td>29.08</td>\n",
       "      <td>3.58</td>\n",
       "      <td>6.81</td>\n",
       "      <td>0.77</td>\n",
       "      <td>NaN</td>\n",
       "      <td>NaN</td>\n",
       "      <td>NaN</td>\n",
       "    </tr>\n",
       "    <tr>\n",
       "      <th>2</th>\n",
       "      <td>Mario Kart Wii</td>\n",
       "      <td>Wii</td>\n",
       "      <td>2008.0</td>\n",
       "      <td>Racing</td>\n",
       "      <td>15.68</td>\n",
       "      <td>12.76</td>\n",
       "      <td>3.79</td>\n",
       "      <td>3.29</td>\n",
       "      <td>82.0</td>\n",
       "      <td>8.3</td>\n",
       "      <td>E</td>\n",
       "    </tr>\n",
       "    <tr>\n",
       "      <th>3</th>\n",
       "      <td>Wii Sports Resort</td>\n",
       "      <td>Wii</td>\n",
       "      <td>2009.0</td>\n",
       "      <td>Sports</td>\n",
       "      <td>15.61</td>\n",
       "      <td>10.93</td>\n",
       "      <td>3.28</td>\n",
       "      <td>2.95</td>\n",
       "      <td>80.0</td>\n",
       "      <td>8</td>\n",
       "      <td>E</td>\n",
       "    </tr>\n",
       "    <tr>\n",
       "      <th>4</th>\n",
       "      <td>Pokemon Red/Pokemon Blue</td>\n",
       "      <td>GB</td>\n",
       "      <td>1996.0</td>\n",
       "      <td>Role-Playing</td>\n",
       "      <td>11.27</td>\n",
       "      <td>8.89</td>\n",
       "      <td>10.22</td>\n",
       "      <td>1.00</td>\n",
       "      <td>NaN</td>\n",
       "      <td>NaN</td>\n",
       "      <td>NaN</td>\n",
       "    </tr>\n",
       "  </tbody>\n",
       "</table>\n",
       "</div>"
      ],
      "text/plain": [
       "                       Name Platform  Year_of_Release         Genre  NA_sales  \\\n",
       "0                Wii Sports      Wii           2006.0        Sports     41.36   \n",
       "1         Super Mario Bros.      NES           1985.0      Platform     29.08   \n",
       "2            Mario Kart Wii      Wii           2008.0        Racing     15.68   \n",
       "3         Wii Sports Resort      Wii           2009.0        Sports     15.61   \n",
       "4  Pokemon Red/Pokemon Blue       GB           1996.0  Role-Playing     11.27   \n",
       "\n",
       "   EU_sales  JP_sales  Other_sales  Critic_Score User_Score Rating  \n",
       "0     28.96      3.77         8.45          76.0          8      E  \n",
       "1      3.58      6.81         0.77           NaN        NaN    NaN  \n",
       "2     12.76      3.79         3.29          82.0        8.3      E  \n",
       "3     10.93      3.28         2.95          80.0          8      E  \n",
       "4      8.89     10.22         1.00           NaN        NaN    NaN  "
      ]
     },
     "execution_count": 82,
     "metadata": {},
     "output_type": "execute_result"
    }
   ],
   "source": [
    "games.info()\n",
    "games.head()"
   ]
  },
  {
   "cell_type": "markdown",
   "metadata": {},
   "source": [
    "We have in the data 16715 entries,total 11 columns. Some missing values in: 'Name', 'Year_of_Release', 'Genre', 'Critic_Score', 'User_Score', and 'Rating'. And no duplications. The data types are two: object and float64. "
   ]
  },
  {
   "cell_type": "markdown",
   "metadata": {},
   "source": [
    "<div class=\"alert alert-block alert-success\">\n",
    "<b>Reviewer's comment</b> <a class=\"tocSkip\"></a>\n",
    "\n",
    "Good observations)"
   ]
  },
  {
   "cell_type": "markdown",
   "metadata": {},
   "source": [
    "# Prepare the data"
   ]
  },
  {
   "cell_type": "markdown",
   "metadata": {},
   "source": [
    "lower case: "
   ]
  },
  {
   "cell_type": "code",
   "execution_count": 83,
   "metadata": {},
   "outputs": [],
   "source": [
    "games.columns = games.columns.str.lower()"
   ]
  },
  {
   "cell_type": "markdown",
   "metadata": {},
   "source": [
    "We changed the column names to lower case."
   ]
  },
  {
   "cell_type": "code",
   "execution_count": 84,
   "metadata": {},
   "outputs": [],
   "source": [
    "games.name = games.name.astype('str')"
   ]
  },
  {
   "cell_type": "code",
   "execution_count": 85,
   "metadata": {},
   "outputs": [
    {
     "data": {
      "text/plain": [
       "PS2     2161\n",
       "DS      2151\n",
       "PS3     1331\n",
       "Wii     1320\n",
       "X360    1262\n",
       "PSP     1209\n",
       "PS      1197\n",
       "PC       974\n",
       "XB       824\n",
       "GBA      822\n",
       "GC       556\n",
       "3DS      520\n",
       "PSV      430\n",
       "PS4      392\n",
       "N64      319\n",
       "XOne     247\n",
       "SNES     239\n",
       "SAT      173\n",
       "WiiU     147\n",
       "2600     133\n",
       "GB        98\n",
       "NES       98\n",
       "DC        52\n",
       "GEN       29\n",
       "NG        12\n",
       "SCD        6\n",
       "WS         6\n",
       "3DO        3\n",
       "TG16       2\n",
       "GG         1\n",
       "PCFX       1\n",
       "Name: platform, dtype: int64"
      ]
     },
     "execution_count": 85,
     "metadata": {},
     "output_type": "execute_result"
    }
   ],
   "source": [
    "games.platform.value_counts()"
   ]
  },
  {
   "cell_type": "code",
   "execution_count": 86,
   "metadata": {},
   "outputs": [],
   "source": [
    "games.platform = games.platform.astype('str')"
   ]
  },
  {
   "cell_type": "code",
   "execution_count": 87,
   "metadata": {},
   "outputs": [
    {
     "data": {
      "text/plain": [
       "Action          3369\n",
       "Sports          2348\n",
       "Misc            1750\n",
       "Role-Playing    1498\n",
       "Shooter         1323\n",
       "Adventure       1303\n",
       "Racing          1249\n",
       "Platform         888\n",
       "Simulation       873\n",
       "Fighting         849\n",
       "Strategy         683\n",
       "Puzzle           580\n",
       "Name: genre, dtype: int64"
      ]
     },
     "execution_count": 87,
     "metadata": {},
     "output_type": "execute_result"
    }
   ],
   "source": [
    "games.genre.value_counts()"
   ]
  },
  {
   "cell_type": "code",
   "execution_count": 88,
   "metadata": {},
   "outputs": [],
   "source": [
    "games.genre = games.genre.astype('str')"
   ]
  },
  {
   "cell_type": "code",
   "execution_count": 89,
   "metadata": {},
   "outputs": [],
   "source": [
    "games.year_of_release = games.year_of_release.fillna(0).astype('int64')\n",
    "games.rename(columns={'year_of_release': 'year'}, inplace=True)"
   ]
  },
  {
   "cell_type": "code",
   "execution_count": 90,
   "metadata": {},
   "outputs": [
    {
     "data": {
      "text/plain": [
       "70.0    256\n",
       "71.0    254\n",
       "75.0    245\n",
       "78.0    240\n",
       "73.0    238\n",
       "       ... \n",
       "29.0      3\n",
       "13.0      1\n",
       "22.0      1\n",
       "17.0      1\n",
       "21.0      1\n",
       "Name: critic_score, Length: 82, dtype: int64"
      ]
     },
     "execution_count": 90,
     "metadata": {},
     "output_type": "execute_result"
    }
   ],
   "source": [
    "games.critic_score.value_counts()"
   ]
  },
  {
   "cell_type": "markdown",
   "metadata": {},
   "source": [
    "<div class=\"alert alert-block alert-success\">\n",
    "<b>Reviewer's comment</b> <a class=\"tocSkip\"></a>\n",
    "\n",
    "Interesting study!"
   ]
  },
  {
   "cell_type": "markdown",
   "metadata": {},
   "source": [
    "Seems like its all ints, but verification is needed"
   ]
  },
  {
   "cell_type": "code",
   "execution_count": 91,
   "metadata": {},
   "outputs": [
    {
     "data": {
      "text/plain": [
       "0.0    8137\n",
       "Name: critic_score, dtype: int64"
      ]
     },
     "execution_count": 91,
     "metadata": {},
     "output_type": "execute_result"
    }
   ],
   "source": [
    "tmp = np.floor(games.critic_score)\n",
    "games['critic_score'] -= tmp\n",
    "games.critic_score.value_counts()"
   ]
  },
  {
   "cell_type": "code",
   "execution_count": 92,
   "metadata": {},
   "outputs": [],
   "source": [
    "games.critic_score += tmp \n",
    "games.critic_score = games.critic_score.fillna(-1).astype('int64')"
   ]
  },
  {
   "cell_type": "code",
   "execution_count": 93,
   "metadata": {},
   "outputs": [
    {
     "data": {
      "text/plain": [
       "tbd    2424\n",
       "7.8     324\n",
       "8       290\n",
       "8.2     282\n",
       "8.3     254\n",
       "       ... \n",
       "0.9       2\n",
       "9.6       2\n",
       "0.7       2\n",
       "0         1\n",
       "9.7       1\n",
       "Name: user_score, Length: 96, dtype: int64"
      ]
     },
     "execution_count": 93,
     "metadata": {},
     "output_type": "execute_result"
    }
   ],
   "source": [
    "games.user_score.value_counts()"
   ]
  },
  {
   "cell_type": "code",
   "execution_count": 94,
   "metadata": {},
   "outputs": [
    {
     "data": {
      "text/plain": [
       "0"
      ]
     },
     "execution_count": 94,
     "metadata": {},
     "output_type": "execute_result"
    }
   ],
   "source": [
    "len(games[games['user_score'] == -1])"
   ]
  },
  {
   "cell_type": "code",
   "execution_count": 95,
   "metadata": {},
   "outputs": [],
   "source": [
    "games.loc[games['user_score'] == 'tbd','user_score'] = -1 \n",
    "games.user_score = games.user_score.astype('float64')"
   ]
  },
  {
   "cell_type": "code",
   "execution_count": 96,
   "metadata": {},
   "outputs": [
    {
     "data": {
      "text/plain": [
       "E       3990\n",
       "T       2961\n",
       "M       1563\n",
       "E10+    1420\n",
       "EC         8\n",
       "K-A        3\n",
       "RP         3\n",
       "AO         1\n",
       "Name: rating, dtype: int64"
      ]
     },
     "execution_count": 96,
     "metadata": {},
     "output_type": "execute_result"
    }
   ],
   "source": [
    "games.rating.value_counts()"
   ]
  },
  {
   "cell_type": "code",
   "execution_count": 97,
   "metadata": {},
   "outputs": [],
   "source": [
    "games.rating = games.rating.astype('str')"
   ]
  },
  {
   "cell_type": "code",
   "execution_count": 98,
   "metadata": {},
   "outputs": [
    {
     "name": "stdout",
     "output_type": "stream",
     "text": [
      "<class 'pandas.core.frame.DataFrame'>\n",
      "RangeIndex: 16715 entries, 0 to 16714\n",
      "Data columns (total 11 columns):\n",
      " #   Column        Non-Null Count  Dtype  \n",
      "---  ------        --------------  -----  \n",
      " 0   name          16715 non-null  object \n",
      " 1   platform      16715 non-null  object \n",
      " 2   year          16715 non-null  int64  \n",
      " 3   genre         16715 non-null  object \n",
      " 4   na_sales      16715 non-null  float64\n",
      " 5   eu_sales      16715 non-null  float64\n",
      " 6   jp_sales      16715 non-null  float64\n",
      " 7   other_sales   16715 non-null  float64\n",
      " 8   critic_score  16715 non-null  int64  \n",
      " 9   user_score    10014 non-null  float64\n",
      " 10  rating        16715 non-null  object \n",
      "dtypes: float64(5), int64(2), object(4)\n",
      "memory usage: 1.4+ MB\n"
     ]
    }
   ],
   "source": [
    "games.info()"
   ]
  },
  {
   "cell_type": "markdown",
   "metadata": {},
   "source": [
    "Dealing with missing values"
   ]
  },
  {
   "cell_type": "code",
   "execution_count": 99,
   "metadata": {},
   "outputs": [
    {
     "data": {
      "text/html": [
       "<div>\n",
       "<style scoped>\n",
       "    .dataframe tbody tr th:only-of-type {\n",
       "        vertical-align: middle;\n",
       "    }\n",
       "\n",
       "    .dataframe tbody tr th {\n",
       "        vertical-align: top;\n",
       "    }\n",
       "\n",
       "    .dataframe thead th {\n",
       "        text-align: right;\n",
       "    }\n",
       "</style>\n",
       "<table border=\"1\" class=\"dataframe\">\n",
       "  <thead>\n",
       "    <tr style=\"text-align: right;\">\n",
       "      <th></th>\n",
       "      <th>missing_values</th>\n",
       "      <th>%</th>\n",
       "    </tr>\n",
       "  </thead>\n",
       "  <tbody>\n",
       "    <tr>\n",
       "      <th>user_score</th>\n",
       "      <td>6701</td>\n",
       "      <td>0.401</td>\n",
       "    </tr>\n",
       "    <tr>\n",
       "      <th>name</th>\n",
       "      <td>0</td>\n",
       "      <td>0.000</td>\n",
       "    </tr>\n",
       "    <tr>\n",
       "      <th>platform</th>\n",
       "      <td>0</td>\n",
       "      <td>0.000</td>\n",
       "    </tr>\n",
       "    <tr>\n",
       "      <th>year</th>\n",
       "      <td>0</td>\n",
       "      <td>0.000</td>\n",
       "    </tr>\n",
       "    <tr>\n",
       "      <th>genre</th>\n",
       "      <td>0</td>\n",
       "      <td>0.000</td>\n",
       "    </tr>\n",
       "    <tr>\n",
       "      <th>na_sales</th>\n",
       "      <td>0</td>\n",
       "      <td>0.000</td>\n",
       "    </tr>\n",
       "    <tr>\n",
       "      <th>eu_sales</th>\n",
       "      <td>0</td>\n",
       "      <td>0.000</td>\n",
       "    </tr>\n",
       "    <tr>\n",
       "      <th>jp_sales</th>\n",
       "      <td>0</td>\n",
       "      <td>0.000</td>\n",
       "    </tr>\n",
       "    <tr>\n",
       "      <th>other_sales</th>\n",
       "      <td>0</td>\n",
       "      <td>0.000</td>\n",
       "    </tr>\n",
       "    <tr>\n",
       "      <th>critic_score</th>\n",
       "      <td>0</td>\n",
       "      <td>0.000</td>\n",
       "    </tr>\n",
       "    <tr>\n",
       "      <th>rating</th>\n",
       "      <td>0</td>\n",
       "      <td>0.000</td>\n",
       "    </tr>\n",
       "  </tbody>\n",
       "</table>\n",
       "</div>"
      ],
      "text/plain": [
       "              missing_values      %\n",
       "user_score              6701  0.401\n",
       "name                       0  0.000\n",
       "platform                   0  0.000\n",
       "year                       0  0.000\n",
       "genre                      0  0.000\n",
       "na_sales                   0  0.000\n",
       "eu_sales                   0  0.000\n",
       "jp_sales                   0  0.000\n",
       "other_sales                0  0.000\n",
       "critic_score               0  0.000\n",
       "rating                     0  0.000"
      ]
     },
     "execution_count": 99,
     "metadata": {},
     "output_type": "execute_result"
    }
   ],
   "source": [
    "games.isnull().sum()/len(games)\n",
    "\n",
    "#Or you can even make a dataframe of of it using to_frame\n",
    "\n",
    "mis_values = games.isnull().sum().to_frame('missing_values')\n",
    "mis_values['%'] = round(games.isnull().sum()/len(games),3)\n",
    "mis_values.sort_values(by='%', ascending=False)"
   ]
  },
  {
   "cell_type": "code",
   "execution_count": 100,
   "metadata": {},
   "outputs": [
    {
     "data": {
      "text/html": [
       "<div>\n",
       "<style scoped>\n",
       "    .dataframe tbody tr th:only-of-type {\n",
       "        vertical-align: middle;\n",
       "    }\n",
       "\n",
       "    .dataframe tbody tr th {\n",
       "        vertical-align: top;\n",
       "    }\n",
       "\n",
       "    .dataframe thead th {\n",
       "        text-align: right;\n",
       "    }\n",
       "</style>\n",
       "<table border=\"1\" class=\"dataframe\">\n",
       "  <thead>\n",
       "    <tr style=\"text-align: right;\">\n",
       "      <th></th>\n",
       "      <th>name</th>\n",
       "      <th>platform</th>\n",
       "      <th>year</th>\n",
       "      <th>genre</th>\n",
       "      <th>na_sales</th>\n",
       "      <th>eu_sales</th>\n",
       "      <th>jp_sales</th>\n",
       "      <th>other_sales</th>\n",
       "      <th>critic_score</th>\n",
       "      <th>user_score</th>\n",
       "      <th>rating</th>\n",
       "    </tr>\n",
       "  </thead>\n",
       "  <tbody>\n",
       "  </tbody>\n",
       "</table>\n",
       "</div>"
      ],
      "text/plain": [
       "Empty DataFrame\n",
       "Columns: [name, platform, year, genre, na_sales, eu_sales, jp_sales, other_sales, critic_score, user_score, rating]\n",
       "Index: []"
      ]
     },
     "execution_count": 100,
     "metadata": {},
     "output_type": "execute_result"
    }
   ],
   "source": [
    "games[games['name'].isna()]"
   ]
  },
  {
   "cell_type": "code",
   "execution_count": 101,
   "metadata": {},
   "outputs": [
    {
     "data": {
      "text/html": [
       "<div>\n",
       "<style scoped>\n",
       "    .dataframe tbody tr th:only-of-type {\n",
       "        vertical-align: middle;\n",
       "    }\n",
       "\n",
       "    .dataframe tbody tr th {\n",
       "        vertical-align: top;\n",
       "    }\n",
       "\n",
       "    .dataframe thead th {\n",
       "        text-align: right;\n",
       "    }\n",
       "</style>\n",
       "<table border=\"1\" class=\"dataframe\">\n",
       "  <thead>\n",
       "    <tr style=\"text-align: right;\">\n",
       "      <th></th>\n",
       "      <th>name</th>\n",
       "      <th>platform</th>\n",
       "      <th>year</th>\n",
       "      <th>genre</th>\n",
       "      <th>na_sales</th>\n",
       "      <th>eu_sales</th>\n",
       "      <th>jp_sales</th>\n",
       "      <th>other_sales</th>\n",
       "      <th>critic_score</th>\n",
       "      <th>user_score</th>\n",
       "      <th>rating</th>\n",
       "    </tr>\n",
       "  </thead>\n",
       "  <tbody>\n",
       "  </tbody>\n",
       "</table>\n",
       "</div>"
      ],
      "text/plain": [
       "Empty DataFrame\n",
       "Columns: [name, platform, year, genre, na_sales, eu_sales, jp_sales, other_sales, critic_score, user_score, rating]\n",
       "Index: []"
      ]
     },
     "execution_count": 101,
     "metadata": {},
     "output_type": "execute_result"
    }
   ],
   "source": [
    "games[games['genre'].isna()]"
   ]
  },
  {
   "cell_type": "code",
   "execution_count": 102,
   "metadata": {},
   "outputs": [
    {
     "name": "stdout",
     "output_type": "stream",
     "text": [
      "Total games in 1993 - 62\n",
      "Proportion of games from 1993 - 0.003769913656816247\n"
     ]
    }
   ],
   "source": [
    "tmp1993 = games.year.value_counts()[1993]\n",
    "print(f'Total games in 1993 - {tmp1993}')\n",
    "\n",
    "tmpna = len(games[games['year'] == 0])\n",
    "tmptotal =len(games.year)\n",
    "print(f'Proportion of games from 1993 - {tmp1993 / (tmptotal - tmpna)}')"
   ]
  },
  {
   "cell_type": "code",
   "execution_count": 103,
   "metadata": {},
   "outputs": [
    {
     "name": "stdout",
     "output_type": "stream",
     "text": [
      "Total games for GEN - 29\n",
      "Proportion of games for GEN platform - 0.001734968591085851\n"
     ]
    }
   ],
   "source": [
    "tmpGEN = games.platform.value_counts()['GEN']\n",
    "print(f'Total games for GEN - {tmpGEN}')\n",
    "\n",
    "tmpna = games.platform.isna().sum()\n",
    "tmptotal =len(games.platform)\n",
    "print(f'Proportion of games for GEN platform - {tmpGEN / (tmptotal - tmpna)}')"
   ]
  },
  {
   "cell_type": "markdown",
   "metadata": {},
   "source": [
    "<div class=\"alert alert-block alert-success\">\n",
    "<b>Reviewer's comment</b> <a class=\"tocSkip\"></a>\n",
    "\n",
    "Your work with names is correct)"
   ]
  },
  {
   "cell_type": "markdown",
   "metadata": {},
   "source": [
    "'year' missing values"
   ]
  },
  {
   "cell_type": "code",
   "execution_count": 104,
   "metadata": {
    "scrolled": false
   },
   "outputs": [
    {
     "data": {
      "text/plain": [
       "0        269\n",
       "1980       9\n",
       "1981      46\n",
       "1982      36\n",
       "1983      17\n",
       "1984      14\n",
       "1985      14\n",
       "1986      21\n",
       "1987      16\n",
       "1988      15\n",
       "1989      17\n",
       "1990      16\n",
       "1991      41\n",
       "1992      43\n",
       "1993      62\n",
       "1994     121\n",
       "1995     219\n",
       "1996     263\n",
       "1997     289\n",
       "1998     379\n",
       "1999     338\n",
       "2000     350\n",
       "2001     482\n",
       "2002     829\n",
       "2003     775\n",
       "2004     762\n",
       "2005     939\n",
       "2006    1006\n",
       "2007    1197\n",
       "2008    1427\n",
       "2009    1426\n",
       "2010    1255\n",
       "2011    1136\n",
       "2012     653\n",
       "2013     544\n",
       "2014     581\n",
       "2015     606\n",
       "2016     502\n",
       "Name: year, dtype: int64"
      ]
     },
     "execution_count": 104,
     "metadata": {},
     "output_type": "execute_result"
    }
   ],
   "source": [
    "games.year.value_counts().sort_index()"
   ]
  },
  {
   "cell_type": "code",
   "execution_count": 105,
   "metadata": {},
   "outputs": [
    {
     "data": {
      "text/html": [
       "<div>\n",
       "<style scoped>\n",
       "    .dataframe tbody tr th:only-of-type {\n",
       "        vertical-align: middle;\n",
       "    }\n",
       "\n",
       "    .dataframe tbody tr th {\n",
       "        vertical-align: top;\n",
       "    }\n",
       "\n",
       "    .dataframe thead th {\n",
       "        text-align: right;\n",
       "    }\n",
       "</style>\n",
       "<table border=\"1\" class=\"dataframe\">\n",
       "  <thead>\n",
       "    <tr style=\"text-align: right;\">\n",
       "      <th></th>\n",
       "      <th>name</th>\n",
       "      <th>platform</th>\n",
       "      <th>year</th>\n",
       "      <th>genre</th>\n",
       "      <th>na_sales</th>\n",
       "      <th>eu_sales</th>\n",
       "      <th>jp_sales</th>\n",
       "      <th>other_sales</th>\n",
       "      <th>critic_score</th>\n",
       "      <th>user_score</th>\n",
       "      <th>rating</th>\n",
       "    </tr>\n",
       "  </thead>\n",
       "  <tbody>\n",
       "    <tr>\n",
       "      <th>183</th>\n",
       "      <td>Madden NFL 2004</td>\n",
       "      <td>PS2</td>\n",
       "      <td>0</td>\n",
       "      <td>Sports</td>\n",
       "      <td>4.26</td>\n",
       "      <td>0.26</td>\n",
       "      <td>0.01</td>\n",
       "      <td>0.71</td>\n",
       "      <td>94</td>\n",
       "      <td>8.5</td>\n",
       "      <td>E</td>\n",
       "    </tr>\n",
       "    <tr>\n",
       "      <th>377</th>\n",
       "      <td>FIFA Soccer 2004</td>\n",
       "      <td>PS2</td>\n",
       "      <td>0</td>\n",
       "      <td>Sports</td>\n",
       "      <td>0.59</td>\n",
       "      <td>2.36</td>\n",
       "      <td>0.04</td>\n",
       "      <td>0.51</td>\n",
       "      <td>84</td>\n",
       "      <td>6.4</td>\n",
       "      <td>E</td>\n",
       "    </tr>\n",
       "    <tr>\n",
       "      <th>456</th>\n",
       "      <td>LEGO Batman: The Videogame</td>\n",
       "      <td>Wii</td>\n",
       "      <td>0</td>\n",
       "      <td>Action</td>\n",
       "      <td>1.80</td>\n",
       "      <td>0.97</td>\n",
       "      <td>0.00</td>\n",
       "      <td>0.29</td>\n",
       "      <td>74</td>\n",
       "      <td>7.9</td>\n",
       "      <td>E10+</td>\n",
       "    </tr>\n",
       "    <tr>\n",
       "      <th>475</th>\n",
       "      <td>wwe Smackdown vs. Raw 2006</td>\n",
       "      <td>PS2</td>\n",
       "      <td>0</td>\n",
       "      <td>Fighting</td>\n",
       "      <td>1.57</td>\n",
       "      <td>1.02</td>\n",
       "      <td>0.00</td>\n",
       "      <td>0.41</td>\n",
       "      <td>-1</td>\n",
       "      <td>NaN</td>\n",
       "      <td>nan</td>\n",
       "    </tr>\n",
       "    <tr>\n",
       "      <th>609</th>\n",
       "      <td>Space Invaders</td>\n",
       "      <td>2600</td>\n",
       "      <td>0</td>\n",
       "      <td>Shooter</td>\n",
       "      <td>2.36</td>\n",
       "      <td>0.14</td>\n",
       "      <td>0.00</td>\n",
       "      <td>0.03</td>\n",
       "      <td>-1</td>\n",
       "      <td>NaN</td>\n",
       "      <td>nan</td>\n",
       "    </tr>\n",
       "    <tr>\n",
       "      <th>...</th>\n",
       "      <td>...</td>\n",
       "      <td>...</td>\n",
       "      <td>...</td>\n",
       "      <td>...</td>\n",
       "      <td>...</td>\n",
       "      <td>...</td>\n",
       "      <td>...</td>\n",
       "      <td>...</td>\n",
       "      <td>...</td>\n",
       "      <td>...</td>\n",
       "      <td>...</td>\n",
       "    </tr>\n",
       "    <tr>\n",
       "      <th>16373</th>\n",
       "      <td>PDC World Championship Darts 2008</td>\n",
       "      <td>PSP</td>\n",
       "      <td>0</td>\n",
       "      <td>Sports</td>\n",
       "      <td>0.01</td>\n",
       "      <td>0.00</td>\n",
       "      <td>0.00</td>\n",
       "      <td>0.00</td>\n",
       "      <td>43</td>\n",
       "      <td>-1.0</td>\n",
       "      <td>E10+</td>\n",
       "    </tr>\n",
       "    <tr>\n",
       "      <th>16405</th>\n",
       "      <td>Freaky Flyers</td>\n",
       "      <td>GC</td>\n",
       "      <td>0</td>\n",
       "      <td>Racing</td>\n",
       "      <td>0.01</td>\n",
       "      <td>0.00</td>\n",
       "      <td>0.00</td>\n",
       "      <td>0.00</td>\n",
       "      <td>69</td>\n",
       "      <td>6.5</td>\n",
       "      <td>T</td>\n",
       "    </tr>\n",
       "    <tr>\n",
       "      <th>16448</th>\n",
       "      <td>Inversion</td>\n",
       "      <td>PC</td>\n",
       "      <td>0</td>\n",
       "      <td>Shooter</td>\n",
       "      <td>0.01</td>\n",
       "      <td>0.00</td>\n",
       "      <td>0.00</td>\n",
       "      <td>0.00</td>\n",
       "      <td>59</td>\n",
       "      <td>6.7</td>\n",
       "      <td>M</td>\n",
       "    </tr>\n",
       "    <tr>\n",
       "      <th>16458</th>\n",
       "      <td>Hakuouki: Shinsengumi Kitan</td>\n",
       "      <td>PS3</td>\n",
       "      <td>0</td>\n",
       "      <td>Adventure</td>\n",
       "      <td>0.01</td>\n",
       "      <td>0.00</td>\n",
       "      <td>0.00</td>\n",
       "      <td>0.00</td>\n",
       "      <td>-1</td>\n",
       "      <td>NaN</td>\n",
       "      <td>nan</td>\n",
       "    </tr>\n",
       "    <tr>\n",
       "      <th>16522</th>\n",
       "      <td>Virtua Quest</td>\n",
       "      <td>GC</td>\n",
       "      <td>0</td>\n",
       "      <td>Role-Playing</td>\n",
       "      <td>0.01</td>\n",
       "      <td>0.00</td>\n",
       "      <td>0.00</td>\n",
       "      <td>0.00</td>\n",
       "      <td>55</td>\n",
       "      <td>5.5</td>\n",
       "      <td>T</td>\n",
       "    </tr>\n",
       "  </tbody>\n",
       "</table>\n",
       "<p>269 rows × 11 columns</p>\n",
       "</div>"
      ],
      "text/plain": [
       "                                    name platform  year         genre  \\\n",
       "183                      Madden NFL 2004      PS2     0        Sports   \n",
       "377                     FIFA Soccer 2004      PS2     0        Sports   \n",
       "456           LEGO Batman: The Videogame      Wii     0        Action   \n",
       "475           wwe Smackdown vs. Raw 2006      PS2     0      Fighting   \n",
       "609                       Space Invaders     2600     0       Shooter   \n",
       "...                                  ...      ...   ...           ...   \n",
       "16373  PDC World Championship Darts 2008      PSP     0        Sports   \n",
       "16405                      Freaky Flyers       GC     0        Racing   \n",
       "16448                          Inversion       PC     0       Shooter   \n",
       "16458        Hakuouki: Shinsengumi Kitan      PS3     0     Adventure   \n",
       "16522                       Virtua Quest       GC     0  Role-Playing   \n",
       "\n",
       "       na_sales  eu_sales  jp_sales  other_sales  critic_score  user_score  \\\n",
       "183        4.26      0.26      0.01         0.71            94         8.5   \n",
       "377        0.59      2.36      0.04         0.51            84         6.4   \n",
       "456        1.80      0.97      0.00         0.29            74         7.9   \n",
       "475        1.57      1.02      0.00         0.41            -1         NaN   \n",
       "609        2.36      0.14      0.00         0.03            -1         NaN   \n",
       "...         ...       ...       ...          ...           ...         ...   \n",
       "16373      0.01      0.00      0.00         0.00            43        -1.0   \n",
       "16405      0.01      0.00      0.00         0.00            69         6.5   \n",
       "16448      0.01      0.00      0.00         0.00            59         6.7   \n",
       "16458      0.01      0.00      0.00         0.00            -1         NaN   \n",
       "16522      0.01      0.00      0.00         0.00            55         5.5   \n",
       "\n",
       "      rating  \n",
       "183        E  \n",
       "377        E  \n",
       "456     E10+  \n",
       "475      nan  \n",
       "609      nan  \n",
       "...      ...  \n",
       "16373   E10+  \n",
       "16405      T  \n",
       "16448      M  \n",
       "16458    nan  \n",
       "16522      T  \n",
       "\n",
       "[269 rows x 11 columns]"
      ]
     },
     "execution_count": 105,
     "metadata": {},
     "output_type": "execute_result"
    }
   ],
   "source": [
    "missed_years = games[games['year'] == 0]\n",
    "missed_years"
   ]
  },
  {
   "cell_type": "code",
   "execution_count": 106,
   "metadata": {
    "scrolled": true
   },
   "outputs": [
    {
     "name": "stdout",
     "output_type": "stream",
     "text": [
      "<class 'pandas.core.frame.DataFrame'>\n",
      "RangeIndex: 66 entries, 0 to 65\n",
      "Data columns (total 2 columns):\n",
      " #   Column          Non-Null Count  Dtype \n",
      "---  ------          --------------  ----- \n",
      " 0   original_index  66 non-null     int64 \n",
      " 1   year            66 non-null     object\n",
      "dtypes: int64(1), object(1)\n",
      "memory usage: 1.2+ KB\n"
     ]
    },
    {
     "data": {
      "text/html": [
       "<div>\n",
       "<style scoped>\n",
       "    .dataframe tbody tr th:only-of-type {\n",
       "        vertical-align: middle;\n",
       "    }\n",
       "\n",
       "    .dataframe tbody tr th {\n",
       "        vertical-align: top;\n",
       "    }\n",
       "\n",
       "    .dataframe thead th {\n",
       "        text-align: right;\n",
       "    }\n",
       "</style>\n",
       "<table border=\"1\" class=\"dataframe\">\n",
       "  <thead>\n",
       "    <tr style=\"text-align: right;\">\n",
       "      <th></th>\n",
       "      <th>original_index</th>\n",
       "      <th>year</th>\n",
       "    </tr>\n",
       "  </thead>\n",
       "  <tbody>\n",
       "    <tr>\n",
       "      <th>0</th>\n",
       "      <td>183</td>\n",
       "      <td>2004</td>\n",
       "    </tr>\n",
       "    <tr>\n",
       "      <th>1</th>\n",
       "      <td>377</td>\n",
       "      <td>2004</td>\n",
       "    </tr>\n",
       "    <tr>\n",
       "      <th>2</th>\n",
       "      <td>475</td>\n",
       "      <td>2006</td>\n",
       "    </tr>\n",
       "    <tr>\n",
       "      <th>3</th>\n",
       "      <td>719</td>\n",
       "      <td>3</td>\n",
       "    </tr>\n",
       "    <tr>\n",
       "      <th>4</th>\n",
       "      <td>1301</td>\n",
       "      <td>99</td>\n",
       "    </tr>\n",
       "    <tr>\n",
       "      <th>...</th>\n",
       "      <td>...</td>\n",
       "      <td>...</td>\n",
       "    </tr>\n",
       "    <tr>\n",
       "      <th>61</th>\n",
       "      <td>15953</td>\n",
       "      <td>2008</td>\n",
       "    </tr>\n",
       "    <tr>\n",
       "      <th>62</th>\n",
       "      <td>16079</td>\n",
       "      <td>2007</td>\n",
       "    </tr>\n",
       "    <tr>\n",
       "      <th>63</th>\n",
       "      <td>16293</td>\n",
       "      <td>1</td>\n",
       "    </tr>\n",
       "    <tr>\n",
       "      <th>64</th>\n",
       "      <td>16329</td>\n",
       "      <td>4</td>\n",
       "    </tr>\n",
       "    <tr>\n",
       "      <th>65</th>\n",
       "      <td>16373</td>\n",
       "      <td>2008</td>\n",
       "    </tr>\n",
       "  </tbody>\n",
       "</table>\n",
       "<p>66 rows × 2 columns</p>\n",
       "</div>"
      ],
      "text/plain": [
       "    original_index  year\n",
       "0              183  2004\n",
       "1              377  2004\n",
       "2              475  2006\n",
       "3              719     3\n",
       "4             1301    99\n",
       "..             ...   ...\n",
       "61           15953  2008\n",
       "62           16079  2007\n",
       "63           16293     1\n",
       "64           16329     4\n",
       "65           16373  2008\n",
       "\n",
       "[66 rows x 2 columns]"
      ]
     },
     "execution_count": 106,
     "metadata": {},
     "output_type": "execute_result"
    }
   ],
   "source": [
    "tmp = missed_years['name'].str.extract('(\\d+)').dropna().reset_index(level=0)\n",
    "tmp.columns = ['original_index','year']\n",
    "tmp.info()\n",
    "tmp"
   ]
  },
  {
   "cell_type": "code",
   "execution_count": 107,
   "metadata": {},
   "outputs": [
    {
     "data": {
      "text/html": [
       "<div>\n",
       "<style scoped>\n",
       "    .dataframe tbody tr th:only-of-type {\n",
       "        vertical-align: middle;\n",
       "    }\n",
       "\n",
       "    .dataframe tbody tr th {\n",
       "        vertical-align: top;\n",
       "    }\n",
       "\n",
       "    .dataframe thead th {\n",
       "        text-align: right;\n",
       "    }\n",
       "</style>\n",
       "<table border=\"1\" class=\"dataframe\">\n",
       "  <thead>\n",
       "    <tr style=\"text-align: right;\">\n",
       "      <th></th>\n",
       "      <th>original_index</th>\n",
       "      <th>year</th>\n",
       "    </tr>\n",
       "  </thead>\n",
       "  <tbody>\n",
       "    <tr>\n",
       "      <th>0</th>\n",
       "      <td>183</td>\n",
       "      <td>2004</td>\n",
       "    </tr>\n",
       "    <tr>\n",
       "      <th>1</th>\n",
       "      <td>377</td>\n",
       "      <td>2004</td>\n",
       "    </tr>\n",
       "    <tr>\n",
       "      <th>2</th>\n",
       "      <td>475</td>\n",
       "      <td>2006</td>\n",
       "    </tr>\n",
       "    <tr>\n",
       "      <th>6</th>\n",
       "      <td>1650</td>\n",
       "      <td>2003</td>\n",
       "    </tr>\n",
       "    <tr>\n",
       "      <th>13</th>\n",
       "      <td>2572</td>\n",
       "      <td>2009</td>\n",
       "    </tr>\n",
       "    <tr>\n",
       "      <th>21</th>\n",
       "      <td>3486</td>\n",
       "      <td>2002</td>\n",
       "    </tr>\n",
       "    <tr>\n",
       "      <th>24</th>\n",
       "      <td>4775</td>\n",
       "      <td>2003</td>\n",
       "    </tr>\n",
       "    <tr>\n",
       "      <th>26</th>\n",
       "      <td>5156</td>\n",
       "      <td>2003</td>\n",
       "    </tr>\n",
       "    <tr>\n",
       "      <th>29</th>\n",
       "      <td>5336</td>\n",
       "      <td>2013</td>\n",
       "    </tr>\n",
       "    <tr>\n",
       "      <th>31</th>\n",
       "      <td>5655</td>\n",
       "      <td>2005</td>\n",
       "    </tr>\n",
       "    <tr>\n",
       "      <th>32</th>\n",
       "      <td>5889</td>\n",
       "      <td>2003</td>\n",
       "    </tr>\n",
       "    <tr>\n",
       "      <th>45</th>\n",
       "      <td>8918</td>\n",
       "      <td>2005</td>\n",
       "    </tr>\n",
       "    <tr>\n",
       "      <th>54</th>\n",
       "      <td>13195</td>\n",
       "      <td>2011</td>\n",
       "    </tr>\n",
       "    <tr>\n",
       "      <th>56</th>\n",
       "      <td>13929</td>\n",
       "      <td>2006</td>\n",
       "    </tr>\n",
       "    <tr>\n",
       "      <th>61</th>\n",
       "      <td>15953</td>\n",
       "      <td>2008</td>\n",
       "    </tr>\n",
       "    <tr>\n",
       "      <th>62</th>\n",
       "      <td>16079</td>\n",
       "      <td>2007</td>\n",
       "    </tr>\n",
       "    <tr>\n",
       "      <th>65</th>\n",
       "      <td>16373</td>\n",
       "      <td>2008</td>\n",
       "    </tr>\n",
       "  </tbody>\n",
       "</table>\n",
       "</div>"
      ],
      "text/plain": [
       "    original_index  year\n",
       "0              183  2004\n",
       "1              377  2004\n",
       "2              475  2006\n",
       "6             1650  2003\n",
       "13            2572  2009\n",
       "21            3486  2002\n",
       "24            4775  2003\n",
       "26            5156  2003\n",
       "29            5336  2013\n",
       "31            5655  2005\n",
       "32            5889  2003\n",
       "45            8918  2005\n",
       "54           13195  2011\n",
       "56           13929  2006\n",
       "61           15953  2008\n",
       "62           16079  2007\n",
       "65           16373  2008"
      ]
     },
     "execution_count": 107,
     "metadata": {},
     "output_type": "execute_result"
    }
   ],
   "source": [
    "tmp.year = tmp.year.astype('int64')\n",
    "tmp.drop(tmp[tmp.year < 1980].index, inplace=True)\n",
    "tmp"
   ]
  },
  {
   "cell_type": "code",
   "execution_count": 108,
   "metadata": {},
   "outputs": [
    {
     "name": "stdout",
     "output_type": "stream",
     "text": [
      "values filled - 17\n",
      "current number of missing values - 252\n"
     ]
    }
   ],
   "source": [
    "for m in range(len(tmp)):\n",
    "    games.iloc[tmp.iloc[m,0],2] = tmp.iloc[m,1]\n",
    "print(f'values filled - {len(tmp)}')\n",
    "print(f'current number of missing values - {games.year.value_counts()[0]}')"
   ]
  },
  {
   "cell_type": "code",
   "execution_count": 109,
   "metadata": {},
   "outputs": [
    {
     "data": {
      "text/plain": [
       "252"
      ]
     },
     "execution_count": 109,
     "metadata": {},
     "output_type": "execute_result"
    }
   ],
   "source": [
    "missed_years = games[games['year'] == 0] \n",
    "len(missed_years)"
   ]
  },
  {
   "cell_type": "code",
   "execution_count": 110,
   "metadata": {},
   "outputs": [
    {
     "data": {
      "text/plain": [
       "16463"
      ]
     },
     "execution_count": 110,
     "metadata": {},
     "output_type": "execute_result"
    }
   ],
   "source": [
    "valued_years = games.merge(missed_years, how='outer', indicator=True).query('_merge == \"left_only\"').drop('_merge', 1)\n",
    "len(valued_years)"
   ]
  },
  {
   "cell_type": "code",
   "execution_count": 111,
   "metadata": {},
   "outputs": [
    {
     "data": {
      "text/html": [
       "<div>\n",
       "<style scoped>\n",
       "    .dataframe tbody tr th:only-of-type {\n",
       "        vertical-align: middle;\n",
       "    }\n",
       "\n",
       "    .dataframe tbody tr th {\n",
       "        vertical-align: top;\n",
       "    }\n",
       "\n",
       "    .dataframe thead th {\n",
       "        text-align: right;\n",
       "    }\n",
       "</style>\n",
       "<table border=\"1\" class=\"dataframe\">\n",
       "  <thead>\n",
       "    <tr style=\"text-align: right;\">\n",
       "      <th></th>\n",
       "      <th>platform</th>\n",
       "      <th>valued_years</th>\n",
       "    </tr>\n",
       "  </thead>\n",
       "  <tbody>\n",
       "    <tr>\n",
       "      <th>0</th>\n",
       "      <td>2600</td>\n",
       "      <td>116</td>\n",
       "    </tr>\n",
       "    <tr>\n",
       "      <th>1</th>\n",
       "      <td>3DO</td>\n",
       "      <td>3</td>\n",
       "    </tr>\n",
       "    <tr>\n",
       "      <th>2</th>\n",
       "      <td>3DS</td>\n",
       "      <td>512</td>\n",
       "    </tr>\n",
       "    <tr>\n",
       "      <th>3</th>\n",
       "      <td>DC</td>\n",
       "      <td>52</td>\n",
       "    </tr>\n",
       "    <tr>\n",
       "      <th>4</th>\n",
       "      <td>DS</td>\n",
       "      <td>2122</td>\n",
       "    </tr>\n",
       "    <tr>\n",
       "      <th>5</th>\n",
       "      <td>GB</td>\n",
       "      <td>97</td>\n",
       "    </tr>\n",
       "    <tr>\n",
       "      <th>6</th>\n",
       "      <td>GBA</td>\n",
       "      <td>811</td>\n",
       "    </tr>\n",
       "    <tr>\n",
       "      <th>7</th>\n",
       "      <td>GC</td>\n",
       "      <td>543</td>\n",
       "    </tr>\n",
       "    <tr>\n",
       "      <th>8</th>\n",
       "      <td>GEN</td>\n",
       "      <td>29</td>\n",
       "    </tr>\n",
       "    <tr>\n",
       "      <th>9</th>\n",
       "      <td>GG</td>\n",
       "      <td>1</td>\n",
       "    </tr>\n",
       "    <tr>\n",
       "      <th>10</th>\n",
       "      <td>N64</td>\n",
       "      <td>316</td>\n",
       "    </tr>\n",
       "    <tr>\n",
       "      <th>11</th>\n",
       "      <td>NES</td>\n",
       "      <td>98</td>\n",
       "    </tr>\n",
       "    <tr>\n",
       "      <th>12</th>\n",
       "      <td>NG</td>\n",
       "      <td>12</td>\n",
       "    </tr>\n",
       "    <tr>\n",
       "      <th>13</th>\n",
       "      <td>PC</td>\n",
       "      <td>958</td>\n",
       "    </tr>\n",
       "    <tr>\n",
       "      <th>14</th>\n",
       "      <td>PCFX</td>\n",
       "      <td>1</td>\n",
       "    </tr>\n",
       "    <tr>\n",
       "      <th>15</th>\n",
       "      <td>PS</td>\n",
       "      <td>1190</td>\n",
       "    </tr>\n",
       "    <tr>\n",
       "      <th>16</th>\n",
       "      <td>PS2</td>\n",
       "      <td>2134</td>\n",
       "    </tr>\n",
       "    <tr>\n",
       "      <th>17</th>\n",
       "      <td>PS3</td>\n",
       "      <td>1306</td>\n",
       "    </tr>\n",
       "    <tr>\n",
       "      <th>18</th>\n",
       "      <td>PS4</td>\n",
       "      <td>392</td>\n",
       "    </tr>\n",
       "    <tr>\n",
       "      <th>19</th>\n",
       "      <td>PSP</td>\n",
       "      <td>1195</td>\n",
       "    </tr>\n",
       "    <tr>\n",
       "      <th>20</th>\n",
       "      <td>PSV</td>\n",
       "      <td>429</td>\n",
       "    </tr>\n",
       "    <tr>\n",
       "      <th>21</th>\n",
       "      <td>SAT</td>\n",
       "      <td>173</td>\n",
       "    </tr>\n",
       "    <tr>\n",
       "      <th>22</th>\n",
       "      <td>SCD</td>\n",
       "      <td>6</td>\n",
       "    </tr>\n",
       "    <tr>\n",
       "      <th>23</th>\n",
       "      <td>SNES</td>\n",
       "      <td>239</td>\n",
       "    </tr>\n",
       "    <tr>\n",
       "      <th>24</th>\n",
       "      <td>TG16</td>\n",
       "      <td>2</td>\n",
       "    </tr>\n",
       "    <tr>\n",
       "      <th>25</th>\n",
       "      <td>WS</td>\n",
       "      <td>6</td>\n",
       "    </tr>\n",
       "    <tr>\n",
       "      <th>26</th>\n",
       "      <td>Wii</td>\n",
       "      <td>1286</td>\n",
       "    </tr>\n",
       "    <tr>\n",
       "      <th>27</th>\n",
       "      <td>WiiU</td>\n",
       "      <td>147</td>\n",
       "    </tr>\n",
       "    <tr>\n",
       "      <th>28</th>\n",
       "      <td>X360</td>\n",
       "      <td>1234</td>\n",
       "    </tr>\n",
       "    <tr>\n",
       "      <th>29</th>\n",
       "      <td>XB</td>\n",
       "      <td>806</td>\n",
       "    </tr>\n",
       "    <tr>\n",
       "      <th>30</th>\n",
       "      <td>XOne</td>\n",
       "      <td>247</td>\n",
       "    </tr>\n",
       "  </tbody>\n",
       "</table>\n",
       "</div>"
      ],
      "text/plain": [
       "   platform  valued_years\n",
       "0      2600           116\n",
       "1       3DO             3\n",
       "2       3DS           512\n",
       "3        DC            52\n",
       "4        DS          2122\n",
       "5        GB            97\n",
       "6       GBA           811\n",
       "7        GC           543\n",
       "8       GEN            29\n",
       "9        GG             1\n",
       "10      N64           316\n",
       "11      NES            98\n",
       "12       NG            12\n",
       "13       PC           958\n",
       "14     PCFX             1\n",
       "15       PS          1190\n",
       "16      PS2          2134\n",
       "17      PS3          1306\n",
       "18      PS4           392\n",
       "19      PSP          1195\n",
       "20      PSV           429\n",
       "21      SAT           173\n",
       "22      SCD             6\n",
       "23     SNES           239\n",
       "24     TG16             2\n",
       "25       WS             6\n",
       "26      Wii          1286\n",
       "27     WiiU           147\n",
       "28     X360          1234\n",
       "29       XB           806\n",
       "30     XOne           247"
      ]
     },
     "execution_count": 111,
     "metadata": {},
     "output_type": "execute_result"
    }
   ],
   "source": [
    "grouped_valued_years = valued_years.groupby('platform')['year'].count() # total valued_years games per platform\n",
    "\n",
    "grouped_valued_years = grouped_valued_years.to_frame().add_suffix('').reset_index()\n",
    "grouped_valued_years.rename(columns={'year':'valued_years'},inplace=True)\n",
    "grouped_valued_years"
   ]
  },
  {
   "cell_type": "code",
   "execution_count": 112,
   "metadata": {},
   "outputs": [
    {
     "data": {
      "text/html": [
       "<div>\n",
       "<style scoped>\n",
       "    .dataframe tbody tr th:only-of-type {\n",
       "        vertical-align: middle;\n",
       "    }\n",
       "\n",
       "    .dataframe tbody tr th {\n",
       "        vertical-align: top;\n",
       "    }\n",
       "\n",
       "    .dataframe thead th {\n",
       "        text-align: right;\n",
       "    }\n",
       "</style>\n",
       "<table border=\"1\" class=\"dataframe\">\n",
       "  <thead>\n",
       "    <tr style=\"text-align: right;\">\n",
       "      <th></th>\n",
       "      <th>platform</th>\n",
       "      <th>missed_years</th>\n",
       "    </tr>\n",
       "  </thead>\n",
       "  <tbody>\n",
       "    <tr>\n",
       "      <th>0</th>\n",
       "      <td>2600</td>\n",
       "      <td>17</td>\n",
       "    </tr>\n",
       "    <tr>\n",
       "      <th>1</th>\n",
       "      <td>3DS</td>\n",
       "      <td>8</td>\n",
       "    </tr>\n",
       "    <tr>\n",
       "      <th>2</th>\n",
       "      <td>DS</td>\n",
       "      <td>29</td>\n",
       "    </tr>\n",
       "    <tr>\n",
       "      <th>3</th>\n",
       "      <td>GB</td>\n",
       "      <td>1</td>\n",
       "    </tr>\n",
       "    <tr>\n",
       "      <th>4</th>\n",
       "      <td>GBA</td>\n",
       "      <td>11</td>\n",
       "    </tr>\n",
       "    <tr>\n",
       "      <th>5</th>\n",
       "      <td>GC</td>\n",
       "      <td>13</td>\n",
       "    </tr>\n",
       "    <tr>\n",
       "      <th>6</th>\n",
       "      <td>N64</td>\n",
       "      <td>3</td>\n",
       "    </tr>\n",
       "    <tr>\n",
       "      <th>7</th>\n",
       "      <td>PC</td>\n",
       "      <td>16</td>\n",
       "    </tr>\n",
       "    <tr>\n",
       "      <th>8</th>\n",
       "      <td>PS</td>\n",
       "      <td>7</td>\n",
       "    </tr>\n",
       "    <tr>\n",
       "      <th>9</th>\n",
       "      <td>PS2</td>\n",
       "      <td>27</td>\n",
       "    </tr>\n",
       "    <tr>\n",
       "      <th>10</th>\n",
       "      <td>PS3</td>\n",
       "      <td>25</td>\n",
       "    </tr>\n",
       "    <tr>\n",
       "      <th>11</th>\n",
       "      <td>PSP</td>\n",
       "      <td>14</td>\n",
       "    </tr>\n",
       "    <tr>\n",
       "      <th>12</th>\n",
       "      <td>PSV</td>\n",
       "      <td>1</td>\n",
       "    </tr>\n",
       "    <tr>\n",
       "      <th>13</th>\n",
       "      <td>Wii</td>\n",
       "      <td>34</td>\n",
       "    </tr>\n",
       "    <tr>\n",
       "      <th>14</th>\n",
       "      <td>X360</td>\n",
       "      <td>28</td>\n",
       "    </tr>\n",
       "    <tr>\n",
       "      <th>15</th>\n",
       "      <td>XB</td>\n",
       "      <td>18</td>\n",
       "    </tr>\n",
       "  </tbody>\n",
       "</table>\n",
       "</div>"
      ],
      "text/plain": [
       "   platform  missed_years\n",
       "0      2600            17\n",
       "1       3DS             8\n",
       "2        DS            29\n",
       "3        GB             1\n",
       "4       GBA            11\n",
       "5        GC            13\n",
       "6       N64             3\n",
       "7        PC            16\n",
       "8        PS             7\n",
       "9       PS2            27\n",
       "10      PS3            25\n",
       "11      PSP            14\n",
       "12      PSV             1\n",
       "13      Wii            34\n",
       "14     X360            28\n",
       "15       XB            18"
      ]
     },
     "execution_count": 112,
     "metadata": {},
     "output_type": "execute_result"
    }
   ],
   "source": [
    "grouped_missed_years = missed_years.groupby('platform')['year'].count().to_frame().add_suffix('').reset_index()\n",
    "grouped_missed_years.rename(columns={'year':'missed_years'},inplace=True)\n",
    "grouped_missed_years"
   ]
  },
  {
   "cell_type": "code",
   "execution_count": 113,
   "metadata": {},
   "outputs": [
    {
     "data": {
      "text/html": [
       "<div>\n",
       "<style scoped>\n",
       "    .dataframe tbody tr th:only-of-type {\n",
       "        vertical-align: middle;\n",
       "    }\n",
       "\n",
       "    .dataframe tbody tr th {\n",
       "        vertical-align: top;\n",
       "    }\n",
       "\n",
       "    .dataframe thead th {\n",
       "        text-align: right;\n",
       "    }\n",
       "</style>\n",
       "<table border=\"1\" class=\"dataframe\">\n",
       "  <thead>\n",
       "    <tr style=\"text-align: right;\">\n",
       "      <th></th>\n",
       "      <th>platform</th>\n",
       "      <th>valued_years</th>\n",
       "      <th>missed_years</th>\n",
       "    </tr>\n",
       "  </thead>\n",
       "  <tbody>\n",
       "    <tr>\n",
       "      <th>0</th>\n",
       "      <td>2600</td>\n",
       "      <td>0.770508</td>\n",
       "      <td>6.746032</td>\n",
       "    </tr>\n",
       "    <tr>\n",
       "      <th>1</th>\n",
       "      <td>3DS</td>\n",
       "      <td>3.400864</td>\n",
       "      <td>3.174603</td>\n",
       "    </tr>\n",
       "    <tr>\n",
       "      <th>2</th>\n",
       "      <td>DS</td>\n",
       "      <td>14.094985</td>\n",
       "      <td>11.507937</td>\n",
       "    </tr>\n",
       "    <tr>\n",
       "      <th>3</th>\n",
       "      <td>GB</td>\n",
       "      <td>0.644304</td>\n",
       "      <td>0.396825</td>\n",
       "    </tr>\n",
       "    <tr>\n",
       "      <th>4</th>\n",
       "      <td>GBA</td>\n",
       "      <td>5.386915</td>\n",
       "      <td>4.365079</td>\n",
       "    </tr>\n",
       "    <tr>\n",
       "      <th>5</th>\n",
       "      <td>GC</td>\n",
       "      <td>3.606775</td>\n",
       "      <td>5.158730</td>\n",
       "    </tr>\n",
       "    <tr>\n",
       "      <th>6</th>\n",
       "      <td>N64</td>\n",
       "      <td>2.098970</td>\n",
       "      <td>1.190476</td>\n",
       "    </tr>\n",
       "    <tr>\n",
       "      <th>7</th>\n",
       "      <td>PC</td>\n",
       "      <td>6.363334</td>\n",
       "      <td>6.349206</td>\n",
       "    </tr>\n",
       "    <tr>\n",
       "      <th>8</th>\n",
       "      <td>PS</td>\n",
       "      <td>7.904351</td>\n",
       "      <td>2.777778</td>\n",
       "    </tr>\n",
       "    <tr>\n",
       "      <th>9</th>\n",
       "      <td>PS2</td>\n",
       "      <td>14.174693</td>\n",
       "      <td>10.714286</td>\n",
       "    </tr>\n",
       "    <tr>\n",
       "      <th>10</th>\n",
       "      <td>PS3</td>\n",
       "      <td>8.674859</td>\n",
       "      <td>9.920635</td>\n",
       "    </tr>\n",
       "    <tr>\n",
       "      <th>11</th>\n",
       "      <td>PSP</td>\n",
       "      <td>7.937562</td>\n",
       "      <td>5.555556</td>\n",
       "    </tr>\n",
       "    <tr>\n",
       "      <th>12</th>\n",
       "      <td>PSV</td>\n",
       "      <td>2.849552</td>\n",
       "      <td>0.396825</td>\n",
       "    </tr>\n",
       "    <tr>\n",
       "      <th>13</th>\n",
       "      <td>Wii</td>\n",
       "      <td>8.542013</td>\n",
       "      <td>13.492063</td>\n",
       "    </tr>\n",
       "    <tr>\n",
       "      <th>14</th>\n",
       "      <td>X360</td>\n",
       "      <td>8.196612</td>\n",
       "      <td>11.111111</td>\n",
       "    </tr>\n",
       "    <tr>\n",
       "      <th>15</th>\n",
       "      <td>XB</td>\n",
       "      <td>5.353703</td>\n",
       "      <td>7.142857</td>\n",
       "    </tr>\n",
       "  </tbody>\n",
       "</table>\n",
       "</div>"
      ],
      "text/plain": [
       "   platform  valued_years  missed_years\n",
       "0      2600      0.770508      6.746032\n",
       "1       3DS      3.400864      3.174603\n",
       "2        DS     14.094985     11.507937\n",
       "3        GB      0.644304      0.396825\n",
       "4       GBA      5.386915      4.365079\n",
       "5        GC      3.606775      5.158730\n",
       "6       N64      2.098970      1.190476\n",
       "7        PC      6.363334      6.349206\n",
       "8        PS      7.904351      2.777778\n",
       "9       PS2     14.174693     10.714286\n",
       "10      PS3      8.674859      9.920635\n",
       "11      PSP      7.937562      5.555556\n",
       "12      PSV      2.849552      0.396825\n",
       "13      Wii      8.542013     13.492063\n",
       "14     X360      8.196612     11.111111\n",
       "15       XB      5.353703      7.142857"
      ]
     },
     "execution_count": 113,
     "metadata": {},
     "output_type": "execute_result"
    }
   ],
   "source": [
    "merged_years = grouped_valued_years.merge(grouped_missed_years,how='inner',on='platform')\n",
    "va = merged_years.valued_years.sum()\n",
    "mi = merged_years.missed_years.sum()\n",
    "merged_years['valued_years'] = merged_years['valued_years'] / va * 100\n",
    "merged_years['missed_years'] = merged_years['missed_years'] / mi * 100\n",
    "merged_years"
   ]
  },
  {
   "cell_type": "code",
   "execution_count": 114,
   "metadata": {},
   "outputs": [
    {
     "data": {
      "text/html": [
       "<div>\n",
       "<style scoped>\n",
       "    .dataframe tbody tr th:only-of-type {\n",
       "        vertical-align: middle;\n",
       "    }\n",
       "\n",
       "    .dataframe tbody tr th {\n",
       "        vertical-align: top;\n",
       "    }\n",
       "\n",
       "    .dataframe thead th {\n",
       "        text-align: right;\n",
       "    }\n",
       "</style>\n",
       "<table border=\"1\" class=\"dataframe\">\n",
       "  <thead>\n",
       "    <tr style=\"text-align: right;\">\n",
       "      <th></th>\n",
       "      <th>count</th>\n",
       "      <th>mean</th>\n",
       "      <th>std</th>\n",
       "      <th>min</th>\n",
       "      <th>25%</th>\n",
       "      <th>50%</th>\n",
       "      <th>75%</th>\n",
       "      <th>max</th>\n",
       "    </tr>\n",
       "    <tr>\n",
       "      <th>platform</th>\n",
       "      <th></th>\n",
       "      <th></th>\n",
       "      <th></th>\n",
       "      <th></th>\n",
       "      <th></th>\n",
       "      <th></th>\n",
       "      <th></th>\n",
       "      <th></th>\n",
       "    </tr>\n",
       "  </thead>\n",
       "  <tbody>\n",
       "    <tr>\n",
       "      <th>PS2</th>\n",
       "      <td>2134.0</td>\n",
       "      <td>2004.583411</td>\n",
       "      <td>2.564375</td>\n",
       "      <td>2000.0</td>\n",
       "      <td>2002.00</td>\n",
       "      <td>2005.0</td>\n",
       "      <td>2007.00</td>\n",
       "      <td>2011.0</td>\n",
       "    </tr>\n",
       "    <tr>\n",
       "      <th>DS</th>\n",
       "      <td>2122.0</td>\n",
       "      <td>2008.185203</td>\n",
       "      <td>1.778150</td>\n",
       "      <td>1985.0</td>\n",
       "      <td>2007.00</td>\n",
       "      <td>2008.0</td>\n",
       "      <td>2009.00</td>\n",
       "      <td>2013.0</td>\n",
       "    </tr>\n",
       "    <tr>\n",
       "      <th>PS3</th>\n",
       "      <td>1306.0</td>\n",
       "      <td>2010.840735</td>\n",
       "      <td>2.459616</td>\n",
       "      <td>2006.0</td>\n",
       "      <td>2009.00</td>\n",
       "      <td>2011.0</td>\n",
       "      <td>2013.00</td>\n",
       "      <td>2016.0</td>\n",
       "    </tr>\n",
       "    <tr>\n",
       "      <th>Wii</th>\n",
       "      <td>1286.0</td>\n",
       "      <td>2008.966563</td>\n",
       "      <td>1.542034</td>\n",
       "      <td>2006.0</td>\n",
       "      <td>2008.00</td>\n",
       "      <td>2009.0</td>\n",
       "      <td>2010.00</td>\n",
       "      <td>2016.0</td>\n",
       "    </tr>\n",
       "    <tr>\n",
       "      <th>X360</th>\n",
       "      <td>1234.0</td>\n",
       "      <td>2009.879254</td>\n",
       "      <td>2.457920</td>\n",
       "      <td>2005.0</td>\n",
       "      <td>2008.00</td>\n",
       "      <td>2010.0</td>\n",
       "      <td>2011.00</td>\n",
       "      <td>2016.0</td>\n",
       "    </tr>\n",
       "    <tr>\n",
       "      <th>PSP</th>\n",
       "      <td>1195.0</td>\n",
       "      <td>2008.731381</td>\n",
       "      <td>2.432123</td>\n",
       "      <td>2004.0</td>\n",
       "      <td>2006.50</td>\n",
       "      <td>2009.0</td>\n",
       "      <td>2011.00</td>\n",
       "      <td>2015.0</td>\n",
       "    </tr>\n",
       "    <tr>\n",
       "      <th>PS</th>\n",
       "      <td>1190.0</td>\n",
       "      <td>1998.005882</td>\n",
       "      <td>1.848091</td>\n",
       "      <td>1994.0</td>\n",
       "      <td>1997.00</td>\n",
       "      <td>1998.0</td>\n",
       "      <td>1999.00</td>\n",
       "      <td>2003.0</td>\n",
       "    </tr>\n",
       "    <tr>\n",
       "      <th>PC</th>\n",
       "      <td>958.0</td>\n",
       "      <td>2008.918580</td>\n",
       "      <td>4.642457</td>\n",
       "      <td>1985.0</td>\n",
       "      <td>2007.00</td>\n",
       "      <td>2010.0</td>\n",
       "      <td>2012.00</td>\n",
       "      <td>2016.0</td>\n",
       "    </tr>\n",
       "    <tr>\n",
       "      <th>GBA</th>\n",
       "      <td>811.0</td>\n",
       "      <td>2003.210851</td>\n",
       "      <td>1.474451</td>\n",
       "      <td>2000.0</td>\n",
       "      <td>2002.00</td>\n",
       "      <td>2003.0</td>\n",
       "      <td>2004.00</td>\n",
       "      <td>2007.0</td>\n",
       "    </tr>\n",
       "    <tr>\n",
       "      <th>XB</th>\n",
       "      <td>806.0</td>\n",
       "      <td>2003.635236</td>\n",
       "      <td>1.366302</td>\n",
       "      <td>2000.0</td>\n",
       "      <td>2003.00</td>\n",
       "      <td>2004.0</td>\n",
       "      <td>2005.00</td>\n",
       "      <td>2008.0</td>\n",
       "    </tr>\n",
       "    <tr>\n",
       "      <th>GC</th>\n",
       "      <td>543.0</td>\n",
       "      <td>2003.399632</td>\n",
       "      <td>1.390718</td>\n",
       "      <td>2001.0</td>\n",
       "      <td>2002.00</td>\n",
       "      <td>2003.0</td>\n",
       "      <td>2005.00</td>\n",
       "      <td>2007.0</td>\n",
       "    </tr>\n",
       "    <tr>\n",
       "      <th>3DS</th>\n",
       "      <td>512.0</td>\n",
       "      <td>2013.126953</td>\n",
       "      <td>1.647359</td>\n",
       "      <td>2011.0</td>\n",
       "      <td>2012.00</td>\n",
       "      <td>2013.0</td>\n",
       "      <td>2015.00</td>\n",
       "      <td>2016.0</td>\n",
       "    </tr>\n",
       "    <tr>\n",
       "      <th>PSV</th>\n",
       "      <td>429.0</td>\n",
       "      <td>2014.132867</td>\n",
       "      <td>1.433435</td>\n",
       "      <td>2011.0</td>\n",
       "      <td>2013.00</td>\n",
       "      <td>2014.0</td>\n",
       "      <td>2015.00</td>\n",
       "      <td>2016.0</td>\n",
       "    </tr>\n",
       "    <tr>\n",
       "      <th>PS4</th>\n",
       "      <td>392.0</td>\n",
       "      <td>2015.145408</td>\n",
       "      <td>0.868181</td>\n",
       "      <td>2013.0</td>\n",
       "      <td>2015.00</td>\n",
       "      <td>2015.0</td>\n",
       "      <td>2016.00</td>\n",
       "      <td>2016.0</td>\n",
       "    </tr>\n",
       "    <tr>\n",
       "      <th>N64</th>\n",
       "      <td>316.0</td>\n",
       "      <td>1998.531646</td>\n",
       "      <td>1.222388</td>\n",
       "      <td>1996.0</td>\n",
       "      <td>1998.00</td>\n",
       "      <td>1999.0</td>\n",
       "      <td>1999.00</td>\n",
       "      <td>2002.0</td>\n",
       "    </tr>\n",
       "    <tr>\n",
       "      <th>XOne</th>\n",
       "      <td>247.0</td>\n",
       "      <td>2014.951417</td>\n",
       "      <td>0.952995</td>\n",
       "      <td>2013.0</td>\n",
       "      <td>2014.00</td>\n",
       "      <td>2015.0</td>\n",
       "      <td>2016.00</td>\n",
       "      <td>2016.0</td>\n",
       "    </tr>\n",
       "    <tr>\n",
       "      <th>SNES</th>\n",
       "      <td>239.0</td>\n",
       "      <td>1993.845188</td>\n",
       "      <td>1.679426</td>\n",
       "      <td>1990.0</td>\n",
       "      <td>1993.00</td>\n",
       "      <td>1994.0</td>\n",
       "      <td>1995.00</td>\n",
       "      <td>1999.0</td>\n",
       "    </tr>\n",
       "    <tr>\n",
       "      <th>SAT</th>\n",
       "      <td>173.0</td>\n",
       "      <td>1996.028902</td>\n",
       "      <td>1.291420</td>\n",
       "      <td>1994.0</td>\n",
       "      <td>1995.00</td>\n",
       "      <td>1996.0</td>\n",
       "      <td>1997.00</td>\n",
       "      <td>1999.0</td>\n",
       "    </tr>\n",
       "    <tr>\n",
       "      <th>WiiU</th>\n",
       "      <td>147.0</td>\n",
       "      <td>2013.659864</td>\n",
       "      <td>1.274065</td>\n",
       "      <td>2012.0</td>\n",
       "      <td>2013.00</td>\n",
       "      <td>2013.0</td>\n",
       "      <td>2015.00</td>\n",
       "      <td>2016.0</td>\n",
       "    </tr>\n",
       "    <tr>\n",
       "      <th>2600</th>\n",
       "      <td>116.0</td>\n",
       "      <td>1982.137931</td>\n",
       "      <td>1.990834</td>\n",
       "      <td>1980.0</td>\n",
       "      <td>1981.00</td>\n",
       "      <td>1982.0</td>\n",
       "      <td>1982.00</td>\n",
       "      <td>1989.0</td>\n",
       "    </tr>\n",
       "    <tr>\n",
       "      <th>NES</th>\n",
       "      <td>98.0</td>\n",
       "      <td>1987.153061</td>\n",
       "      <td>2.793040</td>\n",
       "      <td>1983.0</td>\n",
       "      <td>1985.00</td>\n",
       "      <td>1986.5</td>\n",
       "      <td>1989.00</td>\n",
       "      <td>1994.0</td>\n",
       "    </tr>\n",
       "    <tr>\n",
       "      <th>GB</th>\n",
       "      <td>97.0</td>\n",
       "      <td>1995.958763</td>\n",
       "      <td>4.178111</td>\n",
       "      <td>1988.0</td>\n",
       "      <td>1992.00</td>\n",
       "      <td>1997.0</td>\n",
       "      <td>2000.00</td>\n",
       "      <td>2001.0</td>\n",
       "    </tr>\n",
       "    <tr>\n",
       "      <th>DC</th>\n",
       "      <td>52.0</td>\n",
       "      <td>1999.942308</td>\n",
       "      <td>1.808623</td>\n",
       "      <td>1998.0</td>\n",
       "      <td>1999.00</td>\n",
       "      <td>2000.0</td>\n",
       "      <td>2000.00</td>\n",
       "      <td>2008.0</td>\n",
       "    </tr>\n",
       "    <tr>\n",
       "      <th>GEN</th>\n",
       "      <td>29.0</td>\n",
       "      <td>1993.034483</td>\n",
       "      <td>1.051623</td>\n",
       "      <td>1990.0</td>\n",
       "      <td>1992.00</td>\n",
       "      <td>1993.0</td>\n",
       "      <td>1994.00</td>\n",
       "      <td>1994.0</td>\n",
       "    </tr>\n",
       "    <tr>\n",
       "      <th>NG</th>\n",
       "      <td>12.0</td>\n",
       "      <td>1994.500000</td>\n",
       "      <td>1.000000</td>\n",
       "      <td>1993.0</td>\n",
       "      <td>1994.00</td>\n",
       "      <td>1994.5</td>\n",
       "      <td>1995.00</td>\n",
       "      <td>1996.0</td>\n",
       "    </tr>\n",
       "    <tr>\n",
       "      <th>SCD</th>\n",
       "      <td>6.0</td>\n",
       "      <td>1993.833333</td>\n",
       "      <td>0.408248</td>\n",
       "      <td>1993.0</td>\n",
       "      <td>1994.00</td>\n",
       "      <td>1994.0</td>\n",
       "      <td>1994.00</td>\n",
       "      <td>1994.0</td>\n",
       "    </tr>\n",
       "    <tr>\n",
       "      <th>WS</th>\n",
       "      <td>6.0</td>\n",
       "      <td>2000.000000</td>\n",
       "      <td>0.894427</td>\n",
       "      <td>1999.0</td>\n",
       "      <td>1999.25</td>\n",
       "      <td>2000.0</td>\n",
       "      <td>2000.75</td>\n",
       "      <td>2001.0</td>\n",
       "    </tr>\n",
       "    <tr>\n",
       "      <th>3DO</th>\n",
       "      <td>3.0</td>\n",
       "      <td>1994.666667</td>\n",
       "      <td>0.577350</td>\n",
       "      <td>1994.0</td>\n",
       "      <td>1994.50</td>\n",
       "      <td>1995.0</td>\n",
       "      <td>1995.00</td>\n",
       "      <td>1995.0</td>\n",
       "    </tr>\n",
       "    <tr>\n",
       "      <th>TG16</th>\n",
       "      <td>2.0</td>\n",
       "      <td>1995.000000</td>\n",
       "      <td>0.000000</td>\n",
       "      <td>1995.0</td>\n",
       "      <td>1995.00</td>\n",
       "      <td>1995.0</td>\n",
       "      <td>1995.00</td>\n",
       "      <td>1995.0</td>\n",
       "    </tr>\n",
       "    <tr>\n",
       "      <th>PCFX</th>\n",
       "      <td>1.0</td>\n",
       "      <td>1996.000000</td>\n",
       "      <td>NaN</td>\n",
       "      <td>1996.0</td>\n",
       "      <td>1996.00</td>\n",
       "      <td>1996.0</td>\n",
       "      <td>1996.00</td>\n",
       "      <td>1996.0</td>\n",
       "    </tr>\n",
       "    <tr>\n",
       "      <th>GG</th>\n",
       "      <td>1.0</td>\n",
       "      <td>1992.000000</td>\n",
       "      <td>NaN</td>\n",
       "      <td>1992.0</td>\n",
       "      <td>1992.00</td>\n",
       "      <td>1992.0</td>\n",
       "      <td>1992.00</td>\n",
       "      <td>1992.0</td>\n",
       "    </tr>\n",
       "  </tbody>\n",
       "</table>\n",
       "</div>"
      ],
      "text/plain": [
       "           count         mean       std     min      25%     50%      75%  \\\n",
       "platform                                                                    \n",
       "PS2       2134.0  2004.583411  2.564375  2000.0  2002.00  2005.0  2007.00   \n",
       "DS        2122.0  2008.185203  1.778150  1985.0  2007.00  2008.0  2009.00   \n",
       "PS3       1306.0  2010.840735  2.459616  2006.0  2009.00  2011.0  2013.00   \n",
       "Wii       1286.0  2008.966563  1.542034  2006.0  2008.00  2009.0  2010.00   \n",
       "X360      1234.0  2009.879254  2.457920  2005.0  2008.00  2010.0  2011.00   \n",
       "PSP       1195.0  2008.731381  2.432123  2004.0  2006.50  2009.0  2011.00   \n",
       "PS        1190.0  1998.005882  1.848091  1994.0  1997.00  1998.0  1999.00   \n",
       "PC         958.0  2008.918580  4.642457  1985.0  2007.00  2010.0  2012.00   \n",
       "GBA        811.0  2003.210851  1.474451  2000.0  2002.00  2003.0  2004.00   \n",
       "XB         806.0  2003.635236  1.366302  2000.0  2003.00  2004.0  2005.00   \n",
       "GC         543.0  2003.399632  1.390718  2001.0  2002.00  2003.0  2005.00   \n",
       "3DS        512.0  2013.126953  1.647359  2011.0  2012.00  2013.0  2015.00   \n",
       "PSV        429.0  2014.132867  1.433435  2011.0  2013.00  2014.0  2015.00   \n",
       "PS4        392.0  2015.145408  0.868181  2013.0  2015.00  2015.0  2016.00   \n",
       "N64        316.0  1998.531646  1.222388  1996.0  1998.00  1999.0  1999.00   \n",
       "XOne       247.0  2014.951417  0.952995  2013.0  2014.00  2015.0  2016.00   \n",
       "SNES       239.0  1993.845188  1.679426  1990.0  1993.00  1994.0  1995.00   \n",
       "SAT        173.0  1996.028902  1.291420  1994.0  1995.00  1996.0  1997.00   \n",
       "WiiU       147.0  2013.659864  1.274065  2012.0  2013.00  2013.0  2015.00   \n",
       "2600       116.0  1982.137931  1.990834  1980.0  1981.00  1982.0  1982.00   \n",
       "NES         98.0  1987.153061  2.793040  1983.0  1985.00  1986.5  1989.00   \n",
       "GB          97.0  1995.958763  4.178111  1988.0  1992.00  1997.0  2000.00   \n",
       "DC          52.0  1999.942308  1.808623  1998.0  1999.00  2000.0  2000.00   \n",
       "GEN         29.0  1993.034483  1.051623  1990.0  1992.00  1993.0  1994.00   \n",
       "NG          12.0  1994.500000  1.000000  1993.0  1994.00  1994.5  1995.00   \n",
       "SCD          6.0  1993.833333  0.408248  1993.0  1994.00  1994.0  1994.00   \n",
       "WS           6.0  2000.000000  0.894427  1999.0  1999.25  2000.0  2000.75   \n",
       "3DO          3.0  1994.666667  0.577350  1994.0  1994.50  1995.0  1995.00   \n",
       "TG16         2.0  1995.000000  0.000000  1995.0  1995.00  1995.0  1995.00   \n",
       "PCFX         1.0  1996.000000       NaN  1996.0  1996.00  1996.0  1996.00   \n",
       "GG           1.0  1992.000000       NaN  1992.0  1992.00  1992.0  1992.00   \n",
       "\n",
       "             max  \n",
       "platform          \n",
       "PS2       2011.0  \n",
       "DS        2013.0  \n",
       "PS3       2016.0  \n",
       "Wii       2016.0  \n",
       "X360      2016.0  \n",
       "PSP       2015.0  \n",
       "PS        2003.0  \n",
       "PC        2016.0  \n",
       "GBA       2007.0  \n",
       "XB        2008.0  \n",
       "GC        2007.0  \n",
       "3DS       2016.0  \n",
       "PSV       2016.0  \n",
       "PS4       2016.0  \n",
       "N64       2002.0  \n",
       "XOne      2016.0  \n",
       "SNES      1999.0  \n",
       "SAT       1999.0  \n",
       "WiiU      2016.0  \n",
       "2600      1989.0  \n",
       "NES       1994.0  \n",
       "GB        2001.0  \n",
       "DC        2008.0  \n",
       "GEN       1994.0  \n",
       "NG        1996.0  \n",
       "SCD       1994.0  \n",
       "WS        2001.0  \n",
       "3DO       1995.0  \n",
       "TG16      1995.0  \n",
       "PCFX      1996.0  \n",
       "GG        1992.0  "
      ]
     },
     "execution_count": 114,
     "metadata": {},
     "output_type": "execute_result"
    }
   ],
   "source": [
    "valued_years_stat = games[games['year'] != 0].groupby('platform')['year'].describe().sort_values(by='count',ascending=False)\n",
    "valued_years_stat"
   ]
  },
  {
   "cell_type": "code",
   "execution_count": 115,
   "metadata": {},
   "outputs": [],
   "source": [
    "valued_years_stat.loc['GG','std'] = 0 \n",
    "valued_years_stat.loc['PCFX','std'] = 0"
   ]
  },
  {
   "cell_type": "code",
   "execution_count": 116,
   "metadata": {},
   "outputs": [
    {
     "data": {
      "text/html": [
       "<div>\n",
       "<style scoped>\n",
       "    .dataframe tbody tr th:only-of-type {\n",
       "        vertical-align: middle;\n",
       "    }\n",
       "\n",
       "    .dataframe tbody tr th {\n",
       "        vertical-align: top;\n",
       "    }\n",
       "\n",
       "    .dataframe thead th {\n",
       "        text-align: right;\n",
       "    }\n",
       "</style>\n",
       "<table border=\"1\" class=\"dataframe\">\n",
       "  <thead>\n",
       "    <tr style=\"text-align: right;\">\n",
       "      <th></th>\n",
       "      <th>count</th>\n",
       "      <th>mean</th>\n",
       "      <th>std</th>\n",
       "      <th>min</th>\n",
       "      <th>25%</th>\n",
       "      <th>50%</th>\n",
       "      <th>75%</th>\n",
       "      <th>max</th>\n",
       "    </tr>\n",
       "    <tr>\n",
       "      <th>platform</th>\n",
       "      <th></th>\n",
       "      <th></th>\n",
       "      <th></th>\n",
       "      <th></th>\n",
       "      <th></th>\n",
       "      <th></th>\n",
       "      <th></th>\n",
       "      <th></th>\n",
       "    </tr>\n",
       "  </thead>\n",
       "  <tbody>\n",
       "    <tr>\n",
       "      <th>PS2</th>\n",
       "      <td>2134.0</td>\n",
       "      <td>2004.583411</td>\n",
       "      <td>2.564375</td>\n",
       "      <td>2000.0</td>\n",
       "      <td>2002.0</td>\n",
       "      <td>2005.0</td>\n",
       "      <td>2007.0</td>\n",
       "      <td>2011.0</td>\n",
       "    </tr>\n",
       "    <tr>\n",
       "      <th>PS3</th>\n",
       "      <td>1306.0</td>\n",
       "      <td>2010.840735</td>\n",
       "      <td>2.459616</td>\n",
       "      <td>2006.0</td>\n",
       "      <td>2009.0</td>\n",
       "      <td>2011.0</td>\n",
       "      <td>2013.0</td>\n",
       "      <td>2016.0</td>\n",
       "    </tr>\n",
       "    <tr>\n",
       "      <th>X360</th>\n",
       "      <td>1234.0</td>\n",
       "      <td>2009.879254</td>\n",
       "      <td>2.457920</td>\n",
       "      <td>2005.0</td>\n",
       "      <td>2008.0</td>\n",
       "      <td>2010.0</td>\n",
       "      <td>2011.0</td>\n",
       "      <td>2016.0</td>\n",
       "    </tr>\n",
       "    <tr>\n",
       "      <th>PSP</th>\n",
       "      <td>1195.0</td>\n",
       "      <td>2008.731381</td>\n",
       "      <td>2.432123</td>\n",
       "      <td>2004.0</td>\n",
       "      <td>2006.5</td>\n",
       "      <td>2009.0</td>\n",
       "      <td>2011.0</td>\n",
       "      <td>2015.0</td>\n",
       "    </tr>\n",
       "    <tr>\n",
       "      <th>PC</th>\n",
       "      <td>958.0</td>\n",
       "      <td>2008.918580</td>\n",
       "      <td>4.642457</td>\n",
       "      <td>1985.0</td>\n",
       "      <td>2007.0</td>\n",
       "      <td>2010.0</td>\n",
       "      <td>2012.0</td>\n",
       "      <td>2016.0</td>\n",
       "    </tr>\n",
       "    <tr>\n",
       "      <th>NES</th>\n",
       "      <td>98.0</td>\n",
       "      <td>1987.153061</td>\n",
       "      <td>2.793040</td>\n",
       "      <td>1983.0</td>\n",
       "      <td>1985.0</td>\n",
       "      <td>1986.5</td>\n",
       "      <td>1989.0</td>\n",
       "      <td>1994.0</td>\n",
       "    </tr>\n",
       "    <tr>\n",
       "      <th>GB</th>\n",
       "      <td>97.0</td>\n",
       "      <td>1995.958763</td>\n",
       "      <td>4.178111</td>\n",
       "      <td>1988.0</td>\n",
       "      <td>1992.0</td>\n",
       "      <td>1997.0</td>\n",
       "      <td>2000.0</td>\n",
       "      <td>2001.0</td>\n",
       "    </tr>\n",
       "  </tbody>\n",
       "</table>\n",
       "</div>"
      ],
      "text/plain": [
       "           count         mean       std     min     25%     50%     75%  \\\n",
       "platform                                                                  \n",
       "PS2       2134.0  2004.583411  2.564375  2000.0  2002.0  2005.0  2007.0   \n",
       "PS3       1306.0  2010.840735  2.459616  2006.0  2009.0  2011.0  2013.0   \n",
       "X360      1234.0  2009.879254  2.457920  2005.0  2008.0  2010.0  2011.0   \n",
       "PSP       1195.0  2008.731381  2.432123  2004.0  2006.5  2009.0  2011.0   \n",
       "PC         958.0  2008.918580  4.642457  1985.0  2007.0  2010.0  2012.0   \n",
       "NES         98.0  1987.153061  2.793040  1983.0  1985.0  1986.5  1989.0   \n",
       "GB          97.0  1995.958763  4.178111  1988.0  1992.0  1997.0  2000.0   \n",
       "\n",
       "             max  \n",
       "platform          \n",
       "PS2       2011.0  \n",
       "PS3       2016.0  \n",
       "X360      2016.0  \n",
       "PSP       2015.0  \n",
       "PC        2016.0  \n",
       "NES       1994.0  \n",
       "GB        2001.0  "
      ]
     },
     "execution_count": 116,
     "metadata": {},
     "output_type": "execute_result"
    }
   ],
   "source": [
    "valued_years_stat[valued_years_stat['std'] > 2]"
   ]
  },
  {
   "cell_type": "code",
   "execution_count": 117,
   "metadata": {},
   "outputs": [],
   "source": [
    "games['year'] = games['year'].replace(0,np.nan) \n",
    "games['year'] = games.groupby('platform')['year'].transform(lambda x: x.fillna(x.median()))"
   ]
  },
  {
   "cell_type": "code",
   "execution_count": 118,
   "metadata": {},
   "outputs": [
    {
     "data": {
      "text/html": [
       "<div>\n",
       "<style scoped>\n",
       "    .dataframe tbody tr th:only-of-type {\n",
       "        vertical-align: middle;\n",
       "    }\n",
       "\n",
       "    .dataframe tbody tr th {\n",
       "        vertical-align: top;\n",
       "    }\n",
       "\n",
       "    .dataframe thead th {\n",
       "        text-align: right;\n",
       "    }\n",
       "</style>\n",
       "<table border=\"1\" class=\"dataframe\">\n",
       "  <thead>\n",
       "    <tr style=\"text-align: right;\">\n",
       "      <th></th>\n",
       "      <th>name</th>\n",
       "      <th>platform</th>\n",
       "      <th>year</th>\n",
       "      <th>genre</th>\n",
       "      <th>na_sales</th>\n",
       "      <th>eu_sales</th>\n",
       "      <th>jp_sales</th>\n",
       "      <th>other_sales</th>\n",
       "      <th>critic_score</th>\n",
       "      <th>user_score</th>\n",
       "      <th>rating</th>\n",
       "    </tr>\n",
       "  </thead>\n",
       "  <tbody>\n",
       "    <tr>\n",
       "      <th>0</th>\n",
       "      <td>Wii Sports</td>\n",
       "      <td>Wii</td>\n",
       "      <td>2006.0</td>\n",
       "      <td>Sports</td>\n",
       "      <td>41.36</td>\n",
       "      <td>28.96</td>\n",
       "      <td>3.77</td>\n",
       "      <td>8.45</td>\n",
       "      <td>76</td>\n",
       "      <td>8.0</td>\n",
       "      <td>E</td>\n",
       "    </tr>\n",
       "    <tr>\n",
       "      <th>1</th>\n",
       "      <td>Super Mario Bros.</td>\n",
       "      <td>NES</td>\n",
       "      <td>1985.0</td>\n",
       "      <td>Platform</td>\n",
       "      <td>29.08</td>\n",
       "      <td>3.58</td>\n",
       "      <td>6.81</td>\n",
       "      <td>0.77</td>\n",
       "      <td>-1</td>\n",
       "      <td>NaN</td>\n",
       "      <td>nan</td>\n",
       "    </tr>\n",
       "    <tr>\n",
       "      <th>2</th>\n",
       "      <td>Mario Kart Wii</td>\n",
       "      <td>Wii</td>\n",
       "      <td>2008.0</td>\n",
       "      <td>Racing</td>\n",
       "      <td>15.68</td>\n",
       "      <td>12.76</td>\n",
       "      <td>3.79</td>\n",
       "      <td>3.29</td>\n",
       "      <td>82</td>\n",
       "      <td>8.3</td>\n",
       "      <td>E</td>\n",
       "    </tr>\n",
       "    <tr>\n",
       "      <th>3</th>\n",
       "      <td>Wii Sports Resort</td>\n",
       "      <td>Wii</td>\n",
       "      <td>2009.0</td>\n",
       "      <td>Sports</td>\n",
       "      <td>15.61</td>\n",
       "      <td>10.93</td>\n",
       "      <td>3.28</td>\n",
       "      <td>2.95</td>\n",
       "      <td>80</td>\n",
       "      <td>8.0</td>\n",
       "      <td>E</td>\n",
       "    </tr>\n",
       "    <tr>\n",
       "      <th>4</th>\n",
       "      <td>Pokemon Red/Pokemon Blue</td>\n",
       "      <td>GB</td>\n",
       "      <td>1996.0</td>\n",
       "      <td>Role-Playing</td>\n",
       "      <td>11.27</td>\n",
       "      <td>8.89</td>\n",
       "      <td>10.22</td>\n",
       "      <td>1.00</td>\n",
       "      <td>-1</td>\n",
       "      <td>NaN</td>\n",
       "      <td>nan</td>\n",
       "    </tr>\n",
       "    <tr>\n",
       "      <th>...</th>\n",
       "      <td>...</td>\n",
       "      <td>...</td>\n",
       "      <td>...</td>\n",
       "      <td>...</td>\n",
       "      <td>...</td>\n",
       "      <td>...</td>\n",
       "      <td>...</td>\n",
       "      <td>...</td>\n",
       "      <td>...</td>\n",
       "      <td>...</td>\n",
       "      <td>...</td>\n",
       "    </tr>\n",
       "    <tr>\n",
       "      <th>16710</th>\n",
       "      <td>Samurai Warriors: Sanada Maru</td>\n",
       "      <td>PS3</td>\n",
       "      <td>2016.0</td>\n",
       "      <td>Action</td>\n",
       "      <td>0.00</td>\n",
       "      <td>0.00</td>\n",
       "      <td>0.01</td>\n",
       "      <td>0.00</td>\n",
       "      <td>-1</td>\n",
       "      <td>NaN</td>\n",
       "      <td>nan</td>\n",
       "    </tr>\n",
       "    <tr>\n",
       "      <th>16711</th>\n",
       "      <td>LMA Manager 2007</td>\n",
       "      <td>X360</td>\n",
       "      <td>2006.0</td>\n",
       "      <td>Sports</td>\n",
       "      <td>0.00</td>\n",
       "      <td>0.01</td>\n",
       "      <td>0.00</td>\n",
       "      <td>0.00</td>\n",
       "      <td>-1</td>\n",
       "      <td>NaN</td>\n",
       "      <td>nan</td>\n",
       "    </tr>\n",
       "    <tr>\n",
       "      <th>16712</th>\n",
       "      <td>Haitaka no Psychedelica</td>\n",
       "      <td>PSV</td>\n",
       "      <td>2016.0</td>\n",
       "      <td>Adventure</td>\n",
       "      <td>0.00</td>\n",
       "      <td>0.00</td>\n",
       "      <td>0.01</td>\n",
       "      <td>0.00</td>\n",
       "      <td>-1</td>\n",
       "      <td>NaN</td>\n",
       "      <td>nan</td>\n",
       "    </tr>\n",
       "    <tr>\n",
       "      <th>16713</th>\n",
       "      <td>Spirits &amp; Spells</td>\n",
       "      <td>GBA</td>\n",
       "      <td>2003.0</td>\n",
       "      <td>Platform</td>\n",
       "      <td>0.01</td>\n",
       "      <td>0.00</td>\n",
       "      <td>0.00</td>\n",
       "      <td>0.00</td>\n",
       "      <td>-1</td>\n",
       "      <td>NaN</td>\n",
       "      <td>nan</td>\n",
       "    </tr>\n",
       "    <tr>\n",
       "      <th>16714</th>\n",
       "      <td>Winning Post 8 2016</td>\n",
       "      <td>PSV</td>\n",
       "      <td>2016.0</td>\n",
       "      <td>Simulation</td>\n",
       "      <td>0.00</td>\n",
       "      <td>0.00</td>\n",
       "      <td>0.01</td>\n",
       "      <td>0.00</td>\n",
       "      <td>-1</td>\n",
       "      <td>NaN</td>\n",
       "      <td>nan</td>\n",
       "    </tr>\n",
       "  </tbody>\n",
       "</table>\n",
       "<p>16715 rows × 11 columns</p>\n",
       "</div>"
      ],
      "text/plain": [
       "                                name platform    year         genre  na_sales  \\\n",
       "0                         Wii Sports      Wii  2006.0        Sports     41.36   \n",
       "1                  Super Mario Bros.      NES  1985.0      Platform     29.08   \n",
       "2                     Mario Kart Wii      Wii  2008.0        Racing     15.68   \n",
       "3                  Wii Sports Resort      Wii  2009.0        Sports     15.61   \n",
       "4           Pokemon Red/Pokemon Blue       GB  1996.0  Role-Playing     11.27   \n",
       "...                              ...      ...     ...           ...       ...   \n",
       "16710  Samurai Warriors: Sanada Maru      PS3  2016.0        Action      0.00   \n",
       "16711               LMA Manager 2007     X360  2006.0        Sports      0.00   \n",
       "16712        Haitaka no Psychedelica      PSV  2016.0     Adventure      0.00   \n",
       "16713               Spirits & Spells      GBA  2003.0      Platform      0.01   \n",
       "16714            Winning Post 8 2016      PSV  2016.0    Simulation      0.00   \n",
       "\n",
       "       eu_sales  jp_sales  other_sales  critic_score  user_score rating  \n",
       "0         28.96      3.77         8.45            76         8.0      E  \n",
       "1          3.58      6.81         0.77            -1         NaN    nan  \n",
       "2         12.76      3.79         3.29            82         8.3      E  \n",
       "3         10.93      3.28         2.95            80         8.0      E  \n",
       "4          8.89     10.22         1.00            -1         NaN    nan  \n",
       "...         ...       ...          ...           ...         ...    ...  \n",
       "16710      0.00      0.01         0.00            -1         NaN    nan  \n",
       "16711      0.01      0.00         0.00            -1         NaN    nan  \n",
       "16712      0.00      0.01         0.00            -1         NaN    nan  \n",
       "16713      0.00      0.00         0.00            -1         NaN    nan  \n",
       "16714      0.00      0.01         0.00            -1         NaN    nan  \n",
       "\n",
       "[16715 rows x 11 columns]"
      ]
     },
     "execution_count": 118,
     "metadata": {},
     "output_type": "execute_result"
    }
   ],
   "source": [
    "games[games['year'] != 0]"
   ]
  },
  {
   "cell_type": "code",
   "execution_count": 119,
   "metadata": {},
   "outputs": [],
   "source": [
    "games['year'] = games['year'].astype('int64')"
   ]
  },
  {
   "cell_type": "code",
   "execution_count": 120,
   "metadata": {},
   "outputs": [
    {
     "name": "stdout",
     "output_type": "stream",
     "text": [
      "0\n"
     ]
    }
   ],
   "source": [
    "print(games['year'].isna().sum())"
   ]
  },
  {
   "cell_type": "markdown",
   "metadata": {},
   "source": [
    "# Rating missing values"
   ]
  },
  {
   "cell_type": "code",
   "execution_count": 121,
   "metadata": {},
   "outputs": [
    {
     "data": {
      "text/plain": [
       "nan     6766\n",
       "E       3990\n",
       "T       2961\n",
       "M       1563\n",
       "E10+    1420\n",
       "EC         8\n",
       "K-A        3\n",
       "RP         3\n",
       "AO         1\n",
       "Name: rating, dtype: int64"
      ]
     },
     "execution_count": 121,
     "metadata": {},
     "output_type": "execute_result"
    }
   ],
   "source": [
    "games[games['rating'] == 'unknown'] \n",
    "games.loc[games['rating'].isna(),'rating'] = 'unknown'\n",
    "missed_ratings = games[games['rating'] == 'unknown']\n",
    "games.rating.value_counts()"
   ]
  },
  {
   "cell_type": "markdown",
   "metadata": {},
   "source": [
    "\n",
    "A lot of unknowns. Genre is the only column with a logical common sense connection to rating - as it reflects the level of violence in the game. While rating likely has an effect on sales, and might have a connection to year and platform, none of them can be used to fill missing ratings, as it violates rules of common sense. Therefore, the task is to examine whether valued and unknown ratings distribute across genres the same. If they do, rating unknowns could be replaced by the most frequent rating for the relevant genre. If not, rating unknowns wont be replaced"
   ]
  },
  {
   "cell_type": "code",
   "execution_count": 122,
   "metadata": {},
   "outputs": [],
   "source": [
    "valued_ratings = games.merge(missed_ratings, how='outer', indicator=True).query('_merge == \"left_only\"').drop('_merge', 1)\n",
    "valued_ratings\n",
    "valued_ratings = valued_ratings.groupby('genre')['rating'].count().to_frame().add_suffix('').reset_index().rename(columns={'rating':'valued_rating'})\n",
    "missed_ratings = missed_ratings.groupby('genre')['rating'].count().to_frame().add_suffix('').reset_index().rename(columns={'rating':'unknown_rating'})\n"
   ]
  },
  {
   "cell_type": "code",
   "execution_count": 123,
   "metadata": {},
   "outputs": [
    {
     "data": {
      "text/html": [
       "<div>\n",
       "<style scoped>\n",
       "    .dataframe tbody tr th:only-of-type {\n",
       "        vertical-align: middle;\n",
       "    }\n",
       "\n",
       "    .dataframe tbody tr th {\n",
       "        vertical-align: top;\n",
       "    }\n",
       "\n",
       "    .dataframe thead th {\n",
       "        text-align: right;\n",
       "    }\n",
       "</style>\n",
       "<table border=\"1\" class=\"dataframe\">\n",
       "  <thead>\n",
       "    <tr style=\"text-align: right;\">\n",
       "      <th></th>\n",
       "      <th>genre</th>\n",
       "      <th>valued_rating</th>\n",
       "      <th>unknown_rating</th>\n",
       "    </tr>\n",
       "  </thead>\n",
       "  <tbody>\n",
       "  </tbody>\n",
       "</table>\n",
       "</div>"
      ],
      "text/plain": [
       "Empty DataFrame\n",
       "Columns: [genre, valued_rating, unknown_rating]\n",
       "Index: []"
      ]
     },
     "execution_count": 123,
     "metadata": {},
     "output_type": "execute_result"
    }
   ],
   "source": [
    "merged_rating = valued_ratings.merge(missed_ratings,how='inner',on='genre')\n",
    "va = merged_rating.valued_rating.sum()\n",
    "mi = merged_rating.unknown_rating.sum() \n",
    "merged_rating['valued_rating'] = merged_rating['valued_rating'] / va * 100\n",
    "merged_rating['unknown_rating'] = merged_rating['unknown_rating'] / mi * 100\n",
    "merged_rating"
   ]
  },
  {
   "cell_type": "markdown",
   "metadata": {},
   "source": [
    "# Critic_score missing values"
   ]
  },
  {
   "cell_type": "code",
   "execution_count": 124,
   "metadata": {},
   "outputs": [
    {
     "data": {
      "text/plain": [
       "-1     6663\n",
       " 68       4\n",
       " 88       3\n",
       " 66       3\n",
       " 87       2\n",
       " 54       2\n",
       " 83       2\n",
       " 72       2\n",
       " 57       2\n",
       " 65       2\n",
       " 62       2\n",
       " 79       1\n",
       " 63       1\n",
       " 55       1\n",
       " 86       1\n",
       " 40       1\n",
       " 46       1\n",
       " 89       1\n",
       " 44       1\n",
       " 69       1\n",
       " 61       1\n",
       " 49       1\n",
       " 33       1\n",
       " 64       1\n",
       " 85       1\n",
       "Name: critic_score, dtype: int64"
      ]
     },
     "execution_count": 124,
     "metadata": {},
     "output_type": "execute_result"
    }
   ],
   "source": [
    "games[games['user_score'].isna()]['critic_score'].value_counts()"
   ]
  },
  {
   "cell_type": "code",
   "execution_count": 125,
   "metadata": {},
   "outputs": [],
   "source": [
    "missed_critic_score = games[games['critic_score'] == -1]\n",
    "missed_critic_score\n",
    "\n",
    "valued_critic_score = games.merge(missed_critic_score, how='outer', indicator=True).query('_merge == \"left_only\"').drop('_merge', 1)\n",
    "valued_critic_score\n",
    "valued_critic_score = valued_critic_score.groupby('genre')['platform'].count().to_frame().add_suffix('').reset_index().rename(columns={'platform':'valued_critic_score'})\n",
    "valued_critic_score\n",
    "missed_critic_score = missed_critic_score.groupby('genre')['platform'].count().to_frame().add_suffix('').reset_index().rename(columns={'platform':'missed_critic_score'})\n",
    "missed_critic_score\n",
    "\n",
    "merged_critic = valued_critic_score.merge(missed_critic_score,how='inner',on='genre')\n",
    "va = merged_critic.valued_critic_score.sum()\n",
    "mi = merged_critic.missed_critic_score.sum()\n",
    "merged_critic['valued_critic_score'] = merged_critic['valued_critic_score'] / va * 100\n",
    "merged_critic['missed_critic_score'] = merged_critic['missed_critic_score'] / mi * 100"
   ]
  },
  {
   "cell_type": "markdown",
   "metadata": {},
   "source": [
    "# User_score missing values"
   ]
  },
  {
   "cell_type": "code",
   "execution_count": 126,
   "metadata": {},
   "outputs": [
    {
     "data": {
      "image/png": "[encoded data removed]",
      "text/plain": [
       "<Figure size 1152x576 with 1 Axes>"
      ]
     },
     "metadata": {
      "needs_background": "light"
     },
     "output_type": "display_data"
    }
   ],
   "source": [
    "tbds = games[games['user_score'] == -1]['platform'].value_counts()\n",
    "tbds.plot.bar(x='platform', y='user_score', rot=0, figsize=(16,8))\n",
    "plt.xlabel('platforms')\n",
    "plt.ylabel(\"num of tbd's\")\n",
    "plt.title(\"num of tbd's per platform\")\n",
    "plt.show()\n",
    "\n",
    "# proper - not na, not 'tbd'\n",
    "proper_user_score = games[games['user_score'] != -1].dropna(subset=['user_score'])\n",
    "tbd_user_score = games[games['user_score'] == -1]"
   ]
  },
  {
   "cell_type": "code",
   "execution_count": 127,
   "metadata": {},
   "outputs": [
    {
     "data": {
      "text/plain": [
       "year\n",
       "1980     NaN\n",
       "1981     NaN\n",
       "1982     NaN\n",
       "1983     NaN\n",
       "1984     NaN\n",
       "1985    5.80\n",
       "1986     NaN\n",
       "1987     NaN\n",
       "1988    2.20\n",
       "1989     NaN\n",
       "1990     NaN\n",
       "1991     NaN\n",
       "1992    8.20\n",
       "1993     NaN\n",
       "1994    6.30\n",
       "1995     NaN\n",
       "1996    8.65\n",
       "1997    8.30\n",
       "1998    8.60\n",
       "1999    8.50\n",
       "2000    7.30\n",
       "2001    7.50\n",
       "2002    7.20\n",
       "2003    8.00\n",
       "2004    7.80\n",
       "2005    7.60\n",
       "2006    7.20\n",
       "2007    6.70\n",
       "2008    6.30\n",
       "2009    5.70\n",
       "2010    5.50\n",
       "2011    6.00\n",
       "2012    6.90\n",
       "2013    6.60\n",
       "2014    6.80\n",
       "2015    6.80\n",
       "2016    6.80\n",
       "Name: user_score, dtype: float64"
      ]
     },
     "execution_count": 127,
     "metadata": {},
     "output_type": "execute_result"
    }
   ],
   "source": [
    "games.groupby('year')['user_score'].median().sort_index()"
   ]
  },
  {
   "cell_type": "markdown",
   "metadata": {},
   "source": [
    "As witnessed in the cell above, in 2000 - 2011, the median user_score varied between 5.5 to 8. In general, user scores varies between 5 to 8, so that doesn't help fill user_score missing values."
   ]
  },
  {
   "cell_type": "code",
   "execution_count": 128,
   "metadata": {},
   "outputs": [],
   "source": [
    "proper_user_score = proper_user_score.groupby('genre')['platform'].count().to_frame().add_suffix('').reset_index().rename(columns={'platform':'proper_user_score'})\n",
    "tbd_user_score = tbd_user_score.groupby('genre')['platform'].count().to_frame().add_suffix('').reset_index().rename(columns={'platform':'tbd_user_score'})\n",
    "\n",
    "merged_score = proper_user_score.merge(tbd_user_score,how='inner',on='genre')\n",
    "\n",
    "va = merged_score.proper_user_score.sum()\n",
    "mi = merged_score.tbd_user_score.sum() # its not all type of platforms so about 1408 rows are left out of both sums\n",
    "merged_score['proper_user_score'] = merged_score['proper_user_score'] / va * 100\n",
    "merged_score['tbd_user_score'] = merged_score['tbd_user_score'] / mi * 100"
   ]
  },
  {
   "cell_type": "code",
   "execution_count": 129,
   "metadata": {},
   "outputs": [],
   "source": [
    "missed_user_score = games[games['user_score'].isna()]\n",
    "\n",
    "valued_user_score = games.merge(missed_user_score, how='outer', indicator=True).query('_merge == \"left_only\"').drop('_merge', 1)\n",
    "valued_user_score\n",
    "valued_user_score = valued_user_score.groupby('genre')['platform'].count().to_frame().add_suffix('').reset_index().rename(columns={'platform':'valued_user_score'})\n",
    "missed_user_score = missed_user_score.groupby('genre')['platform'].count().to_frame().add_suffix('').reset_index().rename(columns={'platform':'missed_user_score'})\n",
    "\n",
    "\n",
    "merged_score2 = proper_user_score.merge(missed_user_score,how='inner',on='genre')\n",
    "\n",
    "va = merged_score2.proper_user_score.sum()\n",
    "mi = merged_score2.missed_user_score.sum() # its not all type of platforms so about 1408 rows are left out of both sums\n",
    "merged_score2['proper_user_score'] = merged_score2['proper_user_score'] / va * 100\n",
    "merged_score2['missed_user_score'] = merged_score2['missed_user_score'] / mi * 100\n",
    "\n"
   ]
  },
  {
   "cell_type": "code",
   "execution_count": 130,
   "metadata": {},
   "outputs": [
    {
     "data": {
      "image/png": "[encoded data removed]",
      "text/plain": [
       "<Figure size 1152x576 with 1 Axes>"
      ]
     },
     "metadata": {
      "needs_background": "light"
     },
     "output_type": "display_data"
    }
   ],
   "source": [
    "ax = merged_score2.plot.bar(x='genre', y=['proper_user_score','missed_user_score'], rot=0, figsize=(16,8))\n",
    "plt.xlabel('genres')\n",
    "plt.ylabel('num of games')\n",
    "plt.title(\"missed vs proper scores per genre\")\n",
    "plt.show()"
   ]
  },
  {
   "cell_type": "markdown",
   "metadata": {},
   "source": [
    "Thats a better match. Still, there are 6701 missing values, and we fill them based on 7590 proper values. Its not worth it.\n",
    "given another year, I would try to fill per platform only if the match is good enough. and doing it with boxplots from the beginning - is it a lot faster?"
   ]
  },
  {
   "cell_type": "markdown",
   "metadata": {},
   "source": [
    "# Possible reasons for values to be missing\n",
    "Critics, scores and ratings might be performed by official companies, such as michelin for restaurants - a prestigous game reviewer critic, a popular game site and a special board who determines game ratings. As to the professional critic and the rating board - they're only human so cant review all games. And for the games site - it too depends on users who bought the game and ready to spend some time for filling their review in the website.\n",
    "\n",
    "Before internet was widely popular - before the mid 90's - user scores obviously had to be much sparser.\n",
    "\n",
    "Those 2 missing values for name and genre might be a human error. When going through the data by year and platform those 2 values were deleted for 2 subsequent rows.\n",
    "\n",
    "Years missing values ended up being filled, because they were distributed \"evenly\". That suggests some random process is responsible for them - for example, the data might have been assembled from a lot of different tables, containing different columns. In each iteration, missing year values were added to an extent, but not completely - its a lot of work."
   ]
  },
  {
   "cell_type": "markdown",
   "metadata": {},
   "source": [
    "<div class=\"alert alert-block alert-success\">\n",
    "<b>Reviewer's comment</b> <a class=\"tocSkip\"></a>\n",
    "\n",
    "Replacement of 'tbd' is correct)\n",
    "    \n",
    "Your work with ratings column is also good."
   ]
  },
  {
   "cell_type": "markdown",
   "metadata": {},
   "source": [
    "<div class=\"alert alert-block alert-danger\">\n",
    "<b>Reviewer's comment</b> <a class=\"tocSkip\"></a>\n",
    "\n",
    "However, I don't recommend to use mean here. We have for about 40% of missed values here, so it's impossible to replace them and save the original data properties at the same time.\n",
    "    \n",
    "Here it's better to leave nan or to replace them by obviously incorrect value like -1, 99999 etc, or as you did for ratings col) In that case you'll need to filter them for corr countings and plots."
   ]
  },
  {
   "cell_type": "markdown",
   "metadata": {},
   "source": [
    "<div class=\"alert alert-block alert-danger\">\n",
    "<b>Reviewer's comment</b> <a class=\"tocSkip\"></a>\n",
    "\n",
    "Please, try to deal with years column as well. The way you've choosen for names column is suitable here)"
   ]
  },
  {
   "cell_type": "markdown",
   "metadata": {},
   "source": [
    "<div class=\"alert alert-block alert-success\">\n",
    "<b>Reviewer's comment v.1.</b> <a class=\"tocSkip\"></a>\n",
    "\n",
    "Your work with years col is correct now)"
   ]
  },
  {
   "cell_type": "markdown",
   "metadata": {},
   "source": [
    "<div class=\"alert alert-block alert-danger\">\n",
    "<b>Reviewer's comment v.1.</b> <a class=\"tocSkip\"></a>\n",
    "\n",
    "\n",
    "Unfortynatly, I don't see any changes for scores columns. \n",
    "\n",
    "Please, try to leave nan or to replace missed values as I written in the red comment above. The way you've used for replacing values changes the original data properties. It's a really good way to fill them, but only if you have for about 10% of missed data. "
   ]
  },
  {
   "cell_type": "markdown",
   "metadata": {},
   "source": [
    "<div class=\"alert alert-block alert-success\">\n",
    "<b>Reviewer's comment v.2.</b> <a class=\"tocSkip\"></a>\n",
    "\n",
    "Great!"
   ]
  },
  {
   "cell_type": "markdown",
   "metadata": {},
   "source": [
    "Calculate the total sales:"
   ]
  },
  {
   "cell_type": "code",
   "execution_count": 131,
   "metadata": {},
   "outputs": [
    {
     "data": {
      "text/html": [
       "<div>\n",
       "<style scoped>\n",
       "    .dataframe tbody tr th:only-of-type {\n",
       "        vertical-align: middle;\n",
       "    }\n",
       "\n",
       "    .dataframe tbody tr th {\n",
       "        vertical-align: top;\n",
       "    }\n",
       "\n",
       "    .dataframe thead th {\n",
       "        text-align: right;\n",
       "    }\n",
       "</style>\n",
       "<table border=\"1\" class=\"dataframe\">\n",
       "  <thead>\n",
       "    <tr style=\"text-align: right;\">\n",
       "      <th></th>\n",
       "      <th>name</th>\n",
       "      <th>platform</th>\n",
       "      <th>year</th>\n",
       "      <th>genre</th>\n",
       "      <th>na_sales</th>\n",
       "      <th>eu_sales</th>\n",
       "      <th>jp_sales</th>\n",
       "      <th>other_sales</th>\n",
       "      <th>critic_score</th>\n",
       "      <th>user_score</th>\n",
       "      <th>rating</th>\n",
       "      <th>total_sales</th>\n",
       "    </tr>\n",
       "  </thead>\n",
       "  <tbody>\n",
       "    <tr>\n",
       "      <th>0</th>\n",
       "      <td>Wii Sports</td>\n",
       "      <td>Wii</td>\n",
       "      <td>2006</td>\n",
       "      <td>Sports</td>\n",
       "      <td>41.36</td>\n",
       "      <td>28.96</td>\n",
       "      <td>3.77</td>\n",
       "      <td>8.45</td>\n",
       "      <td>76</td>\n",
       "      <td>8.0</td>\n",
       "      <td>E</td>\n",
       "      <td>82.54</td>\n",
       "    </tr>\n",
       "    <tr>\n",
       "      <th>1</th>\n",
       "      <td>Super Mario Bros.</td>\n",
       "      <td>NES</td>\n",
       "      <td>1985</td>\n",
       "      <td>Platform</td>\n",
       "      <td>29.08</td>\n",
       "      <td>3.58</td>\n",
       "      <td>6.81</td>\n",
       "      <td>0.77</td>\n",
       "      <td>-1</td>\n",
       "      <td>NaN</td>\n",
       "      <td>nan</td>\n",
       "      <td>40.24</td>\n",
       "    </tr>\n",
       "    <tr>\n",
       "      <th>2</th>\n",
       "      <td>Mario Kart Wii</td>\n",
       "      <td>Wii</td>\n",
       "      <td>2008</td>\n",
       "      <td>Racing</td>\n",
       "      <td>15.68</td>\n",
       "      <td>12.76</td>\n",
       "      <td>3.79</td>\n",
       "      <td>3.29</td>\n",
       "      <td>82</td>\n",
       "      <td>8.3</td>\n",
       "      <td>E</td>\n",
       "      <td>35.52</td>\n",
       "    </tr>\n",
       "    <tr>\n",
       "      <th>3</th>\n",
       "      <td>Wii Sports Resort</td>\n",
       "      <td>Wii</td>\n",
       "      <td>2009</td>\n",
       "      <td>Sports</td>\n",
       "      <td>15.61</td>\n",
       "      <td>10.93</td>\n",
       "      <td>3.28</td>\n",
       "      <td>2.95</td>\n",
       "      <td>80</td>\n",
       "      <td>8.0</td>\n",
       "      <td>E</td>\n",
       "      <td>32.77</td>\n",
       "    </tr>\n",
       "    <tr>\n",
       "      <th>4</th>\n",
       "      <td>Pokemon Red/Pokemon Blue</td>\n",
       "      <td>GB</td>\n",
       "      <td>1996</td>\n",
       "      <td>Role-Playing</td>\n",
       "      <td>11.27</td>\n",
       "      <td>8.89</td>\n",
       "      <td>10.22</td>\n",
       "      <td>1.00</td>\n",
       "      <td>-1</td>\n",
       "      <td>NaN</td>\n",
       "      <td>nan</td>\n",
       "      <td>31.38</td>\n",
       "    </tr>\n",
       "  </tbody>\n",
       "</table>\n",
       "</div>"
      ],
      "text/plain": [
       "                       name platform  year         genre  na_sales  eu_sales  \\\n",
       "0                Wii Sports      Wii  2006        Sports     41.36     28.96   \n",
       "1         Super Mario Bros.      NES  1985      Platform     29.08      3.58   \n",
       "2            Mario Kart Wii      Wii  2008        Racing     15.68     12.76   \n",
       "3         Wii Sports Resort      Wii  2009        Sports     15.61     10.93   \n",
       "4  Pokemon Red/Pokemon Blue       GB  1996  Role-Playing     11.27      8.89   \n",
       "\n",
       "   jp_sales  other_sales  critic_score  user_score rating  total_sales  \n",
       "0      3.77         8.45            76         8.0      E        82.54  \n",
       "1      6.81         0.77            -1         NaN    nan        40.24  \n",
       "2      3.79         3.29            82         8.3      E        35.52  \n",
       "3      3.28         2.95            80         8.0      E        32.77  \n",
       "4     10.22         1.00            -1         NaN    nan        31.38  "
      ]
     },
     "execution_count": 131,
     "metadata": {},
     "output_type": "execute_result"
    }
   ],
   "source": [
    "games['total_sales'] = games['na_sales'] + games['eu_sales'] + games['jp_sales'] + games['other_sales']\n",
    "games.head()"
   ]
  },
  {
   "cell_type": "markdown",
   "metadata": {},
   "source": [
    "<div class=\"alert alert-block alert-success\">\n",
    "<b>Reviewer's comment</b> <a class=\"tocSkip\"></a>\n",
    "\n",
    "Also possible to write like this:\n",
    "    \n",
    "    df['sum_col'] = df[list_of_cols_to_sum].sum(axis=1)"
   ]
  },
  {
   "cell_type": "markdown",
   "metadata": {},
   "source": [
    "We added the column 'total_sales' by gathering the sales from all regions for each game."
   ]
  },
  {
   "cell_type": "markdown",
   "metadata": {},
   "source": [
    "# Analyze the data"
   ]
  },
  {
   "cell_type": "markdown",
   "metadata": {},
   "source": [
    "Look at how many games were released in different years."
   ]
  },
  {
   "cell_type": "markdown",
   "metadata": {},
   "source": [
    "<div class=\"alert alert-block alert-success\">\n",
    "<b>Reviewer's comment</b> <a class=\"tocSkip\"></a>\n",
    "\n",
    "Correct interpretation)"
   ]
  },
  {
   "cell_type": "markdown",
   "metadata": {},
   "source": [
    "Look at how sales varied from platform to platform. "
   ]
  },
  {
   "cell_type": "code",
   "execution_count": 132,
   "metadata": {
    "scrolled": true
   },
   "outputs": [
    {
     "data": {
      "text/html": [
       "<div>\n",
       "<style scoped>\n",
       "    .dataframe tbody tr th:only-of-type {\n",
       "        vertical-align: middle;\n",
       "    }\n",
       "\n",
       "    .dataframe tbody tr th {\n",
       "        vertical-align: top;\n",
       "    }\n",
       "\n",
       "    .dataframe thead th {\n",
       "        text-align: right;\n",
       "    }\n",
       "</style>\n",
       "<table border=\"1\" class=\"dataframe\">\n",
       "  <thead>\n",
       "    <tr style=\"text-align: right;\">\n",
       "      <th></th>\n",
       "      <th>platform</th>\n",
       "      <th>total_sales</th>\n",
       "    </tr>\n",
       "  </thead>\n",
       "  <tbody>\n",
       "    <tr>\n",
       "      <th>16</th>\n",
       "      <td>PS2</td>\n",
       "      <td>1255.77</td>\n",
       "    </tr>\n",
       "    <tr>\n",
       "      <th>28</th>\n",
       "      <td>X360</td>\n",
       "      <td>971.42</td>\n",
       "    </tr>\n",
       "    <tr>\n",
       "      <th>17</th>\n",
       "      <td>PS3</td>\n",
       "      <td>939.65</td>\n",
       "    </tr>\n",
       "    <tr>\n",
       "      <th>26</th>\n",
       "      <td>Wii</td>\n",
       "      <td>907.51</td>\n",
       "    </tr>\n",
       "    <tr>\n",
       "      <th>4</th>\n",
       "      <td>DS</td>\n",
       "      <td>806.12</td>\n",
       "    </tr>\n",
       "    <tr>\n",
       "      <th>15</th>\n",
       "      <td>PS</td>\n",
       "      <td>730.86</td>\n",
       "    </tr>\n",
       "    <tr>\n",
       "      <th>6</th>\n",
       "      <td>GBA</td>\n",
       "      <td>317.85</td>\n",
       "    </tr>\n",
       "    <tr>\n",
       "      <th>18</th>\n",
       "      <td>PS4</td>\n",
       "      <td>314.14</td>\n",
       "    </tr>\n",
       "    <tr>\n",
       "      <th>19</th>\n",
       "      <td>PSP</td>\n",
       "      <td>294.05</td>\n",
       "    </tr>\n",
       "    <tr>\n",
       "      <th>13</th>\n",
       "      <td>PC</td>\n",
       "      <td>259.52</td>\n",
       "    </tr>\n",
       "  </tbody>\n",
       "</table>\n",
       "</div>"
      ],
      "text/plain": [
       "   platform  total_sales\n",
       "16      PS2      1255.77\n",
       "28     X360       971.42\n",
       "17      PS3       939.65\n",
       "26      Wii       907.51\n",
       "4        DS       806.12\n",
       "15       PS       730.86\n",
       "6       GBA       317.85\n",
       "18      PS4       314.14\n",
       "19      PSP       294.05\n",
       "13       PC       259.52"
      ]
     },
     "metadata": {},
     "output_type": "display_data"
    }
   ],
   "source": [
    "sales_per_platform = games.groupby('platform')['total_sales'].sum().reset_index().sort_values(by = 'total_sales', ascending = False)\n",
    "display(sales_per_platform.head(10))"
   ]
  },
  {
   "cell_type": "markdown",
   "metadata": {},
   "source": [
    "<div class=\"alert alert-block alert-success\">\n",
    "<b>Reviewer's comment</b> <a class=\"tocSkip\"></a>\n",
    "\n",
    "Nice usage of groupby"
   ]
  },
  {
   "cell_type": "markdown",
   "metadata": {},
   "source": [
    " The platforms with the highest sales are PS2 and X360. The platforms with the lowest sales are older platforms."
   ]
  },
  {
   "cell_type": "markdown",
   "metadata": {},
   "source": [
    "Platforms with the Greastest Total Sales"
   ]
  },
  {
   "cell_type": "code",
   "execution_count": 133,
   "metadata": {},
   "outputs": [
    {
     "data": {
      "text/plain": [
       "['PS2', 'X360', 'PS3', 'Wii', 'DS', 'PS']"
      ]
     },
     "metadata": {},
     "output_type": "display_data"
    }
   ],
   "source": [
    "top_platforms = sales_per_platform.head(6)['platform'].tolist()\n",
    "display(top_platforms)\n",
    "\n"
   ]
  },
  {
   "cell_type": "markdown",
   "metadata": {},
   "source": [
    "<div class=\"alert alert-block alert-success\">\n",
    "<b>Reviewer's comment</b> <a class=\"tocSkip\"></a>\n",
    "\n",
    "Great! Really like that you've sorted it and used this sort here)"
   ]
  },
  {
   "cell_type": "markdown",
   "metadata": {},
   "source": [
    " Choose the platforms with the greatest total sales and build a distribution based on data for each year."
   ]
  },
  {
   "cell_type": "code",
   "execution_count": 134,
   "metadata": {},
   "outputs": [
    {
     "data": {
      "text/html": [
       "<div>\n",
       "<style scoped>\n",
       "    .dataframe tbody tr th:only-of-type {\n",
       "        vertical-align: middle;\n",
       "    }\n",
       "\n",
       "    .dataframe tbody tr th {\n",
       "        vertical-align: top;\n",
       "    }\n",
       "\n",
       "    .dataframe thead th {\n",
       "        text-align: right;\n",
       "    }\n",
       "</style>\n",
       "<table border=\"1\" class=\"dataframe\">\n",
       "  <thead>\n",
       "    <tr style=\"text-align: right;\">\n",
       "      <th></th>\n",
       "      <th>platform</th>\n",
       "      <th>year</th>\n",
       "      <th>total_sales</th>\n",
       "    </tr>\n",
       "  </thead>\n",
       "  <tbody>\n",
       "    <tr>\n",
       "      <th>0</th>\n",
       "      <td>DS</td>\n",
       "      <td>1985</td>\n",
       "      <td>0.02</td>\n",
       "    </tr>\n",
       "    <tr>\n",
       "      <th>1</th>\n",
       "      <td>DS</td>\n",
       "      <td>2004</td>\n",
       "      <td>17.27</td>\n",
       "    </tr>\n",
       "    <tr>\n",
       "      <th>2</th>\n",
       "      <td>DS</td>\n",
       "      <td>2005</td>\n",
       "      <td>130.14</td>\n",
       "    </tr>\n",
       "    <tr>\n",
       "      <th>3</th>\n",
       "      <td>DS</td>\n",
       "      <td>2006</td>\n",
       "      <td>119.81</td>\n",
       "    </tr>\n",
       "    <tr>\n",
       "      <th>4</th>\n",
       "      <td>DS</td>\n",
       "      <td>2007</td>\n",
       "      <td>146.94</td>\n",
       "    </tr>\n",
       "  </tbody>\n",
       "</table>\n",
       "</div>"
      ],
      "text/plain": [
       "  platform  year  total_sales\n",
       "0       DS  1985         0.02\n",
       "1       DS  2004        17.27\n",
       "2       DS  2005       130.14\n",
       "3       DS  2006       119.81\n",
       "4       DS  2007       146.94"
      ]
     },
     "metadata": {},
     "output_type": "display_data"
    }
   ],
   "source": [
    "greatest_sales = games.query('platform in @top_platforms')[['platform', 'year', 'total_sales']]\n",
    "greatest_sales = pd.pivot_table(greatest_sales, values = ['total_sales'], index = ['platform', 'year'],\n",
    "                                aggfunc = 'sum').reset_index()\n",
    "\n",
    "display(greatest_sales.head())"
   ]
  },
  {
   "cell_type": "code",
   "execution_count": 135,
   "metadata": {},
   "outputs": [
    {
     "data": {
      "image/png": "[encoded data removed]",
      "text/plain": [
       "<Figure size 800x640 with 1 Axes>"
      ]
     },
     "metadata": {
      "needs_background": "light"
     },
     "output_type": "display_data"
    }
   ],
   "source": [
    "plt.figure(figsize = (10, 8), dpi = 80)\n",
    "colors = ['green', 'blue', 'red', 'purple', 'black', 'yellow']\n",
    "i = 0\n",
    "for platform in top_platforms:\n",
    "    top_platform_sales = greatest_sales.loc[greatest_sales['platform'] == platform, 'year']\n",
    "    sns.kdeplot(top_platform_sales, shade = False, color = colors[i], label = platform, alpha = 0.7)\n",
    "    i += 1\n",
    "    \n",
    "plt.title('Distribution of Total Sales of Each Platform Per Year')\n",
    "plt.legend()\n",
    "plt.show()"
   ]
  },
  {
   "cell_type": "markdown",
   "metadata": {},
   "source": [
    "<div class=\"alert alert-block alert-warning\">\n",
    "<b>Reviewer's comment</b> <a class=\"tocSkip\"></a>\n",
    "\n",
    "This plot is really good, but I'd recommend to study original data as well (with simple linear plot instead of kde)"
   ]
  },
  {
   "cell_type": "markdown",
   "metadata": {},
   "source": [
    "The top 6 platforms with the highest sales are the PS, Wii, X360, PS2,, DS, and PS3.\n",
    "The total sales is highest in the year 1998 for the platform PS because it is an older system. Whereas, all the other highest selling platforms have their highest point between 1998-2013."
   ]
  },
  {
   "cell_type": "markdown",
   "metadata": {},
   "source": [
    "Platforms that Use to be Popular but Now Have Zero Sales"
   ]
  },
  {
   "cell_type": "code",
   "execution_count": 136,
   "metadata": {},
   "outputs": [
    {
     "data": {
      "image/png": "[encoded data removed]",
      "text/plain": [
       "<Figure size 1296x1296 with 28 Axes>"
      ]
     },
     "metadata": {
      "needs_background": "light"
     },
     "output_type": "display_data"
    }
   ],
   "source": [
    "sales_per_platform = games.pivot_table(index = 'platform', values = 'total_sales', aggfunc = 'sum').sort_values('total_sales', ascending = False)\n",
    "\n",
    "platforms = list(sales_per_platform.index)\n",
    "\n",
    "fig, axs = plt.subplots(7, len(platforms) // 7)\n",
    "axs = axs.flatten()\n",
    "\n",
    "num = 0\n",
    "for platform, ax in zip(platforms, axs):\n",
    "    ((games[games['platform'] == platform]\n",
    "         .pivot_table(index = 'year', values = 'total_sales', aggfunc = 'sum')\n",
    "         .sort_values('year', ascending = False))['total_sales']\n",
    "            .plot(kind = 'bar', ax = ax, figsize = (18,18), title = platform)\n",
    "            .set(xlabel = 'year', ylabel = 'total_sales'))\n",
    "\n",
    "plt.tight_layout()\n",
    "plt.show()"
   ]
  },
  {
   "cell_type": "markdown",
   "metadata": {},
   "source": [
    "<div class=\"alert alert-block alert-success\">\n",
    "<b>Reviewer's comment v.1.</b> <a class=\"tocSkip\"></a>\n",
    "\n",
    "Nice hist)"
   ]
  },
  {
   "cell_type": "markdown",
   "metadata": {},
   "source": [
    "Some games that use to be popular but now have 0 sales are Wii, SCD, TG16,  WS, NG, SCD, and 2600."
   ]
  },
  {
   "cell_type": "markdown",
   "metadata": {},
   "source": [
    "How Long It Takes for New Platforms to Appear and Old Ones to Fade"
   ]
  },
  {
   "cell_type": "code",
   "execution_count": 137,
   "metadata": {},
   "outputs": [
    {
     "data": {
      "text/plain": [
       "7.6"
      ]
     },
     "metadata": {},
     "output_type": "display_data"
    }
   ],
   "source": [
    "fadeTimePerPlatform = (games.groupby('platform')['year'].max() - games.groupby('platform')['year'].min()).reset_index()\n",
    "averageFadeTime = fadeTimePerPlatform['year'].mean().round(decimals=1)\n",
    "display(averageFadeTime)"
   ]
  },
  {
   "cell_type": "markdown",
   "metadata": {},
   "source": [
    "The average time it takes for new platforms to appear and old ones to fade is about 7.6 years"
   ]
  },
  {
   "cell_type": "markdown",
   "metadata": {},
   "source": [
    "Determine what period you should take data for."
   ]
  },
  {
   "cell_type": "code",
   "execution_count": 138,
   "metadata": {
    "scrolled": true
   },
   "outputs": [
    {
     "data": {
      "text/html": [
       "<div>\n",
       "<style scoped>\n",
       "    .dataframe tbody tr th:only-of-type {\n",
       "        vertical-align: middle;\n",
       "    }\n",
       "\n",
       "    .dataframe tbody tr th {\n",
       "        vertical-align: top;\n",
       "    }\n",
       "\n",
       "    .dataframe thead th {\n",
       "        text-align: right;\n",
       "    }\n",
       "</style>\n",
       "<table border=\"1\" class=\"dataframe\">\n",
       "  <thead>\n",
       "    <tr style=\"text-align: right;\">\n",
       "      <th></th>\n",
       "      <th>name</th>\n",
       "      <th>platform</th>\n",
       "      <th>year</th>\n",
       "      <th>genre</th>\n",
       "      <th>na_sales</th>\n",
       "      <th>eu_sales</th>\n",
       "      <th>jp_sales</th>\n",
       "      <th>other_sales</th>\n",
       "      <th>critic_score</th>\n",
       "      <th>user_score</th>\n",
       "      <th>rating</th>\n",
       "      <th>total_sales</th>\n",
       "    </tr>\n",
       "  </thead>\n",
       "  <tbody>\n",
       "    <tr>\n",
       "      <th>16</th>\n",
       "      <td>Grand Theft Auto V</td>\n",
       "      <td>PS3</td>\n",
       "      <td>2013</td>\n",
       "      <td>Action</td>\n",
       "      <td>7.02</td>\n",
       "      <td>9.09</td>\n",
       "      <td>0.98</td>\n",
       "      <td>3.96</td>\n",
       "      <td>97</td>\n",
       "      <td>8.2</td>\n",
       "      <td>M</td>\n",
       "      <td>21.05</td>\n",
       "    </tr>\n",
       "    <tr>\n",
       "      <th>23</th>\n",
       "      <td>Grand Theft Auto V</td>\n",
       "      <td>X360</td>\n",
       "      <td>2013</td>\n",
       "      <td>Action</td>\n",
       "      <td>9.66</td>\n",
       "      <td>5.14</td>\n",
       "      <td>0.06</td>\n",
       "      <td>1.41</td>\n",
       "      <td>97</td>\n",
       "      <td>8.1</td>\n",
       "      <td>M</td>\n",
       "      <td>16.27</td>\n",
       "    </tr>\n",
       "    <tr>\n",
       "      <th>31</th>\n",
       "      <td>Call of Duty: Black Ops 3</td>\n",
       "      <td>PS4</td>\n",
       "      <td>2015</td>\n",
       "      <td>Shooter</td>\n",
       "      <td>6.03</td>\n",
       "      <td>5.86</td>\n",
       "      <td>0.36</td>\n",
       "      <td>2.38</td>\n",
       "      <td>-1</td>\n",
       "      <td>NaN</td>\n",
       "      <td>nan</td>\n",
       "      <td>14.63</td>\n",
       "    </tr>\n",
       "    <tr>\n",
       "      <th>33</th>\n",
       "      <td>Pokemon X/Pokemon Y</td>\n",
       "      <td>3DS</td>\n",
       "      <td>2013</td>\n",
       "      <td>Role-Playing</td>\n",
       "      <td>5.28</td>\n",
       "      <td>4.19</td>\n",
       "      <td>4.35</td>\n",
       "      <td>0.78</td>\n",
       "      <td>-1</td>\n",
       "      <td>NaN</td>\n",
       "      <td>nan</td>\n",
       "      <td>14.60</td>\n",
       "    </tr>\n",
       "    <tr>\n",
       "      <th>34</th>\n",
       "      <td>Call of Duty: Black Ops II</td>\n",
       "      <td>PS3</td>\n",
       "      <td>2012</td>\n",
       "      <td>Shooter</td>\n",
       "      <td>4.99</td>\n",
       "      <td>5.73</td>\n",
       "      <td>0.65</td>\n",
       "      <td>2.42</td>\n",
       "      <td>83</td>\n",
       "      <td>5.3</td>\n",
       "      <td>M</td>\n",
       "      <td>13.79</td>\n",
       "    </tr>\n",
       "  </tbody>\n",
       "</table>\n",
       "</div>"
      ],
      "text/plain": [
       "                          name platform  year         genre  na_sales  \\\n",
       "16          Grand Theft Auto V      PS3  2013        Action      7.02   \n",
       "23          Grand Theft Auto V     X360  2013        Action      9.66   \n",
       "31   Call of Duty: Black Ops 3      PS4  2015       Shooter      6.03   \n",
       "33         Pokemon X/Pokemon Y      3DS  2013  Role-Playing      5.28   \n",
       "34  Call of Duty: Black Ops II      PS3  2012       Shooter      4.99   \n",
       "\n",
       "    eu_sales  jp_sales  other_sales  critic_score  user_score rating  \\\n",
       "16      9.09      0.98         3.96            97         8.2      M   \n",
       "23      5.14      0.06         1.41            97         8.1      M   \n",
       "31      5.86      0.36         2.38            -1         NaN    nan   \n",
       "33      4.19      4.35         0.78            -1         NaN    nan   \n",
       "34      5.73      0.65         2.42            83         5.3      M   \n",
       "\n",
       "    total_sales  \n",
       "16        21.05  \n",
       "23        16.27  \n",
       "31        14.63  \n",
       "33        14.60  \n",
       "34        13.79  "
      ]
     },
     "execution_count": 138,
     "metadata": {},
     "output_type": "execute_result"
    }
   ],
   "source": [
    "games = games.query('year > 2011')\n",
    "games.head()"
   ]
  },
  {
   "cell_type": "markdown",
   "metadata": {},
   "source": [
    "The most relevant data is between 2014 and 2015. We will keep data with a year of release from 2014 to 2016. This will help us determine the best campaign for 2017."
   ]
  },
  {
   "cell_type": "markdown",
   "metadata": {},
   "source": [
    "<div class=\"alert alert-block alert-success\">\n",
    "<b>Reviewer's comment</b> <a class=\"tocSkip\"></a>\n",
    "\n",
    "That's the best choice of time period"
   ]
  },
  {
   "cell_type": "markdown",
   "metadata": {},
   "source": [
    "Which platforms are leading in sales? "
   ]
  },
  {
   "cell_type": "code",
   "execution_count": 139,
   "metadata": {},
   "outputs": [
    {
     "data": {
      "text/plain": [
       "Text(0.5, 1.0, 'Total Sales per Platform')"
      ]
     },
     "execution_count": 139,
     "metadata": {},
     "output_type": "execute_result"
    },
    {
     "data": {
      "image/png": "[encoded data removed]",
      "text/plain": [
       "<Figure size 864x576 with 1 Axes>"
      ]
     },
     "metadata": {
      "needs_background": "light"
     },
     "output_type": "display_data"
    }
   ],
   "source": [
    "sales_per_platform = games.pivot_table(index = 'platform', values = 'total_sales',\n",
    "                                 aggfunc = 'sum').sort_values(by = 'total_sales', ascending = False).reset_index()\n",
    "\n",
    "sales_per_platform.plot(kind = 'bar', x = 'platform', y = 'total_sales', figsize = (12,8))\n",
    "plt.ylabel('Total Sales')\n",
    "plt.xlabel('Platforms')\n",
    "plt.title('Total Sales per Platform')"
   ]
  },
  {
   "cell_type": "markdown",
   "metadata": {},
   "source": [
    "Which ones are growing or shrinking?"
   ]
  },
  {
   "cell_type": "markdown",
   "metadata": {},
   "source": [
    "The platforms leading in total sales are PS4, PS3, X360, 3DS, and XOne."
   ]
  },
  {
   "cell_type": "code",
   "execution_count": 140,
   "metadata": {
    "scrolled": true
   },
   "outputs": [
    {
     "data": {
      "text/plain": [
       "Text(0.5, 1.0, 'Sales Sucess or Drop')"
      ]
     },
     "execution_count": 140,
     "metadata": {},
     "output_type": "execute_result"
    },
    {
     "data": {
      "image/png": "[encoded data removed]",
      "text/plain": [
       "<Figure size 936x648 with 2 Axes>"
      ]
     },
     "metadata": {
      "needs_background": "light"
     },
     "output_type": "display_data"
    }
   ],
   "source": [
    "grow_shrink = games.pivot_table(index = 'year', columns = 'platform', values = 'total_sales',\n",
    "                                   aggfunc = 'sum', fill_value=0)\n",
    "dynamics = grow_shrink - grow_shrink.shift(+1)\n",
    "\n",
    "plt.figure(figsize=(13,9))\n",
    "sns.heatmap(dynamics.T,cmap='RdBu_r')\n",
    "\n",
    "plt.title('Sales Sucess or Drop')"
   ]
  },
  {
   "cell_type": "markdown",
   "metadata": {},
   "source": [
    "#### The map shows the increase in sales or decrease in sales, for each platform where red means:\"increase\", and blue means: \"decrease\".\n",
    "The platforms shrinking are PS3, and Wii. The platforms growing are PS4, X360 and XOne. Some platforms that are potentially profitable are PS3 and X360."
   ]
  },
  {
   "cell_type": "markdown",
   "metadata": {},
   "source": [
    "<div class=\"alert alert-block alert-success\">\n",
    "<b>Reviewer's comment</b> <a class=\"tocSkip\"></a>\n",
    "\n",
    "In heatmaps it's also possible to add values right on the matrix, this makes it easier to undestand"
   ]
  },
  {
   "cell_type": "markdown",
   "metadata": {},
   "source": [
    "Build a box plot for the global sales of all games"
   ]
  },
  {
   "cell_type": "code",
   "execution_count": 141,
   "metadata": {},
   "outputs": [
    {
     "data": {
      "text/html": [
       "<div>\n",
       "<style scoped>\n",
       "    .dataframe tbody tr th:only-of-type {\n",
       "        vertical-align: middle;\n",
       "    }\n",
       "\n",
       "    .dataframe tbody tr th {\n",
       "        vertical-align: top;\n",
       "    }\n",
       "\n",
       "    .dataframe thead th {\n",
       "        text-align: right;\n",
       "    }\n",
       "</style>\n",
       "<table border=\"1\" class=\"dataframe\">\n",
       "  <thead>\n",
       "    <tr style=\"text-align: right;\">\n",
       "      <th></th>\n",
       "      <th>platform</th>\n",
       "      <th>year</th>\n",
       "      <th>total_sales</th>\n",
       "    </tr>\n",
       "  </thead>\n",
       "  <tbody>\n",
       "    <tr>\n",
       "      <th>0</th>\n",
       "      <td>PS4</td>\n",
       "      <td>2015</td>\n",
       "      <td>118.90</td>\n",
       "    </tr>\n",
       "    <tr>\n",
       "      <th>1</th>\n",
       "      <td>PS3</td>\n",
       "      <td>2013</td>\n",
       "      <td>113.25</td>\n",
       "    </tr>\n",
       "    <tr>\n",
       "      <th>2</th>\n",
       "      <td>PS3</td>\n",
       "      <td>2012</td>\n",
       "      <td>107.36</td>\n",
       "    </tr>\n",
       "    <tr>\n",
       "      <th>3</th>\n",
       "      <td>PS4</td>\n",
       "      <td>2014</td>\n",
       "      <td>100.00</td>\n",
       "    </tr>\n",
       "    <tr>\n",
       "      <th>4</th>\n",
       "      <td>X360</td>\n",
       "      <td>2012</td>\n",
       "      <td>99.74</td>\n",
       "    </tr>\n",
       "  </tbody>\n",
       "</table>\n",
       "</div>"
      ],
      "text/plain": [
       "  platform  year  total_sales\n",
       "0      PS4  2015       118.90\n",
       "1      PS3  2013       113.25\n",
       "2      PS3  2012       107.36\n",
       "3      PS4  2014       100.00\n",
       "4     X360  2012        99.74"
      ]
     },
     "metadata": {},
     "output_type": "display_data"
    },
    {
     "data": {
      "text/plain": [
       "<AxesSubplot:xlabel='platform', ylabel='total_sales'>"
      ]
     },
     "execution_count": 141,
     "metadata": {},
     "output_type": "execute_result"
    },
    {
     "data": {
      "image/png": "[encoded data removed]",
      "text/plain": [
       "<Figure size 864x720 with 1 Axes>"
      ]
     },
     "metadata": {
      "needs_background": "light"
     },
     "output_type": "display_data"
    }
   ],
   "source": [
    "global_sales = games.pivot_table(index = ['platform', 'year'], values = 'total_sales',\n",
    "                                 aggfunc = 'sum').sort_values(by = 'total_sales', ascending = False).reset_index()\n",
    "display(global_sales.head())\n",
    "\n",
    "\n",
    "plt.figure(figsize = (12, 10))\n",
    "sns.boxplot(x = 'platform', y = 'total_sales', data = global_sales)"
   ]
  },
  {
   "cell_type": "markdown",
   "metadata": {},
   "source": [
    "Games sold on, PS4, XOne, PS3, 3DS, and X360 are  more profitable than games sold on other platforms. The average sales of the PS3 are much higher than the rest. \n",
    "WiiU, PC, PSV,Wii and PSP have the lowest average global sales."
   ]
  },
  {
   "cell_type": "markdown",
   "metadata": {},
   "source": [
    "<div class=\"alert alert-block alert-success\">\n",
    "<b>Reviewer's comment</b> <a class=\"tocSkip\"></a>\n",
    "\n",
    "Good plot and interpretations)"
   ]
  },
  {
   "cell_type": "markdown",
   "metadata": {},
   "source": [
    "Take a look at how user and professional reviews affect sales for one popular platform (X360)"
   ]
  },
  {
   "cell_type": "code",
   "execution_count": 142,
   "metadata": {},
   "outputs": [
    {
     "name": "stdout",
     "output_type": "stream",
     "text": [
      "Correlation between user score and total sales:  0.1\n",
      "Correlation between critic score and total sales:  0.25\n"
     ]
    },
    {
     "data": {
      "image/png": "[encoded data removed]",
      "text/plain": [
       "<Figure size 432x288 with 1 Axes>"
      ]
     },
     "metadata": {
      "needs_background": "light"
     },
     "output_type": "display_data"
    },
    {
     "data": {
      "image/png": "[encoded data removed]",
      "text/plain": [
       "<Figure size 432x288 with 1 Axes>"
      ]
     },
     "metadata": {
      "needs_background": "light"
     },
     "output_type": "display_data"
    }
   ],
   "source": [
    "PS3_games = games[games['platform'] == 'X360']\n",
    "\n",
    "\n",
    "PS3_sales_user = PS3_games.pivot_table(index = 'user_score', values = 'total_sales',\n",
    "                                  aggfunc = 'sum').reset_index().sort_values(by = 'user_score', ascending = False)\n",
    "PS3_sales_user.head()\n",
    "\n",
    "\n",
    "PS3_sales_user.plot(kind = 'scatter', x = 'user_score', y = 'total_sales', figsize = (6,4))\n",
    "plt.title('Total Sales per User Score')\n",
    "\n",
    "\n",
    "PS3_sales_critic = PS3_games.pivot_table(index = 'critic_score', values = 'total_sales',\n",
    "                                  aggfunc = 'sum').reset_index().sort_values(by = 'critic_score', ascending = False)\n",
    "PS3_sales_critic.head()\n",
    "\n",
    "\n",
    "PS3_sales_critic.plot(kind = 'scatter', x = 'critic_score', y = 'total_sales', figsize = (6,4))\n",
    "plt.title('Total Sales per Critic Score')\n",
    "\n",
    "\n",
    "corr_user = games['user_score'].corr(games['total_sales'])\n",
    "print('Correlation between user score and total sales: ', corr_user.round(2))\n",
    "corr_critic = games['critic_score'].corr(games['total_sales'])\n",
    "print('Correlation between critic score and total sales: ', corr_critic.round(2))"
   ]
  },
  {
   "cell_type": "markdown",
   "metadata": {},
   "source": [
    "All plots illustrate that generally, better reviews achieve better sales - they all have a slight curve up to the right, spanning all across scores (i.e from 0 to 100). in Addition, the scores seems to hit a wall around 85-90 score. That might be becuase people rarely rate something as 10. Mostly, 9 is considered an upper bound for this type of scores.\n",
    "\n",
    "However, besides the slight curve up to the right, the data doesn't look too correlated"
   ]
  },
  {
   "cell_type": "markdown",
   "metadata": {},
   "source": [
    "<div class=\"alert alert-block alert-warning\">\n",
    "<b>Reviewer's comment</b> <a class=\"tocSkip\"></a>\n",
    "\n",
    "Your code is correct, but I'm sure some of your results will change after changing the missing data part."
   ]
  },
  {
   "cell_type": "markdown",
   "metadata": {},
   "source": [
    "<div class=\"alert alert-block alert-warning\">\n",
    "<b>Reviewer's comment v.1.</b> <a class=\"tocSkip\"></a>\n",
    "\n",
    "Well, I'd say that both correlations are weak, and that's all. However, I'm still sure they may change a little bit."
   ]
  },
  {
   "cell_type": "markdown",
   "metadata": {},
   "source": [
    "compare the sales of the same games on other platforms."
   ]
  },
  {
   "cell_type": "code",
   "execution_count": 143,
   "metadata": {},
   "outputs": [
    {
     "name": "stdout",
     "output_type": "stream",
     "text": [
      "Correlation between user score and total sales for (X360, PS2, PS4, Wii):  0.26\n",
      "Correlation between critic score and total sales for (X360, PS2, PS4, Wii)::  -0.14\n"
     ]
    },
    {
     "data": {
      "image/png": "[encoded data removed]",
      "text/plain": [
       "<Figure size 720x576 with 1 Axes>"
      ]
     },
     "metadata": {
      "needs_background": "light"
     },
     "output_type": "display_data"
    },
    {
     "data": {
      "image/png": "[encoded data removed]",
      "text/plain": [
       "<Figure size 720x576 with 1 Axes>"
      ]
     },
     "metadata": {
      "needs_background": "light"
     },
     "output_type": "display_data"
    }
   ],
   "source": [
    "PS3games = PS3_games['name'].unique().tolist()\n",
    "\n",
    "other_platforms = games.query('platform in (\"X360\", \"PS2\", \"PS4\", \"Wii\") and name in @PS3games')\n",
    "other_platforms.head(50)\n",
    "\n",
    "other_platforms_user = other_platforms.groupby(['platform', 'user_score'])['total_sales'].sum().reset_index()\n",
    "fig, axes = plt.subplots(figsize = (10,8))\n",
    "platforms = ['X360', 'PS2', 'PS4', 'Wii']\n",
    "colors = ['red', 'purple', 'blue', 'green']\n",
    "i = 0\n",
    "for platform in platforms:\n",
    "    user = other_platforms_user[other_platforms_user['platform'] == platform]\n",
    "    axes.scatter(user['user_score'], user['total_sales'], c = colors[i], label = platform)\n",
    "    i += 1\n",
    "\n",
    "axes.legend(loc = 'upper left')\n",
    "axes.set_title('Total Sales per User Score (X360, PS2, PS4, Wii)')\n",
    "axes.set_xlabel('User Score')\n",
    "axes.set_ylabel('Total Sales')\n",
    "\n",
    "\n",
    "other_platforms_critic = other_platforms.groupby(['platform', 'critic_score'])['total_sales'].sum().reset_index()\n",
    "fig, axes = plt.subplots(figsize = (10,8))\n",
    "platforms = ['X360', 'PS2', 'PS4', 'Wii']\n",
    "colors = ['red', 'purple', 'blue', 'green']\n",
    "i = 0\n",
    "for platform in platforms:\n",
    "    critic = other_platforms_critic[other_platforms_critic['platform'] == platform]\n",
    "    axes.scatter(critic['critic_score'], critic['total_sales'], c = colors[i], label = platform)\n",
    "    i += 1\n",
    "    \n",
    "axes.legend(loc = 'upper left')\n",
    "axes.set_title('Total Sales per Critic Score (X360, PS2, PS4, Wii)')\n",
    "axes.set_xlabel('Critic Score')\n",
    "axes.set_ylabel('Total Sales')\n",
    "\n",
    "\n",
    "corr_user_other = other_platforms_user['user_score'].corr(other_platforms_user['total_sales'])\n",
    "print('Correlation between user score and total sales for (X360, PS2, PS4, Wii): ', corr_user_other.round(2))\n",
    "corr_critic_other = other_platforms_critic['critic_score'].corr(other_platforms_critic['total_sales'])\n",
    "print('Correlation between critic score and total sales for (X360, PS2, PS4, Wii):: ', corr_critic_other.round(2))"
   ]
  },
  {
   "cell_type": "markdown",
   "metadata": {},
   "source": [
    "The correlation value between critic scores and total sales still don't reflect the success of a game"
   ]
  },
  {
   "cell_type": "markdown",
   "metadata": {},
   "source": [
    "<div class=\"alert alert-block alert-warning\">\n",
    "<b>Reviewer's comment</b> <a class=\"tocSkip\"></a>\n",
    "\n",
    "The same issue here"
   ]
  },
  {
   "cell_type": "markdown",
   "metadata": {},
   "source": [
    "the general distribution of games by genre"
   ]
  },
  {
   "cell_type": "code",
   "execution_count": 144,
   "metadata": {},
   "outputs": [
    {
     "data": {
      "text/plain": [
       "Text(0.5, 1.0, 'Total Sales by Genre')"
      ]
     },
     "execution_count": 144,
     "metadata": {},
     "output_type": "execute_result"
    },
    {
     "data": {
      "image/png": "[encoded data removed]",
      "text/plain": [
       "<Figure size 576x432 with 1 Axes>"
      ]
     },
     "metadata": {
      "needs_background": "light"
     },
     "output_type": "display_data"
    },
    {
     "data": {
      "image/png": "[encoded data removed]",
      "text/plain": [
       "<Figure size 576x432 with 1 Axes>"
      ]
     },
     "metadata": {
      "needs_background": "light"
     },
     "output_type": "display_data"
    }
   ],
   "source": [
    "games_per_genre = games.groupby('genre')['name'].count().reset_index().sort_values(by = 'name', ascending = False)\n",
    "games_per_genre.columns = ['genre', 'total_games']\n",
    "games_per_genre.head()\n",
    "\n",
    "games_per_genre.plot(kind = 'bar', x = 'genre', y = 'total_games', figsize = (8, 6))\n",
    "plt.xlabel('Genre')\n",
    "plt.ylabel('Number of Games')\n",
    "plt.title('Total Games by Genre')\n",
    "\n",
    "genre_sales = games.groupby('genre')['total_sales'].sum().reset_index().sort_values(by = 'total_sales', ascending = False)\n",
    "genre_sales.head()\n",
    "\n",
    "genre_sales.plot(kind = 'bar', x = 'genre', y = 'total_sales', figsize = (8, 6))\n",
    "plt.xlabel('Genre')\n",
    "plt.ylabel('Total Sales')\n",
    "plt.title('Total Sales by Genre')"
   ]
  },
  {
   "cell_type": "markdown",
   "metadata": {},
   "source": [
    "The most popular genre, action, is also the most profitable. The most popular genres per game are action, role-playing, adventure and sports. The most profitable genres are action, shooter, role-playing and sports. The least popular genres (puzzle and strategy) are the least profitable."
   ]
  },
  {
   "cell_type": "markdown",
   "metadata": {},
   "source": [
    "<div class=\"alert alert-block alert-success\">\n",
    "<b>Reviewer's comment</b> <a class=\"tocSkip\"></a>\n",
    "\n",
    "This part is correct)"
   ]
  },
  {
   "cell_type": "markdown",
   "metadata": {},
   "source": [
    "# Create a user profile for each region"
   ]
  },
  {
   "cell_type": "markdown",
   "metadata": {},
   "source": [
    "The Top Five Platforms for Each Region (NA, EU, JP)"
   ]
  },
  {
   "cell_type": "code",
   "execution_count": 145,
   "metadata": {
    "scrolled": false
   },
   "outputs": [
    {
     "data": {
      "text/plain": [
       "Text(0.5, 1.0, 'Japan (JP) Sales per Platform')"
      ]
     },
     "execution_count": 145,
     "metadata": {},
     "output_type": "execute_result"
    },
    {
     "data": {
      "image/png": "[encoded data removed]",
      "text/plain": [
       "<Figure size 360x216 with 1 Axes>"
      ]
     },
     "metadata": {
      "needs_background": "light"
     },
     "output_type": "display_data"
    },
    {
     "data": {
      "image/png": "[encoded data removed]",
      "text/plain": [
       "<Figure size 360x216 with 1 Axes>"
      ]
     },
     "metadata": {
      "needs_background": "light"
     },
     "output_type": "display_data"
    },
    {
     "data": {
      "image/png": "[encoded data removed]",
      "text/plain": [
       "<Figure size 360x216 with 1 Axes>"
      ]
     },
     "metadata": {
      "needs_background": "light"
     },
     "output_type": "display_data"
    }
   ],
   "source": [
    "na_platforms = games.pivot_table(index = 'platform', values = 'na_sales',\n",
    "                                 aggfunc = 'sum').sort_values(by = 'na_sales', ascending = False).reset_index().head()\n",
    "na_platforms.head()\n",
    "\n",
    "na_platforms.plot(kind = 'bar', x = 'platform', y = 'na_sales', figsize = (5,3))\n",
    "plt.ylabel('NA Sales')\n",
    "plt.xlabel('Platforms')\n",
    "plt.title('North America (NA) Sales per Platform')\n",
    "\n",
    "\n",
    "eu_platforms = games.pivot_table(index = 'platform', values = 'eu_sales',\n",
    "                                 aggfunc = 'sum').sort_values(by = 'eu_sales', ascending = False).reset_index().head()\n",
    "eu_platforms.head()\n",
    "\n",
    "eu_platforms.plot(kind = 'bar', x = 'platform', y = 'eu_sales', figsize = (5,3))\n",
    "plt.ylabel('EU Sales')\n",
    "plt.xlabel('Platforms')\n",
    "plt.title('Europe (EU) Sales per Platform')\n",
    "\n",
    "jp_platforms = games.pivot_table(index = 'platform', values = 'jp_sales',\n",
    "                                 aggfunc = 'sum').sort_values(by = 'jp_sales', ascending = False).reset_index().head()\n",
    "jp_platforms.head()\n",
    "\n",
    "jp_platforms.plot(kind = 'bar', x = 'platform', y = 'jp_sales', figsize = (5,3))\n",
    "plt.ylabel('JP Sales')\n",
    "plt.xlabel('Platforms')\n",
    "plt.title('Japan (JP) Sales per Platform')"
   ]
  },
  {
   "cell_type": "markdown",
   "metadata": {},
   "source": [
    "The most popular platforms for (NA) are PS4, PS3, 3DS, X360, and XOne. (NA) most profitable platform is X360.(EU) most popular platforms are PS3, X360, PS4, 3DS, and PC. (EU) selling platform is the PS3. The top most profitable platforms are the same in North America and Europe. The most popular platforms in Japan (JP) are 3DS, PS3, PSV, PSP, and WiiU. Based on the top platforms, (JP) selling platform is the 3DS."
   ]
  },
  {
   "cell_type": "markdown",
   "metadata": {},
   "source": [
    "<div class=\"alert alert-block alert-warning\">\n",
    "<b>Reviewer's comment</b> <a class=\"tocSkip\"></a>\n",
    "\n",
    "Everything is correct here)\n",
    "\n",
    "It's also possible to use pie-charts in such cases.\n",
    "\n",
    "And a comment for your improvement: you've used the same code for three plots, so you may use a function of a loop instead of repeating your code.\n",
    "    \n",
    "    "
   ]
  },
  {
   "cell_type": "markdown",
   "metadata": {},
   "source": [
    "The top five genres."
   ]
  },
  {
   "cell_type": "code",
   "execution_count": 146,
   "metadata": {
    "scrolled": true
   },
   "outputs": [
    {
     "data": {
      "text/plain": [
       "Text(0.5, 1.0, 'Japan (JP) Sales per Genre')"
      ]
     },
     "execution_count": 146,
     "metadata": {},
     "output_type": "execute_result"
    },
    {
     "data": {
      "image/png": "[encoded data removed]",
      "text/plain": [
       "<Figure size 360x216 with 1 Axes>"
      ]
     },
     "metadata": {
      "needs_background": "light"
     },
     "output_type": "display_data"
    },
    {
     "data": {
      "image/png": "[encoded data removed]",
      "text/plain": [
       "<Figure size 360x216 with 1 Axes>"
      ]
     },
     "metadata": {
      "needs_background": "light"
     },
     "output_type": "display_data"
    },
    {
     "data": {
      "image/png": "[encoded data removed]",
      "text/plain": [
       "<Figure size 360x216 with 1 Axes>"
      ]
     },
     "metadata": {
      "needs_background": "light"
     },
     "output_type": "display_data"
    }
   ],
   "source": [
    "na_genre = games.pivot_table(index = 'genre', values = 'na_sales',\n",
    "                                 aggfunc = 'sum').sort_values(by = 'na_sales', ascending = False).reset_index().head()\n",
    "na_genre.head()\n",
    "\n",
    "na_genre.plot(kind = 'bar', x = 'genre', y = 'na_sales', figsize = (5,3), rot = 1)\n",
    "plt.ylabel('NA Sales')\n",
    "plt.xlabel('Genre')\n",
    "plt.title('North America (NA) Sales per Genre')\n",
    "\n",
    "\n",
    "eu_genre = games.pivot_table(index = 'genre', values = 'eu_sales',\n",
    "                                 aggfunc = 'sum').sort_values(by = 'eu_sales', ascending = False).reset_index().head()\n",
    "eu_genre.head()\n",
    "\n",
    "eu_genre.plot(kind = 'bar', x = 'genre', y = 'eu_sales', figsize = (5,3), rot = 1)\n",
    "plt.ylabel('EU Sales')\n",
    "plt.xlabel('Genre')\n",
    "plt.title('Europe (EU) Sales per Genre')\n",
    "\n",
    "jp_genre = games.pivot_table(index = 'genre', values = 'jp_sales',\n",
    "                                 aggfunc = 'sum').sort_values(by = 'jp_sales', ascending = False).reset_index().head()\n",
    "jp_genre.head()\n",
    "\n",
    "jp_genre.plot(kind = 'bar', x = 'genre', y = 'jp_sales', figsize = (5,3), rot = 1)\n",
    "plt.ylabel('JP Sales')\n",
    "plt.xlabel('Genre')\n",
    "plt.title('Japan (JP) Sales per Genre')"
   ]
  },
  {
   "cell_type": "markdown",
   "metadata": {},
   "source": [
    "The top five genres in (NA) are shooter, action, sports,role-playing, and Misc.(EU) top 5 genres are action, shooter, sports, role_playing, and Misc. North America's and Europe's are the same in top 5. Japan differs from the other two regions, with the top five genres being role-playing, action,fighting, misc, and Sports."
   ]
  },
  {
   "cell_type": "markdown",
   "metadata": {},
   "source": [
    "ESRB ratings affect"
   ]
  },
  {
   "cell_type": "markdown",
   "metadata": {},
   "source": [
    "<div class=\"alert alert-block alert-warning\">\n",
    "<b>Reviewer's comment</b> <a class=\"tocSkip\"></a>\n",
    "\n",
    "And the same issue with function/loop here)"
   ]
  },
  {
   "cell_type": "markdown",
   "metadata": {},
   "source": [
    "Games that have an ESRB rating of M are most popular in North American (NA) and Europe (EU). Japan's most profitable games have a rating of T."
   ]
  },
  {
   "cell_type": "markdown",
   "metadata": {},
   "source": [
    "<div class=\"alert alert-block alert-success\">\n",
    "<b>Reviewer's comment</b> <a class=\"tocSkip\"></a>\n",
    "\n",
    "Your conclusions are correct)"
   ]
  },
  {
   "cell_type": "markdown",
   "metadata": {},
   "source": [
    "# Test Hypotheses"
   ]
  },
  {
   "cell_type": "markdown",
   "metadata": {},
   "source": [
    "Hypothesis 1: average user ratings of the Xbox One and PC platforms, the same as."
   ]
  },
  {
   "cell_type": "markdown",
   "metadata": {},
   "source": [
    "The null hypothesis-H0: the average user rating of xbox one games is similar to the average user rating of pc games.\n",
    "The alternative hypothesis-H1,the average user rating of xbox one games differ from the average user rating of pc games."
   ]
  },
  {
   "cell_type": "code",
   "execution_count": 147,
   "metadata": {},
   "outputs": [
    {
     "name": "stdout",
     "output_type": "stream",
     "text": [
      "The average user ratings of Xbox One games are: 6.09\n",
      "The average user ratings of PC games are: 6.26\n",
      "p-value:  0.41682458738249695\n",
      "We can't reject the null hypothesis\n"
     ]
    }
   ],
   "source": [
    "xbox_games = games.query('platform == \"XOne\"')\n",
    "\n",
    "xbox_games = xbox_games[xbox_games['user_score'].notna()]\n",
    "xbox_games.head()\n",
    "\n",
    "ratings_xbox = xbox_games['user_score'].mean().round(2)\n",
    "print('The average user ratings of Xbox One games are:', ratings_xbox)\n",
    "\n",
    "pc_games = games.query('platform == \"PC\"')\n",
    "\n",
    "pc_games = pc_games[pc_games['user_score'].notna()]\n",
    "pc_games.head()\n",
    "\n",
    "ratings_pc = pc_games['user_score'].mean().round(2)\n",
    "print('The average user ratings of PC games are:', ratings_pc)\n",
    "\n",
    "alpha = 0.05\n",
    "results = st.ttest_ind(pc_games['user_score'], xbox_games['user_score'], equal_var = False)\n",
    "print('p-value: ', results.pvalue)\n",
    "\n",
    "if results.pvalue < alpha:\n",
    "    print('We reject the null hypothesis')\n",
    "else:\n",
    "    print(\"We can't reject the null hypothesis\")"
   ]
  },
  {
   "cell_type": "markdown",
   "metadata": {},
   "source": [
    "The value obtained from the t-test suggests that we can not reject the null hypothesis. Average user rating of xbox one games are similar to the average user rating of pc games."
   ]
  },
  {
   "cell_type": "markdown",
   "metadata": {},
   "source": [
    "Hypothesis 2:average user ratings for the action and sports genres are different"
   ]
  },
  {
   "cell_type": "markdown",
   "metadata": {},
   "source": [
    "The null hypothesis-H0:the average user rating of action games is similiar to the average user rating of sports games.\n",
    "The alternative hypothesis-H1:the average user rating of action games differs from the average user rating of sports games."
   ]
  },
  {
   "cell_type": "code",
   "execution_count": 148,
   "metadata": {},
   "outputs": [
    {
     "name": "stdout",
     "output_type": "stream",
     "text": [
      "The average user ratings of action games are: 6.17\n",
      "The average user ratings of sports games are: 4.88\n",
      "p-value:  3.289823789645974e-10\n",
      "We reject the null hypothesis\n"
     ]
    }
   ],
   "source": [
    "action_games = games.query('genre == \"Action\"')\n",
    "\n",
    "action_games = action_games[action_games['user_score'].notna()]\n",
    "action_games.head()\n",
    "\n",
    "ratings_action = action_games['user_score'].mean().round(2)\n",
    "print('The average user ratings of action games are:', ratings_action)\n",
    "\n",
    "sports_games = games.query('genre == \"Sports\"')\n",
    "\n",
    "sports_games = sports_games[sports_games['user_score'].notna()]\n",
    "sports_games.head()\n",
    "\n",
    "ratings_sports = sports_games['user_score'].mean().round(2)\n",
    "print('The average user ratings of sports games are:', ratings_sports)\n",
    "\n",
    "alpha = 0.05\n",
    "results = st.ttest_ind(sports_games['user_score'], action_games['user_score'], equal_var = False)\n",
    "print('p-value: ', results.pvalue)\n",
    "\n",
    "if results.pvalue < alpha:\n",
    "    print('We reject the null hypothesis')\n",
    "else:\n",
    "    print(\"We can't reject the null hypothesis\")"
   ]
  },
  {
   "cell_type": "markdown",
   "metadata": {},
   "source": [
    "The p-value found verifys that we can reject the null hypothesis. The average user rating of action games differs from the average user rating of sports games."
   ]
  },
  {
   "cell_type": "markdown",
   "metadata": {},
   "source": [
    "<div class=\"alert alert-block alert-success\">\n",
    "<b>Reviewer's comment</b> <a class=\"tocSkip\"></a>\n",
    "\n",
    "Correct usage of tests)\n",
    "\n",
    "And I really like that you've formulated both hypothesises)"
   ]
  },
  {
   "cell_type": "markdown",
   "metadata": {},
   "source": [
    "<div class=\"alert alert-block alert-success\">\n",
    "<b>Reviewer's comment v.1.</b> <a class=\"tocSkip\"></a>\n",
    "\n",
    "I can't really see the previous hypothesises part, but as you said you changed them, now they are correct)"
   ]
  },
  {
   "cell_type": "markdown",
   "metadata": {},
   "source": [
    "# General Conclusion"
   ]
  },
  {
   "cell_type": "markdown",
   "metadata": {},
   "source": [
    "I didn't fill in all missing values. The rows that still have missing values are 'critic_score', 'user_score', and 'rating'. There was no logical way to fill in the values. Maybe the values are missing because of human error.\n",
    "\n",
    "Games between 2012-2016 are most relevant since a game stays relevant for two to three years after it is released.\n",
    "\n",
    "The highest profiting platforms are PS3, UWii, 3DS, and X360. Some platforms that are growing are the PS4 and Xbox One. The platforms that are shrinking are PS4, XOne, and Wii. The platforms growing are PS4 and XOne. Games sold on platforms such as PS4, PS3, X360, XOne, and 3DS are significantly more profitable than other systems. Reviews by users and critics don't reflect the success of a game. The most popular and profitable games are action games that have an ESRB rating of M & T.\n",
    "\n",
    "Based on the data a game that will earn the most profit is an action game with an ESRB rating of M (in NA & EU), and ESRB in JP,  on the PS3 with high rating from both users and critics."
   ]
  },
  {
   "cell_type": "markdown",
   "metadata": {},
   "source": [
    "<div class=\"alert alert-block alert-success\">\n",
    "<b>Reviewer's comment</b> <a class=\"tocSkip\"></a>\n",
    "\n",
    "Completely agree with your conclusions!"
   ]
  },
  {
   "cell_type": "markdown",
   "metadata": {},
   "source": [
    "<b>Overall reviewer's comment</b> <a class=\"tocSkip\"></a>\n",
    "\n",
    "    \n",
    "Thank you for sending your project. Your project is really good!\n",
    "\n",
    "I especially liked your usage of functions from pandas (like groupby, pivot_table etc)! Your code is pretty clear and easy to undestand! \n",
    "\n",
    "And your conclusions are also really good)\n",
    "\n",
    "<span class=\"text-danger\">\n",
    "    \n",
    "However, I cann't accept it this time. \n",
    "\n",
    "Please, pay attention to filling nan part. After that, please, don't forget to check correlations.\n",
    "\n",
    "\n",
    "<span class=\"text-success\"> \n",
    "    \n",
    "    \n",
    "Good luck! One more time and you'll get it!\n",
    "    \n",
    "\n",
    "🍀\n",
    "</div>"
   ]
  },
  {
   "cell_type": "markdown",
   "metadata": {},
   "source": [
    "<b>Overall reviewer's comment v.1.</b> <a class=\"tocSkip\"></a>\n",
    "\n",
    "Hello!\n",
    "\n",
    "Thanks for your answers and corrections)\n",
    "\n",
    "You've improved your code significantly! \n",
    "\n",
    "I left you some new comments by v.1. - please, look through them.\n",
    "\n",
    "However, we still have a problem with filling nan in scores columns. Hope I managed to explain this issue in comments above)\n",
    "\n",
    "Good luck!"
   ]
  },
  {
   "cell_type": "code",
   "execution_count": null,
   "metadata": {},
   "outputs": [],
   "source": []
  }
 ],
 "metadata": {
  "ExecuteTimeLog": [
   {
    "duration": 80,
    "start_time": "2022-09-06T06:28:07.842Z"
   },
   {
    "duration": 1368,
    "start_time": "2022-09-06T06:28:11.453Z"
   },
   {
    "duration": 151,
    "start_time": "2022-09-06T06:28:14.122Z"
   },
   {
    "duration": 48,
    "start_time": "2022-09-08T05:59:08.066Z"
   },
   {
    "duration": 1358,
    "start_time": "2022-09-08T05:59:16.465Z"
   },
   {
    "duration": 221,
    "start_time": "2022-09-08T05:59:17.839Z"
   },
   {
    "duration": 4,
    "start_time": "2022-09-08T05:59:42.361Z"
   },
   {
    "duration": 18,
    "start_time": "2022-09-08T05:59:52.464Z"
   },
   {
    "duration": 25,
    "start_time": "2022-09-08T06:00:29.225Z"
   },
   {
    "duration": 67,
    "start_time": "2022-09-08T06:02:31.155Z"
   },
   {
    "duration": 12,
    "start_time": "2022-09-08T06:02:47.733Z"
   },
   {
    "duration": 4,
    "start_time": "2022-09-08T06:03:01.057Z"
   },
   {
    "duration": 22,
    "start_time": "2022-09-08T06:06:45.133Z"
   },
   {
    "duration": 15,
    "start_time": "2022-09-08T06:07:18.677Z"
   },
   {
    "duration": 15,
    "start_time": "2022-09-08T06:07:39.336Z"
   },
   {
    "duration": 16,
    "start_time": "2022-09-08T06:13:54.092Z"
   },
   {
    "duration": 17,
    "start_time": "2022-09-08T06:14:00.956Z"
   },
   {
    "duration": 16,
    "start_time": "2022-09-08T06:14:22.358Z"
   },
   {
    "duration": 6599,
    "start_time": "2022-09-08T06:15:08.260Z"
   },
   {
    "duration": 9,
    "start_time": "2022-09-08T06:18:43.819Z"
   },
   {
    "duration": 6588,
    "start_time": "2022-09-08T06:18:58.206Z"
   },
   {
    "duration": 10,
    "start_time": "2022-09-08T06:19:04.797Z"
   },
   {
    "duration": 10,
    "start_time": "2022-09-08T06:19:10.115Z"
   },
   {
    "duration": 16,
    "start_time": "2022-09-08T06:22:41.767Z"
   },
   {
    "duration": 8,
    "start_time": "2022-09-08T06:22:53.247Z"
   },
   {
    "duration": 16,
    "start_time": "2022-09-08T06:31:10.004Z"
   },
   {
    "duration": 13,
    "start_time": "2022-09-08T06:32:02.063Z"
   },
   {
    "duration": 17,
    "start_time": "2022-09-08T06:38:40.986Z"
   },
   {
    "duration": 9,
    "start_time": "2022-09-08T06:53:17.779Z"
   },
   {
    "duration": 6242,
    "start_time": "2022-09-08T06:53:26.864Z"
   },
   {
    "duration": 18,
    "start_time": "2022-09-08T06:54:47.978Z"
   },
   {
    "duration": 16,
    "start_time": "2022-09-08T06:55:40.468Z"
   },
   {
    "duration": 11,
    "start_time": "2022-09-08T06:56:49.667Z"
   },
   {
    "duration": 80,
    "start_time": "2022-09-08T06:58:22.568Z"
   },
   {
    "duration": 4,
    "start_time": "2022-09-08T07:00:48.611Z"
   },
   {
    "duration": 19,
    "start_time": "2022-09-08T07:01:10.671Z"
   },
   {
    "duration": 320,
    "start_time": "2022-09-08T07:01:30.332Z"
   },
   {
    "duration": 17,
    "start_time": "2022-09-08T07:03:34.440Z"
   },
   {
    "duration": 210,
    "start_time": "2022-09-08T07:12:03.205Z"
   },
   {
    "duration": 16,
    "start_time": "2022-09-08T07:13:50.735Z"
   },
   {
    "duration": 14,
    "start_time": "2022-09-08T07:13:55.754Z"
   },
   {
    "duration": 405,
    "start_time": "2022-09-08T07:16:03.600Z"
   },
   {
    "duration": 277,
    "start_time": "2022-09-08T07:17:17.376Z"
   },
   {
    "duration": 309,
    "start_time": "2022-09-08T07:24:05.478Z"
   },
   {
    "duration": 574,
    "start_time": "2022-09-08T07:28:31.657Z"
   },
   {
    "duration": 51,
    "start_time": "2022-09-08T20:27:55.372Z"
   },
   {
    "duration": 12,
    "start_time": "2022-09-08T20:28:15.735Z"
   },
   {
    "duration": 1382,
    "start_time": "2022-09-08T20:28:22.753Z"
   },
   {
    "duration": 488,
    "start_time": "2022-09-08T20:28:24.138Z"
   },
   {
    "duration": 20,
    "start_time": "2022-09-08T20:28:25.745Z"
   },
   {
    "duration": 5,
    "start_time": "2022-09-08T20:28:28.663Z"
   },
   {
    "duration": 18,
    "start_time": "2022-09-08T20:28:30.121Z"
   },
   {
    "duration": 8,
    "start_time": "2022-09-08T20:28:32.254Z"
   },
   {
    "duration": 6831,
    "start_time": "2022-09-08T20:28:34.469Z"
   },
   {
    "duration": 16,
    "start_time": "2022-09-08T20:28:41.303Z"
   },
   {
    "duration": 15,
    "start_time": "2022-09-08T20:28:41.321Z"
   },
   {
    "duration": 12,
    "start_time": "2022-09-08T20:28:43.298Z"
   },
   {
    "duration": 4,
    "start_time": "2022-09-08T20:28:45.872Z"
   },
   {
    "duration": 23,
    "start_time": "2022-09-08T20:28:48.254Z"
   },
   {
    "duration": 324,
    "start_time": "2022-09-08T20:28:49.551Z"
   },
   {
    "duration": 24,
    "start_time": "2022-09-08T20:28:52.004Z"
   },
   {
    "duration": 206,
    "start_time": "2022-09-08T20:28:54.498Z"
   },
   {
    "duration": 396,
    "start_time": "2022-09-08T20:28:57.008Z"
   },
   {
    "duration": 300,
    "start_time": "2022-09-08T20:28:59.196Z"
   },
   {
    "duration": 376,
    "start_time": "2022-09-08T20:29:01.579Z"
   },
   {
    "duration": 513,
    "start_time": "2022-09-08T20:29:04.319Z"
   },
   {
    "duration": 432,
    "start_time": "2022-09-08T20:29:07.195Z"
   },
   {
    "duration": 428,
    "start_time": "2022-09-08T20:31:52.055Z"
   },
   {
    "duration": 541,
    "start_time": "2022-09-08T20:33:45.576Z"
   },
   {
    "duration": 416,
    "start_time": "2022-09-08T20:36:23.579Z"
   },
   {
    "duration": 14,
    "start_time": "2022-09-08T20:41:49.591Z"
   },
   {
    "duration": 17,
    "start_time": "2022-09-08T20:44:54.953Z"
   },
   {
    "duration": 46,
    "start_time": "2022-09-09T08:46:21.627Z"
   },
   {
    "duration": 1401,
    "start_time": "2022-09-09T08:46:31.597Z"
   },
   {
    "duration": 233,
    "start_time": "2022-09-09T08:46:33.491Z"
   },
   {
    "duration": 70,
    "start_time": "2022-09-09T09:22:52.592Z"
   },
   {
    "duration": 11,
    "start_time": "2022-09-09T09:23:31.363Z"
   },
   {
    "duration": 3,
    "start_time": "2022-09-09T09:23:37.288Z"
   },
   {
    "duration": 85,
    "start_time": "2022-09-09T09:23:38.185Z"
   },
   {
    "duration": 17,
    "start_time": "2022-09-09T09:23:43.003Z"
   },
   {
    "duration": 4,
    "start_time": "2022-09-09T09:23:45.901Z"
   },
   {
    "duration": 85,
    "start_time": "2022-09-09T09:23:46.626Z"
   },
   {
    "duration": 16,
    "start_time": "2022-09-09T09:23:47.854Z"
   },
   {
    "duration": 23,
    "start_time": "2022-09-09T09:24:01.559Z"
   },
   {
    "duration": 11,
    "start_time": "2022-09-09T09:24:06.555Z"
   },
   {
    "duration": 6751,
    "start_time": "2022-09-09T09:24:13.981Z"
   },
   {
    "duration": 32,
    "start_time": "2022-09-09T09:24:20.735Z"
   },
   {
    "duration": 17,
    "start_time": "2022-09-09T09:24:38.024Z"
   },
   {
    "duration": 25,
    "start_time": "2022-09-09T09:25:04.276Z"
   },
   {
    "duration": 50,
    "start_time": "2022-09-11T08:16:09.036Z"
   },
   {
    "duration": 6,
    "start_time": "2022-09-11T08:16:15.025Z"
   },
   {
    "duration": 1147,
    "start_time": "2022-09-11T08:17:40.220Z"
   },
   {
    "duration": 89,
    "start_time": "2022-09-11T08:17:41.369Z"
   },
   {
    "duration": 15,
    "start_time": "2022-09-11T08:17:46.797Z"
   },
   {
    "duration": 4,
    "start_time": "2022-09-11T08:17:50.073Z"
   },
   {
    "duration": 17,
    "start_time": "2022-09-11T08:17:51.910Z"
   },
   {
    "duration": 9,
    "start_time": "2022-09-11T08:17:55.423Z"
   },
   {
    "duration": 8,
    "start_time": "2022-09-11T08:17:59.642Z"
   },
   {
    "duration": 92,
    "start_time": "2022-09-11T08:18:09.623Z"
   },
   {
    "duration": 6452,
    "start_time": "2022-09-11T08:19:48.525Z"
   },
   {
    "duration": 15,
    "start_time": "2022-09-11T08:20:03.984Z"
   },
   {
    "duration": 28,
    "start_time": "2022-09-11T08:21:17.813Z"
   },
   {
    "duration": 13,
    "start_time": "2022-09-11T08:21:24.026Z"
   },
   {
    "duration": 3133,
    "start_time": "2022-09-11T08:22:06.891Z"
   },
   {
    "duration": 27,
    "start_time": "2022-09-11T08:23:04.016Z"
   },
   {
    "duration": 3318,
    "start_time": "2022-09-11T08:26:03.170Z"
   },
   {
    "duration": 55,
    "start_time": "2022-09-11T15:08:17.831Z"
   },
   {
    "duration": 1237,
    "start_time": "2022-09-11T15:08:35.963Z"
   },
   {
    "duration": 136,
    "start_time": "2022-09-11T15:08:37.202Z"
   },
   {
    "duration": 13,
    "start_time": "2022-09-11T15:08:43.374Z"
   },
   {
    "duration": 5,
    "start_time": "2022-09-11T15:08:46.541Z"
   },
   {
    "duration": 14,
    "start_time": "2022-09-11T15:08:50.134Z"
   },
   {
    "duration": 9,
    "start_time": "2022-09-11T15:08:55.292Z"
   },
   {
    "duration": 28,
    "start_time": "2022-09-11T15:09:00.128Z"
   },
   {
    "duration": 12,
    "start_time": "2022-09-11T15:32:38.563Z"
   },
   {
    "duration": 14,
    "start_time": "2022-09-11T15:32:44.981Z"
   },
   {
    "duration": 18,
    "start_time": "2022-09-11T15:32:49.759Z"
   },
   {
    "duration": 10,
    "start_time": "2022-09-11T15:32:53.904Z"
   },
   {
    "duration": 4,
    "start_time": "2022-09-11T15:32:57.733Z"
   },
   {
    "duration": 20,
    "start_time": "2022-09-11T15:33:00.559Z"
   },
   {
    "duration": 293,
    "start_time": "2022-09-11T15:33:01.923Z"
   },
   {
    "duration": 11,
    "start_time": "2022-09-11T15:33:17.581Z"
   },
   {
    "duration": 10,
    "start_time": "2022-09-11T15:33:19.869Z"
   },
   {
    "duration": 15,
    "start_time": "2022-09-11T15:33:21.209Z"
   },
   {
    "duration": 193,
    "start_time": "2022-09-11T15:33:25.609Z"
   },
   {
    "duration": 377,
    "start_time": "2022-09-11T15:33:31.583Z"
   },
   {
    "duration": 244,
    "start_time": "2022-09-11T15:33:38.285Z"
   },
   {
    "duration": 298,
    "start_time": "2022-09-11T15:33:49.454Z"
   },
   {
    "duration": 419,
    "start_time": "2022-09-11T15:33:53.525Z"
   },
   {
    "duration": 421,
    "start_time": "2022-09-11T15:33:57.279Z"
   },
   {
    "duration": 352,
    "start_time": "2022-09-11T15:34:01.539Z"
   },
   {
    "duration": 390,
    "start_time": "2022-09-11T15:34:05.173Z"
   },
   {
    "duration": 342,
    "start_time": "2022-09-11T15:34:08.227Z"
   },
   {
    "duration": 12,
    "start_time": "2022-09-11T15:34:13.375Z"
   },
   {
    "duration": 13,
    "start_time": "2022-09-11T15:34:23.021Z"
   },
   {
    "duration": 23,
    "start_time": "2022-09-11T15:44:31.187Z"
   },
   {
    "duration": 10,
    "start_time": "2022-09-11T15:44:32.780Z"
   },
   {
    "duration": 14,
    "start_time": "2022-09-11T15:44:38.960Z"
   },
   {
    "duration": 16,
    "start_time": "2022-09-11T15:44:43.909Z"
   },
   {
    "duration": 12,
    "start_time": "2022-09-11T15:44:47.290Z"
   },
   {
    "duration": 4,
    "start_time": "2022-09-11T15:44:50.476Z"
   },
   {
    "duration": 16,
    "start_time": "2022-09-11T15:44:52.964Z"
   },
   {
    "duration": 265,
    "start_time": "2022-09-11T15:44:54.206Z"
   },
   {
    "duration": 249,
    "start_time": "2022-09-11T15:45:09.989Z"
   },
   {
    "duration": 10,
    "start_time": "2022-09-11T15:45:22.826Z"
   },
   {
    "duration": 8,
    "start_time": "2022-09-11T15:45:24.734Z"
   },
   {
    "duration": 15,
    "start_time": "2022-09-11T15:45:29.018Z"
   },
   {
    "duration": 173,
    "start_time": "2022-09-11T15:45:33.451Z"
   },
   {
    "duration": 409,
    "start_time": "2022-09-11T15:45:37.722Z"
   },
   {
    "duration": 229,
    "start_time": "2022-09-11T15:45:42.437Z"
   },
   {
    "duration": 303,
    "start_time": "2022-09-11T15:45:46.330Z"
   },
   {
    "duration": 405,
    "start_time": "2022-09-11T15:45:49.868Z"
   },
   {
    "duration": 361,
    "start_time": "2022-09-11T15:45:54.605Z"
   },
   {
    "duration": 385,
    "start_time": "2022-09-11T15:46:00.049Z"
   },
   {
    "duration": 480,
    "start_time": "2022-09-11T15:46:26.251Z"
   },
   {
    "duration": 364,
    "start_time": "2022-09-11T15:46:43.129Z"
   },
   {
    "duration": 491,
    "start_time": "2022-09-11T15:52:24.209Z"
   },
   {
    "duration": 251,
    "start_time": "2022-09-11T15:54:41.472Z"
   },
   {
    "duration": 201,
    "start_time": "2022-09-11T15:55:06.802Z"
   },
   {
    "duration": 210,
    "start_time": "2022-09-11T15:55:16.102Z"
   },
   {
    "duration": 3,
    "start_time": "2022-09-11T15:55:46.208Z"
   },
   {
    "duration": 81,
    "start_time": "2022-09-11T15:55:47.308Z"
   },
   {
    "duration": 14,
    "start_time": "2022-09-11T15:55:51.273Z"
   },
   {
    "duration": 4,
    "start_time": "2022-09-11T15:55:54.071Z"
   },
   {
    "duration": 3,
    "start_time": "2022-09-11T15:55:58.227Z"
   },
   {
    "duration": 4,
    "start_time": "2022-09-11T15:56:01.182Z"
   },
   {
    "duration": 14,
    "start_time": "2022-09-11T15:56:03.652Z"
   },
   {
    "duration": 3,
    "start_time": "2022-09-11T15:56:23.662Z"
   },
   {
    "duration": 3,
    "start_time": "2022-09-11T15:56:26.810Z"
   },
   {
    "duration": 14,
    "start_time": "2022-09-11T15:56:31.879Z"
   },
   {
    "duration": 10,
    "start_time": "2022-09-11T15:56:44.460Z"
   },
   {
    "duration": 9,
    "start_time": "2022-09-11T15:56:48.730Z"
   },
   {
    "duration": 5114,
    "start_time": "2022-09-11T15:56:51.238Z"
   },
   {
    "duration": 14,
    "start_time": "2022-09-11T15:56:58.833Z"
   },
   {
    "duration": 17,
    "start_time": "2022-09-11T15:57:16.249Z"
   },
   {
    "duration": 16,
    "start_time": "2022-09-11T15:57:20.810Z"
   },
   {
    "duration": 11,
    "start_time": "2022-09-11T15:57:56.452Z"
   },
   {
    "duration": 5,
    "start_time": "2022-09-11T15:57:59.609Z"
   },
   {
    "duration": 20,
    "start_time": "2022-09-11T15:58:43.786Z"
   },
   {
    "duration": 255,
    "start_time": "2022-09-11T15:58:45.366Z"
   },
   {
    "duration": 11,
    "start_time": "2022-09-11T15:59:15.352Z"
   },
   {
    "duration": 10,
    "start_time": "2022-09-11T15:59:17.015Z"
   },
   {
    "duration": 21,
    "start_time": "2022-09-11T15:59:19.942Z"
   },
   {
    "duration": 186,
    "start_time": "2022-09-11T15:59:24.208Z"
   },
   {
    "duration": 319,
    "start_time": "2022-09-11T15:59:29.459Z"
   },
   {
    "duration": 235,
    "start_time": "2022-09-11T16:03:28.118Z"
   },
   {
    "duration": 283,
    "start_time": "2022-09-11T16:03:35.377Z"
   },
   {
    "duration": 417,
    "start_time": "2022-09-11T16:03:39.667Z"
   },
   {
    "duration": 361,
    "start_time": "2022-09-11T16:03:44.007Z"
   },
   {
    "duration": 439,
    "start_time": "2022-09-11T16:03:48.471Z"
   },
   {
    "duration": 418,
    "start_time": "2022-09-11T16:05:34.326Z"
   },
   {
    "duration": 378,
    "start_time": "2022-09-11T16:06:27.867Z"
   },
   {
    "duration": 372,
    "start_time": "2022-09-11T16:06:29.091Z"
   },
   {
    "duration": 12,
    "start_time": "2022-09-11T16:07:29.428Z"
   },
   {
    "duration": 13,
    "start_time": "2022-09-11T16:07:35.348Z"
   },
   {
    "duration": 12,
    "start_time": "2022-09-11T16:08:06.284Z"
   },
   {
    "duration": 850,
    "start_time": "2022-09-11T16:43:56.415Z"
   },
   {
    "duration": 293,
    "start_time": "2022-09-11T16:49:11.200Z"
   },
   {
    "duration": 559,
    "start_time": "2022-09-11T16:50:56.950Z"
   },
   {
    "duration": 351,
    "start_time": "2022-09-11T16:51:22.467Z"
   },
   {
    "duration": 347,
    "start_time": "2022-09-11T16:51:41.317Z"
   },
   {
    "duration": 373,
    "start_time": "2022-09-11T16:51:54.113Z"
   },
   {
    "duration": 357,
    "start_time": "2022-09-11T16:52:04.134Z"
   },
   {
    "duration": 15,
    "start_time": "2022-09-11T16:52:19.260Z"
   },
   {
    "duration": 13,
    "start_time": "2022-09-11T16:52:24.239Z"
   },
   {
    "duration": 16,
    "start_time": "2022-09-11T17:21:06.905Z"
   },
   {
    "duration": 178,
    "start_time": "2022-09-11T17:21:14.603Z"
   },
   {
    "duration": 357,
    "start_time": "2022-09-11T17:24:16.828Z"
   },
   {
    "duration": 354,
    "start_time": "2022-09-11T17:24:22.086Z"
   },
   {
    "duration": 500,
    "start_time": "2022-09-11T17:24:26.616Z"
   },
   {
    "duration": 347,
    "start_time": "2022-09-11T17:24:29.929Z"
   },
   {
    "duration": 13,
    "start_time": "2022-09-11T17:24:35.920Z"
   },
   {
    "duration": 19,
    "start_time": "2022-09-11T17:24:40.150Z"
   },
   {
    "duration": 266,
    "start_time": "2022-09-11T17:31:16.067Z"
   },
   {
    "duration": 239,
    "start_time": "2022-09-11T17:31:20.573Z"
   },
   {
    "duration": 263,
    "start_time": "2022-09-11T17:31:35.207Z"
   },
   {
    "duration": 434,
    "start_time": "2022-09-11T17:34:28.038Z"
   },
   {
    "duration": 3,
    "start_time": "2022-09-11T17:37:42.999Z"
   },
   {
    "duration": 88,
    "start_time": "2022-09-11T17:37:44.309Z"
   },
   {
    "duration": 3,
    "start_time": "2022-09-11T17:37:48.839Z"
   },
   {
    "duration": 14,
    "start_time": "2022-09-11T17:37:50.989Z"
   },
   {
    "duration": 8,
    "start_time": "2022-09-11T17:37:55.396Z"
   },
   {
    "duration": 5207,
    "start_time": "2022-09-11T17:37:58.868Z"
   },
   {
    "duration": 19,
    "start_time": "2022-09-11T17:38:04.448Z"
   },
   {
    "duration": 14,
    "start_time": "2022-09-11T17:38:11.179Z"
   },
   {
    "duration": 15,
    "start_time": "2022-09-11T17:38:15.567Z"
   },
   {
    "duration": 11,
    "start_time": "2022-09-11T17:38:18.989Z"
   },
   {
    "duration": 4,
    "start_time": "2022-09-11T17:38:22.323Z"
   },
   {
    "duration": 20,
    "start_time": "2022-09-11T17:38:25.331Z"
   },
   {
    "duration": 265,
    "start_time": "2022-09-11T17:38:27.049Z"
   },
   {
    "duration": 3922,
    "start_time": "2022-09-11T17:38:31.771Z"
   },
   {
    "duration": 11,
    "start_time": "2022-09-11T17:38:40.300Z"
   },
   {
    "duration": 16,
    "start_time": "2022-09-11T17:38:42.595Z"
   },
   {
    "duration": 216,
    "start_time": "2022-09-11T17:38:46.433Z"
   },
   {
    "duration": 469,
    "start_time": "2022-09-11T17:38:49.885Z"
   },
   {
    "duration": 264,
    "start_time": "2022-09-11T17:38:55.207Z"
   },
   {
    "duration": 223,
    "start_time": "2022-09-11T17:38:59.133Z"
   },
   {
    "duration": 430,
    "start_time": "2022-09-11T17:39:03.003Z"
   },
   {
    "duration": 346,
    "start_time": "2022-09-11T17:39:07.132Z"
   },
   {
    "duration": 366,
    "start_time": "2022-09-11T17:39:12.211Z"
   },
   {
    "duration": 404,
    "start_time": "2022-09-11T17:39:16.271Z"
   },
   {
    "duration": 334,
    "start_time": "2022-09-11T17:39:19.600Z"
   },
   {
    "duration": 12,
    "start_time": "2022-09-11T17:39:26.031Z"
   },
   {
    "duration": 13,
    "start_time": "2022-09-11T17:39:30.001Z"
   },
   {
    "duration": 16,
    "start_time": "2022-09-11T17:42:05.700Z"
   },
   {
    "duration": 183,
    "start_time": "2022-09-11T17:42:18.198Z"
   },
   {
    "duration": 330,
    "start_time": "2022-09-11T17:42:22.294Z"
   },
   {
    "duration": 279,
    "start_time": "2022-09-11T17:42:31.209Z"
   },
   {
    "duration": 253,
    "start_time": "2022-09-11T17:42:35.843Z"
   },
   {
    "duration": 435,
    "start_time": "2022-09-11T17:42:40.775Z"
   },
   {
    "duration": 536,
    "start_time": "2022-09-11T17:42:44.959Z"
   },
   {
    "duration": 363,
    "start_time": "2022-09-11T17:42:50.272Z"
   },
   {
    "duration": 403,
    "start_time": "2022-09-11T17:42:54.173Z"
   },
   {
    "duration": 361,
    "start_time": "2022-09-11T17:42:57.535Z"
   },
   {
    "duration": 12,
    "start_time": "2022-09-11T17:43:03.665Z"
   },
   {
    "duration": 12,
    "start_time": "2022-09-11T17:43:17.574Z"
   },
   {
    "duration": 34,
    "start_time": "2022-09-11T18:13:16.720Z"
   },
   {
    "duration": 16,
    "start_time": "2022-09-11T18:13:27.550Z"
   },
   {
    "duration": 190,
    "start_time": "2022-09-11T18:13:41.724Z"
   },
   {
    "duration": 337,
    "start_time": "2022-09-11T18:14:02.620Z"
   },
   {
    "duration": 16,
    "start_time": "2022-09-11T18:14:42.518Z"
   },
   {
    "duration": 15,
    "start_time": "2022-09-11T18:15:12.330Z"
   },
   {
    "duration": 27,
    "start_time": "2022-09-11T18:15:38.283Z"
   },
   {
    "duration": 31,
    "start_time": "2022-09-11T18:15:45.451Z"
   },
   {
    "duration": 24,
    "start_time": "2022-09-11T18:15:55.305Z"
   },
   {
    "duration": 26,
    "start_time": "2022-09-11T18:16:11.739Z"
   },
   {
    "duration": 31,
    "start_time": "2022-09-11T18:17:20.691Z"
   },
   {
    "duration": 216,
    "start_time": "2022-09-11T18:17:59.880Z"
   },
   {
    "duration": 310,
    "start_time": "2022-09-11T18:18:10.931Z"
   },
   {
    "duration": 21,
    "start_time": "2022-09-11T18:18:57.395Z"
   },
   {
    "duration": 193,
    "start_time": "2022-09-11T18:19:04.078Z"
   },
   {
    "duration": 348,
    "start_time": "2022-09-11T18:19:09.793Z"
   },
   {
    "duration": 386,
    "start_time": "2022-09-11T18:25:19.068Z"
   },
   {
    "duration": 381,
    "start_time": "2022-09-11T18:27:55.329Z"
   },
   {
    "duration": 17,
    "start_time": "2022-09-11T18:28:32.119Z"
   },
   {
    "duration": 62,
    "start_time": "2022-09-12T06:51:06.503Z"
   },
   {
    "duration": 1112,
    "start_time": "2022-09-12T06:59:57.359Z"
   },
   {
    "duration": 132,
    "start_time": "2022-09-12T06:59:58.472Z"
   },
   {
    "duration": 4,
    "start_time": "2022-09-12T07:00:00.371Z"
   },
   {
    "duration": 16,
    "start_time": "2022-09-12T07:00:00.962Z"
   },
   {
    "duration": 20,
    "start_time": "2022-09-12T07:00:01.945Z"
   },
   {
    "duration": 6535,
    "start_time": "2022-09-12T07:00:02.578Z"
   },
   {
    "duration": 14,
    "start_time": "2022-09-12T07:00:09.115Z"
   },
   {
    "duration": 44,
    "start_time": "2022-09-12T07:00:09.131Z"
   },
   {
    "duration": 16,
    "start_time": "2022-09-12T07:00:09.177Z"
   },
   {
    "duration": 18,
    "start_time": "2022-09-12T07:00:09.243Z"
   },
   {
    "duration": 4,
    "start_time": "2022-09-12T07:00:10.606Z"
   },
   {
    "duration": 30,
    "start_time": "2022-09-12T07:00:12.424Z"
   },
   {
    "duration": 300,
    "start_time": "2022-09-12T07:00:13.061Z"
   },
   {
    "duration": 4874,
    "start_time": "2022-09-12T07:00:15.325Z"
   },
   {
    "duration": 12,
    "start_time": "2022-09-12T07:00:20.202Z"
   },
   {
    "duration": 46,
    "start_time": "2022-09-12T07:00:20.216Z"
   },
   {
    "duration": 223,
    "start_time": "2022-09-12T07:00:24.844Z"
   },
   {
    "duration": 41,
    "start_time": "2022-09-12T07:00:40.579Z"
   },
   {
    "duration": 40,
    "start_time": "2022-09-12T07:01:02.101Z"
   },
   {
    "duration": 40,
    "start_time": "2022-09-12T07:01:22.694Z"
   },
   {
    "duration": 365,
    "start_time": "2022-09-12T07:01:39.238Z"
   }
  ],
  "celltoolbar": "Raw Cell Format",
  "kernelspec": {
   "display_name": "Python 3 (ipykernel)",
   "language": "python",
   "name": "python3"
  },
  "language_info": {
   "codemirror_mode": {
    "name": "ipython",
    "version": 3
   },
   "file_extension": ".py",
   "mimetype": "text/x-python",
   "name": "python",
   "nbconvert_exporter": "python",
   "pygments_lexer": "ipython3",
   "version": "3.9.5"
  },
  "toc": {
   "base_numbering": 1,
   "nav_menu": {
    "height": "153px",
    "width": "271px"
   },
   "number_sections": true,
   "sideBar": true,
   "skip_h1_title": true,
   "title_cell": "Table of Contents",
   "title_sidebar": "Contents",
   "toc_cell": false,
   "toc_position": {},
   "toc_section_display": true,
   "toc_window_display": false
  }
 },
 "nbformat": 4,
 "nbformat_minor": 2
}
